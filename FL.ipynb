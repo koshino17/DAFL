{
 "cells": [
  {
   "cell_type": "markdown",
   "id": "b3527505-b662-410c-a72c-737c641ddc76",
   "metadata": {},
   "source": [
    "# *import*"
   ]
  },
  {
   "cell_type": "code",
   "execution_count": 1,
   "id": "b8221220-ad85-4fe2-b80a-bad9892698b2",
   "metadata": {},
   "outputs": [
    {
     "name": "stdout",
     "output_type": "stream",
     "text": [
      "Training on cuda\n",
      "Flower 1.17.0 / PyTorch 2.5.1+cu124\n"
     ]
    }
   ],
   "source": [
    "# from collections import OrderedDict\n",
    "from typing import List, Tuple, Callable\n",
    "import matplotlib.pyplot as plt\n",
    "from datasets.utils.logging import enable_progress_bar\n",
    "enable_progress_bar()\n",
    "import time\n",
    "import threading\n",
    "import random\n",
    "\n",
    "import torch\n",
    "\n",
    "\n",
    "import flwr\n",
    "from flwr.client import Client, ClientApp\n",
    "from flwr.common import ndarrays_to_parameters, Context, Metrics\n",
    "from flwr.server import ServerApp, ServerConfig, ServerAppComponents\n",
    "\n",
    "from flwr.simulation import run_simulation\n",
    "\n",
    "# from utils.model_CNN import Net\n",
    "from utils.model_CNN import SVHNNet as Net\n",
    "# from utils.model_CNN import ImprovedSVHNNet as Net\n",
    "from utils.train_test import test\n",
    "from utils.loaddata import get_cached_datasets\n",
    "from utils.others import get_parameters, set_parameters, evaluate_and_plot_confusion_matrix\n",
    "\n",
    "\n",
    "from utils.history import history\n",
    "from utils.client import FlowerClient\n",
    "from utils.clientmanger import DynamicClientManager\n",
    "from utils.HRFA_strategy import HRFA\n",
    "from utils.other_strategy import AdaFedAdamStrategy, MyFedAvg\n",
    "\n",
    "DEVICE = \"cuda\" if torch.cuda.is_available() else \"cpu\"\n",
    "print(f\"Training on {DEVICE}\")\n",
    "print(f\"Flower {flwr.__version__} / PyTorch {torch.__version__}\")\n",
    "# disable_progress_bar()"
   ]
  },
  {
   "cell_type": "markdown",
   "id": "4631e76d-e13c-44a2-b9b0-c45285e07b41",
   "metadata": {},
   "source": [
    "# **Load Data**"
   ]
  },
  {
   "cell_type": "code",
   "execution_count": 2,
   "id": "b4810bb5-023d-4117-95be-facb6024eb7a",
   "metadata": {},
   "outputs": [],
   "source": [
    "NUM_CLIENTS = 100\n",
    "FRACTION = 1\n",
    "BATCH_SIZE = 64\n",
    "NUM_ROUNDS = 500\n",
    "NUM_EPOCHS = 5\n",
    "NUM_WORKERS = 8\n",
    "VERBOSE = False\n",
    "ATTACK_NUMS = 0\n",
    "ATTACK_TYPE = \"UPA\"\n",
    "DFL = False\n",
    "Q = 0.9\n",
    "DATASET = \"svhn\" #\"svhn\", \"cifar10\", \"cifar100\", \"svhn\""
   ]
  },
  {
   "cell_type": "code",
   "execution_count": 3,
   "id": "ce358003-74fa-486d-b213-0701788603bf",
   "metadata": {
    "scrolled": true
   },
   "outputs": [],
   "source": [
    "# trainloader, _, _ = get_cached_datasets(partition_id=0, dataset_name=DATASET, num_partitions=NUM_CLIENTS, q=Q)\n",
    "# batch = next(iter(trainloader))\n",
    "# images, labels = batch[\"img\"], batch[\"label\"]\n",
    "\n",
    "# # Reshape and convert images to a NumPy array\n",
    "# # matplotlib requires images with the shape (height, width, 3)\n",
    "# images = images.permute(0, 2, 3, 1).numpy()\n",
    "\n",
    "# # Denormalize\n",
    "# images = images / 2 + 0.5\n",
    "\n",
    "# # Create a figure and a grid of subplots\n",
    "# fig, axs = plt.subplots(4, 8, figsize=(12, 6))\n",
    "\n",
    "# # Loop over the images and plot them\n",
    "# for i, ax in enumerate(axs.flat):\n",
    "#     ax.imshow(images[i])\n",
    "#     ax.set_title(trainloader.dataset.features[\"label\"].int2str([labels[i]])[0])\n",
    "    \n",
    "#     ax.axis(\"off\")\n",
    "\n",
    "# # Show the plot\n",
    "# fig.tight_layout()\n",
    "# plt.show()"
   ]
  },
  {
   "cell_type": "markdown",
   "id": "8816b362-8f13-4f11-9bb7-1928b17d1bf1",
   "metadata": {},
   "source": [
    "# **my fumction**"
   ]
  },
  {
   "cell_type": "markdown",
   "id": "24601470",
   "metadata": {
    "jp-MarkdownHeadingCollapsed": true
   },
   "source": [
    "## **dynamic control**"
   ]
  },
  {
   "cell_type": "code",
   "execution_count": 4,
   "id": "1b09f41e",
   "metadata": {},
   "outputs": [],
   "source": [
    "current_server_round = 0\n",
    "new_round_event = threading.Event()\n",
    "\n",
    "def get_current_round() -> int:\n",
    "    return current_server_round"
   ]
  },
  {
   "cell_type": "code",
   "execution_count": 5,
   "id": "d256265d",
   "metadata": {},
   "outputs": [],
   "source": [
    "def base_on_off(\n",
    "    client_manager: DynamicClientManager,\n",
    "    current_round,\n",
    "    online_list: List[str],\n",
    "    offline_list: List[str],\n",
    "):\n",
    "    # 下線部分在線客戶端        \n",
    "    if current_round<4 and online_list and DFL:\n",
    "        offline_num = 1\n",
    "        for cid in random.sample(online_list, offline_num):\n",
    "            client = client_manager.clients.get(cid)\n",
    "            if client:\n",
    "                client_manager.unregister(client)\n",
    "\n",
    "    # 上線部分離線客戶端\n",
    "    if current_round>3 and offline_list and DFL:\n",
    "        online_num = 1\n",
    "        for cid in random.sample(offline_list, online_num):\n",
    "            client = client_manager.off_clients.get(cid)\n",
    "            if client:\n",
    "                print(f\"[TOGGLER] 將 {cid} 上線\")\n",
    "                client_manager.register(client)"
   ]
  },
  {
   "cell_type": "code",
   "execution_count": 6,
   "id": "5c591983",
   "metadata": {},
   "outputs": [],
   "source": [
    "def random_on_off(\n",
    "    client_manager: DynamicClientManager,\n",
    "    current_round,\n",
    "    online_list: List[str],\n",
    "    offline_list: List[str],\n",
    "    offline_rate: float = 0.3,\n",
    "    online_rate: float = 0.3\n",
    "):\n",
    "    try:\n",
    "        # 確保列表不為空\n",
    "        if not online_list or not offline_list:\n",
    "            print(f\"警告: 客戶端列表為空 (在線:{len(online_list)}, 離線:{len(offline_list)})\")\n",
    "        \n",
    "        # 下線部分在線客戶端\n",
    "        if current_round % 2 != 0 and online_list and DFL:\n",
    "            # 確保取樣數量不超過列表長度\n",
    "            # offline_num = min(1, len(online_list))\n",
    "            offline_num = 1\n",
    "            if offline_num > 0:\n",
    "                for cid in random.sample(online_list, offline_num):\n",
    "                    client = client_manager.clients.get(cid)\n",
    "                    if client:\n",
    "                        client_manager.unregister(client)\n",
    "        \n",
    "        # 上線部分離線客戶端\n",
    "        if current_round % 2 == 0 and offline_list and DFL:\n",
    "            # 確保取樣數量不超過列表長度\n",
    "            # online_num = min(1, len(offline_list))\n",
    "            online_num = 1\n",
    "            if online_num > 0:\n",
    "                for cid in random.sample(offline_list, online_num):\n",
    "                    client = client_manager.off_clients.get(cid)\n",
    "                    if client:\n",
    "                        print(f\"[TOGGLER] 將 {cid} 上線\")\n",
    "                        client_manager.register(client)\n",
    "    except Exception as e:\n",
    "        print(f\"random_on_off 執行錯誤: {e}\")\n",
    "        import traceback\n",
    "        traceback.print_exc()"
   ]
  },
  {
   "cell_type": "code",
   "execution_count": 7,
   "id": "2bf7e92a",
   "metadata": {},
   "outputs": [],
   "source": [
    "def background_online_offline_simulator(\n",
    "    client_manager: DynamicClientManager,\n",
    "    get_round: Callable[[], int],\n",
    "    event: threading.Event,\n",
    "    # interval: int = 30,\n",
    "    offline_rate: float = 0.3,\n",
    "    online_rate: float = 0.2\n",
    "):\n",
    "    while True:\n",
    "        event.wait()  # 等待 server 通知新的一輪開始\n",
    "        # time.sleep(interval)\n",
    "        current_round = get_round()\n",
    "        \n",
    "        online_list = list(client_manager.online_clients)\n",
    "        offline_list = list(client_manager.offline_clients)\n",
    "\n",
    "        # base_on_off(client_manager, current_round, online_list, offline_list)\n",
    "        random_on_off(client_manager, current_round, online_list, offline_list, offline_rate, online_rate)\n",
    "\n",
    "        event.clear()  # 清除標記，等待下一次 signal"
   ]
  },
  {
   "cell_type": "markdown",
   "id": "5db74c48",
   "metadata": {
    "jp-MarkdownHeadingCollapsed": true
   },
   "source": [
    "# **train&test**"
   ]
  },
  {
   "cell_type": "markdown",
   "id": "cdb17697-f889-43f4-a008-58c9a879c4db",
   "metadata": {},
   "source": [
    "# **Client**"
   ]
  },
  {
   "cell_type": "code",
   "execution_count": 8,
   "id": "b6d04ff2",
   "metadata": {},
   "outputs": [],
   "source": [
    "def client_fn(context: Context) -> Client:\n",
    "    # Load model\n",
    "    net = Net().to(DEVICE, memory_format=torch.channels_last)\n",
    "    \n",
    "\t# Read the node_config to fetch data partition associated to this node\n",
    "    partition_id = str(context.node_config[\"partition-id\"])  # 強制轉換為字串\n",
    "    num_partitions = context.node_config[\"num-partitions\"]\n",
    "    trainloader, valloader, _ = get_cached_datasets(partition_id, dataset_name=DATASET, num_partitions=NUM_CLIENTS, q=Q)\n",
    "\n",
    "    if int(partition_id) < ATTACK_NUMS:\n",
    "        return FlowerClient(partition_id, net, trainloader, valloader, ATTACK_TYPE).to_client()\n",
    "    else:\n",
    "        return FlowerClient(partition_id, net, trainloader, valloader, None).to_client()"
   ]
  },
  {
   "cell_type": "code",
   "execution_count": 9,
   "id": "4fe4ea62-a556-4c89-ada3-712d5f0cc59f",
   "metadata": {},
   "outputs": [],
   "source": [
    "# Create the ClientApp\n",
    "client = ClientApp(client_fn=client_fn)"
   ]
  },
  {
   "cell_type": "markdown",
   "id": "9a2a18bb-d6ee-4a2b-9fda-152b0920b6e3",
   "metadata": {},
   "source": [
    "# **Server**"
   ]
  },
  {
   "cell_type": "markdown",
   "id": "136f6f33-d406-42d3-b1b8-93470e3a292e",
   "metadata": {},
   "source": [
    "### setting"
   ]
  },
  {
   "cell_type": "code",
   "execution_count": 10,
   "id": "c7339da7",
   "metadata": {},
   "outputs": [],
   "source": [
    "def weighted_average(metrics: List[Tuple[int, Metrics]]) -> Metrics:\n",
    "    accuracies = []\n",
    "    examples = []\n",
    "    for num_examples, m in metrics:\n",
    "        if \"client_accuracy\" not in m:\n",
    "            print(f\"Warning: Missing 'client_accuracy' in metrics for client\")\n",
    "            continue\n",
    "        accuracies.append(num_examples * m[\"client_accuracy\"])\n",
    "        examples.append(num_examples)\n",
    "    total_examples = sum(examples)\n",
    "    if total_examples <= 0:\n",
    "        print(\"Warning: No valid examples for aggregation. Returning 0.0\")\n",
    "        return {\"accuracy\": 0.0}\n",
    "    return {\"accuracy\": sum(accuracies) / total_examples}"
   ]
  },
  {
   "cell_type": "code",
   "execution_count": 11,
   "id": "bc4a39a0-cc33-40b6-b530-b0eec8d53481",
   "metadata": {},
   "outputs": [],
   "source": [
    "def server_evaluate(server_round, parameters, config):\n",
    "    global current_server_round\n",
    "    # 更新全域變數，讓背景執行緒知道目前是第幾個 round\n",
    "    current_server_round = server_round\n",
    "    \"\"\"Evaluate the global model after each round (不再畫 confusion matrix).\"\"\"\n",
    "    start_time = time.time()  # 記錄開始時間\n",
    "    net = Net().to(DEVICE)\n",
    "    set_parameters(net, parameters)\n",
    "\n",
    "    # 加載測試集\n",
    "    _, _, testloader = get_cached_datasets(0, dataset_name=DATASET, num_partitions=NUM_CLIENTS, q=Q)\n",
    "\n",
    "    # 測試\n",
    "    loss, accuracy = test(net, testloader)\n",
    "    \n",
    "    end_time = time.time()  # 記錄結束時間\n",
    "    round_time = end_time - start_time  # 計算 round 時間\n",
    "    \n",
    "    history.add_loss_centralized(server_round, loss)\n",
    "    history.add_metrics_centralized(server_round, {\"accuracy\": accuracy})\n",
    "\n",
    "    # 只記錄最終模型，不畫 confusion matrix\n",
    "    if server_round == NUM_ROUNDS:  # 最後一輪才返回模型\n",
    "        evaluate_and_plot_confusion_matrix(net, testloader, DEVICE)\n",
    "        return loss, {\"accuracy\": accuracy}\n",
    "    new_round_event.set()\n",
    "    return loss, {\"accuracy\": accuracy}\n"
   ]
  },
  {
   "cell_type": "code",
   "execution_count": 12,
   "id": "a9aeb39b-792d-4750-9cce-60727ad46412",
   "metadata": {
    "jupyter": {
     "source_hidden": true
    }
   },
   "outputs": [],
   "source": [
    "def fit_config(server_round: int):\n",
    "    \"\"\"Return training configuration dict for each round.\n",
    "\n",
    "    Perform two rounds of training with one local epoch, increase to two local\n",
    "    epochs afterwards.\n",
    "    \"\"\"\n",
    "    config = {\n",
    "        \"server_round\": server_round,  # The current round of federated learning\n",
    "        # \"local_epochs\": 1 if server_round < 2 else NUM_EPOCHS,\n",
    "        \"local_epochs\": NUM_EPOCHS,\n",
    "        \"train_mode\": \"lookahead\",\n",
    "    }\n",
    "    return config"
   ]
  },
  {
   "cell_type": "code",
   "execution_count": 13,
   "id": "617e9a1e-16ae-4c34-b3d1-153d2b2daf42",
   "metadata": {},
   "outputs": [
    {
     "name": "stdout",
     "output_type": "stream",
     "text": [
      "Trainable Parameters: 627,210\n"
     ]
    }
   ],
   "source": [
    "# Create an instance of the model and get the parameters\n",
    "params = get_parameters(Net())\n",
    "param_count = sum(p.numel() for p in Net().parameters() if p.requires_grad)\n",
    "print(f\"Trainable Parameters: {param_count:,d}\")\n",
    "# _, _, testloader = get_cached_datasets(0, dataset_name=DATASET, num_partitions=NUM_CLIENTS, q=Q)\n",
    "# Create FedAvg strategy\n",
    "strategy = HRFA(\n",
    "    fraction_fit=FRACTION,  # Sample 100% of available clients for training\n",
    "    fraction_evaluate=FRACTION,  # Sample 50% of available clients for evaluation\n",
    "    \n",
    "    min_fit_clients=2,  # Never sample less than 10 clients for training\n",
    "    min_evaluate_clients=2,  # Never sample less than 5 clients for evaluation\n",
    "    min_available_clients=2,  # Wait until all 10 clients are available\n",
    "    \n",
    "    initial_parameters=ndarrays_to_parameters(params),  # Pass initial model parameters\n",
    "    evaluate_fn=server_evaluate,  # 設定 evaluate_fn\n",
    "    evaluate_metrics_aggregation_fn=weighted_average,  # <-- pass the metric aggregation function\n",
    "    on_fit_config_fn=fit_config,  # Pass the fit_config function\n",
    "    on_evaluate_config_fn=fit_config,\n",
    "    net=Net().to(DEVICE),\n",
    "    # testloader = testloader,\n",
    ")"
   ]
  },
  {
   "cell_type": "code",
   "execution_count": 14,
   "id": "55655e6f-7fab-4042-a1fc-d89f6d624ced",
   "metadata": {
    "jupyter": {
     "source_hidden": true
    }
   },
   "outputs": [],
   "source": [
    "# # Create an instance of the model and get the parameters\n",
    "# params = get_parameters(Net())\n",
    "# param_count = sum(p.numel() for p in Net().parameters() if p.requires_grad)\n",
    "# print(f\"Trainable Parameters: {param_count:,d}\")\n",
    "\n",
    "# # Create FedAvg strategy\n",
    "# strategy = AdaFedAdamStrategy(\n",
    "#     net=Net(),\n",
    "#     fraction_fit=FRACTION,\n",
    "#     fraction_evaluate=FRACTION,\n",
    "#     min_fit_clients=NUM_CLIENTS,\n",
    "#     min_evaluate_clients=NUM_CLIENTS,\n",
    "#     min_available_clients=NUM_CLIENTS,\n",
    "#     initial_parameters=ndarrays_to_parameters(params),\n",
    "#     evaluate_fn=server_evaluate,\n",
    "#     evaluate_metrics_aggregation_fn=weighted_average,\n",
    "#     on_fit_config_fn=fit_config,\n",
    "#     on_evaluate_config_fn=fit_config,\n",
    "# )"
   ]
  },
  {
   "cell_type": "code",
   "execution_count": 15,
   "id": "a8e13291",
   "metadata": {},
   "outputs": [],
   "source": [
    "# # Create an instance of the model and get the parameters\n",
    "# params = get_parameters(Net())\n",
    "# param_count = sum(p.numel() for p in Net().parameters() if p.requires_grad)\n",
    "# print(f\"Trainable Parameters: {param_count:,d}\")\n",
    "# # Create FedAvg strategy\n",
    "# strategy = MyFedAvg(\n",
    "#     fraction_fit=FRACTION,  # Sample 100% of available clients for training\n",
    "#     fraction_evaluate=FRACTION,  # Sample 50% of available clients for evaluation\n",
    "#     min_fit_clients=NUM_CLIENTS,  # Never sample less than 10 clients for training\n",
    "#     min_evaluate_clients=NUM_CLIENTS,  # Never sample less than 5 clients for evaluation\n",
    "#     min_available_clients=NUM_CLIENTS,  # Wait until all 10 clients are available\n",
    "#     initial_parameters=ndarrays_to_parameters(params),  # Pass initial model parameters\n",
    "#     evaluate_fn=server_evaluate,  # 設定 evaluate_fn\n",
    "#     evaluate_metrics_aggregation_fn=weighted_average,  # <-- pass the metric aggregation function\n",
    "#     on_fit_config_fn=fit_config,  # Pass the fit_config function\n",
    "#     on_evaluate_config_fn=fit_config\n",
    "# )"
   ]
  },
  {
   "cell_type": "markdown",
   "id": "ff5ddd41-206c-4fe8-8472-a11edf2f146b",
   "metadata": {},
   "source": [
    "### Define Server"
   ]
  },
  {
   "cell_type": "code",
   "execution_count": 16,
   "id": "3f98d247-b68d-4470-af09-7b1c0f98b2c1",
   "metadata": {},
   "outputs": [],
   "source": [
    "def server_fn(context: Context) -> ServerAppComponents:\n",
    "    \"\"\"Construct components that set the ServerApp behaviour.\"\"\"\n",
    "    global testloader\n",
    "    _, _, testloader = get_cached_datasets(0, dataset_name=DATASET, num_partitions=NUM_CLIENTS, q=Q)\n",
    "\n",
    "    # 設定 ServerConfig，如同你的程式碼\n",
    "    config = ServerConfig(num_rounds=NUM_ROUNDS)\n",
    "\n",
    "    # 建立動態管理器\n",
    "    client_manager = DynamicClientManager()\n",
    "        \n",
    "    # 建立並啟動背景執行緒，模擬客戶端動態上/下線\n",
    "    simulator_thread = threading.Thread(\n",
    "        target=background_online_offline_simulator,\n",
    "        args=(client_manager, get_current_round, new_round_event),  # interval=30秒, toggle_rate=0.3\n",
    "        daemon=True  # 設 daemon=True 可以在主程式結束時自動退出\n",
    "    )\n",
    "    simulator_thread.start()\n",
    "\n",
    "    return ServerAppComponents(\n",
    "        strategy=strategy,\n",
    "        config=config,\n",
    "        client_manager=client_manager,\n",
    "    )\n",
    "\n",
    "\n",
    "# Create the ServerApp\n",
    "server = ServerApp(server_fn=server_fn)"
   ]
  },
  {
   "cell_type": "markdown",
   "id": "f1333011-636d-49e3-bc27-6a951e195d70",
   "metadata": {},
   "source": [
    "# *Run simulation*"
   ]
  },
  {
   "cell_type": "markdown",
   "id": "e2470b60-4411-40cd-8d32-931de75621a4",
   "metadata": {},
   "source": [
    "### Run setting"
   ]
  },
  {
   "cell_type": "code",
   "execution_count": 17,
   "id": "0647b70b-63d4-43c3-aef6-8b2521f03c18",
   "metadata": {},
   "outputs": [],
   "source": [
    "# Specify the resources each of your clients need\n",
    "# By default, each client will be allocated 1x CPU and 0x GPUs\n",
    "backend_config = {\"client_resources\": {\"num_cpus\": 1, \"num_gpus\": 0.0}}\n",
    "\n",
    "# When running on GPU, assign an entire GPU for each client\n",
    "if DEVICE == \"cuda\":\n",
    "    backend_config = {\"client_resources\": {\"num_cpus\": 2 , \n",
    "                                           \"num_gpus\": 0.2 #if (NUM_CLIENTS*FRACTION)>40 else 2/(NUM_CLIENTS*FRACTION)\n",
    "                                          }}\n",
    "    # Refer to our Flower framework documentation for more details about Flower simulations\n",
    "    # and how to set up the `backend_config`"
   ]
  },
  {
   "cell_type": "code",
   "execution_count": 18,
   "id": "91e80265-29ae-4cc8-8312-eb0dbe06ca4a",
   "metadata": {},
   "outputs": [],
   "source": [
    "import os\n",
    "\n",
    "# 1. 設定 Ray 要用的暫存目錄\n",
    "os.environ[\"TMPDIR\"] = \"/home/koshino17/koshino17_hdd/tmp\""
   ]
  },
  {
   "cell_type": "code",
   "execution_count": null,
   "id": "3a909537-af2e-43fa-acb4-8eb1707aa63f",
   "metadata": {
    "notebookRunGroups": {
     "groupValue": "1"
    },
    "scrolled": true
   },
   "outputs": [
    {
     "name": "stdout",
     "output_type": "stream",
     "text": [
      "[Sat Jun 21 14:20:03 2025] 初始化聯邦數據集: svhn, 分區數=100, q=0.9\n"
     ]
    },
    {
     "name": "stderr",
     "output_type": "stream",
     "text": [
      "\u001b[92mINFO \u001b[0m:      Starting Flower ServerApp, config: num_rounds=500, no round_timeout\n",
      "\u001b[92mINFO \u001b[0m:      \n",
      "\u001b[92mINFO \u001b[0m:      [INIT]\n",
      "\u001b[92mINFO \u001b[0m:      Using initial global parameters provided by strategy\n",
      "\u001b[92mINFO \u001b[0m:      Starting evaluation of initial global parameters\n"
     ]
    },
    {
     "name": "stdout",
     "output_type": "stream",
     "text": [
      "[Status] Client 13391035250180190972 已上線 ✓✓✓✓✓✓✓✓✓✓✓✓✓✓✓✓✓✓✓✓✓✓✓✓✓✓✓✓✓✓✓\n",
      "[Status] Client 1240965848916339717 已上線 ✓✓✓✓✓✓✓✓✓✓✓✓✓✓✓✓✓✓✓✓✓✓✓✓✓✓✓✓✓✓✓\n",
      "[Status] Client 3694980021011020811 已上線 ✓✓✓✓✓✓✓✓✓✓✓✓✓✓✓✓✓✓✓✓✓✓✓✓✓✓✓✓✓✓✓\n",
      "[Status] Client 14720443434614230285 已上線 ✓✓✓✓✓✓✓✓✓✓✓✓✓✓✓✓✓✓✓✓✓✓✓✓✓✓✓✓✓✓✓\n",
      "[Status] Client 18325805644163320846 已上線 ✓✓✓✓✓✓✓✓✓✓✓✓✓✓✓✓✓✓✓✓✓✓✓✓✓✓✓✓✓✓✓\n",
      "[Status] Client 6927540652876234516 已上線 ✓✓✓✓✓✓✓✓✓✓✓✓✓✓✓✓✓✓✓✓✓✓✓✓✓✓✓✓✓✓✓\n",
      "[Status] Client 2363219094045783836 已上線 ✓✓✓✓✓✓✓✓✓✓✓✓✓✓✓✓✓✓✓✓✓✓✓✓✓✓✓✓✓✓✓\n",
      "[Status] Client 7750653997537419547 已上線 ✓✓✓✓✓✓✓✓✓✓✓✓✓✓✓✓✓✓✓✓✓✓✓✓✓✓✓✓✓✓✓\n",
      "[Status] Client 8902451577454289182 已上線 ✓✓✓✓✓✓✓✓✓✓✓✓✓✓✓✓✓✓✓✓✓✓✓✓✓✓✓✓✓✓✓\n",
      "[Status] Client 4589640094243324453 已上線 ✓✓✓✓✓✓✓✓✓✓✓✓✓✓✓✓✓✓✓✓✓✓✓✓✓✓✓✓✓✓✓\n",
      "[Status] Client 8836029881398553638 已上線 ✓✓✓✓✓✓✓✓✓✓✓✓✓✓✓✓✓✓✓✓✓✓✓✓✓✓✓✓✓✓✓\n",
      "[Status] Client 6633322374520119339 已上線 ✓✓✓✓✓✓✓✓✓✓✓✓✓✓✓✓✓✓✓✓✓✓✓✓✓✓✓✓✓✓✓\n",
      "[Status] Client 2339253131485391406 已上線 ✓✓✓✓✓✓✓✓✓✓✓✓✓✓✓✓✓✓✓✓✓✓✓✓✓✓✓✓✓✓✓\n",
      "[Status] Client 17362468309046208041 已上線 ✓✓✓✓✓✓✓✓✓✓✓✓✓✓✓✓✓✓✓✓✓✓✓✓✓✓✓✓✓✓✓\n",
      "[Status] Client 10510709231103481899 已上線 ✓✓✓✓✓✓✓✓✓✓✓✓✓✓✓✓✓✓✓✓✓✓✓✓✓✓✓✓✓✓✓\n",
      "[Status] Client 5947373449902982704 已上線 ✓✓✓✓✓✓✓✓✓✓✓✓✓✓✓✓✓✓✓✓✓✓✓✓✓✓✓✓✓✓✓\n",
      "[Status] Client 4581472644905492784 已上線 ✓✓✓✓✓✓✓✓✓✓✓✓✓✓✓✓✓✓✓✓✓✓✓✓✓✓✓✓✓✓✓\n",
      "[Status] Client 13523828436820545324 已上線 ✓✓✓✓✓✓✓✓✓✓✓✓✓✓✓✓✓✓✓✓✓✓✓✓✓✓✓✓✓✓✓\n",
      "[Status] Client 9193569039193026100 已上線 ✓✓✓✓✓✓✓✓✓✓✓✓✓✓✓✓✓✓✓✓✓✓✓✓✓✓✓✓✓✓✓\n",
      "[Status] Client 5918423505595056695 已上線 ✓✓✓✓✓✓✓✓✓✓✓✓✓✓✓✓✓✓✓✓✓✓✓✓✓✓✓✓✓✓✓\n",
      "[Status] Client 10000155567032961590 已上線 ✓✓✓✓✓✓✓✓✓✓✓✓✓✓✓✓✓✓✓✓✓✓✓✓✓✓✓✓✓✓✓\n",
      "[Status] Client 18349211215009959731 已上線 ✓✓✓✓✓✓✓✓✓✓✓✓✓✓✓✓✓✓✓✓✓✓✓✓✓✓✓✓✓✓✓\n",
      "[Status] Client 17343209168662236213 已上線 ✓✓✓✓✓✓✓✓✓✓✓✓✓✓✓✓✓✓✓✓✓✓✓✓✓✓✓✓✓✓✓\n",
      "[Status] Client 1497258664941325885 已上線 ✓✓✓✓✓✓✓✓✓✓✓✓✓✓✓✓✓✓✓✓✓✓✓✓✓✓✓✓✓✓✓\n",
      "[Status] Client 949381659295785532 已上線 ✓✓✓✓✓✓✓✓✓✓✓✓✓✓✓✓✓✓✓✓✓✓✓✓✓✓✓✓✓✓✓\n",
      "[Status] Client 566968692299177535 已上線 ✓✓✓✓✓✓✓✓✓✓✓✓✓✓✓✓✓✓✓✓✓✓✓✓✓✓✓✓✓✓✓\n",
      "[Status] Client 9326152772029379896 已上線 ✓✓✓✓✓✓✓✓✓✓✓✓✓✓✓✓✓✓✓✓✓✓✓✓✓✓✓✓✓✓✓\n",
      "[Status] Client 9609317920184330044 已上線 ✓✓✓✓✓✓✓✓✓✓✓✓✓✓✓✓✓✓✓✓✓✓✓✓✓✓✓✓✓✓✓\n",
      "[Status] Client 395298989078367306 已上線 ✓✓✓✓✓✓✓✓✓✓✓✓✓✓✓✓✓✓✓✓✓✓✓✓✓✓✓✓✓✓✓\n",
      "[Status] Client 11585387097446703688 已上線 ✓✓✓✓✓✓✓✓✓✓✓✓✓✓✓✓✓✓✓✓✓✓✓✓✓✓✓✓✓✓✓\n",
      "[Status] Client 2947596241245469262 已上線 ✓✓✓✓✓✓✓✓✓✓✓✓✓✓✓✓✓✓✓✓✓✓✓✓✓✓✓✓✓✓✓\n",
      "[Status] Client 2577164149913993552 已上線 ✓✓✓✓✓✓✓✓✓✓✓✓✓✓✓✓✓✓✓✓✓✓✓✓✓✓✓✓✓✓✓\n",
      "[Status] Client 15956482396482046798 已上線 ✓✓✓✓✓✓✓✓✓✓✓✓✓✓✓✓✓✓✓✓✓✓✓✓✓✓✓✓✓✓✓\n",
      "[Status] Client 7443020055456439635 已上線 ✓✓✓✓✓✓✓✓✓✓✓✓✓✓✓✓✓✓✓✓✓✓✓✓✓✓✓✓✓✓✓\n",
      "[Status] Client 14763376955598995280 已上線 ✓✓✓✓✓✓✓✓✓✓✓✓✓✓✓✓✓✓✓✓✓✓✓✓✓✓✓✓✓✓✓\n",
      "[Status] Client 4328532653729645404 已上線 ✓✓✓✓✓✓✓✓✓✓✓✓✓✓✓✓✓✓✓✓✓✓✓✓✓✓✓✓✓✓✓\n",
      "[Status] Client 10874706160651191643 已上線 ✓✓✓✓✓✓✓✓✓✓✓✓✓✓✓✓✓✓✓✓✓✓✓✓✓✓✓✓✓✓✓\n",
      "[Status] Client 13008311269950414170 已上線 ✓✓✓✓✓✓✓✓✓✓✓✓✓✓✓✓✓✓✓✓✓✓✓✓✓✓✓✓✓✓✓\n",
      "[Status] Client 17743880207871868507 已上線 ✓✓✓✓✓✓✓✓✓✓✓✓✓✓✓✓✓✓✓✓✓✓✓✓✓✓✓✓✓✓✓\n",
      "[Status] Client 3584198036714275426 已上線 ✓✓✓✓✓✓✓✓✓✓✓✓✓✓✓✓✓✓✓✓✓✓✓✓✓✓✓✓✓✓✓\n",
      "[Status] Client 17008317261120975195 已上線 ✓✓✓✓✓✓✓✓✓✓✓✓✓✓✓✓✓✓✓✓✓✓✓✓✓✓✓✓✓✓✓\n",
      "[Status] Client 199263742752386915 已上線 ✓✓✓✓✓✓✓✓✓✓✓✓✓✓✓✓✓✓✓✓✓✓✓✓✓✓✓✓✓✓✓\n",
      "[Status] Client 8351278003567562339 已上線 ✓✓✓✓✓✓✓✓✓✓✓✓✓✓✓✓✓✓✓✓✓✓✓✓✓✓✓✓✓✓✓\n",
      "[Status] Client 10353642338525390688 已上線 ✓✓✓✓✓✓✓✓✓✓✓✓✓✓✓✓✓✓✓✓✓✓✓✓✓✓✓✓✓✓✓\n",
      "[Status] Client 15298777593209664867 已上線 ✓✓✓✓✓✓✓✓✓✓✓✓✓✓✓✓✓✓✓✓✓✓✓✓✓✓✓✓✓✓✓\n",
      "[Status] Client 16407360585568566371 已上線 ✓✓✓✓✓✓✓✓✓✓✓✓✓✓✓✓✓✓✓✓✓✓✓✓✓✓✓✓✓✓✓\n",
      "[Status] Client 17947783548064170084 已上線 ✓✓✓✓✓✓✓✓✓✓✓✓✓✓✓✓✓✓✓✓✓✓✓✓✓✓✓✓✓✓✓\n",
      "[Status] Client 12815484912274861928 已上線 ✓✓✓✓✓✓✓✓✓✓✓✓✓✓✓✓✓✓✓✓✓✓✓✓✓✓✓✓✓✓✓\n",
      "[Status] Client 3265077042555724140 已上線 ✓✓✓✓✓✓✓✓✓✓✓✓✓✓✓✓✓✓✓✓✓✓✓✓✓✓✓✓✓✓✓\n",
      "[Status] Client 6071153834132892269 已上線 ✓✓✓✓✓✓✓✓✓✓✓✓✓✓✓✓✓✓✓✓✓✓✓✓✓✓✓✓✓✓✓\n",
      "[Status] Client 2195790605646258288 已上線 ✓✓✓✓✓✓✓✓✓✓✓✓✓✓✓✓✓✓✓✓✓✓✓✓✓✓✓✓✓✓✓\n",
      "[Status] Client 6035233464783455595 已上線 ✓✓✓✓✓✓✓✓✓✓✓✓✓✓✓✓✓✓✓✓✓✓✓✓✓✓✓✓✓✓✓\n",
      "[Status] Client 11543621484170371948 已上線 ✓✓✓✓✓✓✓✓✓✓✓✓✓✓✓✓✓✓✓✓✓✓✓✓✓✓✓✓✓✓✓\n",
      "[Status] Client 2382884346312848240 已上線 ✓✓✓✓✓✓✓✓✓✓✓✓✓✓✓✓✓✓✓✓✓✓✓✓✓✓✓✓✓✓✓\n",
      "[Status] Client 2109334409667552373 已上線 ✓✓✓✓✓✓✓✓✓✓✓✓✓✓✓✓✓✓✓✓✓✓✓✓✓✓✓✓✓✓✓\n",
      "[Status] Client 609076237708648053 已上線 ✓✓✓✓✓✓✓✓✓✓✓✓✓✓✓✓✓✓✓✓✓✓✓✓✓✓✓✓✓✓✓\n",
      "[Status] Client 13074030697062621555 已上線 ✓✓✓✓✓✓✓✓✓✓✓✓✓✓✓✓✓✓✓✓✓✓✓✓✓✓✓✓✓✓✓\n",
      "[Status] Client 16958875757104167793 已上線 ✓✓✓✓✓✓✓✓✓✓✓✓✓✓✓✓✓✓✓✓✓✓✓✓✓✓✓✓✓✓✓\n",
      "[Status] Client 11111801829425833847 已上線 ✓✓✓✓✓✓✓✓✓✓✓✓✓✓✓✓✓✓✓✓✓✓✓✓✓✓✓✓✓✓✓\n",
      "[Status] Client 2913966912474246268 已上線 ✓✓✓✓✓✓✓✓✓✓✓✓✓✓✓✓✓✓✓✓✓✓✓✓✓✓✓✓✓✓✓\n",
      "[Status] Client 16220021210988206454 已上線 ✓✓✓✓✓✓✓✓✓✓✓✓✓✓✓✓✓✓✓✓✓✓✓✓✓✓✓✓✓✓✓\n",
      "[Status] Client 4592834948776890237 已上線 ✓✓✓✓✓✓✓✓✓✓✓✓✓✓✓✓✓✓✓✓✓✓✓✓✓✓✓✓✓✓✓\n",
      "[Status] Client 12155365987531773817 已上線 ✓✓✓✓✓✓✓✓✓✓✓✓✓✓✓✓✓✓✓✓✓✓✓✓✓✓✓✓✓✓✓\n",
      "[Status] Client 6286026840937468800 已上線 ✓✓✓✓✓✓✓✓✓✓✓✓✓✓✓✓✓✓✓✓✓✓✓✓✓✓✓✓✓✓✓\n",
      "[Status] Client 10342261711539617409 已上線 ✓✓✓✓✓✓✓✓✓✓✓✓✓✓✓✓✓✓✓✓✓✓✓✓✓✓✓✓✓✓✓\n",
      "[Status] Client 7327500452221438083 已上線 ✓✓✓✓✓✓✓✓✓✓✓✓✓✓✓✓✓✓✓✓✓✓✓✓✓✓✓✓✓✓✓\n",
      "[Status] Client 7915408700627817860 已上線 ✓✓✓✓✓✓✓✓✓✓✓✓✓✓✓✓✓✓✓✓✓✓✓✓✓✓✓✓✓✓✓\n",
      "[Status] Client 47403917934335634 已上線 ✓✓✓✓✓✓✓✓✓✓✓✓✓✓✓✓✓✓✓✓✓✓✓✓✓✓✓✓✓✓✓\n",
      "[Status] Client 14709073893771434893 已上線 ✓✓✓✓✓✓✓✓✓✓✓✓✓✓✓✓✓✓✓✓✓✓✓✓✓✓✓✓✓✓✓\n",
      "[Status] Client 12853650028126075791 已上線 ✓✓✓✓✓✓✓✓✓✓✓✓✓✓✓✓✓✓✓✓✓✓✓✓✓✓✓✓✓✓✓\n",
      "[Status] Client 14731725968220367505 已上線 ✓✓✓✓✓✓✓✓✓✓✓✓✓✓✓✓✓✓✓✓✓✓✓✓✓✓✓✓✓✓✓\n",
      "[Status] Client 7102095905431217045 已上線 ✓✓✓✓✓✓✓✓✓✓✓✓✓✓✓✓✓✓✓✓✓✓✓✓✓✓✓✓✓✓✓\n",
      "[Status] Client 11042624960431772053 已上線 ✓✓✓✓✓✓✓✓✓✓✓✓✓✓✓✓✓✓✓✓✓✓✓✓✓✓✓✓✓✓✓\n",
      "[Status] Client 9141463916551758489 已上線 ✓✓✓✓✓✓✓✓✓✓✓✓✓✓✓✓✓✓✓✓✓✓✓✓✓✓✓✓✓✓✓\n",
      "[Status] Client 4637642414303579292 已上線 ✓✓✓✓✓✓✓✓✓✓✓✓✓✓✓✓✓✓✓✓✓✓✓✓✓✓✓✓✓✓✓\n",
      "[Status] Client 1622834362038378910 已上線 ✓✓✓✓✓✓✓✓✓✓✓✓✓✓✓✓✓✓✓✓✓✓✓✓✓✓✓✓✓✓✓\n",
      "[Status] Client 6315218198886990498 已上線 ✓✓✓✓✓✓✓✓✓✓✓✓✓✓✓✓✓✓✓✓✓✓✓✓✓✓✓✓✓✓✓\n",
      "[Status] Client 14450509895318997409 已上線 ✓✓✓✓✓✓✓✓✓✓✓✓✓✓✓✓✓✓✓✓✓✓✓✓✓✓✓✓✓✓✓\n",
      "[Status] Client 14429213353069451427 已上線 ✓✓✓✓✓✓✓✓✓✓✓✓✓✓✓✓✓✓✓✓✓✓✓✓✓✓✓✓✓✓✓\n",
      "[Status] Client 12072362998581925284 已上線 ✓✓✓✓✓✓✓✓✓✓✓✓✓✓✓✓✓✓✓✓✓✓✓✓✓✓✓✓✓✓✓\n",
      "[Status] Client 8727896527921774250 已上線 ✓✓✓✓✓✓✓✓✓✓✓✓✓✓✓✓✓✓✓✓✓✓✓✓✓✓✓✓✓✓✓\n",
      "[Status] Client 5077833277076949425 已上線 ✓✓✓✓✓✓✓✓✓✓✓✓✓✓✓✓✓✓✓✓✓✓✓✓✓✓✓✓✓✓✓\n",
      "[Status] Client 1834799437557903029 已上線 ✓✓✓✓✓✓✓✓✓✓✓✓✓✓✓✓✓✓✓✓✓✓✓✓✓✓✓✓✓✓✓\n",
      "[Status] Client 10640398069246930865 已上線 ✓✓✓✓✓✓✓✓✓✓✓✓✓✓✓✓✓✓✓✓✓✓✓✓✓✓✓✓✓✓✓\n",
      "[Status] Client 7462787278259740594 已上線 ✓✓✓✓✓✓✓✓✓✓✓✓✓✓✓✓✓✓✓✓✓✓✓✓✓✓✓✓✓✓✓\n",
      "[Status] Client 9106769183298012098 已上線 ✓✓✓✓✓✓✓✓✓✓✓✓✓✓✓✓✓✓✓✓✓✓✓✓✓✓✓✓✓✓✓\n",
      "[Status] Client 11302078738795702980 已上線 ✓✓✓✓✓✓✓✓✓✓✓✓✓✓✓✓✓✓✓✓✓✓✓✓✓✓✓✓✓✓✓\n",
      "[Status] Client 16176432363758991817 已上線 ✓✓✓✓✓✓✓✓✓✓✓✓✓✓✓✓✓✓✓✓✓✓✓✓✓✓✓✓✓✓✓\n",
      "[Status] Client 10132690638206676178 已上線 ✓✓✓✓✓✓✓✓✓✓✓✓✓✓✓✓✓✓✓✓✓✓✓✓✓✓✓✓✓✓✓\n",
      "[Status] Client 16225034935454335953 已上線 ✓✓✓✓✓✓✓✓✓✓✓✓✓✓✓✓✓✓✓✓✓✓✓✓✓✓✓✓✓✓✓\n",
      "[Status] Client 11770626611718167509 已上線 ✓✓✓✓✓✓✓✓✓✓✓✓✓✓✓✓✓✓✓✓✓✓✓✓✓✓✓✓✓✓✓\n",
      "[Status] Client 14913186119006669784 已上線 ✓✓✓✓✓✓✓✓✓✓✓✓✓✓✓✓✓✓✓✓✓✓✓✓✓✓✓✓✓✓✓\n",
      "[Status] Client 14113696346461037019 已上線 ✓✓✓✓✓✓✓✓✓✓✓✓✓✓✓✓✓✓✓✓✓✓✓✓✓✓✓✓✓✓✓\n",
      "[Status] Client 4592276326291917280 已上線 ✓✓✓✓✓✓✓✓✓✓✓✓✓✓✓✓✓✓✓✓✓✓✓✓✓✓✓✓✓✓✓\n",
      "[Status] Client 809657782651810019 已上線 ✓✓✓✓✓✓✓✓✓✓✓✓✓✓✓✓✓✓✓✓✓✓✓✓✓✓✓✓✓✓✓\n",
      "[Status] Client 12083241282786804701 已上線 ✓✓✓✓✓✓✓✓✓✓✓✓✓✓✓✓✓✓✓✓✓✓✓✓✓✓✓✓✓✓✓\n",
      "[Status] Client 13028532331612554465 已上線 ✓✓✓✓✓✓✓✓✓✓✓✓✓✓✓✓✓✓✓✓✓✓✓✓✓✓✓✓✓✓✓\n",
      "[Status] Client 1214946827067550712 已上線 ✓✓✓✓✓✓✓✓✓✓✓✓✓✓✓✓✓✓✓✓✓✓✓✓✓✓✓✓✓✓✓\n",
      "[Status] Client 18075942843060655859 已上線 ✓✓✓✓✓✓✓✓✓✓✓✓✓✓✓✓✓✓✓✓✓✓✓✓✓✓✓✓✓✓✓\n",
      "[Status] Client 13691737204072865784 已上線 ✓✓✓✓✓✓✓✓✓✓✓✓✓✓✓✓✓✓✓✓✓✓✓✓✓✓✓✓✓✓✓\n"
     ]
    },
    {
     "name": "stderr",
     "output_type": "stream",
     "text": [
      "\u001b[92mINFO \u001b[0m:      initial parameters (loss, other metrics): 0.03589136623757415, {'accuracy': 0.12373232944068838}\n",
      "\u001b[92mINFO \u001b[0m:      \n",
      "\u001b[92mINFO \u001b[0m:      [ROUND 1]\n",
      "\u001b[92mINFO \u001b[0m:      configure_fit: strategy sampled 100 clients (out of 100)\n"
     ]
    },
    {
     "name": "stdout",
     "output_type": "stream",
     "text": [
      "警告: 客戶端列表為空 (在線:100, 離線:0)\n",
      "\u001b[36m(ClientAppActor pid=3273264)\u001b[0m [Sat Jun 21 14:21:00 2025] 初始化聯邦數據集: svhn, 分區數=100, q=0.9\n"
     ]
    },
    {
     "name": "stderr",
     "output_type": "stream",
     "text": [
      "\u001b[92mINFO \u001b[0m:      aggregate_fit: received 100 results and 0 failures\n",
      "\u001b[92mINFO \u001b[0m:      fit progress: (1, 0.03501856334383823, {'accuracy': 0.1958743085433313}, 98.11373750600615)\n",
      "\u001b[92mINFO \u001b[0m:      configure_evaluate: strategy sampled 100 clients (out of 100)\n"
     ]
    },
    {
     "name": "stdout",
     "output_type": "stream",
     "text": [
      "警告: 客戶端列表為空 (在線:100, 離線:0)\n"
     ]
    },
    {
     "name": "stderr",
     "output_type": "stream",
     "text": [
      "\u001b[92mINFO \u001b[0m:      aggregate_evaluate: received 100 results and 0 failures\n",
      "\u001b[92mINFO \u001b[0m:      \n",
      "\u001b[92mINFO \u001b[0m:      [ROUND 2]\n",
      "\u001b[92mINFO \u001b[0m:      configure_fit: strategy sampled 100 clients (out of 100)\n",
      "\u001b[92mINFO \u001b[0m:      aggregate_fit: received 100 results and 0 failures\n",
      "\u001b[92mINFO \u001b[0m:      fit progress: (2, 0.04112251018664554, {'accuracy': 0.19744929317762752}, 148.95592023001518)\n",
      "\u001b[92mINFO \u001b[0m:      configure_evaluate: strategy sampled 100 clients (out of 100)\n"
     ]
    },
    {
     "name": "stdout",
     "output_type": "stream",
     "text": [
      "警告: 客戶端列表為空 (在線:100, 離線:0)\n"
     ]
    },
    {
     "name": "stderr",
     "output_type": "stream",
     "text": [
      "\u001b[92mINFO \u001b[0m:      aggregate_evaluate: received 100 results and 0 failures\n",
      "\u001b[92mINFO \u001b[0m:      \n",
      "\u001b[92mINFO \u001b[0m:      [ROUND 3]\n",
      "\u001b[92mINFO \u001b[0m:      configure_fit: strategy sampled 100 clients (out of 100)\n",
      "\u001b[92mINFO \u001b[0m:      aggregate_fit: received 100 results and 0 failures\n",
      "\u001b[92mINFO \u001b[0m:      fit progress: (3, 0.03651900253342791, {'accuracy': 0.07536877688998156}, 199.55174645900843)\n",
      "\u001b[92mINFO \u001b[0m:      configure_evaluate: strategy sampled 100 clients (out of 100)\n"
     ]
    },
    {
     "name": "stdout",
     "output_type": "stream",
     "text": [
      "警告: 客戶端列表為空 (在線:100, 離線:0)\n"
     ]
    },
    {
     "name": "stderr",
     "output_type": "stream",
     "text": [
      "\u001b[92mINFO \u001b[0m:      aggregate_evaluate: received 100 results and 0 failures\n",
      "\u001b[92mINFO \u001b[0m:      \n",
      "\u001b[92mINFO \u001b[0m:      [ROUND 4]\n",
      "\u001b[92mINFO \u001b[0m:      configure_fit: strategy sampled 100 clients (out of 100)\n",
      "\u001b[92mINFO \u001b[0m:      aggregate_fit: received 100 results and 0 failures\n",
      "\u001b[92mINFO \u001b[0m:      fit progress: (4, 0.03506335203971464, {'accuracy': 0.1958743085433313}, 250.72181678100605)\n",
      "\u001b[92mINFO \u001b[0m:      configure_evaluate: strategy sampled 100 clients (out of 100)\n"
     ]
    },
    {
     "name": "stdout",
     "output_type": "stream",
     "text": [
      "警告: 客戶端列表為空 (在線:100, 離線:0)\n"
     ]
    },
    {
     "name": "stderr",
     "output_type": "stream",
     "text": [
      "\u001b[92mINFO \u001b[0m:      aggregate_evaluate: received 100 results and 0 failures\n",
      "\u001b[92mINFO \u001b[0m:      \n",
      "\u001b[92mINFO \u001b[0m:      [ROUND 5]\n",
      "\u001b[92mINFO \u001b[0m:      configure_fit: strategy sampled 100 clients (out of 100)\n",
      "\u001b[92mINFO \u001b[0m:      aggregate_fit: received 100 results and 0 failures\n",
      "\u001b[92mINFO \u001b[0m:      fit progress: (5, 0.035172947405962836, {'accuracy': 0.19226336816226183}, 301.71228923401213)\n",
      "\u001b[92mINFO \u001b[0m:      configure_evaluate: strategy sampled 100 clients (out of 100)\n"
     ]
    },
    {
     "name": "stdout",
     "output_type": "stream",
     "text": [
      "警告: 客戶端列表為空 (在線:100, 離線:0)\n"
     ]
    },
    {
     "name": "stderr",
     "output_type": "stream",
     "text": [
      "\u001b[92mINFO \u001b[0m:      aggregate_evaluate: received 100 results and 0 failures\n",
      "\u001b[92mINFO \u001b[0m:      \n",
      "\u001b[92mINFO \u001b[0m:      [ROUND 6]\n",
      "\u001b[92mINFO \u001b[0m:      configure_fit: strategy sampled 100 clients (out of 100)\n",
      "\u001b[92mINFO \u001b[0m:      aggregate_fit: received 100 results and 0 failures\n",
      "\u001b[92mINFO \u001b[0m:      fit progress: (6, 0.034857637397189334, {'accuracy': 0.1958743085433313}, 352.79383398001664)\n",
      "\u001b[92mINFO \u001b[0m:      configure_evaluate: strategy sampled 100 clients (out of 100)\n"
     ]
    },
    {
     "name": "stdout",
     "output_type": "stream",
     "text": [
      "警告: 客戶端列表為空 (在線:100, 離線:0)\n"
     ]
    },
    {
     "name": "stderr",
     "output_type": "stream",
     "text": [
      "\u001b[92mINFO \u001b[0m:      aggregate_evaluate: received 100 results and 0 failures\n",
      "\u001b[92mINFO \u001b[0m:      \n",
      "\u001b[92mINFO \u001b[0m:      [ROUND 7]\n",
      "\u001b[92mINFO \u001b[0m:      configure_fit: strategy sampled 100 clients (out of 100)\n",
      "\u001b[92mINFO \u001b[0m:      aggregate_fit: received 100 results and 0 failures\n",
      "\u001b[92mINFO \u001b[0m:      fit progress: (7, 0.03479990386017716, {'accuracy': 0.1958743085433313}, 404.4426716720045)\n",
      "\u001b[92mINFO \u001b[0m:      configure_evaluate: strategy sampled 100 clients (out of 100)\n"
     ]
    },
    {
     "name": "stdout",
     "output_type": "stream",
     "text": [
      "警告: 客戶端列表為空 (在線:100, 離線:0)\n"
     ]
    },
    {
     "name": "stderr",
     "output_type": "stream",
     "text": [
      "\u001b[92mINFO \u001b[0m:      aggregate_evaluate: received 100 results and 0 failures\n",
      "\u001b[92mINFO \u001b[0m:      \n",
      "\u001b[92mINFO \u001b[0m:      [ROUND 8]\n",
      "\u001b[92mINFO \u001b[0m:      configure_fit: strategy sampled 100 clients (out of 100)\n",
      "\u001b[92mINFO \u001b[0m:      aggregate_fit: received 100 results and 0 failures\n",
      "\u001b[92mINFO \u001b[0m:      fit progress: (8, 0.0347891035589911, {'accuracy': 0.1958743085433313}, 455.4936334240192)\n",
      "\u001b[92mINFO \u001b[0m:      configure_evaluate: strategy sampled 100 clients (out of 100)\n"
     ]
    },
    {
     "name": "stdout",
     "output_type": "stream",
     "text": [
      "警告: 客戶端列表為空 (在線:100, 離線:0)\n"
     ]
    },
    {
     "name": "stderr",
     "output_type": "stream",
     "text": [
      "\u001b[92mINFO \u001b[0m:      aggregate_evaluate: received 100 results and 0 failures\n",
      "\u001b[92mINFO \u001b[0m:      \n",
      "\u001b[92mINFO \u001b[0m:      [ROUND 9]\n",
      "\u001b[92mINFO \u001b[0m:      configure_fit: strategy sampled 100 clients (out of 100)\n",
      "\u001b[92mINFO \u001b[0m:      aggregate_fit: received 100 results and 0 failures\n",
      "\u001b[92mINFO \u001b[0m:      fit progress: (9, 0.03507192983316657, {'accuracy': 0.1958743085433313}, 506.9175299790222)\n",
      "\u001b[92mINFO \u001b[0m:      configure_evaluate: strategy sampled 100 clients (out of 100)\n"
     ]
    },
    {
     "name": "stdout",
     "output_type": "stream",
     "text": [
      "警告: 客戶端列表為空 (在線:100, 離線:0)\n"
     ]
    },
    {
     "name": "stderr",
     "output_type": "stream",
     "text": [
      "\u001b[92mINFO \u001b[0m:      aggregate_evaluate: received 100 results and 0 failures\n",
      "\u001b[92mINFO \u001b[0m:      \n",
      "\u001b[92mINFO \u001b[0m:      [ROUND 10]\n",
      "\u001b[92mINFO \u001b[0m:      configure_fit: strategy sampled 100 clients (out of 100)\n",
      "\u001b[92mINFO \u001b[0m:      aggregate_fit: received 100 results and 0 failures\n",
      "\u001b[92mINFO \u001b[0m:      fit progress: (10, 0.03509473536889393, {'accuracy': 0.1958743085433313}, 557.9947603740147)\n",
      "\u001b[92mINFO \u001b[0m:      configure_evaluate: strategy sampled 100 clients (out of 100)\n"
     ]
    },
    {
     "name": "stdout",
     "output_type": "stream",
     "text": [
      "警告: 客戶端列表為空 (在線:100, 離線:0)\n"
     ]
    },
    {
     "name": "stderr",
     "output_type": "stream",
     "text": [
      "\u001b[92mINFO \u001b[0m:      aggregate_evaluate: received 100 results and 0 failures\n",
      "\u001b[92mINFO \u001b[0m:      \n",
      "\u001b[92mINFO \u001b[0m:      [ROUND 11]\n",
      "\u001b[92mINFO \u001b[0m:      configure_fit: strategy sampled 100 clients (out of 100)\n",
      "\u001b[36m(ClientAppActor pid=3273263)\u001b[0m Traceback (most recent call last):\n",
      "\u001b[36m(ClientAppActor pid=3273263)\u001b[0m   File \"/usr/lib/python3.10/multiprocessing/util.py\", line 300, in _run_finalizers\n",
      "\u001b[36m(ClientAppActor pid=3273263)\u001b[0m     finalizer()\n",
      "\u001b[36m(ClientAppActor pid=3273263)\u001b[0m   File \"/usr/lib/python3.10/multiprocessing/util.py\", line 224, in __call__\n",
      "\u001b[36m(ClientAppActor pid=3273263)\u001b[0m     res = self._callback(*self._args, **self._kwargs)\n",
      "\u001b[36m(ClientAppActor pid=3273263)\u001b[0m   File \"/usr/lib/python3.10/multiprocessing/util.py\", line 133, in _remove_temp_dir\n",
      "\u001b[36m(ClientAppActor pid=3273263)\u001b[0m     rmtree(tempdir)\n",
      "\u001b[36m(ClientAppActor pid=3273263)\u001b[0m   File \"/usr/lib/python3.10/shutil.py\", line 731, in rmtree\n",
      "\u001b[36m(ClientAppActor pid=3273263)\u001b[0m     onerror(os.rmdir, path, sys.exc_info())\n",
      "\u001b[36m(ClientAppActor pid=3273263)\u001b[0m   File \"/usr/lib/python3.10/shutil.py\", line 729, in rmtree\n",
      "\u001b[36m(ClientAppActor pid=3273263)\u001b[0m     os.rmdir(path)\n",
      "\u001b[36m(ClientAppActor pid=3273263)\u001b[0m OSError: [Errno 39] Directory not empty: '/home/koshino17/koshino17_hdd/tmp/pymp-xh5z367l'\n",
      "\u001b[92mINFO \u001b[0m:      aggregate_fit: received 100 results and 0 failures\n",
      "\u001b[92mINFO \u001b[0m:      fit progress: (11, 0.03604911932677086, {'accuracy': 0.1958743085433313}, 609.5023013230239)\n",
      "\u001b[92mINFO \u001b[0m:      configure_evaluate: strategy sampled 100 clients (out of 100)\n"
     ]
    },
    {
     "name": "stdout",
     "output_type": "stream",
     "text": [
      "警告: 客戶端列表為空 (在線:100, 離線:0)\n"
     ]
    },
    {
     "name": "stderr",
     "output_type": "stream",
     "text": [
      "\u001b[92mINFO \u001b[0m:      aggregate_evaluate: received 100 results and 0 failures\n",
      "\u001b[92mINFO \u001b[0m:      \n",
      "\u001b[92mINFO \u001b[0m:      [ROUND 12]\n",
      "\u001b[92mINFO \u001b[0m:      configure_fit: strategy sampled 100 clients (out of 100)\n",
      "\u001b[92mINFO \u001b[0m:      aggregate_fit: received 100 results and 0 failures\n",
      "\u001b[92mINFO \u001b[0m:      fit progress: (12, 0.035844661986893796, {'accuracy': 0.1958743085433313}, 661.5159627640096)\n",
      "\u001b[92mINFO \u001b[0m:      configure_evaluate: strategy sampled 100 clients (out of 100)\n"
     ]
    },
    {
     "name": "stdout",
     "output_type": "stream",
     "text": [
      "警告: 客戶端列表為空 (在線:100, 離線:0)\n"
     ]
    },
    {
     "name": "stderr",
     "output_type": "stream",
     "text": [
      "\u001b[92mINFO \u001b[0m:      aggregate_evaluate: received 100 results and 0 failures\n",
      "\u001b[92mINFO \u001b[0m:      \n",
      "\u001b[92mINFO \u001b[0m:      [ROUND 13]\n",
      "\u001b[92mINFO \u001b[0m:      configure_fit: strategy sampled 100 clients (out of 100)\n",
      "\u001b[92mINFO \u001b[0m:      aggregate_fit: received 100 results and 0 failures\n",
      "\u001b[92mINFO \u001b[0m:      fit progress: (13, 0.035816707664936984, {'accuracy': 0.09711124769514444}, 712.6999991870252)\n",
      "\u001b[92mINFO \u001b[0m:      configure_evaluate: strategy sampled 100 clients (out of 100)\n"
     ]
    },
    {
     "name": "stdout",
     "output_type": "stream",
     "text": [
      "警告: 客戶端列表為空 (在線:100, 離線:0)\n"
     ]
    },
    {
     "name": "stderr",
     "output_type": "stream",
     "text": [
      "\u001b[92mINFO \u001b[0m:      aggregate_evaluate: received 100 results and 0 failures\n",
      "\u001b[92mINFO \u001b[0m:      \n",
      "\u001b[92mINFO \u001b[0m:      [ROUND 14]\n",
      "\u001b[92mINFO \u001b[0m:      configure_fit: strategy sampled 100 clients (out of 100)\n",
      "\u001b[92mINFO \u001b[0m:      aggregate_fit: received 100 results and 0 failures\n",
      "\u001b[92mINFO \u001b[0m:      fit progress: (14, 0.03502037730148107, {'accuracy': 0.1958743085433313}, 764.723607168009)\n",
      "\u001b[92mINFO \u001b[0m:      configure_evaluate: strategy sampled 100 clients (out of 100)\n"
     ]
    },
    {
     "name": "stdout",
     "output_type": "stream",
     "text": [
      "警告: 客戶端列表為空 (在線:100, 離線:0)\n"
     ]
    },
    {
     "name": "stderr",
     "output_type": "stream",
     "text": [
      "\u001b[92mINFO \u001b[0m:      aggregate_evaluate: received 100 results and 0 failures\n",
      "\u001b[92mINFO \u001b[0m:      \n",
      "\u001b[92mINFO \u001b[0m:      [ROUND 15]\n",
      "\u001b[92mINFO \u001b[0m:      configure_fit: strategy sampled 100 clients (out of 100)\n",
      "\u001b[92mINFO \u001b[0m:      aggregate_fit: received 100 results and 0 failures\n",
      "\u001b[92mINFO \u001b[0m:      fit progress: (15, 0.03495013013198175, {'accuracy': 0.1958743085433313}, 815.9398346840171)\n",
      "\u001b[92mINFO \u001b[0m:      configure_evaluate: strategy sampled 100 clients (out of 100)\n"
     ]
    },
    {
     "name": "stdout",
     "output_type": "stream",
     "text": [
      "警告: 客戶端列表為空 (在線:100, 離線:0)\n"
     ]
    },
    {
     "name": "stderr",
     "output_type": "stream",
     "text": [
      "\u001b[92mINFO \u001b[0m:      aggregate_evaluate: received 100 results and 0 failures\n",
      "\u001b[92mINFO \u001b[0m:      \n",
      "\u001b[92mINFO \u001b[0m:      [ROUND 16]\n",
      "\u001b[92mINFO \u001b[0m:      configure_fit: strategy sampled 100 clients (out of 100)\n",
      "\u001b[92mINFO \u001b[0m:      aggregate_fit: received 100 results and 0 failures\n",
      "\u001b[92mINFO \u001b[0m:      fit progress: (16, 0.034795473498585916, {'accuracy': 0.20486324523663182}, 867.2097533300112)\n",
      "\u001b[92mINFO \u001b[0m:      configure_evaluate: strategy sampled 100 clients (out of 100)\n"
     ]
    },
    {
     "name": "stdout",
     "output_type": "stream",
     "text": [
      "警告: 客戶端列表為空 (在線:100, 離線:0)\n"
     ]
    },
    {
     "name": "stderr",
     "output_type": "stream",
     "text": [
      "\u001b[92mINFO \u001b[0m:      aggregate_evaluate: received 100 results and 0 failures\n",
      "\u001b[92mINFO \u001b[0m:      \n",
      "\u001b[92mINFO \u001b[0m:      [ROUND 17]\n",
      "\u001b[92mINFO \u001b[0m:      configure_fit: strategy sampled 100 clients (out of 100)\n",
      "\u001b[92mINFO \u001b[0m:      aggregate_fit: received 100 results and 0 failures\n",
      "\u001b[92mINFO \u001b[0m:      fit progress: (17, 0.03463319451367848, {'accuracy': 0.2043638598647818}, 919.2154320580012)\n",
      "\u001b[92mINFO \u001b[0m:      configure_evaluate: strategy sampled 100 clients (out of 100)\n"
     ]
    },
    {
     "name": "stdout",
     "output_type": "stream",
     "text": [
      "警告: 客戶端列表為空 (在線:100, 離線:0)\n"
     ]
    },
    {
     "name": "stderr",
     "output_type": "stream",
     "text": [
      "\u001b[92mINFO \u001b[0m:      aggregate_evaluate: received 100 results and 0 failures\n",
      "\u001b[92mINFO \u001b[0m:      \n",
      "\u001b[92mINFO \u001b[0m:      [ROUND 18]\n",
      "\u001b[92mINFO \u001b[0m:      configure_fit: strategy sampled 100 clients (out of 100)\n",
      "\u001b[92mINFO \u001b[0m:      aggregate_fit: received 100 results and 0 failures\n",
      "\u001b[92mINFO \u001b[0m:      fit progress: (18, 0.034264401956870645, {'accuracy': 0.22480024585126}, 969.9284898320038)\n",
      "\u001b[92mINFO \u001b[0m:      configure_evaluate: strategy sampled 100 clients (out of 100)\n"
     ]
    },
    {
     "name": "stdout",
     "output_type": "stream",
     "text": [
      "警告: 客戶端列表為空 (在線:100, 離線:0)\n"
     ]
    },
    {
     "name": "stderr",
     "output_type": "stream",
     "text": [
      "\u001b[92mINFO \u001b[0m:      aggregate_evaluate: received 100 results and 0 failures\n",
      "\u001b[92mINFO \u001b[0m:      \n",
      "\u001b[92mINFO \u001b[0m:      [ROUND 19]\n",
      "\u001b[92mINFO \u001b[0m:      configure_fit: strategy sampled 100 clients (out of 100)\n",
      "\u001b[92mINFO \u001b[0m:      aggregate_fit: received 100 results and 0 failures\n",
      "\u001b[92mINFO \u001b[0m:      fit progress: (19, 0.033853850924463164, {'accuracy': 0.23797633681622618}, 1021.7410017360235)\n",
      "\u001b[92mINFO \u001b[0m:      configure_evaluate: strategy sampled 100 clients (out of 100)\n"
     ]
    },
    {
     "name": "stdout",
     "output_type": "stream",
     "text": [
      "警告: 客戶端列表為空 (在線:100, 離線:0)\n"
     ]
    },
    {
     "name": "stderr",
     "output_type": "stream",
     "text": [
      "\u001b[92mINFO \u001b[0m:      aggregate_evaluate: received 100 results and 0 failures\n",
      "\u001b[92mINFO \u001b[0m:      \n",
      "\u001b[92mINFO \u001b[0m:      [ROUND 20]\n",
      "\u001b[92mINFO \u001b[0m:      configure_fit: strategy sampled 100 clients (out of 100)\n",
      "\u001b[92mINFO \u001b[0m:      aggregate_fit: received 100 results and 0 failures\n",
      "\u001b[92mINFO \u001b[0m:      fit progress: (20, 0.03339475971207563, {'accuracy': 0.27938690842040564}, 1074.3062521290267)\n",
      "\u001b[92mINFO \u001b[0m:      configure_evaluate: strategy sampled 100 clients (out of 100)\n"
     ]
    },
    {
     "name": "stdout",
     "output_type": "stream",
     "text": [
      "警告: 客戶端列表為空 (在線:100, 離線:0)\n"
     ]
    },
    {
     "name": "stderr",
     "output_type": "stream",
     "text": [
      "\u001b[92mINFO \u001b[0m:      aggregate_evaluate: received 100 results and 0 failures\n",
      "\u001b[92mINFO \u001b[0m:      \n",
      "\u001b[92mINFO \u001b[0m:      [ROUND 21]\n",
      "\u001b[92mINFO \u001b[0m:      configure_fit: strategy sampled 100 clients (out of 100)\n",
      "\u001b[92mINFO \u001b[0m:      aggregate_fit: received 100 results and 0 failures\n",
      "\u001b[92mINFO \u001b[0m:      fit progress: (21, 0.03349605062547167, {'accuracy': 0.25729870928088505}, 1126.801496900007)\n",
      "\u001b[92mINFO \u001b[0m:      configure_evaluate: strategy sampled 100 clients (out of 100)\n"
     ]
    },
    {
     "name": "stdout",
     "output_type": "stream",
     "text": [
      "警告: 客戶端列表為空 (在線:100, 離線:0)\n"
     ]
    },
    {
     "name": "stderr",
     "output_type": "stream",
     "text": [
      "\u001b[92mINFO \u001b[0m:      aggregate_evaluate: received 100 results and 0 failures\n",
      "\u001b[92mINFO \u001b[0m:      \n",
      "\u001b[92mINFO \u001b[0m:      [ROUND 22]\n",
      "\u001b[92mINFO \u001b[0m:      configure_fit: strategy sampled 100 clients (out of 100)\n",
      "\u001b[92mINFO \u001b[0m:      aggregate_fit: received 100 results and 0 failures\n",
      "\u001b[92mINFO \u001b[0m:      fit progress: (22, 0.03399545536791538, {'accuracy': 0.25046097111247695}, 1178.4338815520168)\n",
      "\u001b[92mINFO \u001b[0m:      configure_evaluate: strategy sampled 100 clients (out of 100)\n"
     ]
    },
    {
     "name": "stdout",
     "output_type": "stream",
     "text": [
      "警告: 客戶端列表為空 (在線:100, 離線:0)\n"
     ]
    },
    {
     "name": "stderr",
     "output_type": "stream",
     "text": [
      "\u001b[92mINFO \u001b[0m:      aggregate_evaluate: received 100 results and 0 failures\n",
      "\u001b[92mINFO \u001b[0m:      \n",
      "\u001b[92mINFO \u001b[0m:      [ROUND 23]\n",
      "\u001b[92mINFO \u001b[0m:      configure_fit: strategy sampled 100 clients (out of 100)\n",
      "\u001b[92mINFO \u001b[0m:      aggregate_fit: received 100 results and 0 failures\n",
      "\u001b[92mINFO \u001b[0m:      fit progress: (23, 0.03528016621559474, {'accuracy': 0.15377228027043638}, 1230.368327078002)\n",
      "\u001b[92mINFO \u001b[0m:      configure_evaluate: strategy sampled 100 clients (out of 100)\n"
     ]
    },
    {
     "name": "stdout",
     "output_type": "stream",
     "text": [
      "警告: 客戶端列表為空 (在線:100, 離線:0)\n"
     ]
    },
    {
     "name": "stderr",
     "output_type": "stream",
     "text": [
      "\u001b[92mINFO \u001b[0m:      aggregate_evaluate: received 100 results and 0 failures\n",
      "\u001b[92mINFO \u001b[0m:      \n",
      "\u001b[92mINFO \u001b[0m:      [ROUND 24]\n",
      "\u001b[92mINFO \u001b[0m:      configure_fit: strategy sampled 100 clients (out of 100)\n",
      "\u001b[92mINFO \u001b[0m:      aggregate_fit: received 100 results and 0 failures\n",
      "\u001b[92mINFO \u001b[0m:      fit progress: (24, 0.031583004409576676, {'accuracy': 0.29571296865396435}, 1282.8550386050192)\n",
      "\u001b[92mINFO \u001b[0m:      configure_evaluate: strategy sampled 100 clients (out of 100)\n"
     ]
    },
    {
     "name": "stdout",
     "output_type": "stream",
     "text": [
      "警告: 客戶端列表為空 (在線:100, 離線:0)\n"
     ]
    },
    {
     "name": "stderr",
     "output_type": "stream",
     "text": [
      "\u001b[92mINFO \u001b[0m:      aggregate_evaluate: received 100 results and 0 failures\n",
      "\u001b[92mINFO \u001b[0m:      \n",
      "\u001b[92mINFO \u001b[0m:      [ROUND 25]\n",
      "\u001b[92mINFO \u001b[0m:      configure_fit: strategy sampled 100 clients (out of 100)\n",
      "\u001b[92mINFO \u001b[0m:      aggregate_fit: received 100 results and 0 failures\n",
      "\u001b[92mINFO \u001b[0m:      fit progress: (25, 0.031058078575661816, {'accuracy': 0.30036109403810696}, 1334.4551471090235)\n",
      "\u001b[92mINFO \u001b[0m:      configure_evaluate: strategy sampled 100 clients (out of 100)\n"
     ]
    },
    {
     "name": "stdout",
     "output_type": "stream",
     "text": [
      "警告: 客戶端列表為空 (在線:100, 離線:0)\n"
     ]
    },
    {
     "name": "stderr",
     "output_type": "stream",
     "text": [
      "\u001b[92mINFO \u001b[0m:      aggregate_evaluate: received 100 results and 0 failures\n",
      "\u001b[92mINFO \u001b[0m:      \n",
      "\u001b[92mINFO \u001b[0m:      [ROUND 26]\n",
      "\u001b[92mINFO \u001b[0m:      configure_fit: strategy sampled 100 clients (out of 100)\n",
      "\u001b[92mINFO \u001b[0m:      aggregate_fit: received 100 results and 0 failures\n",
      "\u001b[92mINFO \u001b[0m:      fit progress: (26, 0.030245274149646183, {'accuracy': 0.31580362630608483}, 1386.337992123008)\n",
      "\u001b[92mINFO \u001b[0m:      configure_evaluate: strategy sampled 100 clients (out of 100)\n"
     ]
    },
    {
     "name": "stdout",
     "output_type": "stream",
     "text": [
      "警告: 客戶端列表為空 (在線:100, 離線:0)\n"
     ]
    },
    {
     "name": "stderr",
     "output_type": "stream",
     "text": [
      "\u001b[92mINFO \u001b[0m:      aggregate_evaluate: received 100 results and 0 failures\n",
      "\u001b[92mINFO \u001b[0m:      \n",
      "\u001b[92mINFO \u001b[0m:      [ROUND 27]\n",
      "\u001b[92mINFO \u001b[0m:      configure_fit: strategy sampled 100 clients (out of 100)\n",
      "\u001b[36m(ClientAppActor pid=3273263)\u001b[0m Traceback (most recent call last):\n",
      "\u001b[36m(ClientAppActor pid=3273263)\u001b[0m   File \"/usr/lib/python3.10/multiprocessing/util.py\", line 300, in _run_finalizers\n",
      "\u001b[36m(ClientAppActor pid=3273263)\u001b[0m     finalizer()\n",
      "\u001b[36m(ClientAppActor pid=3273263)\u001b[0m   File \"/usr/lib/python3.10/multiprocessing/util.py\", line 224, in __call__\n",
      "\u001b[36m(ClientAppActor pid=3273263)\u001b[0m     res = self._callback(*self._args, **self._kwargs)\n",
      "\u001b[36m(ClientAppActor pid=3273263)\u001b[0m   File \"/usr/lib/python3.10/multiprocessing/util.py\", line 133, in _remove_temp_dir\n",
      "\u001b[36m(ClientAppActor pid=3273263)\u001b[0m     rmtree(tempdir)\n",
      "\u001b[36m(ClientAppActor pid=3273263)\u001b[0m   File \"/usr/lib/python3.10/shutil.py\", line 731, in rmtree\n",
      "\u001b[36m(ClientAppActor pid=3273263)\u001b[0m     onerror(os.rmdir, path, sys.exc_info())\n",
      "\u001b[36m(ClientAppActor pid=3273263)\u001b[0m   File \"/usr/lib/python3.10/shutil.py\", line 729, in rmtree\n",
      "\u001b[36m(ClientAppActor pid=3273263)\u001b[0m     os.rmdir(path)\n",
      "\u001b[36m(ClientAppActor pid=3273263)\u001b[0m OSError: [Errno 39] Directory not empty: '/home/koshino17/koshino17_hdd/tmp/pymp-63wfuse1'\n",
      "\u001b[92mINFO \u001b[0m:      aggregate_fit: received 100 results and 0 failures\n",
      "\u001b[92mINFO \u001b[0m:      fit progress: (27, 0.030485650454662148, {'accuracy': 0.3162261831591887}, 1438.0331480440218)\n",
      "\u001b[92mINFO \u001b[0m:      configure_evaluate: strategy sampled 100 clients (out of 100)\n"
     ]
    },
    {
     "name": "stdout",
     "output_type": "stream",
     "text": [
      "警告: 客戶端列表為空 (在線:100, 離線:0)\n"
     ]
    },
    {
     "name": "stderr",
     "output_type": "stream",
     "text": [
      "\u001b[92mINFO \u001b[0m:      aggregate_evaluate: received 100 results and 0 failures\n",
      "\u001b[92mINFO \u001b[0m:      \n",
      "\u001b[92mINFO \u001b[0m:      [ROUND 28]\n",
      "\u001b[92mINFO \u001b[0m:      configure_fit: strategy sampled 100 clients (out of 100)\n",
      "\u001b[92mINFO \u001b[0m:      aggregate_fit: received 100 results and 0 failures\n",
      "\u001b[92mINFO \u001b[0m:      fit progress: (28, 0.02874420419765823, {'accuracy': 0.36754763368162263}, 1490.7180144980084)\n",
      "\u001b[92mINFO \u001b[0m:      configure_evaluate: strategy sampled 100 clients (out of 100)\n"
     ]
    },
    {
     "name": "stdout",
     "output_type": "stream",
     "text": [
      "警告: 客戶端列表為空 (在線:100, 離線:0)\n"
     ]
    },
    {
     "name": "stderr",
     "output_type": "stream",
     "text": [
      "\u001b[92mINFO \u001b[0m:      aggregate_evaluate: received 100 results and 0 failures\n",
      "\u001b[92mINFO \u001b[0m:      \n",
      "\u001b[92mINFO \u001b[0m:      [ROUND 29]\n",
      "\u001b[92mINFO \u001b[0m:      configure_fit: strategy sampled 100 clients (out of 100)\n",
      "\u001b[92mINFO \u001b[0m:      aggregate_fit: received 100 results and 0 failures\n",
      "\u001b[92mINFO \u001b[0m:      fit progress: (29, 0.028841018434052974, {'accuracy': 0.35802089735709897}, 1542.8474506250059)\n",
      "\u001b[92mINFO \u001b[0m:      configure_evaluate: strategy sampled 100 clients (out of 100)\n"
     ]
    },
    {
     "name": "stdout",
     "output_type": "stream",
     "text": [
      "警告: 客戶端列表為空 (在線:100, 離線:0)\n"
     ]
    },
    {
     "name": "stderr",
     "output_type": "stream",
     "text": [
      "\u001b[92mINFO \u001b[0m:      aggregate_evaluate: received 100 results and 0 failures\n",
      "\u001b[92mINFO \u001b[0m:      \n",
      "\u001b[92mINFO \u001b[0m:      [ROUND 30]\n",
      "\u001b[92mINFO \u001b[0m:      configure_fit: strategy sampled 100 clients (out of 100)\n",
      "\u001b[92mINFO \u001b[0m:      aggregate_fit: received 100 results and 0 failures\n",
      "\u001b[92mINFO \u001b[0m:      fit progress: (30, 0.027318199257324573, {'accuracy': 0.39405347264904733}, 1594.9092038870149)\n",
      "\u001b[92mINFO \u001b[0m:      configure_evaluate: strategy sampled 100 clients (out of 100)\n"
     ]
    },
    {
     "name": "stdout",
     "output_type": "stream",
     "text": [
      "警告: 客戶端列表為空 (在線:100, 離線:0)\n"
     ]
    },
    {
     "name": "stderr",
     "output_type": "stream",
     "text": [
      "\u001b[92mINFO \u001b[0m:      aggregate_evaluate: received 100 results and 0 failures\n",
      "\u001b[92mINFO \u001b[0m:      \n",
      "\u001b[92mINFO \u001b[0m:      [ROUND 31]\n",
      "\u001b[92mINFO \u001b[0m:      configure_fit: strategy sampled 100 clients (out of 100)\n",
      "\u001b[92mINFO \u001b[0m:      aggregate_fit: received 100 results and 0 failures\n",
      "\u001b[92mINFO \u001b[0m:      fit progress: (31, 0.027563851750292658, {'accuracy': 0.39197910264290103}, 1647.407936588017)\n",
      "\u001b[92mINFO \u001b[0m:      configure_evaluate: strategy sampled 100 clients (out of 100)\n"
     ]
    },
    {
     "name": "stdout",
     "output_type": "stream",
     "text": [
      "警告: 客戶端列表為空 (在線:100, 離線:0)\n"
     ]
    },
    {
     "name": "stderr",
     "output_type": "stream",
     "text": [
      "\u001b[92mINFO \u001b[0m:      aggregate_evaluate: received 100 results and 0 failures\n",
      "\u001b[92mINFO \u001b[0m:      \n",
      "\u001b[92mINFO \u001b[0m:      [ROUND 32]\n",
      "\u001b[92mINFO \u001b[0m:      configure_fit: strategy sampled 100 clients (out of 100)\n",
      "\u001b[92mINFO \u001b[0m:      aggregate_fit: received 100 results and 0 failures\n",
      "\u001b[92mINFO \u001b[0m:      fit progress: (32, 0.026521130095762055, {'accuracy': 0.41180086047940995}, 1698.6195638630015)\n",
      "\u001b[92mINFO \u001b[0m:      configure_evaluate: strategy sampled 100 clients (out of 100)\n"
     ]
    },
    {
     "name": "stdout",
     "output_type": "stream",
     "text": [
      "警告: 客戶端列表為空 (在線:100, 離線:0)\n"
     ]
    },
    {
     "name": "stderr",
     "output_type": "stream",
     "text": [
      "\u001b[92mINFO \u001b[0m:      aggregate_evaluate: received 100 results and 0 failures\n",
      "\u001b[92mINFO \u001b[0m:      \n",
      "\u001b[92mINFO \u001b[0m:      [ROUND 33]\n",
      "\u001b[92mINFO \u001b[0m:      configure_fit: strategy sampled 100 clients (out of 100)\n"
     ]
    }
   ],
   "source": [
    "# 讓 Flower 運行完整的 FL 訓練\n",
    "start_time = time.time()  # 記錄開始時間\n",
    "\n",
    "run_simulation(\n",
    "    server_app=server,\n",
    "    client_app=client,\n",
    "    num_supernodes=NUM_CLIENTS,\n",
    "    backend_config=backend_config,\n",
    ")\n",
    "\n",
    "end_time = time.time()  # 記錄結束時間\n",
    "total_time = end_time - start_time  # 計算總時間\n",
    "\n",
    "print(f\"Total Training Time: {total_time:.2f} seconds\")  # 顯示總時間"
   ]
  },
  {
   "cell_type": "markdown",
   "id": "e44359b9-a439-4e28-ab3a-3c90ec15b624",
   "metadata": {},
   "source": [
    "### Loss 和 Accuracy 折線圖"
   ]
  },
  {
   "cell_type": "code",
   "execution_count": null,
   "id": "9e3a73a2",
   "metadata": {
    "jupyter": {
     "source_hidden": true
    }
   },
   "outputs": [],
   "source": [
    "import matplotlib.pyplot as plt\n",
    "import numpy as np\n",
    "\n",
    "# 提取每個 client（按 pid）的 loss 和 accuracy 數據\n",
    "client_losses = {}  # {pid: [(round, loss), ...]}\n",
    "client_accuracies = {}  # {pid: [(round, acc), ...]}\n",
    "\n",
    "for round_num, pid, loss in history.losses_distributed:\n",
    "    if pid not in client_losses:\n",
    "        client_losses[pid] = []\n",
    "    client_losses[pid].append((round_num, loss))\n",
    "\n",
    "for round_num, pid, acc in history.metrics_distributed.get('accuracy', []):\n",
    "    if pid not in client_accuracies:\n",
    "        client_accuracies[pid] = []\n",
    "    client_accuracies[pid].append((round_num, acc))\n",
    "\n",
    "# 為圖表生成隨機顏色\n",
    "colors = plt.cm.tab20(np.linspace(0, 1, max(len(client_losses), len(client_accuracies))))\n",
    "\n",
    "# 繪製每個 client 的 Loss 圖\n",
    "plt.figure(figsize=(10, 6))\n",
    "for idx, (pid, losses) in enumerate(client_losses.items()):\n",
    "    rounds = [r for r, _ in sorted(losses)]\n",
    "    loss_values = [l for _, l in sorted(losses)]\n",
    "    plt.plot(rounds, loss_values, marker='o', color=colors[idx], label=f'Partition {pid}', alpha=0.7)\n",
    "\n",
    "# 繪製 centralized 和 distributed loss\n",
    "rounds_loss = [t[0] for t in history.losses_centralized]\n",
    "loss_values_centralized = [t[1] for t in history.losses_centralized]\n",
    "\n",
    "distributed_loss_by_round = {}\n",
    "for round_num, _, loss in history.losses_distributed:\n",
    "    if round_num not in distributed_loss_by_round:\n",
    "        distributed_loss_by_round[round_num] = []\n",
    "    distributed_loss_by_round[round_num].append(loss)\n",
    "rounds_loss_distributed = sorted(distributed_loss_by_round.keys())\n",
    "loss_values_distributed = [np.mean(distributed_loss_by_round[r]) for r in rounds_loss_distributed]\n",
    "\n",
    "plt.plot(rounds_loss, loss_values_centralized, marker='o', color='red', label='Centralized Loss', linewidth=2, linestyle='--')\n",
    "# plt.plot(rounds_loss_distributed, loss_values_distributed, marker='o', color='orange', label='Distributed Loss', linewidth=2, linestyle='--')\n",
    "\n",
    "plt.xlabel('Round')\n",
    "plt.ylabel('Loss')\n",
    "plt.title('Loss Over Rounds (Per Client by PID)')\n",
    "plt.legend(bbox_to_anchor=(1.05, 1), loc='upper left')\n",
    "plt.grid(True)\n",
    "plt.tight_layout()\n",
    "plt.show()\n",
    "\n",
    "# 繪製每個 client 的 Accuracy 圖\n",
    "plt.figure(figsize=(10, 6))\n",
    "for idx, (pid, accuracies) in enumerate(client_accuracies.items()):\n",
    "    rounds = [r for r, _ in sorted(accuracies)]\n",
    "    acc_values = [a for _, a in sorted(accuracies)]\n",
    "    plt.plot(rounds, acc_values, marker='o', color=colors[idx], label=f'Partition {pid}', alpha=0.7)\n",
    "\n",
    "# 繪製 centralized 和 distributed accuracy\n",
    "acc_rounds = [t[0] for t in history.metrics_centralized.get('accuracy', [])]\n",
    "acc_values_centralized = [t[1] for t in history.metrics_centralized.get('accuracy', [])]\n",
    "\n",
    "distributed_acc_by_round = {} \n",
    "for round_num, _, acc in history.metrics_distributed.get('accuracy', []):\n",
    "    if round_num not in distributed_acc_by_round:\n",
    "        distributed_acc_by_round[round_num] = []\n",
    "    distributed_acc_by_round[round_num].append(acc)\n",
    "acc_rounds_md = sorted(distributed_acc_by_round.keys())\n",
    "acc_values_md = [np.mean(distributed_acc_by_round[r]) for r in acc_rounds_md]\n",
    "\n",
    "plt.plot(acc_rounds, acc_values_centralized, marker='o', color='blue', label='Centralized Accuracy', linewidth=2, linestyle='--')\n",
    "# plt.plot(acc_rounds_md, acc_values_md, marker='o', color='green', label='Distributed Accuracy', linewidth=2, linestyle='--')\n",
    "\n",
    "plt.xlabel('Round')\n",
    "plt.ylabel('Accuracy')\n",
    "plt.title('Accuracy Over Rounds (Per Client by PID)')\n",
    "plt.legend(bbox_to_anchor=(1.05, 1), loc='upper left')\n",
    "plt.grid(True)\n",
    "plt.tight_layout()\n",
    "plt.show()"
   ]
  },
  {
   "cell_type": "code",
   "execution_count": null,
   "id": "585d568e-4a2a-4cae-b415-cf9dd2d39f81",
   "metadata": {
    "jupyter": {
     "source_hidden": true
    }
   },
   "outputs": [],
   "source": [
    "# ========= 訓練結束後繪圖 =========\n",
    "\n",
    "# 假設 NUM_ROUNDS 為全局訓練輪數\n",
    "rounds = list(range(1, NUM_ROUNDS + 1))\n",
    "metrics_to_plot = ['reputation', 'short_term_rs', 'long_term_rs', 'similarity', 'shapley']\n",
    "\n",
    "# 從策略中提取 metric_history\n",
    "metric_history = strategy.metric_history\n",
    "\n",
    "for metric in metrics_to_plot:\n",
    "    plt.figure(figsize=(10, 6))\n",
    "    for partition_id, metrics_dict in metric_history.items():\n",
    "        # if partition_id == -1:\n",
    "        #     continue\n",
    "        values = metrics_dict[metric]\n",
    "        # 若某 client 的紀錄少於 NUM_ROUNDS (代表部分 round 沒有更新)，則補上最後一次的值\n",
    "        if len(values) < NUM_ROUNDS:\n",
    "            last_val = values[-1] if values else 0.0\n",
    "            values = values + [last_val] * (NUM_ROUNDS - len(values))\n",
    "        plt.plot(rounds, values, marker='o', label=f'Partition {partition_id}')\n",
    "    plt.xlabel('Round')\n",
    "    plt.ylabel(metric)\n",
    "    plt.title(f'{metric} over Rounds')\n",
    "    plt.legend()\n",
    "    plt.grid(True)\n",
    "    plt.show()\n"
   ]
  },
  {
   "cell_type": "code",
   "execution_count": null,
   "id": "749f9fd9-7ffa-4181-ae5c-8cdc932d2238",
   "metadata": {},
   "outputs": [],
   "source": [
    "history.metrics_centralized"
   ]
  },
  {
   "cell_type": "code",
   "execution_count": null,
   "id": "fd56fd8e-8a52-40ec-820a-eab0a4822100",
   "metadata": {},
   "outputs": [],
   "source": []
  }
 ],
 "metadata": {
  "kernelspec": {
   "display_name": "flenv",
   "language": "python",
   "name": "flenv"
  },
  "language_info": {
   "codemirror_mode": {
    "name": "ipython",
    "version": 3
   },
   "file_extension": ".py",
   "mimetype": "text/x-python",
   "name": "python",
   "nbconvert_exporter": "python",
   "pygments_lexer": "ipython3",
   "version": "3.10.12"
  }
 },
 "nbformat": 4,
 "nbformat_minor": 5
}
