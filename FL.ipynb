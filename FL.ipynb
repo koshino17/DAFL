{
 "cells": [
  {
   "cell_type": "markdown",
   "id": "b3527505-b662-410c-a72c-737c641ddc76",
   "metadata": {},
   "source": [
    "# *import*"
   ]
  },
  {
   "cell_type": "code",
   "execution_count": 1,
   "id": "b8221220-ad85-4fe2-b80a-bad9892698b2",
   "metadata": {},
   "outputs": [
    {
     "name": "stdout",
     "output_type": "stream",
     "text": [
      "Training on cuda\n",
      "Flower 1.17.0 / PyTorch 2.5.1+cu124\n"
     ]
    }
   ],
   "source": [
    "# from collections import OrderedDict\n",
    "from typing import List, Tuple, Callable\n",
    "import matplotlib.pyplot as plt\n",
    "from datasets.utils.logging import enable_progress_bar\n",
    "enable_progress_bar()\n",
    "import time\n",
    "import threading\n",
    "import random\n",
    "import os\n",
    "import torch\n",
    "\n",
    "\n",
    "import flwr\n",
    "from flwr.client import Client, ClientApp\n",
    "from flwr.common import ndarrays_to_parameters, Context, Metrics\n",
    "from flwr.server import ServerApp, ServerConfig, ServerAppComponents\n",
    "\n",
    "from flwr.simulation import run_simulation\n",
    "\n",
    "from utils.model_CNN import Net\n",
    "from utils.model_CNN import SVHNNet\n",
    "from utils.model_CNN import ConvNet\n",
    "from utils.train_test import test\n",
    "from utils.loaddata import get_cached_datasets\n",
    "from utils.others import get_parameters, set_parameters, evaluate_and_plot_confusion_matrix, weighted_average\n",
    "\n",
    "\n",
    "from utils.history import history\n",
    "from utils.client import FlowerClient\n",
    "from utils.clientmanger import DynamicClientManager\n",
    "from utils.HRFA_strategy import HRFA\n",
    "from utils.other_strategy import AdaFedAdamStrategy, MyFedAvg\n",
    "from utils.dynamic_controll import background_online_offline_simulator\n",
    "\n",
    "\n",
    "DEVICE = \"cuda\" if torch.cuda.is_available() else \"cpu\"\n",
    "print(f\"Training on {DEVICE}\")\n",
    "print(f\"Flower {flwr.__version__} / PyTorch {torch.__version__}\")\n",
    "# disable_progress_bar()"
   ]
  },
  {
   "cell_type": "markdown",
   "id": "4631e76d-e13c-44a2-b9b0-c45285e07b41",
   "metadata": {},
   "source": [
    "# **Load Data**"
   ]
  },
  {
   "cell_type": "code",
   "execution_count": 2,
   "id": "b4810bb5-023d-4117-95be-facb6024eb7a",
   "metadata": {},
   "outputs": [],
   "source": [
    "NUM_CLIENTS = 10\n",
    "NUM_ROUNDS = 200\n",
    "NUM_EPOCHS = 5\n",
    "ATTACK_TYPE = \"UPA\"\n",
    "DFL = False\n",
    "STRATEGY = \"HRFA\"  # 可選 \"FedAvg\", \"AdaFedAdam\", \"HRFA\"\n",
    "\n",
    "DATASET = \"mnist\" #\"mnist\", \"cifar10\", \"svhn\", \"fashion_mnist\"\n",
    "\n",
    "# 攻擊者模式設定\n",
    "ATTACK_MODE = \"progressive\"  # \"fixed\": 固定攻擊者數量, \"progressive\": 攻擊者漸漸變多\n",
    "ATTACK_INCREASE_ROUNDS = NUM_ROUNDS*0.9  # 僅在 progressive 模式下使用：在前多少輪中逐漸增加攻擊者\n",
    "\n",
    "#dynamic experiment\n",
    "if DATASET == \"cifar10\":\n",
    "    FRACTION = 0.6\n",
    "    Q = 0.7\n",
    "    ATTACK_NUMS = NUM_CLIENTS*0.28\n",
    "    # ATTACK_NUMS = 0\n",
    "    Net = ConvNet\n",
    "elif DATASET == \"fashion_mnist\":\n",
    "    FRACTION = 0.5\n",
    "    Q = 0.8\n",
    "    ATTACK_NUMS = NUM_CLIENTS*0.28\n",
    "    # ATTACK_NUMS = 0\n",
    "    Net = ConvNet\n",
    "#static experiment\n",
    "elif DATASET == \"mnist\":\n",
    "    FRACTION = 1.0\n",
    "    Q = 1.0\n",
    "    ATTACK_NUMS = (NUM_CLIENTS//2)-1\n",
    "    # ATTACK_NUMS = 0\n",
    "    Net = Net\n",
    "else :\n",
    "    FRACTION = 1.0\n",
    "    Q = 0.9\n",
    "    ATTACK_NUMS = (NUM_CLIENTS//2)-1\n",
    "    # ATTACK_NUMS = 0\n",
    "    Net = SVHNNet\n"
   ]
  },
  {
   "cell_type": "code",
   "execution_count": 3,
   "id": "ce358003-74fa-486d-b213-0701788603bf",
   "metadata": {
    "scrolled": true
   },
   "outputs": [],
   "source": [
    "# trainloader, _, _ = get_cached_datasets(partition_id=0, dataset_name=DATASET, num_partitions=NUM_CLIENTS, q=Q)\n",
    "# batch = next(iter(trainloader))\n",
    "# images, labels = batch[\"img\"], batch[\"label\"]\n",
    "\n",
    "# # Reshape and convert images to a NumPy array\n",
    "# # matplotlib requires images with the shape (height, width, 3)\n",
    "# images = images.permute(0, 2, 3, 1).numpy()\n",
    "\n",
    "# # Denormalize\n",
    "# images = images / 2 + 0.5\n",
    "\n",
    "# # Create a figure and a grid of subplots\n",
    "# fig, axs = plt.subplots(4, 8, figsize=(12, 6))\n",
    "\n",
    "# # Loop over the images and plot them\n",
    "# for i, ax in enumerate(axs.flat):\n",
    "#     ax.imshow(images[i])\n",
    "#     ax.set_title(trainloader.dataset.features[\"label\"].int2str([labels[i]])[0])\n",
    "    \n",
    "#     ax.axis(\"off\")\n",
    "\n",
    "# # Show the plot\n",
    "# fig.tight_layout()\n",
    "# plt.show()"
   ]
  },
  {
   "cell_type": "code",
   "execution_count": 4,
   "id": "f9ed8600-7852-40c0-92de-5cd692982924",
   "metadata": {},
   "outputs": [],
   "source": [
    "current_server_round = 0\n",
    "new_round_event = threading.Event()\n",
    "\n",
    "def get_current_round() -> int:\n",
    "    return current_server_round"
   ]
  },
  {
   "cell_type": "markdown",
   "id": "cdb17697-f889-43f4-a008-58c9a879c4db",
   "metadata": {},
   "source": [
    "# **Client**"
   ]
  },
  {
   "cell_type": "code",
   "execution_count": 5,
   "id": "b6d04ff2",
   "metadata": {},
   "outputs": [],
   "source": [
    "def client_fn(context: Context) -> Client:\n",
    "    # Load model\n",
    "    net = Net().to(DEVICE, memory_format=torch.channels_last)\n",
    "    \n",
    "\t# Read the node_config to fetch data partition associated to this node\n",
    "    partition_id = str(context.node_config[\"partition-id\"])  # 強制轉換為字串\n",
    "    num_partitions = context.node_config[\"num-partitions\"]\n",
    "    trainloader, valloader, _ = get_cached_datasets(partition_id, dataset_name=DATASET, num_partitions=NUM_CLIENTS, q=Q)\n",
    "\n",
    "    if int(partition_id) < ATTACK_NUMS:\n",
    "        return FlowerClient(partition_id, net, trainloader, valloader, ATTACK_TYPE, ATTACK_NUMS, ATTACK_MODE, ATTACK_INCREASE_ROUNDS).to_client()\n",
    "    else:\n",
    "        return FlowerClient(partition_id, net, trainloader, valloader).to_client()\n",
    "\n",
    "# Create the ClientApp\n",
    "client = ClientApp(client_fn=client_fn)"
   ]
  },
  {
   "cell_type": "markdown",
   "id": "9a2a18bb-d6ee-4a2b-9fda-152b0920b6e3",
   "metadata": {
    "jp-MarkdownHeadingCollapsed": true
   },
   "source": [
    "# **Server**"
   ]
  },
  {
   "cell_type": "markdown",
   "id": "136f6f33-d406-42d3-b1b8-93470e3a292e",
   "metadata": {
    "jp-MarkdownHeadingCollapsed": true
   },
   "source": [
    "### setting"
   ]
  },
  {
   "cell_type": "code",
   "execution_count": 6,
   "id": "bc4a39a0-cc33-40b6-b530-b0eec8d53481",
   "metadata": {},
   "outputs": [],
   "source": [
    "def server_evaluate(server_round, parameters, config):\n",
    "    global current_server_round\n",
    "    # 更新全域變數，讓背景執行緒知道目前是第幾個 round\n",
    "    current_server_round = server_round\n",
    "    \"\"\"Evaluate the global model after each round (不再畫 confusion matrix).\"\"\"\n",
    "    start_time = time.time()  # 記錄開始時間\n",
    "    net = Net().to(DEVICE)\n",
    "    set_parameters(net, parameters)\n",
    "\n",
    "    # 加載測試集\n",
    "    _, _, testloader = get_cached_datasets(0, dataset_name=DATASET, num_partitions=NUM_CLIENTS, q=Q)\n",
    "\n",
    "    # 測試\n",
    "    loss, accuracy = test(net, testloader)\n",
    "    \n",
    "    end_time = time.time()  # 記錄結束時間\n",
    "    round_time = end_time - start_time  # 計算 round 時間\n",
    "    \n",
    "    history.add_loss_centralized(server_round, loss)\n",
    "    history.add_metrics_centralized(server_round, {\"accuracy\": accuracy})\n",
    "\n",
    "    # 只記錄最終模型，不畫 confusion matrix\n",
    "    if server_round == NUM_ROUNDS:  # 最後一輪才返回模型\n",
    "        evaluate_and_plot_confusion_matrix(net, testloader, DEVICE)\n",
    "        return loss, {\"accuracy\": accuracy}\n",
    "    new_round_event.set()\n",
    "    return loss, {\"accuracy\": accuracy}\n"
   ]
  },
  {
   "cell_type": "code",
   "execution_count": 7,
   "id": "a9aeb39b-792d-4750-9cce-60727ad46412",
   "metadata": {},
   "outputs": [],
   "source": [
    "def fit_config(server_round: int):\n",
    "    \"\"\"Return training configuration dict for each round.\n",
    "\n",
    "    Perform two rounds of training with one local epoch, increase to two local\n",
    "    epochs afterwards.\n",
    "    \"\"\"\n",
    "    config = {\n",
    "        \"server_round\": server_round,  # The current round of federated learning\n",
    "        # \"local_epochs\": 1 if server_round < 2 else NUM_EPOCHS,\n",
    "        \"local_epochs\": NUM_EPOCHS,\n",
    "        \"train_mode\": \"lookahead\", #no use\n",
    "    }\n",
    "    return config"
   ]
  },
  {
   "cell_type": "code",
   "execution_count": 8,
   "id": "617e9a1e-16ae-4c34-b3d1-153d2b2daf42",
   "metadata": {
    "jupyter": {
     "source_hidden": true
    }
   },
   "outputs": [
    {
     "name": "stdout",
     "output_type": "stream",
     "text": [
      "Trainable Parameters: 620,810\n",
      "Using HRFA strategy\n"
     ]
    }
   ],
   "source": [
    "params = get_parameters(Net())\n",
    "param_count = sum(p.numel() for p in Net().parameters() if p.requires_grad)\n",
    "print(f\"Trainable Parameters: {param_count:,d}\")\n",
    "\n",
    "if STRATEGY == \"AdaFedAdam\":\n",
    "    print(\"Using AdaFedAdam strategy\")\n",
    "    strategy = AdaFedAdamStrategy(\n",
    "        fraction_fit=FRACTION,\n",
    "        fraction_evaluate=FRACTION,\n",
    "        \n",
    "        min_fit_clients=int(NUM_CLIENTS * FRACTION),  # 確保是整數\n",
    "        min_evaluate_clients=int(NUM_CLIENTS * FRACTION),  # 確保是整數\n",
    "        min_available_clients=int(NUM_CLIENTS * FRACTION),  # 確保是整數\n",
    "\n",
    "        initial_parameters=ndarrays_to_parameters(params),\n",
    "        evaluate_fn=server_evaluate,\n",
    "        evaluate_metrics_aggregation_fn=weighted_average,\n",
    "        on_fit_config_fn=fit_config,\n",
    "        on_evaluate_config_fn=fit_config,\n",
    "        net=Net().to(DEVICE),\n",
    "    )\n",
    "elif STRATEGY == \"FedAvg\":\n",
    "    print(\"Using FedAvg strategy\")\n",
    "    strategy = MyFedAvg(\n",
    "        fraction_fit=FRACTION,\n",
    "        fraction_evaluate=FRACTION,\n",
    "        \n",
    "        min_fit_clients=int(NUM_CLIENTS * FRACTION),  # 確保是整數\n",
    "        min_evaluate_clients=int(NUM_CLIENTS * FRACTION),  # 確保是整數\n",
    "        min_available_clients=int(NUM_CLIENTS * FRACTION),  # 確保是整數\n",
    "\n",
    "        initial_parameters=ndarrays_to_parameters(params),\n",
    "        evaluate_fn=server_evaluate,\n",
    "        evaluate_metrics_aggregation_fn=weighted_average,\n",
    "        on_fit_config_fn=fit_config,\n",
    "        on_evaluate_config_fn=fit_config,\n",
    "    )\n",
    "else:\n",
    "    print(\"Using HRFA strategy\")\n",
    "    strategy = HRFA(\n",
    "        fraction_fit=FRACTION,  # Sample 100% of available clients for training\n",
    "        fraction_evaluate=FRACTION,  # Sample 50% of available clients for evaluation\n",
    "        \n",
    "        min_fit_clients=2,  # Never sample less than 10 clients for training\n",
    "        min_evaluate_clients=2,  # Never sample less than 5 clients for evaluation\n",
    "        min_available_clients=2,  # Wait until all 10 clients are available\n",
    "        \n",
    "        initial_parameters=ndarrays_to_parameters(params),  # Pass initial model parameters\n",
    "        evaluate_fn=server_evaluate,  # 設定 evaluate_fn\n",
    "        evaluate_metrics_aggregation_fn=weighted_average,  # <-- pass the metric aggregation function\n",
    "        on_fit_config_fn=fit_config,  # Pass the fit_config function\n",
    "        on_evaluate_config_fn=fit_config,\n",
    "        net=Net().to(DEVICE),\n",
    "        # testloader = testloader,\n",
    "    )\n"
   ]
  },
  {
   "cell_type": "markdown",
   "id": "ff5ddd41-206c-4fe8-8472-a11edf2f146b",
   "metadata": {},
   "source": [
    "### Define Server"
   ]
  },
  {
   "cell_type": "code",
   "execution_count": 9,
   "id": "3f98d247-b68d-4470-af09-7b1c0f98b2c1",
   "metadata": {},
   "outputs": [],
   "source": [
    "def server_fn(context: Context) -> ServerAppComponents:\n",
    "    \"\"\"Construct components that set the ServerApp behaviour.\"\"\"\n",
    "    global testloader\n",
    "\n",
    "    # 設定 ServerConfig，如同你的程式碼\n",
    "    config = ServerConfig(num_rounds=NUM_ROUNDS)\n",
    "\n",
    "    # 建立動態管理器\n",
    "    client_manager = DynamicClientManager()\n",
    "        \n",
    "    # 建立並啟動背景執行緒，模擬客戶端動態上/下線\n",
    "    simulator_thread = threading.Thread(\n",
    "        target=background_online_offline_simulator,\n",
    "        args=(client_manager, get_current_round, new_round_event, 0.5, 0.5, DFL),  # interval=30秒, toggle_rate=0.3\n",
    "        daemon=True  # 設 daemon=True 可以在主程式結束時自動退出\n",
    "    )\n",
    "    simulator_thread.start()\n",
    "\n",
    "    return ServerAppComponents(\n",
    "        strategy=strategy,\n",
    "        config=config,\n",
    "        client_manager=client_manager,\n",
    "    )\n",
    "\n",
    "\n",
    "# Create the ServerApp\n",
    "server = ServerApp(server_fn=server_fn)"
   ]
  },
  {
   "cell_type": "markdown",
   "id": "f1333011-636d-49e3-bc27-6a951e195d70",
   "metadata": {},
   "source": [
    "# *Run simulation*"
   ]
  },
  {
   "cell_type": "markdown",
   "id": "e2470b60-4411-40cd-8d32-931de75621a4",
   "metadata": {},
   "source": [
    "### Run setting"
   ]
  },
  {
   "cell_type": "code",
   "execution_count": 10,
   "id": "0647b70b-63d4-43c3-aef6-8b2521f03c18",
   "metadata": {
    "jupyter": {
     "source_hidden": true
    }
   },
   "outputs": [],
   "source": [
    "# Specify the resources each of your clients need\n",
    "# By default, each client will be allocated 1x CPU and 0x GPUs\n",
    "backend_config = {\"client_resources\": {\"num_cpus\": 1, \"num_gpus\": 0.0}}\n",
    "\n",
    "# When running on GPU, assign an entire GPU for each client\n",
    "if DEVICE == \"cuda\":\n",
    "    backend_config = {\"client_resources\": {\"num_cpus\": 2 , \n",
    "                                           \"num_gpus\": 0.2 #if (NUM_CLIENTS*FRACTION)>40 else 2/(NUM_CLIENTS*FRACTION)\n",
    "                                          }}\n",
    "    # Refer to our Flower framework documentation for more details about Flower simulations\n",
    "    # and how to set up the `backend_config`"
   ]
  },
  {
   "cell_type": "code",
   "execution_count": null,
   "id": "3a909537-af2e-43fa-acb4-8eb1707aa63f",
   "metadata": {
    "jupyter": {
     "source_hidden": true
    },
    "notebookRunGroups": {
     "groupValue": "1"
    },
    "scrolled": true
   },
   "outputs": [
    {
     "name": "stderr",
     "output_type": "stream",
     "text": [
      "\u001b[92mINFO \u001b[0m:      Starting Flower ServerApp, config: num_rounds=200, no round_timeout\n",
      "\u001b[92mINFO \u001b[0m:      \n",
      "\u001b[92mINFO \u001b[0m:      [INIT]\n",
      "\u001b[92mINFO \u001b[0m:      Using initial global parameters provided by strategy\n",
      "\u001b[92mINFO \u001b[0m:      Starting evaluation of initial global parameters\n"
     ]
    },
    {
     "name": "stdout",
     "output_type": "stream",
     "text": [
      "[Status] Client 17404053802592907449 已上線 ✓✓✓✓✓✓✓✓✓✓✓✓✓✓✓✓✓✓✓✓✓✓✓✓✓✓✓✓✓✓✓\n",
      "[Status] Client 7109502038303752640 已上線 ✓✓✓✓✓✓✓✓✓✓✓✓✓✓✓✓✓✓✓✓✓✓✓✓✓✓✓✓✓✓✓\n",
      "[Status] Client 16857353847917058018 已上線 ✓✓✓✓✓✓✓✓✓✓✓✓✓✓✓✓✓✓✓✓✓✓✓✓✓✓✓✓✓✓✓\n",
      "[Status] Client 12275152569355108357 已上線 ✓✓✓✓✓✓✓✓✓✓✓✓✓✓✓✓✓✓✓✓✓✓✓✓✓✓✓✓✓✓✓\n",
      "[Status] Client 14109915122520784357 已上線 ✓✓✓✓✓✓✓✓✓✓✓✓✓✓✓✓✓✓✓✓✓✓✓✓✓✓✓✓✓✓✓\n",
      "[Status] Client 14375932597445359172 已上線 ✓✓✓✓✓✓✓✓✓✓✓✓✓✓✓✓✓✓✓✓✓✓✓✓✓✓✓✓✓✓✓\n",
      "[Status] Client 1623556211981120490 已上線 ✓✓✓✓✓✓✓✓✓✓✓✓✓✓✓✓✓✓✓✓✓✓✓✓✓✓✓✓✓✓✓\n",
      "[Status] Client 14973552743668958058 已上線 ✓✓✓✓✓✓✓✓✓✓✓✓✓✓✓✓✓✓✓✓✓✓✓✓✓✓✓✓✓✓✓\n",
      "[Status] Client 16638695129468460329 已上線 ✓✓✓✓✓✓✓✓✓✓✓✓✓✓✓✓✓✓✓✓✓✓✓✓✓✓✓✓✓✓✓\n",
      "[Status] Client 12458978761388628182 已上線 ✓✓✓✓✓✓✓✓✓✓✓✓✓✓✓✓✓✓✓✓✓✓✓✓✓✓✓✓✓✓✓\n",
      "[Wed Jul  9 02:18:25 2025] 初始化聯邦數據集: mnist, 分區數=10, q=1.0\n"
     ]
    },
    {
     "name": "stderr",
     "output_type": "stream",
     "text": [
      "\u001b[92mINFO \u001b[0m:      initial parameters (loss, other metrics): 0.03617859191894531, {'accuracy': 0.1005}\n",
      "\u001b[92mINFO \u001b[0m:      \n",
      "\u001b[92mINFO \u001b[0m:      [ROUND 1]\n",
      "\u001b[92mINFO \u001b[0m:      configure_fit: strategy sampled 10 clients (out of 10)\n"
     ]
    },
    {
     "name": "stdout",
     "output_type": "stream",
     "text": [
      "user online: 10 offline: 0\n",
      "\u001b[36m(ClientAppActor pid=666345)\u001b[0m [Wed Jul  9 02:18:59 2025] 初始化聯邦數據集: mnist, 分區數=10, q=1.0\n"
     ]
    },
    {
     "name": "stderr",
     "output_type": "stream",
     "text": [
      "\u001b[92mINFO \u001b[0m:      aggregate_fit: received 10 results and 0 failures\n"
     ]
    },
    {
     "name": "stdout",
     "output_type": "stream",
     "text": [
      "[Wed Jul  9 02:19:35 2025] 初始化聯邦數據集: mnist, 分區數=10, q=0.9\n",
      "[INFO] trained_partitions: {'7', '6', '8', '4', '2', '1', '5', '3', '0', '9'}\n",
      "[INFO] shapley_values: {'12458978761388628182': 0.0, '16638695129468460329': 1.0, '12275152569355108357': np.float64(0.30726914414626333), '14109915122520784357': 0.0, '16857353847917058018': np.float64(0.3059745692928079), '17404053802592907449': 0.0, '7109502038303752640': np.float64(0.39308694419466444), '1623556211981120490': np.float64(0.8155169040551699), '14375932597445359172': np.float64(0.2925277164906795), '14973552743668958058': np.float64(0.15370231696708717)}\n"
     ]
    },
    {
     "name": "stderr",
     "output_type": "stream",
     "text": [
      "\u001b[92mINFO \u001b[0m:      fit progress: (1, 0.037193814086914065, {'accuracy': 0.0954}, 234.49989719799487)\n",
      "\u001b[92mINFO \u001b[0m:      configure_evaluate: strategy sampled 10 clients (out of 10)\n"
     ]
    },
    {
     "name": "stdout",
     "output_type": "stream",
     "text": [
      "user online: 10 offline: 0\n"
     ]
    },
    {
     "name": "stderr",
     "output_type": "stream",
     "text": [
      "\u001b[92mINFO \u001b[0m:      aggregate_evaluate: received 10 results and 0 failures\n",
      "\u001b[92mINFO \u001b[0m:      \n",
      "\u001b[92mINFO \u001b[0m:      [ROUND 2]\n",
      "\u001b[92mINFO \u001b[0m:      configure_fit: strategy sampled 10 clients (out of 10)\n",
      "\u001b[92mINFO \u001b[0m:      aggregate_fit: received 10 results and 0 failures\n"
     ]
    },
    {
     "name": "stdout",
     "output_type": "stream",
     "text": [
      "[INFO] trained_partitions: {'7', '6', '8', '4', '2', '1', '5', '3', '0', '9'}\n",
      "[INFO] shapley_values: {'14375932597445359172': np.float64(0.21873500738561558), '14973552743668958058': np.float64(0.2925906831430703), '17404053802592907449': 0.0, '14109915122520784357': 0.0, '12458978761388628182': 0.0, '7109502038303752640': np.float64(0.02738656511412411), '12275152569355108357': np.float64(0.25912593792916694), '16857353847917058018': np.float64(0.04297846036134552), '1623556211981120490': 1.0, '16638695129468460329': np.float64(0.031624227816478584)}\n"
     ]
    },
    {
     "name": "stderr",
     "output_type": "stream",
     "text": [
      "\u001b[92mINFO \u001b[0m:      fit progress: (2, 0.04663866882324219, {'accuracy': 0.098}, 411.12118067700067)\n",
      "\u001b[92mINFO \u001b[0m:      configure_evaluate: strategy sampled 10 clients (out of 10)\n"
     ]
    },
    {
     "name": "stdout",
     "output_type": "stream",
     "text": [
      "user online: 10 offline: 0\n"
     ]
    },
    {
     "name": "stderr",
     "output_type": "stream",
     "text": [
      "\u001b[92mINFO \u001b[0m:      aggregate_evaluate: received 10 results and 0 failures\n",
      "\u001b[92mINFO \u001b[0m:      \n",
      "\u001b[92mINFO \u001b[0m:      [ROUND 3]\n",
      "\u001b[92mINFO \u001b[0m:      configure_fit: strategy sampled 10 clients (out of 10)\n",
      "\u001b[92mINFO \u001b[0m:      aggregate_fit: received 10 results and 0 failures\n"
     ]
    },
    {
     "name": "stdout",
     "output_type": "stream",
     "text": [
      "[INFO] trained_partitions: {'7', '6', '8', '2', '4', '1', '5', '3', '0', '9'}\n",
      "[INFO] shapley_values: {'14973552743668958058': np.float64(0.510850386177203), '12458978761388628182': np.float64(0.531215053635581), '7109502038303752640': 0.0, '14109915122520784357': 0.0, '16857353847917058018': 0.0, '1623556211981120490': 0.0, '16638695129468460329': 1.0, '14375932597445359172': np.float64(0.28938615058295253), '17404053802592907449': 0.0, '12275152569355108357': np.float64(0.538185279422029)}\n"
     ]
    },
    {
     "name": "stderr",
     "output_type": "stream",
     "text": [
      "\u001b[92mINFO \u001b[0m:      fit progress: (3, 0.09445443153381347, {'accuracy': 0.0958}, 599.3181903829973)\n",
      "\u001b[92mINFO \u001b[0m:      configure_evaluate: strategy sampled 10 clients (out of 10)\n"
     ]
    },
    {
     "name": "stdout",
     "output_type": "stream",
     "text": [
      "user online: 10 offline: 0\n"
     ]
    },
    {
     "name": "stderr",
     "output_type": "stream",
     "text": [
      "\u001b[92mINFO \u001b[0m:      aggregate_evaluate: received 10 results and 0 failures\n",
      "\u001b[92mINFO \u001b[0m:      \n",
      "\u001b[92mINFO \u001b[0m:      [ROUND 4]\n",
      "\u001b[92mINFO \u001b[0m:      configure_fit: strategy sampled 10 clients (out of 10)\n",
      "\u001b[92mINFO \u001b[0m:      aggregate_fit: received 10 results and 0 failures\n"
     ]
    },
    {
     "name": "stdout",
     "output_type": "stream",
     "text": [
      "[INFO] trained_partitions: {'7', '6', '8', '2', '4', '1', '5', '3', '0', '9'}\n",
      "[INFO] shapley_values: {'14375932597445359172': np.float64(0.6920199080817562), '16857353847917058018': np.float64(0.7814384574702392), '17404053802592907449': 0.0, '14109915122520784357': 0.0, '7109502038303752640': np.float64(0.5697674340954448), '12458978761388628182': 1.0, '12275152569355108357': 0.0, '16638695129468460329': 0.0, '14973552743668958058': 0.0, '1623556211981120490': np.float64(0.9600985786083363)}\n"
     ]
    },
    {
     "name": "stderr",
     "output_type": "stream",
     "text": [
      "\u001b[92mINFO \u001b[0m:      fit progress: (4, 0.1370716552734375, {'accuracy': 0.1079}, 780.6158113550046)\n",
      "\u001b[92mINFO \u001b[0m:      configure_evaluate: strategy sampled 10 clients (out of 10)\n"
     ]
    },
    {
     "name": "stdout",
     "output_type": "stream",
     "text": [
      "user online: 10 offline: 0\n"
     ]
    },
    {
     "name": "stderr",
     "output_type": "stream",
     "text": [
      "\u001b[92mINFO \u001b[0m:      aggregate_evaluate: received 10 results and 0 failures\n",
      "\u001b[92mINFO \u001b[0m:      \n",
      "\u001b[92mINFO \u001b[0m:      [ROUND 5]\n",
      "\u001b[92mINFO \u001b[0m:      configure_fit: strategy sampled 10 clients (out of 10)\n",
      "\u001b[92mINFO \u001b[0m:      aggregate_fit: received 10 results and 0 failures\n"
     ]
    },
    {
     "name": "stdout",
     "output_type": "stream",
     "text": [
      "[INFO] trained_partitions: {'7', '6', '8', '2', '4', '1', '5', '3', '0', '9'}\n",
      "[INFO] shapley_values: {'7109502038303752640': 0.0, '17404053802592907449': np.float64(0.1096030527816144), '14973552743668958058': 0.0, '12275152569355108357': 0.0, '14109915122520784357': np.float64(0.07409561587602566), '1623556211981120490': 0.0, '16638695129468460329': 0.0, '14375932597445359172': 1.0, '16857353847917058018': np.float64(0.14129585285430535), '12458978761388628182': 0.0}\n"
     ]
    },
    {
     "name": "stderr",
     "output_type": "stream",
     "text": [
      "\u001b[92mINFO \u001b[0m:      fit progress: (5, 0.13912024307250975, {'accuracy': 0.1188}, 962.0804484229884)\n",
      "\u001b[92mINFO \u001b[0m:      configure_evaluate: strategy sampled 10 clients (out of 10)\n"
     ]
    },
    {
     "name": "stdout",
     "output_type": "stream",
     "text": [
      "user online: 10 offline: 0\n"
     ]
    },
    {
     "name": "stderr",
     "output_type": "stream",
     "text": [
      "\u001b[92mINFO \u001b[0m:      aggregate_evaluate: received 10 results and 0 failures\n",
      "\u001b[92mINFO \u001b[0m:      \n",
      "\u001b[92mINFO \u001b[0m:      [ROUND 6]\n",
      "\u001b[92mINFO \u001b[0m:      configure_fit: strategy sampled 10 clients (out of 10)\n",
      "\u001b[92mINFO \u001b[0m:      aggregate_fit: received 10 results and 0 failures\n"
     ]
    },
    {
     "name": "stdout",
     "output_type": "stream",
     "text": [
      "[INFO] trained_partitions: {'7', '6', '8', '4', '2', '1', '5', '3', '0', '9'}\n",
      "[INFO] shapley_values: {'17404053802592907449': np.float64(0.03563372003256545), '12275152569355108357': 0.0, '16857353847917058018': 0.0, '12458978761388628182': np.float64(0.623874242859014), '1623556211981120490': np.float64(0.62613319537143), '14973552743668958058': 0.0, '14109915122520784357': np.float64(0.27848470981438495), '14375932597445359172': np.float64(0.7188233660911514), '16638695129468460329': 1.0, '7109502038303752640': 0.0}\n"
     ]
    },
    {
     "name": "stderr",
     "output_type": "stream",
     "text": [
      "\u001b[92mINFO \u001b[0m:      fit progress: (6, 0.07333973121643067, {'accuracy': 0.1135}, 1144.4162917049835)\n",
      "\u001b[92mINFO \u001b[0m:      configure_evaluate: strategy sampled 10 clients (out of 10)\n"
     ]
    },
    {
     "name": "stdout",
     "output_type": "stream",
     "text": [
      "user online: 10 offline: 0\n"
     ]
    },
    {
     "name": "stderr",
     "output_type": "stream",
     "text": [
      "\u001b[92mINFO \u001b[0m:      aggregate_evaluate: received 10 results and 0 failures\n",
      "\u001b[92mINFO \u001b[0m:      \n",
      "\u001b[92mINFO \u001b[0m:      [ROUND 7]\n",
      "\u001b[92mINFO \u001b[0m:      configure_fit: strategy sampled 10 clients (out of 10)\n",
      "\u001b[92mINFO \u001b[0m:      aggregate_fit: received 10 results and 0 failures\n"
     ]
    },
    {
     "name": "stdout",
     "output_type": "stream",
     "text": [
      "[INFO] trained_partitions: {'7', '6', '8', '4', '2', '1', '5', '3', '0', '9'}\n",
      "[INFO] shapley_values: {'12275152569355108357': np.float64(0.5850025377977517), '17404053802592907449': 0.0, '14109915122520784357': 1.0, '14973552743668958058': np.float64(0.061764131656676276), '14375932597445359172': np.float64(0.5555512050018198), '16857353847917058018': 0.0, '16638695129468460329': np.float64(0.19437215021455245), '12458978761388628182': np.float64(0.05973074514896792), '7109502038303752640': 0.0, '1623556211981120490': np.float64(0.46160814611538326)}\n"
     ]
    },
    {
     "name": "stderr",
     "output_type": "stream",
     "text": [
      "\u001b[92mINFO \u001b[0m:      fit progress: (7, 0.04911382827758789, {'accuracy': 0.098}, 1332.9712770250044)\n",
      "\u001b[92mINFO \u001b[0m:      configure_evaluate: strategy sampled 10 clients (out of 10)\n"
     ]
    },
    {
     "name": "stdout",
     "output_type": "stream",
     "text": [
      "user online: 10 offline: 0\n"
     ]
    },
    {
     "name": "stderr",
     "output_type": "stream",
     "text": [
      "\u001b[92mINFO \u001b[0m:      aggregate_evaluate: received 10 results and 0 failures\n",
      "\u001b[92mINFO \u001b[0m:      \n",
      "\u001b[92mINFO \u001b[0m:      [ROUND 8]\n",
      "\u001b[92mINFO \u001b[0m:      configure_fit: strategy sampled 10 clients (out of 10)\n",
      "\u001b[92mINFO \u001b[0m:      aggregate_fit: received 10 results and 0 failures\n"
     ]
    },
    {
     "name": "stdout",
     "output_type": "stream",
     "text": [
      "[INFO] trained_partitions: {'7', '6', '8', '4', '2', '1', '5', '3', '0', '9'}\n",
      "[INFO] shapley_values: {'17404053802592907449': np.float64(0.11546974772974271), '14109915122520784357': np.float64(0.09765796221349766), '16638695129468460329': np.float64(0.37719736592413405), '14375932597445359172': np.float64(0.2818344437681796), '16857353847917058018': np.float64(0.489236510412448), '12275152569355108357': 0.0, '1623556211981120490': np.float64(0.35395508233114337), '12458978761388628182': 0.0, '7109502038303752640': 1.0, '14973552743668958058': 0.0}\n"
     ]
    },
    {
     "name": "stderr",
     "output_type": "stream",
     "text": [
      "\u001b[92mINFO \u001b[0m:      fit progress: (8, 0.03918749237060547, {'accuracy': 0.0958}, 1514.6006723530008)\n",
      "\u001b[92mINFO \u001b[0m:      configure_evaluate: strategy sampled 10 clients (out of 10)\n"
     ]
    },
    {
     "name": "stdout",
     "output_type": "stream",
     "text": [
      "user online: 10 offline: 0\n"
     ]
    },
    {
     "name": "stderr",
     "output_type": "stream",
     "text": [
      "\u001b[92mINFO \u001b[0m:      aggregate_evaluate: received 10 results and 0 failures\n",
      "\u001b[92mINFO \u001b[0m:      \n",
      "\u001b[92mINFO \u001b[0m:      [ROUND 9]\n",
      "\u001b[92mINFO \u001b[0m:      configure_fit: strategy sampled 10 clients (out of 10)\n",
      "\u001b[92mINFO \u001b[0m:      aggregate_fit: received 10 results and 0 failures\n"
     ]
    },
    {
     "name": "stdout",
     "output_type": "stream",
     "text": [
      "[INFO] trained_partitions: {'7', '6', '8', '2', '4', '1', '5', '3', '0', '9'}\n",
      "[INFO] shapley_values: {'12275152569355108357': np.float64(0.1698649139793524), '16638695129468460329': 0.0, '17404053802592907449': np.float64(0.2192427793332149), '7109502038303752640': 0.0, '1623556211981120490': np.float64(0.03735890752531439), '14973552743668958058': 0.0, '16857353847917058018': np.float64(0.6024025951975635), '12458978761388628182': 0.0, '14375932597445359172': 0.0, '14109915122520784357': 1.0}\n"
     ]
    },
    {
     "name": "stderr",
     "output_type": "stream",
     "text": [
      "\u001b[92mINFO \u001b[0m:      fit progress: (9, 0.036263157653808595, {'accuracy': 0.2331}, 1696.4069511249836)\n",
      "\u001b[92mINFO \u001b[0m:      configure_evaluate: strategy sampled 10 clients (out of 10)\n"
     ]
    },
    {
     "name": "stdout",
     "output_type": "stream",
     "text": [
      "user online: 10 offline: 0\n"
     ]
    },
    {
     "name": "stderr",
     "output_type": "stream",
     "text": [
      "\u001b[92mINFO \u001b[0m:      aggregate_evaluate: received 10 results and 0 failures\n",
      "\u001b[92mINFO \u001b[0m:      \n",
      "\u001b[92mINFO \u001b[0m:      [ROUND 10]\n",
      "\u001b[92mINFO \u001b[0m:      configure_fit: strategy sampled 10 clients (out of 10)\n",
      "\u001b[92mINFO \u001b[0m:      aggregate_fit: received 10 results and 0 failures\n"
     ]
    },
    {
     "name": "stdout",
     "output_type": "stream",
     "text": [
      "[INFO] trained_partitions: {'7', '6', '8', '2', '4', '1', '5', '3', '0', '9'}\n",
      "[INFO] shapley_values: {'7109502038303752640': 0.0, '14109915122520784357': 1.0, '16638695129468460329': np.float64(0.35751816012364623), '14973552743668958058': 0.0, '12275152569355108357': 0.0, '12458978761388628182': 0.0, '14375932597445359172': 0.0, '1623556211981120490': np.float64(0.17415249269454347), '17404053802592907449': np.float64(0.26750540141375156), '16857353847917058018': np.float64(0.5931137193895442)}\n"
     ]
    },
    {
     "name": "stderr",
     "output_type": "stream",
     "text": [
      "\u001b[92mINFO \u001b[0m:      fit progress: (10, 0.03481698455810547, {'accuracy': 0.1542}, 1878.7325312260073)\n",
      "\u001b[92mINFO \u001b[0m:      configure_evaluate: strategy sampled 10 clients (out of 10)\n"
     ]
    },
    {
     "name": "stdout",
     "output_type": "stream",
     "text": [
      "user online: 10 offline: 0\n"
     ]
    },
    {
     "name": "stderr",
     "output_type": "stream",
     "text": [
      "\u001b[92mINFO \u001b[0m:      aggregate_evaluate: received 10 results and 0 failures\n",
      "\u001b[92mINFO \u001b[0m:      \n",
      "\u001b[92mINFO \u001b[0m:      [ROUND 11]\n",
      "\u001b[92mINFO \u001b[0m:      configure_fit: strategy sampled 10 clients (out of 10)\n",
      "\u001b[92mINFO \u001b[0m:      aggregate_fit: received 10 results and 0 failures\n"
     ]
    },
    {
     "name": "stdout",
     "output_type": "stream",
     "text": [
      "[INFO] trained_partitions: {'7', '6', '8', '4', '2', '1', '5', '3', '0', '9'}\n",
      "[INFO] shapley_values: {'14973552743668958058': 0.0, '12458978761388628182': np.float64(0.1685881018353128), '1623556211981120490': 0.0, '17404053802592907449': np.float64(0.3337385829303622), '16638695129468460329': np.float64(0.7204560128760468), '12275152569355108357': np.float64(0.34036744170072514), '14375932597445359172': 0.0, '7109502038303752640': 0.0, '14109915122520784357': 0.0, '16857353847917058018': 1.0}\n"
     ]
    },
    {
     "name": "stderr",
     "output_type": "stream",
     "text": [
      "\u001b[92mINFO \u001b[0m:      fit progress: (11, 0.035174009704589844, {'accuracy': 0.3029}, 2065.7346792379976)\n",
      "\u001b[92mINFO \u001b[0m:      configure_evaluate: strategy sampled 10 clients (out of 10)\n"
     ]
    },
    {
     "name": "stdout",
     "output_type": "stream",
     "text": [
      "user online: 10 offline: 0\n"
     ]
    },
    {
     "name": "stderr",
     "output_type": "stream",
     "text": [
      "\u001b[92mINFO \u001b[0m:      aggregate_evaluate: received 10 results and 0 failures\n",
      "\u001b[92mINFO \u001b[0m:      \n",
      "\u001b[92mINFO \u001b[0m:      [ROUND 12]\n",
      "\u001b[92mINFO \u001b[0m:      configure_fit: strategy sampled 10 clients (out of 10)\n",
      "\u001b[92mINFO \u001b[0m:      aggregate_fit: received 10 results and 0 failures\n"
     ]
    },
    {
     "name": "stdout",
     "output_type": "stream",
     "text": [
      "[INFO] trained_partitions: {'7', '6', '8', '2', '4', '1', '5', '3', '0', '9'}\n",
      "[INFO] shapley_values: {'12275152569355108357': 0.0, '16638695129468460329': 0.0, '7109502038303752640': 0.0, '14109915122520784357': 1.0, '16857353847917058018': np.float64(0.5724406603330436), '12458978761388628182': np.float64(0.5242856826791791), '17404053802592907449': np.float64(0.534536958213061), '1623556211981120490': np.float64(0.9767564817268395), '14375932597445359172': np.float64(0.37908457955906216), '14973552743668958058': 0.0}\n"
     ]
    },
    {
     "name": "stderr",
     "output_type": "stream",
     "text": [
      "\u001b[92mINFO \u001b[0m:      fit progress: (12, 0.041263740062713626, {'accuracy': 0.0999}, 2249.1348245769914)\n",
      "\u001b[92mINFO \u001b[0m:      configure_evaluate: strategy sampled 10 clients (out of 10)\n"
     ]
    },
    {
     "name": "stdout",
     "output_type": "stream",
     "text": [
      "user online: 10 offline: 0\n"
     ]
    },
    {
     "name": "stderr",
     "output_type": "stream",
     "text": [
      "\u001b[92mINFO \u001b[0m:      aggregate_evaluate: received 10 results and 0 failures\n",
      "\u001b[92mINFO \u001b[0m:      \n",
      "\u001b[92mINFO \u001b[0m:      [ROUND 13]\n",
      "\u001b[92mINFO \u001b[0m:      configure_fit: strategy sampled 10 clients (out of 10)\n",
      "\u001b[92mINFO \u001b[0m:      aggregate_fit: received 10 results and 0 failures\n"
     ]
    },
    {
     "name": "stdout",
     "output_type": "stream",
     "text": [
      "[INFO] trained_partitions: {'7', '6', '8', '4', '2', '1', '5', '3', '0', '9'}\n",
      "[INFO] shapley_values: {'16857353847917058018': np.float64(0.8582839209933848), '1623556211981120490': 0.0, '16638695129468460329': 1.0, '14375932597445359172': 0.0, '14109915122520784357': np.float64(0.702304190189607), '12275152569355108357': np.float64(0.7361529989438836), '12458978761388628182': 0.0, '14973552743668958058': np.float64(0.01932442212031745), '17404053802592907449': np.float64(0.5537678123216065), '7109502038303752640': 0.0}\n"
     ]
    },
    {
     "name": "stderr",
     "output_type": "stream",
     "text": [
      "\u001b[92mINFO \u001b[0m:      fit progress: (13, 0.0653066635131836, {'accuracy': 0.295}, 2432.1989653769997)\n",
      "\u001b[92mINFO \u001b[0m:      configure_evaluate: strategy sampled 10 clients (out of 10)\n"
     ]
    },
    {
     "name": "stdout",
     "output_type": "stream",
     "text": [
      "user online: 10 offline: 0\n"
     ]
    },
    {
     "name": "stderr",
     "output_type": "stream",
     "text": [
      "\u001b[92mINFO \u001b[0m:      aggregate_evaluate: received 10 results and 0 failures\n",
      "\u001b[92mINFO \u001b[0m:      \n",
      "\u001b[92mINFO \u001b[0m:      [ROUND 14]\n",
      "\u001b[92mINFO \u001b[0m:      configure_fit: strategy sampled 10 clients (out of 10)\n",
      "\u001b[92mINFO \u001b[0m:      aggregate_fit: received 10 results and 0 failures\n"
     ]
    },
    {
     "name": "stdout",
     "output_type": "stream",
     "text": [
      "[INFO] trained_partitions: {'7', '6', '8', '4', '2', '1', '5', '3', '0', '9'}\n",
      "[INFO] shapley_values: {'1623556211981120490': np.float64(0.22869964507146986), '16638695129468460329': 1.0, '14375932597445359172': 0.0, '14973552743668958058': np.float64(0.025014971490555787), '14109915122520784357': 0.0, '17404053802592907449': 0.0, '12275152569355108357': np.float64(0.07793524430777463), '12458978761388628182': np.float64(0.8599001138084413), '16857353847917058018': 0.0, '7109502038303752640': np.float64(0.32553722149121556)}\n"
     ]
    },
    {
     "name": "stderr",
     "output_type": "stream",
     "text": [
      "\u001b[92mINFO \u001b[0m:      fit progress: (14, 0.08123298721313477, {'accuracy': 0.1657}, 2614.7793596400006)\n",
      "\u001b[92mINFO \u001b[0m:      configure_evaluate: strategy sampled 10 clients (out of 10)\n"
     ]
    },
    {
     "name": "stdout",
     "output_type": "stream",
     "text": [
      "user online: 10 offline: 0\n"
     ]
    },
    {
     "name": "stderr",
     "output_type": "stream",
     "text": [
      "\u001b[92mINFO \u001b[0m:      aggregate_evaluate: received 10 results and 0 failures\n",
      "\u001b[92mINFO \u001b[0m:      \n",
      "\u001b[92mINFO \u001b[0m:      [ROUND 15]\n",
      "\u001b[92mINFO \u001b[0m:      configure_fit: strategy sampled 10 clients (out of 10)\n",
      "\u001b[92mINFO \u001b[0m:      aggregate_fit: received 10 results and 0 failures\n"
     ]
    },
    {
     "name": "stdout",
     "output_type": "stream",
     "text": [
      "[INFO] trained_partitions: {'7', '6', '8', '2', '4', '1', '5', '3', '0', '9'}\n",
      "[INFO] shapley_values: {'12275152569355108357': 0.0, '14375932597445359172': np.float64(0.32625397702790726), '12458978761388628182': np.float64(0.8666955472567884), '7109502038303752640': 0.0, '16638695129468460329': 0.0, '14973552743668958058': 1.0, '17404053802592907449': np.float64(0.025783270566528693), '16857353847917058018': np.float64(0.7377937437248105), '14109915122520784357': np.float64(0.1068646398102452), '1623556211981120490': np.float64(0.568303520162685)}\n"
     ]
    },
    {
     "name": "stderr",
     "output_type": "stream",
     "text": [
      "\u001b[92mINFO \u001b[0m:      fit progress: (15, 0.0773333480834961, {'accuracy': 0.1805}, 2800.7961866330006)\n",
      "\u001b[92mINFO \u001b[0m:      configure_evaluate: strategy sampled 10 clients (out of 10)\n"
     ]
    },
    {
     "name": "stdout",
     "output_type": "stream",
     "text": [
      "user online: 10 offline: 0\n"
     ]
    },
    {
     "name": "stderr",
     "output_type": "stream",
     "text": [
      "\u001b[92mINFO \u001b[0m:      aggregate_evaluate: received 10 results and 0 failures\n",
      "\u001b[92mINFO \u001b[0m:      \n",
      "\u001b[92mINFO \u001b[0m:      [ROUND 16]\n",
      "\u001b[92mINFO \u001b[0m:      configure_fit: strategy sampled 10 clients (out of 10)\n",
      "\u001b[92mINFO \u001b[0m:      aggregate_fit: received 10 results and 0 failures\n"
     ]
    },
    {
     "name": "stdout",
     "output_type": "stream",
     "text": [
      "[INFO] trained_partitions: {'7', '6', '8', '2', '4', '1', '5', '3', '0', '9'}\n",
      "[INFO] shapley_values: {'1623556211981120490': 0.0, '7109502038303752640': np.float64(0.09049491748929862), '14109915122520784357': 1.0, '14375932597445359172': np.float64(0.3458191936064605), '16857353847917058018': np.float64(0.32972121239403795), '17404053802592907449': np.float64(0.03744092498724727), '12458978761388628182': np.float64(0.04625885227551704), '12275152569355108357': 0.0, '16638695129468460329': 0.0, '14973552743668958058': 0.0}\n"
     ]
    },
    {
     "name": "stderr",
     "output_type": "stream",
     "text": [
      "\u001b[92mINFO \u001b[0m:      fit progress: (16, 0.058611512756347656, {'accuracy': 0.1526}, 2983.534276666993)\n",
      "\u001b[92mINFO \u001b[0m:      configure_evaluate: strategy sampled 10 clients (out of 10)\n"
     ]
    },
    {
     "name": "stdout",
     "output_type": "stream",
     "text": [
      "user online: 10 offline: 0\n"
     ]
    },
    {
     "name": "stderr",
     "output_type": "stream",
     "text": [
      "\u001b[92mINFO \u001b[0m:      aggregate_evaluate: received 10 results and 0 failures\n",
      "\u001b[92mINFO \u001b[0m:      \n",
      "\u001b[92mINFO \u001b[0m:      [ROUND 17]\n",
      "\u001b[92mINFO \u001b[0m:      configure_fit: strategy sampled 10 clients (out of 10)\n",
      "\u001b[92mINFO \u001b[0m:      aggregate_fit: received 10 results and 0 failures\n"
     ]
    },
    {
     "name": "stdout",
     "output_type": "stream",
     "text": [
      "[INFO] trained_partitions: {'7', '6', '8', '2', '4', '1', '5', '3', '0', '9'}\n",
      "[INFO] shapley_values: {'12275152569355108357': np.float64(0.6245470696555268), '14375932597445359172': np.float64(0.18308762740168494), '7109502038303752640': np.float64(0.08036772210075735), '1623556211981120490': 0.0, '12458978761388628182': np.float64(0.2567222657666153), '17404053802592907449': 0.0, '14973552743668958058': 0.0, '16638695129468460329': 1.0, '16857353847917058018': 0.0, '14109915122520784357': np.float64(0.23127513310788436)}\n"
     ]
    },
    {
     "name": "stderr",
     "output_type": "stream",
     "text": [
      "\u001b[92mINFO \u001b[0m:      fit progress: (17, 0.0481149154663086, {'accuracy': 0.232}, 3166.550610342005)\n",
      "\u001b[92mINFO \u001b[0m:      configure_evaluate: strategy sampled 10 clients (out of 10)\n"
     ]
    },
    {
     "name": "stdout",
     "output_type": "stream",
     "text": [
      "user online: 10 offline: 0\n"
     ]
    },
    {
     "name": "stderr",
     "output_type": "stream",
     "text": [
      "\u001b[92mINFO \u001b[0m:      aggregate_evaluate: received 10 results and 0 failures\n",
      "\u001b[92mINFO \u001b[0m:      \n",
      "\u001b[92mINFO \u001b[0m:      [ROUND 18]\n",
      "\u001b[92mINFO \u001b[0m:      configure_fit: strategy sampled 10 clients (out of 10)\n",
      "\u001b[92mINFO \u001b[0m:      aggregate_fit: received 10 results and 0 failures\n"
     ]
    },
    {
     "name": "stdout",
     "output_type": "stream",
     "text": [
      "[INFO] trained_partitions: {'7', '6', '8', '4', '2', '1', '5', '3', '0', '9'}\n",
      "[INFO] shapley_values: {'1623556211981120490': 0.0, '14375932597445359172': np.float64(0.8211044730639251), '14109915122520784357': 0.0, '17404053802592907449': 0.0, '14973552743668958058': np.float64(0.6060560912499202), '16857353847917058018': np.float64(0.45177045151576845), '12458978761388628182': np.float64(0.7427095540842776), '7109502038303752640': np.float64(0.7535925782094259), '12275152569355108357': 0.0, '16638695129468460329': 1.0}\n"
     ]
    },
    {
     "name": "stderr",
     "output_type": "stream",
     "text": [
      "\u001b[92mINFO \u001b[0m:      fit progress: (18, 0.03951827392578125, {'accuracy': 0.1829}, 3349.601946738985)\n",
      "\u001b[92mINFO \u001b[0m:      configure_evaluate: strategy sampled 10 clients (out of 10)\n"
     ]
    },
    {
     "name": "stdout",
     "output_type": "stream",
     "text": [
      "user online: 10 offline: 0\n"
     ]
    },
    {
     "name": "stderr",
     "output_type": "stream",
     "text": [
      "\u001b[92mINFO \u001b[0m:      aggregate_evaluate: received 10 results and 0 failures\n",
      "\u001b[92mINFO \u001b[0m:      \n",
      "\u001b[92mINFO \u001b[0m:      [ROUND 19]\n",
      "\u001b[92mINFO \u001b[0m:      configure_fit: strategy sampled 10 clients (out of 10)\n",
      "\u001b[92mINFO \u001b[0m:      aggregate_fit: received 10 results and 0 failures\n"
     ]
    },
    {
     "name": "stdout",
     "output_type": "stream",
     "text": [
      "[INFO] trained_partitions: {'7', '6', '8', '4', '2', '1', '5', '3', '0', '9'}\n",
      "[INFO] shapley_values: {'12458978761388628182': 0.0, '14973552743668958058': 0.0, '17404053802592907449': np.float64(0.5077529025014647), '1623556211981120490': 0.0, '16638695129468460329': np.float64(0.19174616608816314), '14109915122520784357': 0.0, '14375932597445359172': np.float64(0.3332989919738055), '7109502038303752640': np.float64(0.7125879439722624), '16857353847917058018': 1.0, '12275152569355108357': 0.0}\n"
     ]
    },
    {
     "name": "stderr",
     "output_type": "stream",
     "text": [
      "\u001b[92mINFO \u001b[0m:      fit progress: (19, 0.03444663543701172, {'accuracy': 0.2352}, 3536.8941675820097)\n",
      "\u001b[92mINFO \u001b[0m:      configure_evaluate: strategy sampled 10 clients (out of 10)\n"
     ]
    },
    {
     "name": "stdout",
     "output_type": "stream",
     "text": [
      "user online: 10 offline: 0\n"
     ]
    },
    {
     "name": "stderr",
     "output_type": "stream",
     "text": [
      "\u001b[92mINFO \u001b[0m:      aggregate_evaluate: received 10 results and 0 failures\n",
      "\u001b[92mINFO \u001b[0m:      \n",
      "\u001b[92mINFO \u001b[0m:      [ROUND 20]\n",
      "\u001b[92mINFO \u001b[0m:      configure_fit: strategy sampled 10 clients (out of 10)\n",
      "\u001b[92mINFO \u001b[0m:      aggregate_fit: received 10 results and 0 failures\n"
     ]
    },
    {
     "name": "stdout",
     "output_type": "stream",
     "text": [
      "[INFO] trained_partitions: {'7', '6', '8', '2', '4', '1', '5', '3', '0', '9'}\n",
      "[INFO] shapley_values: {'14109915122520784357': np.float64(0.5350457361382378), '16857353847917058018': 1.0, '7109502038303752640': 0.0, '12275152569355108357': np.float64(0.01601037327415997), '14375932597445359172': 0.0, '1623556211981120490': 0.0, '16638695129468460329': np.float64(0.6280914419347543), '12458978761388628182': np.float64(0.13383314061013196), '17404053802592907449': np.float64(0.23685149417472004), '14973552743668958058': 0.0}\n"
     ]
    },
    {
     "name": "stderr",
     "output_type": "stream",
     "text": [
      "\u001b[92mINFO \u001b[0m:      fit progress: (20, 0.034025722503662106, {'accuracy': 0.2231}, 3720.2742442349845)\n",
      "\u001b[92mINFO \u001b[0m:      configure_evaluate: strategy sampled 10 clients (out of 10)\n"
     ]
    },
    {
     "name": "stdout",
     "output_type": "stream",
     "text": [
      "user online: 10 offline: 0\n"
     ]
    },
    {
     "name": "stderr",
     "output_type": "stream",
     "text": [
      "\u001b[92mINFO \u001b[0m:      aggregate_evaluate: received 10 results and 0 failures\n",
      "\u001b[92mINFO \u001b[0m:      \n",
      "\u001b[92mINFO \u001b[0m:      [ROUND 21]\n",
      "\u001b[92mINFO \u001b[0m:      configure_fit: strategy sampled 10 clients (out of 10)\n",
      "\u001b[92mINFO \u001b[0m:      aggregate_fit: received 10 results and 0 failures\n"
     ]
    },
    {
     "name": "stdout",
     "output_type": "stream",
     "text": [
      "[INFO] trained_partitions: {'7', '6', '8', '4', '2', '1', '5', '3', '0', '9'}\n",
      "[INFO] shapley_values: {'17404053802592907449': np.float64(0.5725900361772943), '14973552743668958058': 0.0, '12275152569355108357': np.float64(0.16658993928778468), '14109915122520784357': 0.0, '14375932597445359172': 1.0, '12458978761388628182': 0.0, '7109502038303752640': np.float64(0.9271222898187254), '1623556211981120490': np.float64(0.275563480347416), '16638695129468460329': 0.0, '16857353847917058018': 0.0}\n"
     ]
    },
    {
     "name": "stderr",
     "output_type": "stream",
     "text": [
      "\u001b[92mINFO \u001b[0m:      fit progress: (21, 0.03646939010620117, {'accuracy': 0.2624}, 3902.784481276991)\n",
      "\u001b[92mINFO \u001b[0m:      configure_evaluate: strategy sampled 10 clients (out of 10)\n"
     ]
    },
    {
     "name": "stdout",
     "output_type": "stream",
     "text": [
      "user online: 10 offline: 0\n"
     ]
    },
    {
     "name": "stderr",
     "output_type": "stream",
     "text": [
      "\u001b[92mINFO \u001b[0m:      aggregate_evaluate: received 10 results and 0 failures\n",
      "\u001b[92mINFO \u001b[0m:      \n",
      "\u001b[92mINFO \u001b[0m:      [ROUND 22]\n",
      "\u001b[92mINFO \u001b[0m:      configure_fit: strategy sampled 10 clients (out of 10)\n",
      "\u001b[92mINFO \u001b[0m:      aggregate_fit: received 10 results and 0 failures\n"
     ]
    },
    {
     "name": "stdout",
     "output_type": "stream",
     "text": [
      "[INFO] trained_partitions: {'7', '6', '8', '4', '2', '1', '5', '3', '0', '9'}\n",
      "[INFO] shapley_values: {'14109915122520784357': np.float64(0.20957094702775536), '12458978761388628182': 0.0, '12275152569355108357': np.float64(0.11371440168091172), '17404053802592907449': np.float64(0.5591427718960035), '16857353847917058018': 1.0, '16638695129468460329': np.float64(0.0042543051263175995), '7109502038303752640': 0.0, '14375932597445359172': np.float64(0.06293753940362733), '14973552743668958058': 0.0, '1623556211981120490': np.float64(0.3294666056034436)}\n"
     ]
    },
    {
     "name": "stderr",
     "output_type": "stream",
     "text": [
      "\u001b[92mINFO \u001b[0m:      fit progress: (22, 0.04500698661804199, {'accuracy': 0.2337}, 4085.5185001200007)\n",
      "\u001b[92mINFO \u001b[0m:      configure_evaluate: strategy sampled 10 clients (out of 10)\n"
     ]
    },
    {
     "name": "stdout",
     "output_type": "stream",
     "text": [
      "user online: 10 offline: 0\n"
     ]
    },
    {
     "name": "stderr",
     "output_type": "stream",
     "text": [
      "\u001b[92mINFO \u001b[0m:      aggregate_evaluate: received 10 results and 0 failures\n",
      "\u001b[92mINFO \u001b[0m:      \n",
      "\u001b[92mINFO \u001b[0m:      [ROUND 23]\n",
      "\u001b[92mINFO \u001b[0m:      configure_fit: strategy sampled 10 clients (out of 10)\n",
      "\u001b[92mINFO \u001b[0m:      aggregate_fit: received 10 results and 0 failures\n"
     ]
    },
    {
     "name": "stdout",
     "output_type": "stream",
     "text": [
      "[INFO] trained_partitions: {'7', '6', '8', '4', '2', '1', '5', '3', '0', '9'}\n",
      "[INFO] shapley_values: {'14109915122520784357': 1.0, '12458978761388628182': np.float64(0.681593797235878), '17404053802592907449': 0.0, '16857353847917058018': 0.0, '14375932597445359172': np.float64(0.11330304070852155), '1623556211981120490': np.float64(0.2915405672349023), '16638695129468460329': np.float64(0.7117515731306577), '12275152569355108357': 0.0, '14973552743668958058': np.float64(0.5915062542995098), '7109502038303752640': np.float64(0.07950818087886748)}\n"
     ]
    },
    {
     "name": "stderr",
     "output_type": "stream",
     "text": [
      "\u001b[92mINFO \u001b[0m:      fit progress: (23, 0.048615736961364744, {'accuracy': 0.2266}, 4274.926146212994)\n",
      "\u001b[92mINFO \u001b[0m:      configure_evaluate: strategy sampled 10 clients (out of 10)\n"
     ]
    },
    {
     "name": "stdout",
     "output_type": "stream",
     "text": [
      "user online: 10 offline: 0\n"
     ]
    },
    {
     "name": "stderr",
     "output_type": "stream",
     "text": [
      "\u001b[92mINFO \u001b[0m:      aggregate_evaluate: received 10 results and 0 failures\n",
      "\u001b[92mINFO \u001b[0m:      \n",
      "\u001b[92mINFO \u001b[0m:      [ROUND 24]\n",
      "\u001b[92mINFO \u001b[0m:      configure_fit: strategy sampled 10 clients (out of 10)\n",
      "\u001b[92mINFO \u001b[0m:      aggregate_fit: received 10 results and 0 failures\n"
     ]
    },
    {
     "name": "stdout",
     "output_type": "stream",
     "text": [
      "[INFO] trained_partitions: {'7', '6', '8', '4', '2', '1', '5', '3', '0', '9'}\n",
      "[INFO] shapley_values: {'1623556211981120490': 0.0, '16857353847917058018': np.float64(0.3454172533706866), '12275152569355108357': 0.0, '16638695129468460329': np.float64(0.14977733951473798), '14375932597445359172': np.float64(0.712417589746347), '14973552743668958058': 0.0, '14109915122520784357': np.float64(0.12554407132810788), '17404053802592907449': np.float64(0.28877354962371177), '12458978761388628182': 1.0, '7109502038303752640': np.float64(0.2832477602000263)}\n"
     ]
    },
    {
     "name": "stderr",
     "output_type": "stream",
     "text": [
      "\u001b[92mINFO \u001b[0m:      fit progress: (24, 0.05632583789825439, {'accuracy': 0.1986}, 4458.136005873006)\n",
      "\u001b[92mINFO \u001b[0m:      configure_evaluate: strategy sampled 10 clients (out of 10)\n"
     ]
    },
    {
     "name": "stdout",
     "output_type": "stream",
     "text": [
      "user online: 10 offline: 0\n"
     ]
    },
    {
     "name": "stderr",
     "output_type": "stream",
     "text": [
      "\u001b[92mINFO \u001b[0m:      aggregate_evaluate: received 10 results and 0 failures\n",
      "\u001b[92mINFO \u001b[0m:      \n",
      "\u001b[92mINFO \u001b[0m:      [ROUND 25]\n",
      "\u001b[92mINFO \u001b[0m:      configure_fit: strategy sampled 10 clients (out of 10)\n",
      "\u001b[92mINFO \u001b[0m:      aggregate_fit: received 10 results and 0 failures\n"
     ]
    },
    {
     "name": "stdout",
     "output_type": "stream",
     "text": [
      "[INFO] trained_partitions: {'7', '6', '8', '4', '2', '1', '5', '3', '0', '9'}\n",
      "[INFO] shapley_values: {'17404053802592907449': 0.0, '1623556211981120490': np.float64(0.4912403989841554), '12458978761388628182': np.float64(0.23832648172847756), '14109915122520784357': 0.0, '16857353847917058018': 0.0, '16638695129468460329': 0.0, '12275152569355108357': np.float64(0.797250497262486), '7109502038303752640': 0.0, '14375932597445359172': 1.0, '14973552743668958058': np.float64(0.5251602364402795)}\n"
     ]
    },
    {
     "name": "stderr",
     "output_type": "stream",
     "text": [
      "\u001b[92mINFO \u001b[0m:      fit progress: (25, 0.06107413330078125, {'accuracy': 0.2404}, 4641.49395986399)\n",
      "\u001b[92mINFO \u001b[0m:      configure_evaluate: strategy sampled 10 clients (out of 10)\n"
     ]
    },
    {
     "name": "stdout",
     "output_type": "stream",
     "text": [
      "user online: 10 offline: 0\n"
     ]
    },
    {
     "name": "stderr",
     "output_type": "stream",
     "text": [
      "\u001b[92mINFO \u001b[0m:      aggregate_evaluate: received 10 results and 0 failures\n",
      "\u001b[92mINFO \u001b[0m:      \n",
      "\u001b[92mINFO \u001b[0m:      [ROUND 26]\n",
      "\u001b[92mINFO \u001b[0m:      configure_fit: strategy sampled 10 clients (out of 10)\n",
      "\u001b[92mINFO \u001b[0m:      aggregate_fit: received 10 results and 0 failures\n"
     ]
    },
    {
     "name": "stdout",
     "output_type": "stream",
     "text": [
      "[INFO] trained_partitions: {'7', '6', '8', '4', '2', '1', '5', '3', '0', '9'}\n",
      "[INFO] shapley_values: {'12275152569355108357': 1.0, '14109915122520784357': 0.0, '16638695129468460329': 0.0, '1623556211981120490': np.float64(0.1296506178880681), '12458978761388628182': 0.0, '14375932597445359172': 0.0, '16857353847917058018': np.float64(0.23180897039683138), '7109502038303752640': np.float64(0.028860330566041998), '17404053802592907449': 0.0, '14973552743668958058': np.float64(0.19632789659023742)}\n"
     ]
    },
    {
     "name": "stderr",
     "output_type": "stream",
     "text": [
      "\u001b[92mINFO \u001b[0m:      fit progress: (26, 0.05131858139038086, {'accuracy': 0.3279}, 4824.738444240007)\n",
      "\u001b[92mINFO \u001b[0m:      configure_evaluate: strategy sampled 10 clients (out of 10)\n"
     ]
    },
    {
     "name": "stdout",
     "output_type": "stream",
     "text": [
      "user online: 10 offline: 0\n"
     ]
    },
    {
     "name": "stderr",
     "output_type": "stream",
     "text": [
      "\u001b[92mINFO \u001b[0m:      aggregate_evaluate: received 10 results and 0 failures\n",
      "\u001b[92mINFO \u001b[0m:      \n",
      "\u001b[92mINFO \u001b[0m:      [ROUND 27]\n",
      "\u001b[92mINFO \u001b[0m:      configure_fit: strategy sampled 10 clients (out of 10)\n",
      "\u001b[92mINFO \u001b[0m:      aggregate_fit: received 10 results and 0 failures\n"
     ]
    },
    {
     "name": "stdout",
     "output_type": "stream",
     "text": [
      "[INFO] trained_partitions: {'7', '6', '8', '2', '4', '1', '5', '3', '0', '9'}\n",
      "[INFO] shapley_values: {'14973552743668958058': np.float64(0.15237111227649935), '7109502038303752640': 1.0, '17404053802592907449': 0.0, '16857353847917058018': np.float64(0.39442034470815285), '14375932597445359172': 0.0, '14109915122520784357': np.float64(0.28283987672149996), '12458978761388628182': 0.0, '16638695129468460329': np.float64(0.23843216024207906), '1623556211981120490': 0.0, '12275152569355108357': np.float64(0.3577875386505089)}\n"
     ]
    },
    {
     "name": "stderr",
     "output_type": "stream",
     "text": [
      "\u001b[92mINFO \u001b[0m:      fit progress: (27, 0.03886968307495117, {'accuracy': 0.2298}, 5011.417542398005)\n",
      "\u001b[92mINFO \u001b[0m:      configure_evaluate: strategy sampled 10 clients (out of 10)\n"
     ]
    },
    {
     "name": "stdout",
     "output_type": "stream",
     "text": [
      "user online: 10 offline: 0\n"
     ]
    },
    {
     "name": "stderr",
     "output_type": "stream",
     "text": [
      "\u001b[92mINFO \u001b[0m:      aggregate_evaluate: received 10 results and 0 failures\n",
      "\u001b[92mINFO \u001b[0m:      \n",
      "\u001b[92mINFO \u001b[0m:      [ROUND 28]\n",
      "\u001b[92mINFO \u001b[0m:      configure_fit: strategy sampled 10 clients (out of 10)\n",
      "\u001b[92mINFO \u001b[0m:      aggregate_fit: received 10 results and 0 failures\n"
     ]
    },
    {
     "name": "stdout",
     "output_type": "stream",
     "text": [
      "[INFO] trained_partitions: {'7', '6', '8', '2', '4', '1', '5', '3', '0', '9'}\n",
      "[INFO] shapley_values: {'14973552743668958058': np.float64(0.686791883702042), '1623556211981120490': 0.0, '17404053802592907449': np.float64(0.6148943695234184), '12275152569355108357': 1.0, '7109502038303752640': 0.0, '16857353847917058018': np.float64(0.6752630410721688), '16638695129468460329': np.float64(0.34341786414947456), '12458978761388628182': np.float64(0.4364286812591835), '14375932597445359172': np.float64(0.45965330166984064), '14109915122520784357': np.float64(0.13546571714680675)}\n"
     ]
    },
    {
     "name": "stderr",
     "output_type": "stream",
     "text": [
      "\u001b[92mINFO \u001b[0m:      fit progress: (28, 0.03877592582702637, {'accuracy': 0.2972}, 5194.140498886001)\n",
      "\u001b[92mINFO \u001b[0m:      configure_evaluate: strategy sampled 10 clients (out of 10)\n"
     ]
    },
    {
     "name": "stdout",
     "output_type": "stream",
     "text": [
      "user online: 10 offline: 0\n"
     ]
    },
    {
     "name": "stderr",
     "output_type": "stream",
     "text": [
      "\u001b[92mINFO \u001b[0m:      aggregate_evaluate: received 10 results and 0 failures\n",
      "\u001b[92mINFO \u001b[0m:      \n",
      "\u001b[92mINFO \u001b[0m:      [ROUND 29]\n",
      "\u001b[92mINFO \u001b[0m:      configure_fit: strategy sampled 10 clients (out of 10)\n",
      "\u001b[92mINFO \u001b[0m:      aggregate_fit: received 10 results and 0 failures\n"
     ]
    },
    {
     "name": "stdout",
     "output_type": "stream",
     "text": [
      "[INFO] trained_partitions: {'7', '6', '8', '4', '2', '1', '5', '3', '0', '9'}\n",
      "[INFO] shapley_values: {'16857353847917058018': 0.0, '14109915122520784357': np.float64(0.18341959606462332), '1623556211981120490': np.float64(0.02233090747509146), '12458978761388628182': np.float64(0.13258473913552887), '17404053802592907449': np.float64(0.09227953157470854), '7109502038303752640': 0.0, '16638695129468460329': np.float64(0.42953752703245557), '14375932597445359172': np.float64(0.3279977441790476), '14973552743668958058': 1.0, '12275152569355108357': np.float64(0.3347221314321863)}\n"
     ]
    },
    {
     "name": "stderr",
     "output_type": "stream",
     "text": [
      "\u001b[92mINFO \u001b[0m:      fit progress: (29, 0.03561695785522461, {'accuracy': 0.2946}, 5376.482213607989)\n",
      "\u001b[92mINFO \u001b[0m:      configure_evaluate: strategy sampled 10 clients (out of 10)\n"
     ]
    },
    {
     "name": "stdout",
     "output_type": "stream",
     "text": [
      "user online: 10 offline: 0\n"
     ]
    },
    {
     "name": "stderr",
     "output_type": "stream",
     "text": [
      "\u001b[92mINFO \u001b[0m:      aggregate_evaluate: received 10 results and 0 failures\n",
      "\u001b[92mINFO \u001b[0m:      \n",
      "\u001b[92mINFO \u001b[0m:      [ROUND 30]\n",
      "\u001b[92mINFO \u001b[0m:      configure_fit: strategy sampled 10 clients (out of 10)\n",
      "\u001b[92mINFO \u001b[0m:      aggregate_fit: received 10 results and 0 failures\n"
     ]
    },
    {
     "name": "stdout",
     "output_type": "stream",
     "text": [
      "[INFO] trained_partitions: {'7', '6', '8', '4', '2', '1', '5', '3', '0', '9'}\n",
      "[INFO] shapley_values: {'16857353847917058018': np.float64(0.2797666615356353), '12458978761388628182': 0.0, '14973552743668958058': 1.0, '1623556211981120490': np.float64(0.038026179923537747), '14375932597445359172': np.float64(0.7851390943513853), '17404053802592907449': np.float64(0.4708774142584141), '7109502038303752640': np.float64(0.5741785734103757), '16638695129468460329': 0.0, '14109915122520784357': np.float64(0.2677280495439201), '12275152569355108357': np.float64(0.185765298313094)}\n"
     ]
    },
    {
     "name": "stderr",
     "output_type": "stream",
     "text": [
      "\u001b[92mINFO \u001b[0m:      fit progress: (30, 0.03683733711242676, {'accuracy': 0.3167}, 5558.95069836601)\n",
      "\u001b[92mINFO \u001b[0m:      configure_evaluate: strategy sampled 10 clients (out of 10)\n"
     ]
    },
    {
     "name": "stdout",
     "output_type": "stream",
     "text": [
      "user online: 10 offline: 0\n"
     ]
    },
    {
     "name": "stderr",
     "output_type": "stream",
     "text": [
      "\u001b[92mINFO \u001b[0m:      aggregate_evaluate: received 10 results and 0 failures\n",
      "\u001b[92mINFO \u001b[0m:      \n",
      "\u001b[92mINFO \u001b[0m:      [ROUND 31]\n",
      "\u001b[92mINFO \u001b[0m:      configure_fit: strategy sampled 10 clients (out of 10)\n",
      "\u001b[92mINFO \u001b[0m:      aggregate_fit: received 10 results and 0 failures\n"
     ]
    },
    {
     "name": "stdout",
     "output_type": "stream",
     "text": [
      "[INFO] trained_partitions: {'7', '6', '8', '2', '4', '1', '5', '3', '0', '9'}\n",
      "[INFO] shapley_values: {'16638695129468460329': 0.0, '7109502038303752640': np.float64(0.09258235765036282), '14109915122520784357': np.float64(0.3677931926585526), '14375932597445359172': np.float64(0.17082672640474184), '17404053802592907449': 0.0, '12275152569355108357': np.float64(0.015778937365393833), '12458978761388628182': np.float64(0.1586421055869796), '14973552743668958058': 1.0, '16857353847917058018': 0.0, '1623556211981120490': 0.0}\n"
     ]
    },
    {
     "name": "stderr",
     "output_type": "stream",
     "text": [
      "\u001b[92mINFO \u001b[0m:      fit progress: (31, 0.03379181842803955, {'accuracy': 0.3207}, 5741.777082148998)\n",
      "\u001b[92mINFO \u001b[0m:      configure_evaluate: strategy sampled 10 clients (out of 10)\n"
     ]
    },
    {
     "name": "stdout",
     "output_type": "stream",
     "text": [
      "user online: 10 offline: 0\n"
     ]
    },
    {
     "name": "stderr",
     "output_type": "stream",
     "text": [
      "\u001b[92mINFO \u001b[0m:      aggregate_evaluate: received 10 results and 0 failures\n",
      "\u001b[92mINFO \u001b[0m:      \n",
      "\u001b[92mINFO \u001b[0m:      [ROUND 32]\n",
      "\u001b[92mINFO \u001b[0m:      configure_fit: strategy sampled 10 clients (out of 10)\n",
      "\u001b[92mINFO \u001b[0m:      aggregate_fit: received 10 results and 0 failures\n"
     ]
    },
    {
     "name": "stdout",
     "output_type": "stream",
     "text": [
      "[INFO] trained_partitions: {'7', '6', '8', '2', '4', '1', '5', '3', '0', '9'}\n",
      "[INFO] shapley_values: {'14973552743668958058': 1.0, '12275152569355108357': 0.0, '12458978761388628182': np.float64(0.2078426196181561), '1623556211981120490': np.float64(0.37540351173555536), '7109502038303752640': 0.0, '17404053802592907449': np.float64(0.07738526033167065), '16857353847917058018': np.float64(0.9545717993352779), '14375932597445359172': 0.0, '16638695129468460329': np.float64(0.4480499443338347), '14109915122520784357': 0.0}\n"
     ]
    },
    {
     "name": "stderr",
     "output_type": "stream",
     "text": [
      "\u001b[92mINFO \u001b[0m:      fit progress: (32, 0.0359513355255127, {'accuracy': 0.3435}, 5924.8595084639965)\n",
      "\u001b[92mINFO \u001b[0m:      configure_evaluate: strategy sampled 10 clients (out of 10)\n"
     ]
    },
    {
     "name": "stdout",
     "output_type": "stream",
     "text": [
      "user online: 10 offline: 0\n"
     ]
    },
    {
     "name": "stderr",
     "output_type": "stream",
     "text": [
      "\u001b[92mINFO \u001b[0m:      aggregate_evaluate: received 10 results and 0 failures\n",
      "\u001b[92mINFO \u001b[0m:      \n",
      "\u001b[92mINFO \u001b[0m:      [ROUND 33]\n",
      "\u001b[92mINFO \u001b[0m:      configure_fit: strategy sampled 10 clients (out of 10)\n",
      "\u001b[92mINFO \u001b[0m:      aggregate_fit: received 10 results and 0 failures\n"
     ]
    },
    {
     "name": "stdout",
     "output_type": "stream",
     "text": [
      "[INFO] trained_partitions: {'7', '6', '8', '4', '2', '1', '5', '3', '0', '9'}\n",
      "[INFO] shapley_values: {'1623556211981120490': np.float64(0.13706307420132843), '12458978761388628182': 0.0, '14109915122520784357': np.float64(0.29467093818737394), '17404053802592907449': np.float64(0.07997980073199339), '16857353847917058018': 0.0, '16638695129468460329': np.float64(0.1784432897373219), '14375932597445359172': np.float64(0.11970934420492634), '12275152569355108357': np.float64(0.7193001292254357), '7109502038303752640': np.float64(0.2659989281090147), '14973552743668958058': 1.0}\n"
     ]
    },
    {
     "name": "stderr",
     "output_type": "stream",
     "text": [
      "\u001b[92mINFO \u001b[0m:      fit progress: (33, 0.038803460025787356, {'accuracy': 0.3425}, 6112.785413245991)\n",
      "\u001b[92mINFO \u001b[0m:      configure_evaluate: strategy sampled 10 clients (out of 10)\n"
     ]
    },
    {
     "name": "stdout",
     "output_type": "stream",
     "text": [
      "user online: 10 offline: 0\n"
     ]
    },
    {
     "name": "stderr",
     "output_type": "stream",
     "text": [
      "\u001b[92mINFO \u001b[0m:      aggregate_evaluate: received 10 results and 0 failures\n",
      "\u001b[92mINFO \u001b[0m:      \n",
      "\u001b[92mINFO \u001b[0m:      [ROUND 34]\n",
      "\u001b[92mINFO \u001b[0m:      configure_fit: strategy sampled 10 clients (out of 10)\n",
      "\u001b[92mINFO \u001b[0m:      aggregate_fit: received 10 results and 0 failures\n"
     ]
    },
    {
     "name": "stdout",
     "output_type": "stream",
     "text": [
      "[INFO] trained_partitions: {'7', '6', '8', '4', '2', '1', '5', '3', '0', '9'}\n",
      "[INFO] shapley_values: {'14375932597445359172': np.float64(0.5477970561128183), '7109502038303752640': 0.0, '17404053802592907449': np.float64(0.2795979594678757), '12458978761388628182': 0.0, '16638695129468460329': 0.0, '1623556211981120490': np.float64(0.208624927937105), '14973552743668958058': 1.0, '16857353847917058018': np.float64(0.4606316582061214), '12275152569355108357': 0.0, '14109915122520784357': np.float64(0.30963082382188556)}\n"
     ]
    },
    {
     "name": "stderr",
     "output_type": "stream",
     "text": [
      "\u001b[92mINFO \u001b[0m:      fit progress: (34, 0.04667393798828125, {'accuracy': 0.3377}, 6294.822348618007)\n",
      "\u001b[92mINFO \u001b[0m:      configure_evaluate: strategy sampled 10 clients (out of 10)\n"
     ]
    },
    {
     "name": "stdout",
     "output_type": "stream",
     "text": [
      "user online: 10 offline: 0\n"
     ]
    },
    {
     "name": "stderr",
     "output_type": "stream",
     "text": [
      "\u001b[92mINFO \u001b[0m:      aggregate_evaluate: received 10 results and 0 failures\n",
      "\u001b[92mINFO \u001b[0m:      \n",
      "\u001b[92mINFO \u001b[0m:      [ROUND 35]\n",
      "\u001b[92mINFO \u001b[0m:      configure_fit: strategy sampled 10 clients (out of 10)\n",
      "\u001b[92mINFO \u001b[0m:      aggregate_fit: received 10 results and 0 failures\n"
     ]
    },
    {
     "name": "stdout",
     "output_type": "stream",
     "text": [
      "[INFO] trained_partitions: {'7', '6', '8', '2', '4', '1', '5', '3', '0', '9'}\n",
      "[INFO] shapley_values: {'16857353847917058018': 0.0, '17404053802592907449': 1.0, '14973552743668958058': np.float64(0.7731480328618544), '12275152569355108357': np.float64(0.33767472382915953), '7109502038303752640': 0.0, '12458978761388628182': np.float64(0.2833868253715251), '14109915122520784357': np.float64(0.1844305750385288), '16638695129468460329': 0.0, '1623556211981120490': np.float64(0.6583920558704275), '14375932597445359172': np.float64(0.33950670256751153)}\n"
     ]
    },
    {
     "name": "stderr",
     "output_type": "stream",
     "text": [
      "\u001b[92mINFO \u001b[0m:      fit progress: (35, 0.04609108924865723, {'accuracy': 0.3383}, 6477.052518470999)\n",
      "\u001b[92mINFO \u001b[0m:      configure_evaluate: strategy sampled 10 clients (out of 10)\n"
     ]
    },
    {
     "name": "stdout",
     "output_type": "stream",
     "text": [
      "user online: 10 offline: 0\n"
     ]
    },
    {
     "name": "stderr",
     "output_type": "stream",
     "text": [
      "\u001b[92mINFO \u001b[0m:      aggregate_evaluate: received 10 results and 0 failures\n",
      "\u001b[92mINFO \u001b[0m:      \n",
      "\u001b[92mINFO \u001b[0m:      [ROUND 36]\n",
      "\u001b[92mINFO \u001b[0m:      configure_fit: strategy sampled 10 clients (out of 10)\n",
      "\u001b[92mINFO \u001b[0m:      aggregate_fit: received 10 results and 0 failures\n"
     ]
    },
    {
     "name": "stdout",
     "output_type": "stream",
     "text": [
      "[INFO] trained_partitions: {'7', '6', '8', '2', '4', '1', '5', '3', '0', '9'}\n",
      "[INFO] shapley_values: {'7109502038303752640': 0.0, '14973552743668958058': 1.0, '14375932597445359172': 0.0, '17404053802592907449': 0.0, '16638695129468460329': np.float64(0.03964735439585947), '1623556211981120490': np.float64(0.17892174100743047), '16857353847917058018': np.float64(0.1329382300652614), '12275152569355108357': 0.0, '12458978761388628182': np.float64(0.1509635255637694), '14109915122520784357': np.float64(0.05167111126602029)}\n"
     ]
    },
    {
     "name": "stderr",
     "output_type": "stream",
     "text": [
      "\u001b[92mINFO \u001b[0m:      fit progress: (36, 0.044214919757843016, {'accuracy': 0.3235}, 6659.224332523998)\n",
      "\u001b[92mINFO \u001b[0m:      configure_evaluate: strategy sampled 10 clients (out of 10)\n"
     ]
    },
    {
     "name": "stdout",
     "output_type": "stream",
     "text": [
      "user online: 10 offline: 0\n"
     ]
    },
    {
     "name": "stderr",
     "output_type": "stream",
     "text": [
      "\u001b[92mINFO \u001b[0m:      aggregate_evaluate: received 10 results and 0 failures\n",
      "\u001b[92mINFO \u001b[0m:      \n",
      "\u001b[92mINFO \u001b[0m:      [ROUND 37]\n",
      "\u001b[92mINFO \u001b[0m:      configure_fit: strategy sampled 10 clients (out of 10)\n",
      "\u001b[92mINFO \u001b[0m:      aggregate_fit: received 10 results and 0 failures\n"
     ]
    },
    {
     "name": "stdout",
     "output_type": "stream",
     "text": [
      "[INFO] trained_partitions: {'7', '6', '8', '2', '4', '1', '5', '3', '0', '9'}\n",
      "[INFO] shapley_values: {'7109502038303752640': 0.0, '12275152569355108357': np.float64(0.2694012892684938), '14109915122520784357': np.float64(0.5865098805077953), '16857353847917058018': 0.0, '1623556211981120490': np.float64(0.8538370082908604), '14973552743668958058': 1.0, '17404053802592907449': 0.0, '12458978761388628182': np.float64(0.9629730664110843), '14375932597445359172': np.float64(0.970847472585749), '16638695129468460329': 0.0}\n"
     ]
    },
    {
     "name": "stderr",
     "output_type": "stream",
     "text": [
      "\u001b[92mINFO \u001b[0m:      fit progress: (37, 0.038932325172424315, {'accuracy': 0.3326}, 6846.553192869993)\n",
      "\u001b[92mINFO \u001b[0m:      configure_evaluate: strategy sampled 10 clients (out of 10)\n"
     ]
    },
    {
     "name": "stdout",
     "output_type": "stream",
     "text": [
      "user online: 10 offline: 0\n"
     ]
    },
    {
     "name": "stderr",
     "output_type": "stream",
     "text": [
      "\u001b[92mINFO \u001b[0m:      aggregate_evaluate: received 10 results and 0 failures\n",
      "\u001b[92mINFO \u001b[0m:      \n",
      "\u001b[92mINFO \u001b[0m:      [ROUND 38]\n",
      "\u001b[92mINFO \u001b[0m:      configure_fit: strategy sampled 10 clients (out of 10)\n",
      "\u001b[92mINFO \u001b[0m:      aggregate_fit: received 10 results and 0 failures\n"
     ]
    },
    {
     "name": "stdout",
     "output_type": "stream",
     "text": [
      "[INFO] trained_partitions: {'7', '6', '8', '2', '4', '1', '5', '3', '0', '9'}\n",
      "[INFO] shapley_values: {'16638695129468460329': np.float64(0.04114758439055994), '1623556211981120490': 0.0, '7109502038303752640': 0.0, '14973552743668958058': 1.0, '16857353847917058018': np.float64(0.002640808362825683), '14375932597445359172': np.float64(0.07817198170527116), '14109915122520784357': np.float64(0.07560387970496803), '17404053802592907449': np.float64(0.07960393923788539), '12458978761388628182': np.float64(0.1179864382755274), '12275152569355108357': np.float64(0.011578586294693088)}\n"
     ]
    },
    {
     "name": "stderr",
     "output_type": "stream",
     "text": [
      "\u001b[92mINFO \u001b[0m:      fit progress: (38, 0.03064525680541992, {'accuracy': 0.3364}, 7029.185376870009)\n",
      "\u001b[92mINFO \u001b[0m:      configure_evaluate: strategy sampled 10 clients (out of 10)\n"
     ]
    },
    {
     "name": "stdout",
     "output_type": "stream",
     "text": [
      "user online: 10 offline: 0\n"
     ]
    },
    {
     "name": "stderr",
     "output_type": "stream",
     "text": [
      "\u001b[92mINFO \u001b[0m:      aggregate_evaluate: received 10 results and 0 failures\n",
      "\u001b[92mINFO \u001b[0m:      \n",
      "\u001b[92mINFO \u001b[0m:      [ROUND 39]\n",
      "\u001b[92mINFO \u001b[0m:      configure_fit: strategy sampled 10 clients (out of 10)\n",
      "\u001b[92mINFO \u001b[0m:      aggregate_fit: received 10 results and 0 failures\n"
     ]
    },
    {
     "name": "stdout",
     "output_type": "stream",
     "text": [
      "[INFO] trained_partitions: {'7', '6', '8', '2', '4', '1', '5', '3', '0', '9'}\n",
      "[INFO] shapley_values: {'1623556211981120490': 0.0, '14973552743668958058': 0.0, '14109915122520784357': np.float64(0.7314867924689192), '7109502038303752640': np.float64(0.21694036382612245), '12275152569355108357': np.float64(0.13505992269274056), '12458978761388628182': np.float64(0.37748885336392185), '16638695129468460329': np.float64(0.3983261261727701), '16857353847917058018': 0.0, '14375932597445359172': 1.0, '17404053802592907449': np.float64(0.05973920812133441)}\n"
     ]
    },
    {
     "name": "stderr",
     "output_type": "stream",
     "text": [
      "\u001b[92mINFO \u001b[0m:      fit progress: (39, 0.028646668529510498, {'accuracy': 0.4116}, 7212.096710065991)\n",
      "\u001b[92mINFO \u001b[0m:      configure_evaluate: strategy sampled 10 clients (out of 10)\n"
     ]
    },
    {
     "name": "stdout",
     "output_type": "stream",
     "text": [
      "user online: 10 offline: 0\n"
     ]
    },
    {
     "name": "stderr",
     "output_type": "stream",
     "text": [
      "\u001b[92mINFO \u001b[0m:      aggregate_evaluate: received 10 results and 0 failures\n",
      "\u001b[92mINFO \u001b[0m:      \n",
      "\u001b[92mINFO \u001b[0m:      [ROUND 40]\n",
      "\u001b[92mINFO \u001b[0m:      configure_fit: strategy sampled 10 clients (out of 10)\n",
      "\u001b[92mINFO \u001b[0m:      aggregate_fit: received 10 results and 0 failures\n"
     ]
    },
    {
     "name": "stdout",
     "output_type": "stream",
     "text": [
      "[INFO] trained_partitions: {'7', '6', '8', '2', '4', '1', '5', '3', '0', '9'}\n",
      "[INFO] shapley_values: {'7109502038303752640': 0.0, '16638695129468460329': np.float64(0.10002634733396583), '17404053802592907449': np.float64(0.01710883112435442), '14375932597445359172': np.float64(0.11584763919193422), '12275152569355108357': 0.0, '14973552743668958058': 1.0, '12458978761388628182': np.float64(0.004922997544765289), '14109915122520784357': np.float64(0.019241625316044855), '1623556211981120490': np.float64(0.10298510701764003), '16857353847917058018': np.float64(0.1909020896000572)}\n"
     ]
    },
    {
     "name": "stderr",
     "output_type": "stream",
     "text": [
      "\u001b[92mINFO \u001b[0m:      fit progress: (40, 0.025477165937423708, {'accuracy': 0.4647}, 7394.536440680997)\n",
      "\u001b[92mINFO \u001b[0m:      configure_evaluate: strategy sampled 10 clients (out of 10)\n"
     ]
    },
    {
     "name": "stdout",
     "output_type": "stream",
     "text": [
      "user online: 10 offline: 0\n"
     ]
    },
    {
     "name": "stderr",
     "output_type": "stream",
     "text": [
      "\u001b[92mINFO \u001b[0m:      aggregate_evaluate: received 10 results and 0 failures\n",
      "\u001b[92mINFO \u001b[0m:      \n",
      "\u001b[92mINFO \u001b[0m:      [ROUND 41]\n",
      "\u001b[92mINFO \u001b[0m:      configure_fit: strategy sampled 10 clients (out of 10)\n",
      "\u001b[92mINFO \u001b[0m:      aggregate_fit: received 10 results and 0 failures\n"
     ]
    },
    {
     "name": "stdout",
     "output_type": "stream",
     "text": [
      "[INFO] trained_partitions: {'7', '6', '8', '2', '4', '1', '5', '3', '0', '9'}\n",
      "[INFO] shapley_values: {'12275152569355108357': 0.0, '7109502038303752640': 0.0, '14375932597445359172': np.float64(0.1786180451802135), '17404053802592907449': np.float64(0.16327314188407568), '16857353847917058018': np.float64(0.5836927600406066), '14109915122520784357': np.float64(0.20573772351554134), '1623556211981120490': np.float64(0.10724397139628433), '12458978761388628182': np.float64(0.11007034901350887), '16638695129468460329': 0.0, '14973552743668958058': 1.0}\n"
     ]
    },
    {
     "name": "stderr",
     "output_type": "stream",
     "text": [
      "\u001b[92mINFO \u001b[0m:      fit progress: (41, 0.02361407437324524, {'accuracy': 0.5507}, 7584.045026300999)\n",
      "\u001b[92mINFO \u001b[0m:      configure_evaluate: strategy sampled 10 clients (out of 10)\n"
     ]
    },
    {
     "name": "stdout",
     "output_type": "stream",
     "text": [
      "user online: 10 offline: 0\n"
     ]
    },
    {
     "name": "stderr",
     "output_type": "stream",
     "text": [
      "\u001b[92mINFO \u001b[0m:      aggregate_evaluate: received 10 results and 0 failures\n",
      "\u001b[92mINFO \u001b[0m:      \n",
      "\u001b[92mINFO \u001b[0m:      [ROUND 42]\n",
      "\u001b[92mINFO \u001b[0m:      configure_fit: strategy sampled 10 clients (out of 10)\n",
      "\u001b[92mINFO \u001b[0m:      aggregate_fit: received 10 results and 0 failures\n"
     ]
    },
    {
     "name": "stdout",
     "output_type": "stream",
     "text": [
      "[INFO] trained_partitions: {'7', '6', '8', '2', '4', '1', '5', '3', '0', '9'}\n",
      "[INFO] shapley_values: {'14973552743668958058': 1.0, '14375932597445359172': np.float64(0.46892785303798756), '12458978761388628182': np.float64(0.18592670408186557), '16857353847917058018': np.float64(0.22402133535813026), '7109502038303752640': np.float64(0.16137833546344688), '14109915122520784357': 0.0, '16638695129468460329': np.float64(0.21543040036737784), '12275152569355108357': 0.0, '17404053802592907449': 0.0, '1623556211981120490': np.float64(0.11417300050436367)}\n"
     ]
    },
    {
     "name": "stderr",
     "output_type": "stream",
     "text": [
      "\u001b[92mINFO \u001b[0m:      fit progress: (42, 0.02573195742368698, {'accuracy': 0.4673}, 7766.911072193994)\n",
      "\u001b[92mINFO \u001b[0m:      configure_evaluate: strategy sampled 10 clients (out of 10)\n"
     ]
    },
    {
     "name": "stdout",
     "output_type": "stream",
     "text": [
      "user online: 10 offline: 0\n"
     ]
    },
    {
     "name": "stderr",
     "output_type": "stream",
     "text": [
      "\u001b[92mINFO \u001b[0m:      aggregate_evaluate: received 10 results and 0 failures\n",
      "\u001b[92mINFO \u001b[0m:      \n",
      "\u001b[92mINFO \u001b[0m:      [ROUND 43]\n",
      "\u001b[92mINFO \u001b[0m:      configure_fit: strategy sampled 10 clients (out of 10)\n",
      "\u001b[92mINFO \u001b[0m:      aggregate_fit: received 10 results and 0 failures\n"
     ]
    },
    {
     "name": "stdout",
     "output_type": "stream",
     "text": [
      "[INFO] trained_partitions: {'7', '6', '8', '4', '2', '1', '5', '3', '0', '9'}\n",
      "[INFO] shapley_values: {'14375932597445359172': np.float64(0.25085205072177447), '16857353847917058018': np.float64(0.3714231969000141), '12458978761388628182': np.float64(0.12007848252669164), '16638695129468460329': 0.0, '1623556211981120490': np.float64(0.08053888439400356), '12275152569355108357': 0.0, '14109915122520784357': 0.0, '14973552743668958058': 1.0, '17404053802592907449': 0.0, '7109502038303752640': 0.0}\n"
     ]
    },
    {
     "name": "stderr",
     "output_type": "stream",
     "text": [
      "\u001b[92mINFO \u001b[0m:      fit progress: (43, 0.027029910802841187, {'accuracy': 0.4535}, 7949.720419202)\n",
      "\u001b[92mINFO \u001b[0m:      configure_evaluate: strategy sampled 10 clients (out of 10)\n"
     ]
    },
    {
     "name": "stdout",
     "output_type": "stream",
     "text": [
      "user online: 10 offline: 0\n"
     ]
    },
    {
     "name": "stderr",
     "output_type": "stream",
     "text": [
      "\u001b[92mINFO \u001b[0m:      aggregate_evaluate: received 10 results and 0 failures\n",
      "\u001b[92mINFO \u001b[0m:      \n",
      "\u001b[92mINFO \u001b[0m:      [ROUND 44]\n",
      "\u001b[92mINFO \u001b[0m:      configure_fit: strategy sampled 10 clients (out of 10)\n",
      "\u001b[92mINFO \u001b[0m:      aggregate_fit: received 10 results and 0 failures\n"
     ]
    },
    {
     "name": "stdout",
     "output_type": "stream",
     "text": [
      "[INFO] trained_partitions: {'7', '6', '8', '2', '4', '1', '5', '3', '0', '9'}\n",
      "[INFO] shapley_values: {'17404053802592907449': np.float64(0.304808409286566), '16857353847917058018': 0.0, '1623556211981120490': 1.0, '14109915122520784357': 0.0, '7109502038303752640': np.float64(0.4331498373519977), '14973552743668958058': np.float64(0.9350938873334012), '14375932597445359172': 0.0, '16638695129468460329': np.float64(0.6052314105250756), '12458978761388628182': np.float64(0.5226646001140756), '12275152569355108357': 0.0}\n"
     ]
    },
    {
     "name": "stderr",
     "output_type": "stream",
     "text": [
      "\u001b[92mINFO \u001b[0m:      fit progress: (44, 0.0368968785405159, {'accuracy': 0.46}, 8132.693114361988)\n",
      "\u001b[92mINFO \u001b[0m:      configure_evaluate: strategy sampled 10 clients (out of 10)\n"
     ]
    },
    {
     "name": "stdout",
     "output_type": "stream",
     "text": [
      "user online: 10 offline: 0\n"
     ]
    },
    {
     "name": "stderr",
     "output_type": "stream",
     "text": [
      "\u001b[92mINFO \u001b[0m:      aggregate_evaluate: received 10 results and 0 failures\n",
      "\u001b[92mINFO \u001b[0m:      \n",
      "\u001b[92mINFO \u001b[0m:      [ROUND 45]\n",
      "\u001b[92mINFO \u001b[0m:      configure_fit: strategy sampled 10 clients (out of 10)\n",
      "\u001b[92mINFO \u001b[0m:      aggregate_fit: received 10 results and 0 failures\n"
     ]
    },
    {
     "name": "stdout",
     "output_type": "stream",
     "text": [
      "[INFO] trained_partitions: {'7', '6', '8', '4', '2', '1', '5', '3', '0', '9'}\n",
      "[INFO] shapley_values: {'17404053802592907449': np.float64(0.1701918946703676), '12458978761388628182': np.float64(0.06943759131322338), '16857353847917058018': np.float64(0.15255085759122458), '1623556211981120490': 0.0, '12275152569355108357': 0.0, '14375932597445359172': np.float64(0.16546190760396143), '16638695129468460329': 0.0, '14109915122520784357': 0.0, '7109502038303752640': np.float64(0.060093855117728655), '14973552743668958058': 1.0}\n"
     ]
    },
    {
     "name": "stderr",
     "output_type": "stream",
     "text": [
      "\u001b[92mINFO \u001b[0m:      fit progress: (45, 0.03326894583702088, {'accuracy': 0.4067}, 8320.391384130984)\n",
      "\u001b[92mINFO \u001b[0m:      configure_evaluate: strategy sampled 10 clients (out of 10)\n"
     ]
    },
    {
     "name": "stdout",
     "output_type": "stream",
     "text": [
      "user online: 10 offline: 0\n"
     ]
    },
    {
     "name": "stderr",
     "output_type": "stream",
     "text": [
      "\u001b[92mINFO \u001b[0m:      aggregate_evaluate: received 10 results and 0 failures\n",
      "\u001b[92mINFO \u001b[0m:      \n",
      "\u001b[92mINFO \u001b[0m:      [ROUND 46]\n",
      "\u001b[92mINFO \u001b[0m:      configure_fit: strategy sampled 10 clients (out of 10)\n",
      "\u001b[92mINFO \u001b[0m:      aggregate_fit: received 10 results and 0 failures\n"
     ]
    },
    {
     "name": "stdout",
     "output_type": "stream",
     "text": [
      "[INFO] trained_partitions: {'7', '6', '8', '2', '4', '1', '5', '3', '0', '9'}\n",
      "[INFO] shapley_values: {'12458978761388628182': np.float64(0.18160198378064424), '1623556211981120490': 0.0, '14109915122520784357': 0.0, '7109502038303752640': np.float64(0.36854181833994176), '14375932597445359172': np.float64(0.46270004961208216), '16638695129468460329': np.float64(0.02856185073687164), '16857353847917058018': np.float64(0.3319831774436251), '12275152569355108357': np.float64(0.03666800126927146), '17404053802592907449': 0.0, '14973552743668958058': 1.0}\n"
     ]
    },
    {
     "name": "stderr",
     "output_type": "stream",
     "text": [
      "\u001b[92mINFO \u001b[0m:      fit progress: (46, 0.04937230705022812, {'accuracy': 0.4595}, 8503.358214406006)\n",
      "\u001b[92mINFO \u001b[0m:      configure_evaluate: strategy sampled 10 clients (out of 10)\n"
     ]
    },
    {
     "name": "stdout",
     "output_type": "stream",
     "text": [
      "user online: 10 offline: 0\n"
     ]
    },
    {
     "name": "stderr",
     "output_type": "stream",
     "text": [
      "\u001b[92mINFO \u001b[0m:      aggregate_evaluate: received 10 results and 0 failures\n",
      "\u001b[92mINFO \u001b[0m:      \n",
      "\u001b[92mINFO \u001b[0m:      [ROUND 47]\n",
      "\u001b[92mINFO \u001b[0m:      configure_fit: strategy sampled 10 clients (out of 10)\n",
      "\u001b[92mINFO \u001b[0m:      aggregate_fit: received 10 results and 0 failures\n"
     ]
    },
    {
     "name": "stdout",
     "output_type": "stream",
     "text": [
      "[INFO] trained_partitions: {'7', '6', '8', '2', '4', '1', '5', '3', '0', '9'}\n",
      "[INFO] shapley_values: {'16857353847917058018': np.float64(0.10651134500475183), '12458978761388628182': np.float64(0.10928714988157981), '7109502038303752640': np.float64(0.12326916949151888), '17404053802592907449': np.float64(0.07240670044154458), '12275152569355108357': 0.0, '1623556211981120490': np.float64(0.18335481816004906), '16638695129468460329': 0.0, '14973552743668958058': 1.0, '14109915122520784357': np.float64(0.017916048160877353), '14375932597445359172': 0.0}\n"
     ]
    },
    {
     "name": "stderr",
     "output_type": "stream",
     "text": [
      "\u001b[92mINFO \u001b[0m:      fit progress: (47, 0.037426954567432405, {'accuracy': 0.3971}, 8686.68998162399)\n",
      "\u001b[92mINFO \u001b[0m:      configure_evaluate: strategy sampled 10 clients (out of 10)\n"
     ]
    },
    {
     "name": "stdout",
     "output_type": "stream",
     "text": [
      "user online: 10 offline: 0\n"
     ]
    },
    {
     "name": "stderr",
     "output_type": "stream",
     "text": [
      "\u001b[92mINFO \u001b[0m:      aggregate_evaluate: received 10 results and 0 failures\n",
      "\u001b[92mINFO \u001b[0m:      \n",
      "\u001b[92mINFO \u001b[0m:      [ROUND 48]\n",
      "\u001b[92mINFO \u001b[0m:      configure_fit: strategy sampled 10 clients (out of 10)\n",
      "\u001b[92mINFO \u001b[0m:      aggregate_fit: received 10 results and 0 failures\n"
     ]
    },
    {
     "name": "stdout",
     "output_type": "stream",
     "text": [
      "[INFO] trained_partitions: {'7', '6', '8', '2', '4', '1', '5', '3', '0', '9'}\n",
      "[INFO] shapley_values: {'14109915122520784357': 0.0, '17404053802592907449': np.float64(0.10227064137745866), '14973552743668958058': 1.0, '1623556211981120490': np.float64(0.22877123762037915), '16857353847917058018': np.float64(0.1832713165672255), '14375932597445359172': np.float64(0.1885074097724857), '16638695129468460329': 0.0, '12275152569355108357': 0.0, '7109502038303752640': np.float64(0.12847588834598736), '12458978761388628182': np.float64(0.16427457408044321)}\n"
     ]
    },
    {
     "name": "stderr",
     "output_type": "stream",
     "text": [
      "\u001b[92mINFO \u001b[0m:      fit progress: (48, 0.030388661479949952, {'accuracy': 0.4206}, 8870.444864135992)\n",
      "\u001b[92mINFO \u001b[0m:      configure_evaluate: strategy sampled 10 clients (out of 10)\n"
     ]
    },
    {
     "name": "stdout",
     "output_type": "stream",
     "text": [
      "user online: 10 offline: 0\n"
     ]
    },
    {
     "name": "stderr",
     "output_type": "stream",
     "text": [
      "\u001b[92mINFO \u001b[0m:      aggregate_evaluate: received 10 results and 0 failures\n",
      "\u001b[92mINFO \u001b[0m:      \n",
      "\u001b[92mINFO \u001b[0m:      [ROUND 49]\n",
      "\u001b[92mINFO \u001b[0m:      configure_fit: strategy sampled 10 clients (out of 10)\n",
      "\u001b[92mINFO \u001b[0m:      aggregate_fit: received 10 results and 0 failures\n"
     ]
    },
    {
     "name": "stdout",
     "output_type": "stream",
     "text": [
      "[INFO] trained_partitions: {'7', '6', '8', '4', '2', '1', '5', '3', '0', '9'}\n",
      "[INFO] shapley_values: {'16638695129468460329': np.float64(0.1534756149834682), '14375932597445359172': np.float64(0.3018480874519605), '12275152569355108357': np.float64(0.05392583047400047), '14973552743668958058': 1.0, '12458978761388628182': np.float64(0.11311999092684062), '1623556211981120490': np.float64(0.3641382421602809), '16857353847917058018': np.float64(0.0198113088303171), '17404053802592907449': 0.0, '7109502038303752640': np.float64(0.062184607127118145), '14109915122520784357': 0.0}\n"
     ]
    },
    {
     "name": "stderr",
     "output_type": "stream",
     "text": [
      "\u001b[92mINFO \u001b[0m:      fit progress: (49, 0.024846150493621825, {'accuracy': 0.4602}, 9058.904797942)\n",
      "\u001b[92mINFO \u001b[0m:      configure_evaluate: strategy sampled 10 clients (out of 10)\n"
     ]
    },
    {
     "name": "stdout",
     "output_type": "stream",
     "text": [
      "user online: 10 offline: 0\n"
     ]
    },
    {
     "name": "stderr",
     "output_type": "stream",
     "text": [
      "\u001b[92mINFO \u001b[0m:      aggregate_evaluate: received 10 results and 0 failures\n",
      "\u001b[92mINFO \u001b[0m:      \n",
      "\u001b[92mINFO \u001b[0m:      [ROUND 50]\n",
      "\u001b[92mINFO \u001b[0m:      configure_fit: strategy sampled 10 clients (out of 10)\n",
      "\u001b[92mINFO \u001b[0m:      aggregate_fit: received 10 results and 0 failures\n"
     ]
    },
    {
     "name": "stdout",
     "output_type": "stream",
     "text": [
      "[INFO] trained_partitions: {'7', '6', '8', '2', '4', '1', '5', '3', '0', '9'}\n",
      "[INFO] shapley_values: {'17404053802592907449': np.float64(0.3000787903441544), '12458978761388628182': 0.0, '16857353847917058018': np.float64(0.39925065328408127), '14109915122520784357': np.float64(0.041745813300027704), '7109502038303752640': np.float64(0.07471840580147614), '12275152569355108357': 0.0, '1623556211981120490': np.float64(0.37029107516375726), '14973552743668958058': 1.0, '14375932597445359172': np.float64(0.2178118184356223), '16638695129468460329': np.float64(0.03129029893058083)}\n"
     ]
    },
    {
     "name": "stderr",
     "output_type": "stream",
     "text": [
      "\u001b[92mINFO \u001b[0m:      fit progress: (50, 0.021522454476356506, {'accuracy': 0.5997}, 9242.022159952001)\n",
      "\u001b[92mINFO \u001b[0m:      configure_evaluate: strategy sampled 10 clients (out of 10)\n"
     ]
    },
    {
     "name": "stdout",
     "output_type": "stream",
     "text": [
      "user online: 10 offline: 0\n"
     ]
    },
    {
     "name": "stderr",
     "output_type": "stream",
     "text": [
      "\u001b[92mINFO \u001b[0m:      aggregate_evaluate: received 10 results and 0 failures\n",
      "\u001b[92mINFO \u001b[0m:      \n",
      "\u001b[92mINFO \u001b[0m:      [ROUND 51]\n",
      "\u001b[92mINFO \u001b[0m:      configure_fit: strategy sampled 10 clients (out of 10)\n",
      "\u001b[92mINFO \u001b[0m:      aggregate_fit: received 10 results and 0 failures\n"
     ]
    },
    {
     "name": "stdout",
     "output_type": "stream",
     "text": [
      "[INFO] trained_partitions: {'7', '6', '8', '2', '4', '1', '5', '3', '0', '9'}\n",
      "[INFO] shapley_values: {'16857353847917058018': 1.0, '7109502038303752640': np.float64(0.014164935310716078), '1623556211981120490': np.float64(0.3068086040116904), '16638695129468460329': np.float64(0.03456009171051828), '12275152569355108357': 0.0, '14109915122520784357': np.float64(0.27855830606945203), '14375932597445359172': np.float64(0.33390224876406316), '14973552743668958058': np.float64(0.743224861882307), '12458978761388628182': np.float64(0.8831595706402602), '17404053802592907449': np.float64(0.20168448989114124)}\n"
     ]
    },
    {
     "name": "stderr",
     "output_type": "stream",
     "text": [
      "\u001b[92mINFO \u001b[0m:      fit progress: (51, 0.01710923947095871, {'accuracy': 0.6253}, 9425.382931637985)\n",
      "\u001b[92mINFO \u001b[0m:      configure_evaluate: strategy sampled 10 clients (out of 10)\n"
     ]
    },
    {
     "name": "stdout",
     "output_type": "stream",
     "text": [
      "user online: 10 offline: 0\n"
     ]
    },
    {
     "name": "stderr",
     "output_type": "stream",
     "text": [
      "\u001b[92mINFO \u001b[0m:      aggregate_evaluate: received 10 results and 0 failures\n",
      "\u001b[92mINFO \u001b[0m:      \n",
      "\u001b[92mINFO \u001b[0m:      [ROUND 52]\n",
      "\u001b[92mINFO \u001b[0m:      configure_fit: strategy sampled 10 clients (out of 10)\n",
      "\u001b[92mINFO \u001b[0m:      aggregate_fit: received 10 results and 0 failures\n"
     ]
    },
    {
     "name": "stdout",
     "output_type": "stream",
     "text": [
      "[INFO] trained_partitions: {'7', '6', '8', '2', '4', '1', '5', '3', '0', '9'}\n",
      "[INFO] shapley_values: {'17404053802592907449': np.float64(0.11927054296364913), '14109915122520784357': np.float64(0.026955995452732247), '12458978761388628182': np.float64(0.33090258760665003), '16638695129468460329': np.float64(0.04066192159019589), '7109502038303752640': np.float64(0.12878129071712396), '14375932597445359172': np.float64(0.18747247797154043), '16857353847917058018': np.float64(0.3381720021103738), '12275152569355108357': 0.0, '1623556211981120490': np.float64(0.5192072663280944), '14973552743668958058': 1.0}\n"
     ]
    },
    {
     "name": "stderr",
     "output_type": "stream",
     "text": [
      "\u001b[92mINFO \u001b[0m:      fit progress: (52, 0.01595158333182335, {'accuracy': 0.67}, 9608.409620077)\n",
      "\u001b[92mINFO \u001b[0m:      configure_evaluate: strategy sampled 10 clients (out of 10)\n"
     ]
    },
    {
     "name": "stdout",
     "output_type": "stream",
     "text": [
      "user online: 10 offline: 0\n"
     ]
    },
    {
     "name": "stderr",
     "output_type": "stream",
     "text": [
      "\u001b[92mINFO \u001b[0m:      aggregate_evaluate: received 10 results and 0 failures\n",
      "\u001b[92mINFO \u001b[0m:      \n",
      "\u001b[92mINFO \u001b[0m:      [ROUND 53]\n",
      "\u001b[92mINFO \u001b[0m:      configure_fit: strategy sampled 10 clients (out of 10)\n",
      "\u001b[92mINFO \u001b[0m:      aggregate_fit: received 10 results and 0 failures\n"
     ]
    },
    {
     "name": "stdout",
     "output_type": "stream",
     "text": [
      "[INFO] trained_partitions: {'7', '6', '8', '2', '4', '1', '5', '3', '0', '9'}\n",
      "[INFO] shapley_values: {'14973552743668958058': 1.0, '14375932597445359172': np.float64(0.2804414766199712), '14109915122520784357': np.float64(0.07942922397377478), '17404053802592907449': np.float64(0.31918288185448046), '7109502038303752640': 0.0, '12458978761388628182': np.float64(0.27789006609998107), '1623556211981120490': np.float64(0.1726815529035549), '12275152569355108357': np.float64(0.20992554884937425), '16857353847917058018': np.float64(0.5782010016087795), '16638695129468460329': np.float64(0.036961177698810806)}\n"
     ]
    },
    {
     "name": "stderr",
     "output_type": "stream",
     "text": [
      "\u001b[92mINFO \u001b[0m:      fit progress: (53, 0.01449652093052864, {'accuracy': 0.7018}, 9793.567999302992)\n",
      "\u001b[92mINFO \u001b[0m:      configure_evaluate: strategy sampled 10 clients (out of 10)\n"
     ]
    },
    {
     "name": "stdout",
     "output_type": "stream",
     "text": [
      "user online: 10 offline: 0\n"
     ]
    },
    {
     "name": "stderr",
     "output_type": "stream",
     "text": [
      "\u001b[92mINFO \u001b[0m:      aggregate_evaluate: received 10 results and 0 failures\n",
      "\u001b[92mINFO \u001b[0m:      \n",
      "\u001b[92mINFO \u001b[0m:      [ROUND 54]\n",
      "\u001b[92mINFO \u001b[0m:      configure_fit: strategy sampled 10 clients (out of 10)\n",
      "\u001b[92mINFO \u001b[0m:      aggregate_fit: received 10 results and 0 failures\n"
     ]
    },
    {
     "name": "stdout",
     "output_type": "stream",
     "text": [
      "[INFO] trained_partitions: {'7', '6', '8', '4', '2', '1', '5', '3', '0', '9'}\n",
      "[INFO] shapley_values: {'1623556211981120490': 0.0, '14375932597445359172': np.float64(0.05332493220457812), '16638695129468460329': 0.0, '14109915122520784357': np.float64(0.012481000589327622), '12458978761388628182': np.float64(0.8247163822082209), '12275152569355108357': np.float64(0.24041010026998147), '14973552743668958058': 1.0, '16857353847917058018': np.float64(0.7109373830828888), '17404053802592907449': np.float64(0.4042669877647242), '7109502038303752640': np.float64(0.27368745190635224)}\n"
     ]
    },
    {
     "name": "stderr",
     "output_type": "stream",
     "text": [
      "\u001b[92mINFO \u001b[0m:      fit progress: (54, 0.01644290382862091, {'accuracy': 0.6608}, 9976.367162996)\n",
      "\u001b[92mINFO \u001b[0m:      configure_evaluate: strategy sampled 10 clients (out of 10)\n"
     ]
    },
    {
     "name": "stdout",
     "output_type": "stream",
     "text": [
      "user online: 10 offline: 0\n"
     ]
    },
    {
     "name": "stderr",
     "output_type": "stream",
     "text": [
      "\u001b[92mINFO \u001b[0m:      aggregate_evaluate: received 10 results and 0 failures\n",
      "\u001b[92mINFO \u001b[0m:      \n",
      "\u001b[92mINFO \u001b[0m:      [ROUND 55]\n",
      "\u001b[92mINFO \u001b[0m:      configure_fit: strategy sampled 10 clients (out of 10)\n",
      "\u001b[92mINFO \u001b[0m:      aggregate_fit: received 10 results and 0 failures\n"
     ]
    },
    {
     "name": "stdout",
     "output_type": "stream",
     "text": [
      "[INFO] trained_partitions: {'7', '6', '8', '4', '2', '1', '5', '3', '0', '9'}\n",
      "[INFO] shapley_values: {'16638695129468460329': np.float64(0.13221261858857541), '16857353847917058018': np.float64(0.6445335153818558), '7109502038303752640': np.float64(0.20083264317715363), '12458978761388628182': np.float64(0.8652787635064888), '17404053802592907449': np.float64(0.5109933725509355), '14973552743668958058': 1.0, '14375932597445359172': np.float64(0.3714699260672552), '1623556211981120490': np.float64(0.06373755433396443), '14109915122520784357': 0.0, '12275152569355108357': np.float64(0.1679978689452064)}\n"
     ]
    },
    {
     "name": "stderr",
     "output_type": "stream",
     "text": [
      "\u001b[92mINFO \u001b[0m:      fit progress: (55, 0.014734563553333283, {'accuracy': 0.6896}, 10159.005079153983)\n",
      "\u001b[92mINFO \u001b[0m:      configure_evaluate: strategy sampled 10 clients (out of 10)\n"
     ]
    },
    {
     "name": "stdout",
     "output_type": "stream",
     "text": [
      "user online: 10 offline: 0\n"
     ]
    },
    {
     "name": "stderr",
     "output_type": "stream",
     "text": [
      "\u001b[92mINFO \u001b[0m:      aggregate_evaluate: received 10 results and 0 failures\n",
      "\u001b[92mINFO \u001b[0m:      \n",
      "\u001b[92mINFO \u001b[0m:      [ROUND 56]\n",
      "\u001b[92mINFO \u001b[0m:      configure_fit: strategy sampled 10 clients (out of 10)\n",
      "\u001b[92mINFO \u001b[0m:      aggregate_fit: received 10 results and 0 failures\n"
     ]
    },
    {
     "name": "stdout",
     "output_type": "stream",
     "text": [
      "[INFO] trained_partitions: {'7', '6', '8', '2', '4', '1', '5', '3', '0', '9'}\n",
      "[INFO] shapley_values: {'14973552743668958058': 1.0, '16638695129468460329': np.float64(0.002336616649879959), '17404053802592907449': 0.0, '1623556211981120490': np.float64(0.24303504957311736), '16857353847917058018': np.float64(0.2559472557187462), '14109915122520784357': np.float64(0.23562698398689472), '14375932597445359172': np.float64(0.25024802376075744), '12275152569355108357': np.float64(0.27242503712512606), '7109502038303752640': np.float64(0.23800271787645716), '12458978761388628182': np.float64(0.04098940581630966)}\n"
     ]
    },
    {
     "name": "stderr",
     "output_type": "stream",
     "text": [
      "\u001b[92mINFO \u001b[0m:      fit progress: (56, 0.022973672980070112, {'accuracy': 0.6133}, 10351.47608950999)\n",
      "\u001b[92mINFO \u001b[0m:      configure_evaluate: strategy sampled 10 clients (out of 10)\n"
     ]
    },
    {
     "name": "stdout",
     "output_type": "stream",
     "text": [
      "user online: 10 offline: 0\n"
     ]
    },
    {
     "name": "stderr",
     "output_type": "stream",
     "text": [
      "\u001b[92mINFO \u001b[0m:      aggregate_evaluate: received 10 results and 0 failures\n",
      "\u001b[92mINFO \u001b[0m:      \n",
      "\u001b[92mINFO \u001b[0m:      [ROUND 57]\n",
      "\u001b[92mINFO \u001b[0m:      configure_fit: strategy sampled 10 clients (out of 10)\n",
      "\u001b[92mINFO \u001b[0m:      aggregate_fit: received 10 results and 0 failures\n"
     ]
    },
    {
     "name": "stdout",
     "output_type": "stream",
     "text": [
      "[INFO] trained_partitions: {'7', '6', '8', '2', '4', '1', '5', '3', '0', '9'}\n",
      "[INFO] shapley_values: {'12458978761388628182': np.float64(0.3131226798689604), '17404053802592907449': np.float64(0.15749479717608966), '7109502038303752640': 0.0, '16638695129468460329': 0.0, '14973552743668958058': 1.0, '12275152569355108357': 0.0, '14375932597445359172': np.float64(0.09070029123618248), '16857353847917058018': np.float64(0.23835472971301866), '1623556211981120490': np.float64(0.17808046644592765), '14109915122520784357': np.float64(0.05625968063033727)}\n"
     ]
    },
    {
     "name": "stderr",
     "output_type": "stream",
     "text": [
      "\u001b[92mINFO \u001b[0m:      fit progress: (57, 0.018138551789522173, {'accuracy': 0.5818}, 10535.20596227399)\n",
      "\u001b[92mINFO \u001b[0m:      configure_evaluate: strategy sampled 10 clients (out of 10)\n"
     ]
    },
    {
     "name": "stdout",
     "output_type": "stream",
     "text": [
      "user online: 10 offline: 0\n"
     ]
    },
    {
     "name": "stderr",
     "output_type": "stream",
     "text": [
      "\u001b[92mINFO \u001b[0m:      aggregate_evaluate: received 10 results and 0 failures\n",
      "\u001b[92mINFO \u001b[0m:      \n",
      "\u001b[92mINFO \u001b[0m:      [ROUND 58]\n",
      "\u001b[92mINFO \u001b[0m:      configure_fit: strategy sampled 10 clients (out of 10)\n",
      "\u001b[92mINFO \u001b[0m:      aggregate_fit: received 10 results and 0 failures\n"
     ]
    },
    {
     "name": "stdout",
     "output_type": "stream",
     "text": [
      "[INFO] trained_partitions: {'7', '6', '8', '4', '2', '1', '5', '3', '0', '9'}\n",
      "[INFO] shapley_values: {'12458978761388628182': np.float64(0.5118583873385931), '14375932597445359172': np.float64(0.6376541372787027), '16857353847917058018': np.float64(0.18251738037814055), '1623556211981120490': np.float64(0.5191609685231771), '12275152569355108357': np.float64(0.14725090438726782), '16638695129468460329': 0.0, '14109915122520784357': np.float64(0.6127498182807217), '7109502038303752640': 1.0, '14973552743668958058': np.float64(0.7156386461717971), '17404053802592907449': np.float64(0.08042373084049013)}\n"
     ]
    },
    {
     "name": "stderr",
     "output_type": "stream",
     "text": [
      "\u001b[92mINFO \u001b[0m:      fit progress: (58, 0.026798424154520033, {'accuracy': 0.6084}, 10717.688360233005)\n",
      "\u001b[92mINFO \u001b[0m:      configure_evaluate: strategy sampled 10 clients (out of 10)\n"
     ]
    },
    {
     "name": "stdout",
     "output_type": "stream",
     "text": [
      "user online: 10 offline: 0\n"
     ]
    },
    {
     "name": "stderr",
     "output_type": "stream",
     "text": [
      "\u001b[92mINFO \u001b[0m:      aggregate_evaluate: received 10 results and 0 failures\n",
      "\u001b[92mINFO \u001b[0m:      \n",
      "\u001b[92mINFO \u001b[0m:      [ROUND 59]\n",
      "\u001b[92mINFO \u001b[0m:      configure_fit: strategy sampled 10 clients (out of 10)\n",
      "\u001b[92mINFO \u001b[0m:      aggregate_fit: received 10 results and 0 failures\n"
     ]
    },
    {
     "name": "stdout",
     "output_type": "stream",
     "text": [
      "[INFO] trained_partitions: {'7', '6', '8', '4', '2', '1', '5', '3', '0', '9'}\n",
      "[INFO] shapley_values: {'14109915122520784357': 0.0, '16857353847917058018': np.float64(0.7629843993491764), '1623556211981120490': 0.0, '12275152569355108357': 0.0, '16638695129468460329': np.float64(0.2658073364723092), '17404053802592907449': np.float64(0.34423656223521143), '12458978761388628182': np.float64(0.5835000663316038), '14973552743668958058': 1.0, '7109502038303752640': 0.0, '14375932597445359172': np.float64(0.04971719436850089)}\n"
     ]
    },
    {
     "name": "stderr",
     "output_type": "stream",
     "text": [
      "\u001b[92mINFO \u001b[0m:      fit progress: (59, 0.022539792549610138, {'accuracy': 0.6179}, 10900.985828753997)\n",
      "\u001b[92mINFO \u001b[0m:      configure_evaluate: strategy sampled 10 clients (out of 10)\n"
     ]
    },
    {
     "name": "stdout",
     "output_type": "stream",
     "text": [
      "user online: 10 offline: 0\n"
     ]
    },
    {
     "name": "stderr",
     "output_type": "stream",
     "text": [
      "\u001b[92mINFO \u001b[0m:      aggregate_evaluate: received 10 results and 0 failures\n",
      "\u001b[92mINFO \u001b[0m:      \n",
      "\u001b[92mINFO \u001b[0m:      [ROUND 60]\n",
      "\u001b[92mINFO \u001b[0m:      configure_fit: strategy sampled 10 clients (out of 10)\n",
      "\u001b[92mINFO \u001b[0m:      aggregate_fit: received 10 results and 0 failures\n"
     ]
    },
    {
     "name": "stdout",
     "output_type": "stream",
     "text": [
      "[INFO] trained_partitions: {'7', '6', '8', '4', '2', '1', '5', '3', '0', '9'}\n",
      "[INFO] shapley_values: {'12458978761388628182': 0.0, '17404053802592907449': np.float64(0.3070708248004539), '14109915122520784357': 0.0, '16857353847917058018': np.float64(0.23781334258259582), '16638695129468460329': np.float64(0.02138562420087297), '1623556211981120490': np.float64(0.1191565609925528), '7109502038303752640': np.float64(0.3084692320794562), '12275152569355108357': 0.0, '14973552743668958058': 1.0, '14375932597445359172': np.float64(0.28596144988795774)}\n"
     ]
    },
    {
     "name": "stderr",
     "output_type": "stream",
     "text": [
      "\u001b[92mINFO \u001b[0m:      fit progress: (60, 0.021337787687778473, {'accuracy': 0.6337}, 11084.653196408995)\n",
      "\u001b[92mINFO \u001b[0m:      configure_evaluate: strategy sampled 10 clients (out of 10)\n"
     ]
    },
    {
     "name": "stdout",
     "output_type": "stream",
     "text": [
      "user online: 10 offline: 0\n"
     ]
    },
    {
     "name": "stderr",
     "output_type": "stream",
     "text": [
      "\u001b[92mINFO \u001b[0m:      aggregate_evaluate: received 10 results and 0 failures\n",
      "\u001b[92mINFO \u001b[0m:      \n",
      "\u001b[92mINFO \u001b[0m:      [ROUND 61]\n",
      "\u001b[92mINFO \u001b[0m:      configure_fit: strategy sampled 10 clients (out of 10)\n",
      "\u001b[92mINFO \u001b[0m:      aggregate_fit: received 10 results and 0 failures\n"
     ]
    },
    {
     "name": "stdout",
     "output_type": "stream",
     "text": [
      "[INFO] trained_partitions: {'7', '6', '8', '4', '2', '1', '5', '3', '0', '9'}\n",
      "[INFO] shapley_values: {'7109502038303752640': 0.0, '1623556211981120490': 0.0, '14973552743668958058': np.float64(0.8707912419607892), '16638695129468460329': 0.0, '12458978761388628182': np.float64(0.3467458155069185), '14109915122520784357': np.float64(0.043067743990447896), '16857353847917058018': 1.0, '17404053802592907449': np.float64(0.642020565377354), '12275152569355108357': 0.0, '14375932597445359172': np.float64(0.53543323636384)}\n"
     ]
    },
    {
     "name": "stderr",
     "output_type": "stream",
     "text": [
      "\u001b[92mINFO \u001b[0m:      fit progress: (61, 0.01604027625322342, {'accuracy': 0.6459}, 11267.122083008988)\n",
      "\u001b[92mINFO \u001b[0m:      configure_evaluate: strategy sampled 10 clients (out of 10)\n"
     ]
    },
    {
     "name": "stdout",
     "output_type": "stream",
     "text": [
      "user online: 10 offline: 0\n"
     ]
    },
    {
     "name": "stderr",
     "output_type": "stream",
     "text": [
      "\u001b[92mINFO \u001b[0m:      aggregate_evaluate: received 10 results and 0 failures\n",
      "\u001b[92mINFO \u001b[0m:      \n",
      "\u001b[92mINFO \u001b[0m:      [ROUND 62]\n",
      "\u001b[92mINFO \u001b[0m:      configure_fit: strategy sampled 10 clients (out of 10)\n",
      "\u001b[92mINFO \u001b[0m:      aggregate_fit: received 10 results and 0 failures\n"
     ]
    },
    {
     "name": "stdout",
     "output_type": "stream",
     "text": [
      "[INFO] trained_partitions: {'7', '6', '8', '2', '4', '1', '5', '3', '0', '9'}\n",
      "[INFO] shapley_values: {'14109915122520784357': np.float64(0.038075527089618345), '16857353847917058018': 1.0, '17404053802592907449': 0.0, '12275152569355108357': np.float64(0.09000560347787044), '7109502038303752640': np.float64(0.3371641431372435), '12458978761388628182': 0.0, '1623556211981120490': np.float64(0.6223397676582999), '14973552743668958058': np.float64(0.6690301475700277), '16638695129468460329': 0.0, '14375932597445359172': np.float64(0.39446697939565173)}\n"
     ]
    },
    {
     "name": "stderr",
     "output_type": "stream",
     "text": [
      "\u001b[92mINFO \u001b[0m:      fit progress: (62, 0.018525190752744676, {'accuracy': 0.7035}, 11450.318960742006)\n",
      "\u001b[92mINFO \u001b[0m:      configure_evaluate: strategy sampled 10 clients (out of 10)\n"
     ]
    },
    {
     "name": "stdout",
     "output_type": "stream",
     "text": [
      "user online: 10 offline: 0\n"
     ]
    },
    {
     "name": "stderr",
     "output_type": "stream",
     "text": [
      "\u001b[92mINFO \u001b[0m:      aggregate_evaluate: received 10 results and 0 failures\n",
      "\u001b[92mINFO \u001b[0m:      \n",
      "\u001b[92mINFO \u001b[0m:      [ROUND 63]\n",
      "\u001b[92mINFO \u001b[0m:      configure_fit: strategy sampled 10 clients (out of 10)\n",
      "\u001b[92mINFO \u001b[0m:      aggregate_fit: received 10 results and 0 failures\n"
     ]
    },
    {
     "name": "stdout",
     "output_type": "stream",
     "text": [
      "[INFO] trained_partitions: {'7', '6', '8', '4', '2', '1', '5', '3', '0', '9'}\n",
      "[INFO] shapley_values: {'17404053802592907449': np.float64(0.3338032394320627), '14109915122520784357': 0.0, '7109502038303752640': np.float64(0.3828939741880926), '16857353847917058018': np.float64(0.42852064797800965), '12458978761388628182': np.float64(0.1449863799291469), '14375932597445359172': np.float64(0.18918256757295174), '12275152569355108357': 0.0, '1623556211981120490': np.float64(0.18394975698931654), '14973552743668958058': 1.0, '16638695129468460329': 0.0}\n"
     ]
    },
    {
     "name": "stderr",
     "output_type": "stream",
     "text": [
      "\u001b[92mINFO \u001b[0m:      fit progress: (63, 0.01400165101289749, {'accuracy': 0.7102}, 11639.425936432992)\n",
      "\u001b[92mINFO \u001b[0m:      configure_evaluate: strategy sampled 10 clients (out of 10)\n"
     ]
    },
    {
     "name": "stdout",
     "output_type": "stream",
     "text": [
      "user online: 10 offline: 0\n"
     ]
    },
    {
     "name": "stderr",
     "output_type": "stream",
     "text": [
      "\u001b[92mINFO \u001b[0m:      aggregate_evaluate: received 10 results and 0 failures\n",
      "\u001b[92mINFO \u001b[0m:      \n",
      "\u001b[92mINFO \u001b[0m:      [ROUND 64]\n",
      "\u001b[92mINFO \u001b[0m:      configure_fit: strategy sampled 10 clients (out of 10)\n",
      "\u001b[92mINFO \u001b[0m:      aggregate_fit: received 10 results and 0 failures\n"
     ]
    },
    {
     "name": "stdout",
     "output_type": "stream",
     "text": [
      "[INFO] trained_partitions: {'7', '6', '8', '4', '2', '1', '5', '3', '0', '9'}\n",
      "[INFO] shapley_values: {'16638695129468460329': 0.0, '1623556211981120490': 0.0, '14109915122520784357': np.float64(0.07462667060969029), '12458978761388628182': np.float64(0.52920340801554), '12275152569355108357': np.float64(0.3080828907478609), '14375932597445359172': np.float64(0.9260521457117813), '16857353847917058018': 1.0, '17404053802592907449': np.float64(0.37641255209356816), '14973552743668958058': np.float64(0.9136031500791202), '7109502038303752640': np.float64(0.5830299678896445)}\n"
     ]
    },
    {
     "name": "stderr",
     "output_type": "stream",
     "text": [
      "\u001b[92mINFO \u001b[0m:      fit progress: (64, 0.011449173706769943, {'accuracy': 0.7847}, 11822.151518052997)\n",
      "\u001b[92mINFO \u001b[0m:      configure_evaluate: strategy sampled 10 clients (out of 10)\n"
     ]
    },
    {
     "name": "stdout",
     "output_type": "stream",
     "text": [
      "user online: 10 offline: 0\n"
     ]
    },
    {
     "name": "stderr",
     "output_type": "stream",
     "text": [
      "\u001b[92mINFO \u001b[0m:      aggregate_evaluate: received 10 results and 0 failures\n",
      "\u001b[92mINFO \u001b[0m:      \n",
      "\u001b[92mINFO \u001b[0m:      [ROUND 65]\n",
      "\u001b[92mINFO \u001b[0m:      configure_fit: strategy sampled 10 clients (out of 10)\n",
      "\u001b[92mINFO \u001b[0m:      aggregate_fit: received 10 results and 0 failures\n"
     ]
    },
    {
     "name": "stdout",
     "output_type": "stream",
     "text": [
      "[INFO] trained_partitions: {'7', '6', '8', '4', '2', '1', '5', '3', '0', '9'}\n",
      "[INFO] shapley_values: {'1623556211981120490': 0.0, '12458978761388628182': np.float64(0.21715439897279887), '16857353847917058018': np.float64(0.5534435766236449), '17404053802592907449': np.float64(0.48901539850178727), '14375932597445359172': np.float64(0.33040581660287044), '14973552743668958058': 1.0, '16638695129468460329': np.float64(0.03613087905467877), '12275152569355108357': np.float64(0.3188644423249757), '14109915122520784357': np.float64(0.1109802071076883), '7109502038303752640': 0.0}\n"
     ]
    },
    {
     "name": "stderr",
     "output_type": "stream",
     "text": [
      "\u001b[92mINFO \u001b[0m:      fit progress: (65, 0.011433449655771255, {'accuracy': 0.7573}, 12004.768388489)\n",
      "\u001b[92mINFO \u001b[0m:      configure_evaluate: strategy sampled 10 clients (out of 10)\n"
     ]
    },
    {
     "name": "stdout",
     "output_type": "stream",
     "text": [
      "user online: 10 offline: 0\n"
     ]
    },
    {
     "name": "stderr",
     "output_type": "stream",
     "text": [
      "\u001b[92mINFO \u001b[0m:      aggregate_evaluate: received 10 results and 0 failures\n",
      "\u001b[92mINFO \u001b[0m:      \n",
      "\u001b[92mINFO \u001b[0m:      [ROUND 66]\n",
      "\u001b[92mINFO \u001b[0m:      configure_fit: strategy sampled 10 clients (out of 10)\n",
      "\u001b[92mINFO \u001b[0m:      aggregate_fit: received 10 results and 0 failures\n"
     ]
    },
    {
     "name": "stdout",
     "output_type": "stream",
     "text": [
      "[INFO] trained_partitions: {'7', '6', '8', '4', '2', '1', '5', '3', '0', '9'}\n",
      "[INFO] shapley_values: {'14375932597445359172': np.float64(0.7568963153475543), '17404053802592907449': np.float64(0.5851372772986009), '1623556211981120490': np.float64(0.4820988005369292), '12275152569355108357': 0.0, '16638695129468460329': 0.0, '12458978761388628182': 0.0, '7109502038303752640': np.float64(0.27650285477446956), '16857353847917058018': np.float64(0.9078632810245387), '14973552743668958058': 1.0, '14109915122520784357': np.float64(0.12751634889432503)}\n"
     ]
    },
    {
     "name": "stderr",
     "output_type": "stream",
     "text": [
      "\u001b[92mINFO \u001b[0m:      fit progress: (66, 0.010583596462011338, {'accuracy': 0.8068}, 12187.952996684005)\n",
      "\u001b[92mINFO \u001b[0m:      configure_evaluate: strategy sampled 10 clients (out of 10)\n"
     ]
    },
    {
     "name": "stdout",
     "output_type": "stream",
     "text": [
      "user online: 10 offline: 0\n"
     ]
    },
    {
     "name": "stderr",
     "output_type": "stream",
     "text": [
      "\u001b[92mINFO \u001b[0m:      aggregate_evaluate: received 10 results and 0 failures\n",
      "\u001b[92mINFO \u001b[0m:      \n",
      "\u001b[92mINFO \u001b[0m:      [ROUND 67]\n",
      "\u001b[92mINFO \u001b[0m:      configure_fit: strategy sampled 10 clients (out of 10)\n",
      "\u001b[92mINFO \u001b[0m:      aggregate_fit: received 10 results and 0 failures\n"
     ]
    },
    {
     "name": "stdout",
     "output_type": "stream",
     "text": [
      "[INFO] trained_partitions: {'7', '6', '8', '2', '4', '1', '5', '3', '0', '9'}\n",
      "[INFO] shapley_values: {'14973552743668958058': 1.0, '14109915122520784357': 0.0, '17404053802592907449': np.float64(0.5300767925370449), '12275152569355108357': np.float64(0.053102924907643984), '1623556211981120490': np.float64(0.037483869138733146), '14375932597445359172': np.float64(0.622194670206196), '16638695129468460329': np.float64(0.25602162497273195), '7109502038303752640': np.float64(0.2785757538299697), '16857353847917058018': np.float64(0.16748710981721585), '12458978761388628182': np.float64(0.34693413530509076)}\n"
     ]
    },
    {
     "name": "stderr",
     "output_type": "stream",
     "text": [
      "\u001b[92mINFO \u001b[0m:      fit progress: (67, 0.009423361164331436, {'accuracy': 0.8062}, 12369.946863190009)\n",
      "\u001b[92mINFO \u001b[0m:      configure_evaluate: strategy sampled 10 clients (out of 10)\n"
     ]
    },
    {
     "name": "stdout",
     "output_type": "stream",
     "text": [
      "user online: 10 offline: 0\n"
     ]
    },
    {
     "name": "stderr",
     "output_type": "stream",
     "text": [
      "\u001b[92mINFO \u001b[0m:      aggregate_evaluate: received 10 results and 0 failures\n",
      "\u001b[92mINFO \u001b[0m:      \n",
      "\u001b[92mINFO \u001b[0m:      [ROUND 68]\n",
      "\u001b[92mINFO \u001b[0m:      configure_fit: strategy sampled 10 clients (out of 10)\n",
      "\u001b[92mINFO \u001b[0m:      aggregate_fit: received 10 results and 0 failures\n"
     ]
    },
    {
     "name": "stdout",
     "output_type": "stream",
     "text": [
      "[INFO] trained_partitions: {'7', '6', '8', '4', '2', '1', '5', '3', '0', '9'}\n",
      "[INFO] shapley_values: {'12275152569355108357': 0.0, '1623556211981120490': np.float64(0.32402385944109224), '12458978761388628182': np.float64(0.0027958237255621935), '14109915122520784357': np.float64(0.12525840045876785), '14973552743668958058': 1.0, '16857353847917058018': np.float64(0.4468996223996618), '17404053802592907449': np.float64(0.5006983248726993), '14375932597445359172': np.float64(0.3026591788871889), '16638695129468460329': 0.0, '7109502038303752640': np.float64(0.3513355159730127)}\n"
     ]
    },
    {
     "name": "stderr",
     "output_type": "stream",
     "text": [
      "\u001b[92mINFO \u001b[0m:      fit progress: (68, 0.008313196089863778, {'accuracy': 0.8418}, 12552.379278581997)\n",
      "\u001b[92mINFO \u001b[0m:      configure_evaluate: strategy sampled 10 clients (out of 10)\n"
     ]
    },
    {
     "name": "stdout",
     "output_type": "stream",
     "text": [
      "user online: 10 offline: 0\n"
     ]
    },
    {
     "name": "stderr",
     "output_type": "stream",
     "text": [
      "\u001b[92mINFO \u001b[0m:      aggregate_evaluate: received 10 results and 0 failures\n",
      "\u001b[92mINFO \u001b[0m:      \n",
      "\u001b[92mINFO \u001b[0m:      [ROUND 69]\n",
      "\u001b[92mINFO \u001b[0m:      configure_fit: strategy sampled 10 clients (out of 10)\n",
      "\u001b[92mINFO \u001b[0m:      aggregate_fit: received 10 results and 0 failures\n"
     ]
    },
    {
     "name": "stdout",
     "output_type": "stream",
     "text": [
      "[INFO] trained_partitions: {'7', '6', '8', '4', '2', '1', '5', '3', '0', '9'}\n",
      "[INFO] shapley_values: {'14973552743668958058': 1.0, '14375932597445359172': np.float64(0.19207548002225247), '12275152569355108357': np.float64(0.1837034144596522), '14109915122520784357': np.float64(0.049380124718106114), '12458978761388628182': np.float64(0.5634367384150761), '7109502038303752640': np.float64(0.5112911903041015), '16857353847917058018': 0.0, '16638695129468460329': 0.0, '17404053802592907449': np.float64(0.2861969361487091), '1623556211981120490': np.float64(0.41530514163342014)}\n"
     ]
    },
    {
     "name": "stderr",
     "output_type": "stream",
     "text": [
      "\u001b[92mINFO \u001b[0m:      fit progress: (69, 0.007610051640868187, {'accuracy': 0.8505}, 12734.678740862)\n",
      "\u001b[92mINFO \u001b[0m:      configure_evaluate: strategy sampled 10 clients (out of 10)\n"
     ]
    },
    {
     "name": "stdout",
     "output_type": "stream",
     "text": [
      "user online: 10 offline: 0\n"
     ]
    },
    {
     "name": "stderr",
     "output_type": "stream",
     "text": [
      "\u001b[92mINFO \u001b[0m:      aggregate_evaluate: received 10 results and 0 failures\n",
      "\u001b[92mINFO \u001b[0m:      \n",
      "\u001b[92mINFO \u001b[0m:      [ROUND 70]\n",
      "\u001b[92mINFO \u001b[0m:      configure_fit: strategy sampled 10 clients (out of 10)\n",
      "\u001b[92mINFO \u001b[0m:      aggregate_fit: received 10 results and 0 failures\n"
     ]
    },
    {
     "name": "stdout",
     "output_type": "stream",
     "text": [
      "[INFO] trained_partitions: {'7', '6', '8', '4', '2', '1', '5', '3', '0', '9'}\n",
      "[INFO] shapley_values: {'14375932597445359172': np.float64(0.5712012579884569), '14973552743668958058': 1.0, '1623556211981120490': 0.0, '12275152569355108357': 0.0, '17404053802592907449': np.float64(0.63299251779123), '14109915122520784357': np.float64(0.275684975911662), '12458978761388628182': np.float64(0.19122239402782168), '16638695129468460329': np.float64(0.3247264686565453), '7109502038303752640': np.float64(0.5632118963122279), '16857353847917058018': np.float64(0.2379919749887029)}\n"
     ]
    },
    {
     "name": "stderr",
     "output_type": "stream",
     "text": [
      "\u001b[92mINFO \u001b[0m:      fit progress: (70, 0.0070030103906989095, {'accuracy': 0.8694}, 12923.110792666994)\n",
      "\u001b[92mINFO \u001b[0m:      configure_evaluate: strategy sampled 10 clients (out of 10)\n"
     ]
    },
    {
     "name": "stdout",
     "output_type": "stream",
     "text": [
      "user online: 10 offline: 0\n"
     ]
    },
    {
     "name": "stderr",
     "output_type": "stream",
     "text": [
      "\u001b[92mINFO \u001b[0m:      aggregate_evaluate: received 10 results and 0 failures\n",
      "\u001b[92mINFO \u001b[0m:      \n",
      "\u001b[92mINFO \u001b[0m:      [ROUND 71]\n",
      "\u001b[92mINFO \u001b[0m:      configure_fit: strategy sampled 10 clients (out of 10)\n",
      "\u001b[92mINFO \u001b[0m:      aggregate_fit: received 10 results and 0 failures\n"
     ]
    },
    {
     "name": "stdout",
     "output_type": "stream",
     "text": [
      "[INFO] trained_partitions: {'7', '6', '8', '2', '4', '1', '5', '3', '0', '9'}\n",
      "[INFO] shapley_values: {'12275152569355108357': np.float64(0.22867310086631856), '14973552743668958058': 1.0, '17404053802592907449': np.float64(0.27547219221451735), '14375932597445359172': np.float64(0.31832430523127025), '7109502038303752640': np.float64(0.4775871683487721), '14109915122520784357': np.float64(0.14536090411383226), '12458978761388628182': np.float64(0.24905853332910768), '1623556211981120490': np.float64(0.14244767258202234), '16638695129468460329': np.float64(0.1404523398944843), '16857353847917058018': 0.0}\n"
     ]
    },
    {
     "name": "stderr",
     "output_type": "stream",
     "text": [
      "\u001b[92mINFO \u001b[0m:      fit progress: (71, 0.009594364401698113, {'accuracy': 0.8082}, 13106.053055200988)\n",
      "\u001b[92mINFO \u001b[0m:      configure_evaluate: strategy sampled 10 clients (out of 10)\n"
     ]
    },
    {
     "name": "stdout",
     "output_type": "stream",
     "text": [
      "user online: 10 offline: 0\n"
     ]
    },
    {
     "name": "stderr",
     "output_type": "stream",
     "text": [
      "\u001b[92mINFO \u001b[0m:      aggregate_evaluate: received 10 results and 0 failures\n",
      "\u001b[92mINFO \u001b[0m:      \n",
      "\u001b[92mINFO \u001b[0m:      [ROUND 72]\n",
      "\u001b[92mINFO \u001b[0m:      configure_fit: strategy sampled 10 clients (out of 10)\n",
      "\u001b[92mINFO \u001b[0m:      aggregate_fit: received 10 results and 0 failures\n"
     ]
    },
    {
     "name": "stdout",
     "output_type": "stream",
     "text": [
      "[INFO] trained_partitions: {'7', '6', '8', '4', '2', '1', '5', '3', '0', '9'}\n",
      "[INFO] shapley_values: {'16857353847917058018': np.float64(0.26849119471877897), '14109915122520784357': np.float64(0.10575218507036595), '16638695129468460329': 0.0, '14375932597445359172': np.float64(0.3988253452310633), '12275152569355108357': np.float64(0.371328102574057), '17404053802592907449': np.float64(0.3842671489743859), '1623556211981120490': np.float64(0.2513318977924643), '14973552743668958058': 1.0, '12458978761388628182': 0.0, '7109502038303752640': np.float64(0.4064806984203518)}\n"
     ]
    },
    {
     "name": "stderr",
     "output_type": "stream",
     "text": [
      "\u001b[92mINFO \u001b[0m:      fit progress: (72, 0.007146271076798439, {'accuracy': 0.8551}, 13288.813484629994)\n",
      "\u001b[92mINFO \u001b[0m:      configure_evaluate: strategy sampled 10 clients (out of 10)\n"
     ]
    },
    {
     "name": "stdout",
     "output_type": "stream",
     "text": [
      "user online: 10 offline: 0\n"
     ]
    },
    {
     "name": "stderr",
     "output_type": "stream",
     "text": [
      "\u001b[92mINFO \u001b[0m:      aggregate_evaluate: received 10 results and 0 failures\n",
      "\u001b[92mINFO \u001b[0m:      \n",
      "\u001b[92mINFO \u001b[0m:      [ROUND 73]\n",
      "\u001b[92mINFO \u001b[0m:      configure_fit: strategy sampled 10 clients (out of 10)\n",
      "\u001b[92mINFO \u001b[0m:      aggregate_fit: received 10 results and 0 failures\n"
     ]
    },
    {
     "name": "stdout",
     "output_type": "stream",
     "text": [
      "[INFO] trained_partitions: {'7', '6', '8', '2', '4', '1', '5', '3', '0', '9'}\n",
      "[INFO] shapley_values: {'14375932597445359172': 1.0, '17404053802592907449': np.float64(0.6905055456608828), '12275152569355108357': 0.0, '16857353847917058018': 0.0, '7109502038303752640': 0.0, '14973552743668958058': np.float64(0.7255692707754565), '1623556211981120490': 0.0, '12458978761388628182': np.float64(0.5048441217335374), '16638695129468460329': np.float64(0.03042324857742514), '14109915122520784357': np.float64(0.25386810338169097)}\n"
     ]
    },
    {
     "name": "stderr",
     "output_type": "stream",
     "text": [
      "\u001b[92mINFO \u001b[0m:      fit progress: (73, 0.0076392310619354245, {'accuracy': 0.8366}, 13471.641753603995)\n",
      "\u001b[92mINFO \u001b[0m:      configure_evaluate: strategy sampled 10 clients (out of 10)\n"
     ]
    },
    {
     "name": "stdout",
     "output_type": "stream",
     "text": [
      "user online: 10 offline: 0\n"
     ]
    },
    {
     "name": "stderr",
     "output_type": "stream",
     "text": [
      "\u001b[92mINFO \u001b[0m:      aggregate_evaluate: received 10 results and 0 failures\n",
      "\u001b[92mINFO \u001b[0m:      \n",
      "\u001b[92mINFO \u001b[0m:      [ROUND 74]\n",
      "\u001b[92mINFO \u001b[0m:      configure_fit: strategy sampled 10 clients (out of 10)\n",
      "\u001b[92mINFO \u001b[0m:      aggregate_fit: received 10 results and 0 failures\n"
     ]
    },
    {
     "name": "stdout",
     "output_type": "stream",
     "text": [
      "[INFO] trained_partitions: {'7', '6', '8', '2', '4', '1', '5', '3', '0', '9'}\n",
      "[INFO] shapley_values: {'16857353847917058018': np.float64(0.5000357952280978), '14973552743668958058': np.float64(0.56158346686685), '14375932597445359172': np.float64(0.5985571752077307), '17404053802592907449': 1.0, '16638695129468460329': 0.0, '1623556211981120490': 0.0, '12275152569355108357': np.float64(0.5411802778074902), '7109502038303752640': 0.0, '14109915122520784357': np.float64(0.551293321235363), '12458978761388628182': np.float64(0.3953511548752199)}\n"
     ]
    },
    {
     "name": "stderr",
     "output_type": "stream",
     "text": [
      "\u001b[92mINFO \u001b[0m:      fit progress: (74, 0.007121674288809299, {'accuracy': 0.8553}, 13657.797383964993)\n",
      "\u001b[92mINFO \u001b[0m:      configure_evaluate: strategy sampled 10 clients (out of 10)\n"
     ]
    },
    {
     "name": "stdout",
     "output_type": "stream",
     "text": [
      "user online: 10 offline: 0\n"
     ]
    },
    {
     "name": "stderr",
     "output_type": "stream",
     "text": [
      "\u001b[92mINFO \u001b[0m:      aggregate_evaluate: received 10 results and 0 failures\n",
      "\u001b[92mINFO \u001b[0m:      \n",
      "\u001b[92mINFO \u001b[0m:      [ROUND 75]\n",
      "\u001b[92mINFO \u001b[0m:      configure_fit: strategy sampled 10 clients (out of 10)\n",
      "\u001b[92mINFO \u001b[0m:      aggregate_fit: received 10 results and 0 failures\n"
     ]
    },
    {
     "name": "stdout",
     "output_type": "stream",
     "text": [
      "[INFO] trained_partitions: {'7', '6', '8', '2', '4', '1', '5', '3', '0', '9'}\n",
      "[INFO] shapley_values: {'12275152569355108357': np.float64(0.5414257696675039), '16857353847917058018': 0.0, '14973552743668958058': 1.0, '7109502038303752640': np.float64(0.591696859129925), '1623556211981120490': np.float64(0.0690091045596317), '16638695129468460329': 0.0, '12458978761388628182': 0.0, '17404053802592907449': np.float64(0.671250815366164), '14109915122520784357': np.float64(0.08826862284567669), '14375932597445359172': np.float64(0.635367258800182)}\n"
     ]
    },
    {
     "name": "stderr",
     "output_type": "stream",
     "text": [
      "\u001b[92mINFO \u001b[0m:      fit progress: (75, 0.009132577493786811, {'accuracy': 0.7928}, 13841.012637523003)\n",
      "\u001b[92mINFO \u001b[0m:      configure_evaluate: strategy sampled 10 clients (out of 10)\n"
     ]
    },
    {
     "name": "stdout",
     "output_type": "stream",
     "text": [
      "user online: 10 offline: 0\n"
     ]
    },
    {
     "name": "stderr",
     "output_type": "stream",
     "text": [
      "\u001b[92mINFO \u001b[0m:      aggregate_evaluate: received 10 results and 0 failures\n",
      "\u001b[92mINFO \u001b[0m:      \n",
      "\u001b[92mINFO \u001b[0m:      [ROUND 76]\n",
      "\u001b[92mINFO \u001b[0m:      configure_fit: strategy sampled 10 clients (out of 10)\n",
      "\u001b[92mINFO \u001b[0m:      aggregate_fit: received 10 results and 0 failures\n"
     ]
    },
    {
     "name": "stdout",
     "output_type": "stream",
     "text": [
      "[INFO] trained_partitions: {'7', '6', '8', '4', '2', '1', '5', '3', '0', '9'}\n",
      "[INFO] shapley_values: {'14375932597445359172': 1.0, '17404053802592907449': np.float64(0.366178937627723), '12458978761388628182': np.float64(0.19263301730784915), '16857353847917058018': np.float64(0.7206963717753957), '12275152569355108357': np.float64(0.40121806765124707), '16638695129468460329': 0.0, '14109915122520784357': np.float64(0.5826331362766318), '1623556211981120490': 0.0, '7109502038303752640': np.float64(0.1830735317581071), '14973552743668958058': np.float64(0.8327466110846119)}\n"
     ]
    },
    {
     "name": "stderr",
     "output_type": "stream",
     "text": [
      "\u001b[92mINFO \u001b[0m:      fit progress: (76, 0.011629218816757202, {'accuracy': 0.7641}, 14024.118080024986)\n",
      "\u001b[92mINFO \u001b[0m:      configure_evaluate: strategy sampled 10 clients (out of 10)\n"
     ]
    },
    {
     "name": "stdout",
     "output_type": "stream",
     "text": [
      "user online: 10 offline: 0\n"
     ]
    },
    {
     "name": "stderr",
     "output_type": "stream",
     "text": [
      "\u001b[92mINFO \u001b[0m:      aggregate_evaluate: received 10 results and 0 failures\n",
      "\u001b[92mINFO \u001b[0m:      \n",
      "\u001b[92mINFO \u001b[0m:      [ROUND 77]\n",
      "\u001b[92mINFO \u001b[0m:      configure_fit: strategy sampled 10 clients (out of 10)\n",
      "\u001b[92mINFO \u001b[0m:      aggregate_fit: received 10 results and 0 failures\n"
     ]
    },
    {
     "name": "stdout",
     "output_type": "stream",
     "text": [
      "[INFO] trained_partitions: {'7', '6', '8', '2', '4', '1', '5', '3', '0', '9'}\n",
      "[INFO] shapley_values: {'14973552743668958058': np.float64(0.5605341852998322), '12458978761388628182': 0.0, '7109502038303752640': np.float64(0.11699101081210203), '14109915122520784357': 1.0, '12275152569355108357': np.float64(0.7252282520638427), '14375932597445359172': np.float64(0.5759267238660213), '16638695129468460329': np.float64(0.46148954110218593), '17404053802592907449': np.float64(0.7367296137024126), '16857353847917058018': 0.0, '1623556211981120490': np.float64(0.32578697918050153)}\n"
     ]
    },
    {
     "name": "stderr",
     "output_type": "stream",
     "text": [
      "\u001b[92mINFO \u001b[0m:      fit progress: (77, 0.019020516330003737, {'accuracy': 0.6678}, 14207.268542211998)\n",
      "\u001b[92mINFO \u001b[0m:      configure_evaluate: strategy sampled 10 clients (out of 10)\n"
     ]
    },
    {
     "name": "stdout",
     "output_type": "stream",
     "text": [
      "user online: 10 offline: 0\n"
     ]
    },
    {
     "name": "stderr",
     "output_type": "stream",
     "text": [
      "\u001b[92mINFO \u001b[0m:      aggregate_evaluate: received 10 results and 0 failures\n",
      "\u001b[92mINFO \u001b[0m:      \n",
      "\u001b[92mINFO \u001b[0m:      [ROUND 78]\n",
      "\u001b[92mINFO \u001b[0m:      configure_fit: strategy sampled 10 clients (out of 10)\n",
      "\u001b[92mINFO \u001b[0m:      aggregate_fit: received 10 results and 0 failures\n"
     ]
    },
    {
     "name": "stdout",
     "output_type": "stream",
     "text": [
      "[INFO] trained_partitions: {'7', '6', '8', '4', '2', '1', '5', '3', '0', '9'}\n",
      "[INFO] shapley_values: {'14375932597445359172': np.float64(0.7018684690687301), '1623556211981120490': 0.0, '16638695129468460329': np.float64(0.2454469631044685), '12458978761388628182': np.float64(0.16870095550197048), '12275152569355108357': 0.0, '17404053802592907449': 0.0, '14973552743668958058': 1.0, '7109502038303752640': np.float64(0.4415696011892224), '14109915122520784357': np.float64(0.44690900681056556), '16857353847917058018': np.float64(0.5028539473260448)}\n"
     ]
    },
    {
     "name": "stderr",
     "output_type": "stream",
     "text": [
      "\u001b[92mINFO \u001b[0m:      fit progress: (78, 0.01704205815792084, {'accuracy': 0.7048}, 14394.499499758007)\n",
      "\u001b[92mINFO \u001b[0m:      configure_evaluate: strategy sampled 10 clients (out of 10)\n"
     ]
    },
    {
     "name": "stdout",
     "output_type": "stream",
     "text": [
      "user online: 10 offline: 0\n"
     ]
    },
    {
     "name": "stderr",
     "output_type": "stream",
     "text": [
      "\u001b[92mINFO \u001b[0m:      aggregate_evaluate: received 10 results and 0 failures\n",
      "\u001b[92mINFO \u001b[0m:      \n",
      "\u001b[92mINFO \u001b[0m:      [ROUND 79]\n",
      "\u001b[92mINFO \u001b[0m:      configure_fit: strategy sampled 10 clients (out of 10)\n",
      "\u001b[92mINFO \u001b[0m:      aggregate_fit: received 10 results and 0 failures\n"
     ]
    },
    {
     "name": "stdout",
     "output_type": "stream",
     "text": [
      "[INFO] trained_partitions: {'7', '6', '8', '2', '4', '1', '5', '3', '0', '9'}\n",
      "[INFO] shapley_values: {'16857353847917058018': np.float64(0.15798806856668146), '14375932597445359172': np.float64(0.3360956307644264), '14973552743668958058': np.float64(0.261349185892028), '17404053802592907449': 1.0, '7109502038303752640': 0.0, '12458978761388628182': np.float64(0.11723050136385832), '14109915122520784357': 0.0, '16638695129468460329': np.float64(0.17242167319554644), '1623556211981120490': 0.0, '12275152569355108357': np.float64(0.17657890557581044)}\n"
     ]
    },
    {
     "name": "stderr",
     "output_type": "stream",
     "text": [
      "\u001b[92mINFO \u001b[0m:      fit progress: (79, 0.011089762991666793, {'accuracy': 0.7607}, 14577.605138373008)\n",
      "\u001b[92mINFO \u001b[0m:      configure_evaluate: strategy sampled 10 clients (out of 10)\n"
     ]
    },
    {
     "name": "stdout",
     "output_type": "stream",
     "text": [
      "user online: 10 offline: 0\n"
     ]
    },
    {
     "name": "stderr",
     "output_type": "stream",
     "text": [
      "\u001b[92mINFO \u001b[0m:      aggregate_evaluate: received 10 results and 0 failures\n",
      "\u001b[92mINFO \u001b[0m:      \n",
      "\u001b[92mINFO \u001b[0m:      [ROUND 80]\n",
      "\u001b[92mINFO \u001b[0m:      configure_fit: strategy sampled 10 clients (out of 10)\n",
      "\u001b[92mINFO \u001b[0m:      aggregate_fit: received 10 results and 0 failures\n"
     ]
    },
    {
     "name": "stdout",
     "output_type": "stream",
     "text": [
      "[INFO] trained_partitions: {'7', '6', '8', '4', '2', '1', '5', '3', '0', '9'}\n",
      "[INFO] shapley_values: {'1623556211981120490': np.float64(0.2817614522876065), '14109915122520784357': 0.0, '16857353847917058018': np.float64(0.30430647780618003), '17404053802592907449': 1.0, '14973552743668958058': np.float64(0.988385127515297), '16638695129468460329': 0.0, '12458978761388628182': 0.0, '12275152569355108357': np.float64(0.28180429564080395), '14375932597445359172': np.float64(0.7404984594028049), '7109502038303752640': np.float64(0.47853514632928285)}\n"
     ]
    },
    {
     "name": "stderr",
     "output_type": "stream",
     "text": [
      "\u001b[92mINFO \u001b[0m:      fit progress: (80, 0.018364543429017065, {'accuracy': 0.8186}, 14760.242218645988)\n",
      "\u001b[92mINFO \u001b[0m:      configure_evaluate: strategy sampled 10 clients (out of 10)\n"
     ]
    },
    {
     "name": "stdout",
     "output_type": "stream",
     "text": [
      "user online: 10 offline: 0\n"
     ]
    },
    {
     "name": "stderr",
     "output_type": "stream",
     "text": [
      "\u001b[92mINFO \u001b[0m:      aggregate_evaluate: received 10 results and 0 failures\n",
      "\u001b[92mINFO \u001b[0m:      \n",
      "\u001b[92mINFO \u001b[0m:      [ROUND 81]\n",
      "\u001b[92mINFO \u001b[0m:      configure_fit: strategy sampled 10 clients (out of 10)\n",
      "\u001b[92mINFO \u001b[0m:      aggregate_fit: received 10 results and 0 failures\n"
     ]
    },
    {
     "name": "stdout",
     "output_type": "stream",
     "text": [
      "[INFO] trained_partitions: {'7', '6', '8', '2', '4', '1', '5', '3', '0', '9'}\n",
      "[INFO] shapley_values: {'14973552743668958058': 1.0, '17404053802592907449': np.float64(0.7239950244993251), '14109915122520784357': np.float64(0.40849037379732034), '16638695129468460329': 0.0, '14375932597445359172': np.float64(0.3104923834838), '1623556211981120490': 0.0, '7109502038303752640': np.float64(0.37601888691829194), '12458978761388628182': np.float64(0.43897274266559155), '16857353847917058018': np.float64(0.6071542910936867), '12275152569355108357': np.float64(0.5665317734344715)}\n"
     ]
    },
    {
     "name": "stderr",
     "output_type": "stream",
     "text": [
      "\u001b[92mINFO \u001b[0m:      fit progress: (81, 0.013740932115912437, {'accuracy': 0.7613}, 14943.39231654699)\n",
      "\u001b[92mINFO \u001b[0m:      configure_evaluate: strategy sampled 10 clients (out of 10)\n"
     ]
    },
    {
     "name": "stdout",
     "output_type": "stream",
     "text": [
      "user online: 10 offline: 0\n"
     ]
    },
    {
     "name": "stderr",
     "output_type": "stream",
     "text": [
      "\u001b[92mINFO \u001b[0m:      aggregate_evaluate: received 10 results and 0 failures\n",
      "\u001b[92mINFO \u001b[0m:      \n",
      "\u001b[92mINFO \u001b[0m:      [ROUND 82]\n",
      "\u001b[92mINFO \u001b[0m:      configure_fit: strategy sampled 10 clients (out of 10)\n",
      "\u001b[92mINFO \u001b[0m:      aggregate_fit: received 10 results and 0 failures\n"
     ]
    },
    {
     "name": "stdout",
     "output_type": "stream",
     "text": [
      "[INFO] trained_partitions: {'7', '6', '8', '2', '4', '1', '5', '3', '0', '9'}\n",
      "[INFO] shapley_values: {'7109502038303752640': 0.0, '14375932597445359172': np.float64(0.7071642688734108), '16638695129468460329': 0.0, '16857353847917058018': np.float64(0.38801597323416137), '14109915122520784357': np.float64(0.13766311679215004), '12275152569355108357': np.float64(0.2764390756258995), '14973552743668958058': 1.0, '12458978761388628182': np.float64(0.4766229965792672), '1623556211981120490': 0.0, '17404053802592907449': np.float64(0.3365851182801621)}\n"
     ]
    },
    {
     "name": "stderr",
     "output_type": "stream",
     "text": [
      "\u001b[92mINFO \u001b[0m:      fit progress: (82, 0.006502698674798012, {'accuracy': 0.881}, 15133.07926615799)\n",
      "\u001b[92mINFO \u001b[0m:      configure_evaluate: strategy sampled 10 clients (out of 10)\n"
     ]
    },
    {
     "name": "stdout",
     "output_type": "stream",
     "text": [
      "user online: 10 offline: 0\n"
     ]
    },
    {
     "name": "stderr",
     "output_type": "stream",
     "text": [
      "\u001b[92mINFO \u001b[0m:      aggregate_evaluate: received 10 results and 0 failures\n",
      "\u001b[92mINFO \u001b[0m:      \n",
      "\u001b[92mINFO \u001b[0m:      [ROUND 83]\n",
      "\u001b[92mINFO \u001b[0m:      configure_fit: strategy sampled 10 clients (out of 10)\n",
      "\u001b[92mINFO \u001b[0m:      aggregate_fit: received 10 results and 0 failures\n"
     ]
    },
    {
     "name": "stdout",
     "output_type": "stream",
     "text": [
      "[INFO] trained_partitions: {'7', '6', '8', '2', '4', '1', '5', '3', '0', '9'}\n",
      "[INFO] shapley_values: {'12275152569355108357': np.float64(0.043655499359578236), '14973552743668958058': np.float64(0.5245717849832612), '7109502038303752640': np.float64(0.3364909934489793), '17404053802592907449': np.float64(0.4778546979286029), '1623556211981120490': np.float64(0.06107660101690608), '16857353847917058018': np.float64(0.1801803658295374), '14109915122520784357': np.float64(0.15439944065099645), '14375932597445359172': 1.0, '12458978761388628182': 0.0, '16638695129468460329': np.float64(0.1806351549203303)}\n"
     ]
    },
    {
     "name": "stderr",
     "output_type": "stream",
     "text": [
      "\u001b[92mINFO \u001b[0m:      fit progress: (83, 0.01015657856464386, {'accuracy': 0.7717}, 15315.959003669006)\n",
      "\u001b[92mINFO \u001b[0m:      configure_evaluate: strategy sampled 10 clients (out of 10)\n"
     ]
    },
    {
     "name": "stdout",
     "output_type": "stream",
     "text": [
      "user online: 10 offline: 0\n"
     ]
    },
    {
     "name": "stderr",
     "output_type": "stream",
     "text": [
      "\u001b[92mINFO \u001b[0m:      aggregate_evaluate: received 10 results and 0 failures\n",
      "\u001b[92mINFO \u001b[0m:      \n",
      "\u001b[92mINFO \u001b[0m:      [ROUND 84]\n",
      "\u001b[92mINFO \u001b[0m:      configure_fit: strategy sampled 10 clients (out of 10)\n",
      "\u001b[92mINFO \u001b[0m:      aggregate_fit: received 10 results and 0 failures\n"
     ]
    },
    {
     "name": "stdout",
     "output_type": "stream",
     "text": [
      "[INFO] trained_partitions: {'7', '6', '8', '4', '2', '1', '5', '3', '0', '9'}\n",
      "[INFO] shapley_values: {'12275152569355108357': np.float64(0.6436312126015115), '16857353847917058018': np.float64(0.11428486956072352), '14973552743668958058': 1.0, '12458978761388628182': np.float64(0.04311344437025874), '17404053802592907449': np.float64(0.8206610304835628), '1623556211981120490': np.float64(0.01599205786567228), '14109915122520784357': np.float64(0.04114377843421308), '7109502038303752640': np.float64(0.2581389181483507), '14375932597445359172': np.float64(0.7854279679089676), '16638695129468460329': 0.0}\n"
     ]
    },
    {
     "name": "stderr",
     "output_type": "stream",
     "text": [
      "\u001b[92mINFO \u001b[0m:      fit progress: (84, 0.00908859973102808, {'accuracy': 0.8285}, 15498.562459759996)\n",
      "\u001b[92mINFO \u001b[0m:      configure_evaluate: strategy sampled 10 clients (out of 10)\n"
     ]
    },
    {
     "name": "stdout",
     "output_type": "stream",
     "text": [
      "user online: 10 offline: 0\n"
     ]
    },
    {
     "name": "stderr",
     "output_type": "stream",
     "text": [
      "\u001b[92mINFO \u001b[0m:      aggregate_evaluate: received 10 results and 0 failures\n",
      "\u001b[92mINFO \u001b[0m:      \n",
      "\u001b[92mINFO \u001b[0m:      [ROUND 85]\n",
      "\u001b[92mINFO \u001b[0m:      configure_fit: strategy sampled 10 clients (out of 10)\n",
      "\u001b[92mINFO \u001b[0m:      aggregate_fit: received 10 results and 0 failures\n"
     ]
    },
    {
     "name": "stdout",
     "output_type": "stream",
     "text": [
      "[INFO] trained_partitions: {'7', '6', '8', '4', '2', '1', '5', '3', '0', '9'}\n",
      "[INFO] shapley_values: {'7109502038303752640': np.float64(0.518792298921489), '14109915122520784357': np.float64(0.5146736728443433), '16857353847917058018': np.float64(0.5123523123433145), '12458978761388628182': np.float64(0.22631674209561503), '14973552743668958058': 1.0, '16638695129468460329': np.float64(0.39757110294404474), '12275152569355108357': np.float64(0.6228346957809151), '17404053802592907449': np.float64(0.47872484733077336), '14375932597445359172': np.float64(0.48020405566119934), '1623556211981120490': 0.0}\n"
     ]
    },
    {
     "name": "stderr",
     "output_type": "stream",
     "text": [
      "\u001b[92mINFO \u001b[0m:      fit progress: (85, 0.006258479796350002, {'accuracy': 0.8922}, 15683.11036819499)\n",
      "\u001b[92mINFO \u001b[0m:      configure_evaluate: strategy sampled 10 clients (out of 10)\n"
     ]
    },
    {
     "name": "stdout",
     "output_type": "stream",
     "text": [
      "user online: 10 offline: 0\n"
     ]
    },
    {
     "name": "stderr",
     "output_type": "stream",
     "text": [
      "\u001b[92mINFO \u001b[0m:      aggregate_evaluate: received 10 results and 0 failures\n",
      "\u001b[92mINFO \u001b[0m:      \n",
      "\u001b[92mINFO \u001b[0m:      [ROUND 86]\n",
      "\u001b[92mINFO \u001b[0m:      configure_fit: strategy sampled 10 clients (out of 10)\n",
      "\u001b[92mINFO \u001b[0m:      aggregate_fit: received 10 results and 0 failures\n"
     ]
    },
    {
     "name": "stdout",
     "output_type": "stream",
     "text": [
      "[INFO] trained_partitions: {'7', '6', '8', '4', '2', '1', '5', '3', '0', '9'}\n",
      "[INFO] shapley_values: {'1623556211981120490': 0.0, '16857353847917058018': np.float64(0.06518377120064983), '12458978761388628182': np.float64(0.6594788744268291), '14973552743668958058': 1.0, '14375932597445359172': np.float64(0.6218693355164525), '17404053802592907449': np.float64(0.6309747068429218), '12275152569355108357': np.float64(0.7039252720344602), '7109502038303752640': np.float64(0.6432045566239183), '14109915122520784357': np.float64(0.05073716105846616), '16638695129468460329': np.float64(0.34667298861870105)}\n"
     ]
    },
    {
     "name": "stderr",
     "output_type": "stream",
     "text": [
      "\u001b[92mINFO \u001b[0m:      fit progress: (86, 0.006220993334054947, {'accuracy': 0.8769}, 15874.753700600006)\n",
      "\u001b[92mINFO \u001b[0m:      configure_evaluate: strategy sampled 10 clients (out of 10)\n"
     ]
    },
    {
     "name": "stdout",
     "output_type": "stream",
     "text": [
      "user online: 10 offline: 0\n"
     ]
    },
    {
     "name": "stderr",
     "output_type": "stream",
     "text": [
      "\u001b[92mINFO \u001b[0m:      aggregate_evaluate: received 10 results and 0 failures\n",
      "\u001b[92mINFO \u001b[0m:      \n",
      "\u001b[92mINFO \u001b[0m:      [ROUND 87]\n",
      "\u001b[92mINFO \u001b[0m:      configure_fit: strategy sampled 10 clients (out of 10)\n",
      "\u001b[92mINFO \u001b[0m:      aggregate_fit: received 10 results and 0 failures\n"
     ]
    },
    {
     "name": "stdout",
     "output_type": "stream",
     "text": [
      "[INFO] trained_partitions: {'7', '6', '8', '4', '2', '1', '5', '3', '0', '9'}\n",
      "[INFO] shapley_values: {'14375932597445359172': 1.0, '16857353847917058018': 0.0, '14973552743668958058': np.float64(0.8164677947902262), '12458978761388628182': np.float64(0.1850441788025454), '14109915122520784357': np.float64(0.3728585608043618), '7109502038303752640': np.float64(0.31485224913267423), '16638695129468460329': np.float64(0.18946291953999048), '1623556211981120490': np.float64(0.046043637575492465), '12275152569355108357': np.float64(0.8622709425358647), '17404053802592907449': np.float64(0.6628153331826069)}\n"
     ]
    },
    {
     "name": "stderr",
     "output_type": "stream",
     "text": [
      "\u001b[92mINFO \u001b[0m:      fit progress: (87, 0.005273665606975555, {'accuracy': 0.9066}, 16058.526467379008)\n",
      "\u001b[92mINFO \u001b[0m:      configure_evaluate: strategy sampled 10 clients (out of 10)\n"
     ]
    },
    {
     "name": "stdout",
     "output_type": "stream",
     "text": [
      "user online: 10 offline: 0\n"
     ]
    },
    {
     "name": "stderr",
     "output_type": "stream",
     "text": [
      "\u001b[92mINFO \u001b[0m:      aggregate_evaluate: received 10 results and 0 failures\n",
      "\u001b[92mINFO \u001b[0m:      \n",
      "\u001b[92mINFO \u001b[0m:      [ROUND 88]\n",
      "\u001b[92mINFO \u001b[0m:      configure_fit: strategy sampled 10 clients (out of 10)\n",
      "\u001b[92mINFO \u001b[0m:      aggregate_fit: received 10 results and 0 failures\n"
     ]
    },
    {
     "name": "stdout",
     "output_type": "stream",
     "text": [
      "[INFO] trained_partitions: {'7', '6', '8', '4', '2', '1', '5', '3', '0', '9'}\n",
      "[INFO] shapley_values: {'7109502038303752640': np.float64(0.21774559396640622), '17404053802592907449': np.float64(0.6432085233757437), '14109915122520784357': np.float64(0.2058183227881399), '16638695129468460329': np.float64(0.2879858897993187), '12458978761388628182': np.float64(0.37620852955867984), '14973552743668958058': 1.0, '12275152569355108357': np.float64(0.6009457715431114), '16857353847917058018': np.float64(0.4897172853329631), '14375932597445359172': np.float64(0.6511251186783166), '1623556211981120490': np.float64(0.07038849831309263)}\n"
     ]
    },
    {
     "name": "stderr",
     "output_type": "stream",
     "text": [
      "\u001b[92mINFO \u001b[0m:      fit progress: (88, 0.005192558431625366, {'accuracy': 0.9009}, 16242.707878577989)\n",
      "\u001b[92mINFO \u001b[0m:      configure_evaluate: strategy sampled 10 clients (out of 10)\n"
     ]
    },
    {
     "name": "stdout",
     "output_type": "stream",
     "text": [
      "user online: 10 offline: 0\n"
     ]
    },
    {
     "name": "stderr",
     "output_type": "stream",
     "text": [
      "\u001b[92mINFO \u001b[0m:      aggregate_evaluate: received 10 results and 0 failures\n",
      "\u001b[92mINFO \u001b[0m:      \n",
      "\u001b[92mINFO \u001b[0m:      [ROUND 89]\n",
      "\u001b[92mINFO \u001b[0m:      configure_fit: strategy sampled 10 clients (out of 10)\n",
      "\u001b[92mINFO \u001b[0m:      aggregate_fit: received 10 results and 0 failures\n"
     ]
    },
    {
     "name": "stdout",
     "output_type": "stream",
     "text": [
      "[INFO] trained_partitions: {'7', '6', '8', '4', '2', '1', '5', '3', '0', '9'}\n",
      "[INFO] shapley_values: {'16857353847917058018': np.float64(0.49644534474856794), '12458978761388628182': np.float64(0.15175041691866367), '14109915122520784357': np.float64(0.4708586470257532), '1623556211981120490': np.float64(0.21566505620625082), '17404053802592907449': np.float64(0.7672731365111228), '16638695129468460329': np.float64(0.306185747585295), '14973552743668958058': 1.0, '14375932597445359172': np.float64(0.8320920124537803), '7109502038303752640': np.float64(0.19529497034744847), '12275152569355108357': 0.0}\n"
     ]
    },
    {
     "name": "stderr",
     "output_type": "stream",
     "text": [
      "\u001b[92mINFO \u001b[0m:      fit progress: (89, 0.004698174858093262, {'accuracy': 0.9129}, 16426.742640118)\n",
      "\u001b[92mINFO \u001b[0m:      configure_evaluate: strategy sampled 10 clients (out of 10)\n"
     ]
    },
    {
     "name": "stdout",
     "output_type": "stream",
     "text": [
      "user online: 10 offline: 0\n"
     ]
    },
    {
     "name": "stderr",
     "output_type": "stream",
     "text": [
      "\u001b[92mINFO \u001b[0m:      aggregate_evaluate: received 10 results and 0 failures\n",
      "\u001b[92mINFO \u001b[0m:      \n",
      "\u001b[92mINFO \u001b[0m:      [ROUND 90]\n",
      "\u001b[92mINFO \u001b[0m:      configure_fit: strategy sampled 10 clients (out of 10)\n",
      "\u001b[92mINFO \u001b[0m:      aggregate_fit: received 10 results and 0 failures\n"
     ]
    },
    {
     "name": "stdout",
     "output_type": "stream",
     "text": [
      "[INFO] trained_partitions: {'7', '6', '8', '2', '4', '1', '5', '3', '0', '9'}\n",
      "[INFO] shapley_values: {'7109502038303752640': np.float64(0.10238806131878113), '14973552743668958058': np.float64(0.7790631704344443), '16638695129468460329': np.float64(0.32910412188738863), '14109915122520784357': np.float64(0.45723598991093495), '16857353847917058018': np.float64(0.28871906265883834), '12458978761388628182': np.float64(0.4872175157540887), '14375932597445359172': 1.0, '17404053802592907449': np.float64(0.5125920086644633), '12275152569355108357': np.float64(0.07310035380419132), '1623556211981120490': np.float64(0.12356472715477546)}\n"
     ]
    },
    {
     "name": "stderr",
     "output_type": "stream",
     "text": [
      "\u001b[92mINFO \u001b[0m:      fit progress: (90, 0.004676658387482166, {'accuracy': 0.9102}, 16610.081148556987)\n",
      "\u001b[92mINFO \u001b[0m:      configure_evaluate: strategy sampled 10 clients (out of 10)\n"
     ]
    },
    {
     "name": "stdout",
     "output_type": "stream",
     "text": [
      "user online: 10 offline: 0\n"
     ]
    },
    {
     "name": "stderr",
     "output_type": "stream",
     "text": [
      "\u001b[92mINFO \u001b[0m:      aggregate_evaluate: received 10 results and 0 failures\n",
      "\u001b[92mINFO \u001b[0m:      \n",
      "\u001b[92mINFO \u001b[0m:      [ROUND 91]\n",
      "\u001b[92mINFO \u001b[0m:      configure_fit: strategy sampled 10 clients (out of 10)\n",
      "\u001b[92mINFO \u001b[0m:      aggregate_fit: received 10 results and 0 failures\n"
     ]
    },
    {
     "name": "stdout",
     "output_type": "stream",
     "text": [
      "[INFO] trained_partitions: {'7', '6', '8', '2', '4', '1', '5', '3', '0', '9'}\n",
      "[INFO] shapley_values: {'14973552743668958058': 1.0, '1623556211981120490': 0.0, '14375932597445359172': np.float64(0.46773160264778124), '16857353847917058018': np.float64(0.4380253790230604), '14109915122520784357': np.float64(0.48281120808473926), '16638695129468460329': np.float64(0.12892685247835872), '12275152569355108357': np.float64(0.36628935633601417), '7109502038303752640': np.float64(0.46900854517003837), '12458978761388628182': np.float64(0.5067140805313458), '17404053802592907449': np.float64(0.7029388944384115)}\n"
     ]
    },
    {
     "name": "stderr",
     "output_type": "stream",
     "text": [
      "\u001b[92mINFO \u001b[0m:      fit progress: (91, 0.004433892644196749, {'accuracy': 0.9176}, 16793.84025129999)\n",
      "\u001b[92mINFO \u001b[0m:      configure_evaluate: strategy sampled 10 clients (out of 10)\n"
     ]
    },
    {
     "name": "stdout",
     "output_type": "stream",
     "text": [
      "user online: 10 offline: 0\n"
     ]
    },
    {
     "name": "stderr",
     "output_type": "stream",
     "text": [
      "\u001b[92mINFO \u001b[0m:      aggregate_evaluate: received 10 results and 0 failures\n",
      "\u001b[92mINFO \u001b[0m:      \n",
      "\u001b[92mINFO \u001b[0m:      [ROUND 92]\n",
      "\u001b[92mINFO \u001b[0m:      configure_fit: strategy sampled 10 clients (out of 10)\n",
      "\u001b[92mINFO \u001b[0m:      aggregate_fit: received 10 results and 0 failures\n"
     ]
    },
    {
     "name": "stdout",
     "output_type": "stream",
     "text": [
      "[INFO] trained_partitions: {'7', '6', '8', '4', '2', '1', '5', '3', '0', '9'}\n",
      "[INFO] shapley_values: {'7109502038303752640': np.float64(0.5010037198958527), '16857353847917058018': np.float64(0.016047105730587746), '17404053802592907449': 1.0, '14375932597445359172': np.float64(0.67088057323575), '12458978761388628182': np.float64(0.48622369766252965), '14973552743668958058': np.float64(0.9637839649309311), '1623556211981120490': np.float64(0.3311108956895395), '12275152569355108357': np.float64(0.21444831980627502), '14109915122520784357': np.float64(0.16126938054184972), '16638695129468460329': np.float64(0.36742318873220337)}\n"
     ]
    },
    {
     "name": "stderr",
     "output_type": "stream",
     "text": [
      "\u001b[92mINFO \u001b[0m:      fit progress: (92, 0.004087799897044897, {'accuracy': 0.9233}, 16982.435048048006)\n",
      "\u001b[92mINFO \u001b[0m:      configure_evaluate: strategy sampled 10 clients (out of 10)\n"
     ]
    },
    {
     "name": "stdout",
     "output_type": "stream",
     "text": [
      "user online: 10 offline: 0\n"
     ]
    },
    {
     "name": "stderr",
     "output_type": "stream",
     "text": [
      "\u001b[92mINFO \u001b[0m:      aggregate_evaluate: received 10 results and 0 failures\n",
      "\u001b[92mINFO \u001b[0m:      \n",
      "\u001b[92mINFO \u001b[0m:      [ROUND 93]\n",
      "\u001b[92mINFO \u001b[0m:      configure_fit: strategy sampled 10 clients (out of 10)\n",
      "\u001b[92mINFO \u001b[0m:      aggregate_fit: received 10 results and 0 failures\n"
     ]
    },
    {
     "name": "stdout",
     "output_type": "stream",
     "text": [
      "[INFO] trained_partitions: {'7', '6', '8', '4', '2', '1', '5', '3', '0', '9'}\n",
      "[INFO] shapley_values: {'14375932597445359172': np.float64(0.8903705907026527), '7109502038303752640': np.float64(0.2898092638847788), '12458978761388628182': np.float64(0.14465124037242563), '12275152569355108357': np.float64(0.09914816313377788), '16857353847917058018': np.float64(0.3939568357341703), '14109915122520784357': np.float64(0.4447189138653039), '16638695129468460329': 0.0, '14973552743668958058': 1.0, '17404053802592907449': np.float64(0.5451213152217275), '1623556211981120490': np.float64(0.373417696460785)}\n"
     ]
    },
    {
     "name": "stderr",
     "output_type": "stream",
     "text": [
      "\u001b[92mINFO \u001b[0m:      fit progress: (93, 0.004332972379028797, {'accuracy': 0.9161}, 17166.638442311)\n",
      "\u001b[92mINFO \u001b[0m:      configure_evaluate: strategy sampled 10 clients (out of 10)\n"
     ]
    },
    {
     "name": "stdout",
     "output_type": "stream",
     "text": [
      "user online: 10 offline: 0\n"
     ]
    },
    {
     "name": "stderr",
     "output_type": "stream",
     "text": [
      "\u001b[92mINFO \u001b[0m:      aggregate_evaluate: received 10 results and 0 failures\n",
      "\u001b[92mINFO \u001b[0m:      \n",
      "\u001b[92mINFO \u001b[0m:      [ROUND 94]\n",
      "\u001b[92mINFO \u001b[0m:      configure_fit: strategy sampled 10 clients (out of 10)\n",
      "\u001b[92mINFO \u001b[0m:      aggregate_fit: received 10 results and 0 failures\n"
     ]
    },
    {
     "name": "stdout",
     "output_type": "stream",
     "text": [
      "[INFO] trained_partitions: {'7', '6', '8', '4', '2', '1', '5', '3', '0', '9'}\n",
      "[INFO] shapley_values: {'14109915122520784357': np.float64(0.6280251867252998), '14973552743668958058': 1.0, '16857353847917058018': np.float64(0.46340063426949246), '12275152569355108357': np.float64(0.5900931877110291), '17404053802592907449': np.float64(0.5508617820924313), '14375932597445359172': np.float64(0.43203123292442164), '12458978761388628182': np.float64(0.3327044015896881), '16638695129468460329': 0.0, '1623556211981120490': 0.0, '7109502038303752640': np.float64(0.6647162913571952)}\n"
     ]
    },
    {
     "name": "stderr",
     "output_type": "stream",
     "text": [
      "\u001b[92mINFO \u001b[0m:      fit progress: (94, 0.004843435779213905, {'accuracy': 0.9028}, 17349.523968272988)\n",
      "\u001b[92mINFO \u001b[0m:      configure_evaluate: strategy sampled 10 clients (out of 10)\n"
     ]
    },
    {
     "name": "stdout",
     "output_type": "stream",
     "text": [
      "user online: 10 offline: 0\n"
     ]
    },
    {
     "name": "stderr",
     "output_type": "stream",
     "text": [
      "\u001b[92mINFO \u001b[0m:      aggregate_evaluate: received 10 results and 0 failures\n",
      "\u001b[92mINFO \u001b[0m:      \n",
      "\u001b[92mINFO \u001b[0m:      [ROUND 95]\n",
      "\u001b[92mINFO \u001b[0m:      configure_fit: strategy sampled 10 clients (out of 10)\n",
      "\u001b[92mINFO \u001b[0m:      aggregate_fit: received 10 results and 0 failures\n"
     ]
    },
    {
     "name": "stdout",
     "output_type": "stream",
     "text": [
      "[INFO] trained_partitions: {'7', '6', '8', '4', '2', '1', '5', '3', '0', '9'}\n",
      "[INFO] shapley_values: {'17404053802592907449': 0.0, '14375932597445359172': 1.0, '14109915122520784357': np.float64(0.9568597139078474), '16857353847917058018': np.float64(0.005482534736965316), '1623556211981120490': np.float64(0.48464641893031196), '14973552743668958058': np.float64(0.7874588561240917), '16638695129468460329': 0.0, '12275152569355108357': np.float64(0.41031034186651044), '12458978761388628182': 0.0, '7109502038303752640': np.float64(0.9812191112485082)}\n"
     ]
    },
    {
     "name": "stderr",
     "output_type": "stream",
     "text": [
      "\u001b[92mINFO \u001b[0m:      fit progress: (95, 0.006250343677401543, {'accuracy': 0.8697}, 17533.052266438986)\n",
      "\u001b[92mINFO \u001b[0m:      configure_evaluate: strategy sampled 10 clients (out of 10)\n"
     ]
    },
    {
     "name": "stdout",
     "output_type": "stream",
     "text": [
      "user online: 10 offline: 0\n"
     ]
    },
    {
     "name": "stderr",
     "output_type": "stream",
     "text": [
      "\u001b[92mINFO \u001b[0m:      aggregate_evaluate: received 10 results and 0 failures\n",
      "\u001b[92mINFO \u001b[0m:      \n",
      "\u001b[92mINFO \u001b[0m:      [ROUND 96]\n",
      "\u001b[92mINFO \u001b[0m:      configure_fit: strategy sampled 10 clients (out of 10)\n",
      "\u001b[92mINFO \u001b[0m:      aggregate_fit: received 10 results and 0 failures\n"
     ]
    },
    {
     "name": "stdout",
     "output_type": "stream",
     "text": [
      "[INFO] trained_partitions: {'7', '6', '8', '2', '4', '1', '5', '3', '0', '9'}\n",
      "[INFO] shapley_values: {'1623556211981120490': np.float64(0.2033618622733611), '12275152569355108357': 0.0, '17404053802592907449': np.float64(0.7528455379142555), '7109502038303752640': np.float64(0.47485553594525837), '16638695129468460329': 0.0, '14375932597445359172': np.float64(0.23066883033262736), '12458978761388628182': np.float64(0.5318982998590516), '16857353847917058018': np.float64(0.37304491588705474), '14109915122520784357': np.float64(0.4408934190618333), '14973552743668958058': 1.0}\n"
     ]
    },
    {
     "name": "stderr",
     "output_type": "stream",
     "text": [
      "\u001b[92mINFO \u001b[0m:      fit progress: (96, 0.00714382601827383, {'accuracy': 0.8542}, 17721.173041414993)\n",
      "\u001b[92mINFO \u001b[0m:      configure_evaluate: strategy sampled 10 clients (out of 10)\n"
     ]
    },
    {
     "name": "stdout",
     "output_type": "stream",
     "text": [
      "user online: 10 offline: 0\n"
     ]
    },
    {
     "name": "stderr",
     "output_type": "stream",
     "text": [
      "\u001b[92mINFO \u001b[0m:      aggregate_evaluate: received 10 results and 0 failures\n",
      "\u001b[92mINFO \u001b[0m:      \n",
      "\u001b[92mINFO \u001b[0m:      [ROUND 97]\n",
      "\u001b[92mINFO \u001b[0m:      configure_fit: strategy sampled 10 clients (out of 10)\n",
      "\u001b[92mINFO \u001b[0m:      aggregate_fit: received 10 results and 0 failures\n"
     ]
    },
    {
     "name": "stdout",
     "output_type": "stream",
     "text": [
      "[INFO] trained_partitions: {'7', '6', '8', '4', '2', '1', '5', '3', '0', '9'}\n",
      "[INFO] shapley_values: {'14375932597445359172': np.float64(0.39124071322489207), '14973552743668958058': np.float64(0.9224111245365616), '14109915122520784357': np.float64(0.5797307824309146), '12458978761388628182': 0.0, '17404053802592907449': 1.0, '12275152569355108357': np.float64(0.5806563776908527), '16857353847917058018': np.float64(0.15975484486081135), '7109502038303752640': 0.0, '16638695129468460329': 0.0, '1623556211981120490': np.float64(0.3853718341665548)}\n"
     ]
    },
    {
     "name": "stderr",
     "output_type": "stream",
     "text": [
      "\u001b[92mINFO \u001b[0m:      fit progress: (97, 0.01270487921833992, {'accuracy': 0.8008}, 17904.637100327003)\n",
      "\u001b[92mINFO \u001b[0m:      configure_evaluate: strategy sampled 10 clients (out of 10)\n"
     ]
    },
    {
     "name": "stdout",
     "output_type": "stream",
     "text": [
      "user online: 10 offline: 0\n"
     ]
    },
    {
     "name": "stderr",
     "output_type": "stream",
     "text": [
      "\u001b[92mINFO \u001b[0m:      aggregate_evaluate: received 10 results and 0 failures\n",
      "\u001b[92mINFO \u001b[0m:      \n",
      "\u001b[92mINFO \u001b[0m:      [ROUND 98]\n",
      "\u001b[92mINFO \u001b[0m:      configure_fit: strategy sampled 10 clients (out of 10)\n",
      "\u001b[92mINFO \u001b[0m:      aggregate_fit: received 10 results and 0 failures\n"
     ]
    },
    {
     "name": "stdout",
     "output_type": "stream",
     "text": [
      "[INFO] trained_partitions: {'7', '6', '8', '4', '2', '1', '5', '3', '0', '9'}\n",
      "[INFO] shapley_values: {'1623556211981120490': 0.0, '12458978761388628182': np.float64(0.21084027082923057), '17404053802592907449': np.float64(0.6933507214945054), '12275152569355108357': np.float64(0.02371798098241695), '16638695129468460329': 0.0, '14375932597445359172': np.float64(0.36126371160489845), '16857353847917058018': np.float64(0.43967933685541627), '7109502038303752640': np.float64(0.19676318252423342), '14973552743668958058': 1.0, '14109915122520784357': np.float64(0.27872151272877954)}\n"
     ]
    },
    {
     "name": "stderr",
     "output_type": "stream",
     "text": [
      "\u001b[92mINFO \u001b[0m:      fit progress: (98, 0.008626833426952363, {'accuracy': 0.8046}, 18088.834117627994)\n",
      "\u001b[92mINFO \u001b[0m:      configure_evaluate: strategy sampled 10 clients (out of 10)\n"
     ]
    },
    {
     "name": "stdout",
     "output_type": "stream",
     "text": [
      "user online: 10 offline: 0\n"
     ]
    },
    {
     "name": "stderr",
     "output_type": "stream",
     "text": [
      "\u001b[92mINFO \u001b[0m:      aggregate_evaluate: received 10 results and 0 failures\n",
      "\u001b[92mINFO \u001b[0m:      \n",
      "\u001b[92mINFO \u001b[0m:      [ROUND 99]\n",
      "\u001b[92mINFO \u001b[0m:      configure_fit: strategy sampled 10 clients (out of 10)\n",
      "\u001b[92mINFO \u001b[0m:      aggregate_fit: received 10 results and 0 failures\n"
     ]
    },
    {
     "name": "stdout",
     "output_type": "stream",
     "text": [
      "[INFO] trained_partitions: {'7', '6', '8', '2', '4', '1', '5', '3', '0', '9'}\n",
      "[INFO] shapley_values: {'7109502038303752640': 0.0, '16857353847917058018': np.float64(0.3572228883148982), '1623556211981120490': 1.0, '16638695129468460329': 0.0, '14973552743668958058': np.float64(0.35743512601929384), '14109915122520784357': np.float64(0.4295538296864356), '14375932597445359172': np.float64(0.715444145194799), '17404053802592907449': np.float64(0.5655695908541853), '12275152569355108357': np.float64(0.0068649539971985364), '12458978761388628182': np.float64(0.2672119285507734)}\n"
     ]
    },
    {
     "name": "stderr",
     "output_type": "stream",
     "text": [
      "\u001b[92mINFO \u001b[0m:      fit progress: (99, 0.0253133609354496, {'accuracy': 0.6878}, 18272.51479154799)\n",
      "\u001b[92mINFO \u001b[0m:      configure_evaluate: strategy sampled 10 clients (out of 10)\n"
     ]
    },
    {
     "name": "stdout",
     "output_type": "stream",
     "text": [
      "user online: 10 offline: 0\n"
     ]
    },
    {
     "name": "stderr",
     "output_type": "stream",
     "text": [
      "\u001b[92mINFO \u001b[0m:      aggregate_evaluate: received 10 results and 0 failures\n",
      "\u001b[92mINFO \u001b[0m:      \n",
      "\u001b[92mINFO \u001b[0m:      [ROUND 100]\n",
      "\u001b[92mINFO \u001b[0m:      configure_fit: strategy sampled 10 clients (out of 10)\n",
      "\u001b[92mINFO \u001b[0m:      aggregate_fit: received 10 results and 0 failures\n"
     ]
    },
    {
     "name": "stdout",
     "output_type": "stream",
     "text": [
      "[INFO] trained_partitions: {'7', '6', '8', '4', '2', '1', '5', '3', '0', '9'}\n",
      "[INFO] shapley_values: {'16638695129468460329': np.float64(0.13084811716763922), '12275152569355108357': 0.0, '14109915122520784357': np.float64(0.3751871001200251), '17404053802592907449': np.float64(0.4693389240463449), '12458978761388628182': 0.0, '16857353847917058018': np.float64(0.33670233034254454), '14375932597445359172': np.float64(0.8727932365163765), '1623556211981120490': 0.0, '14973552743668958058': 1.0, '7109502038303752640': np.float64(0.17793502443014267)}\n"
     ]
    },
    {
     "name": "stderr",
     "output_type": "stream",
     "text": [
      "\u001b[92mINFO \u001b[0m:      fit progress: (100, 0.04347097461819649, {'accuracy': 0.7667}, 18460.78855762299)\n",
      "\u001b[92mINFO \u001b[0m:      configure_evaluate: strategy sampled 10 clients (out of 10)\n"
     ]
    },
    {
     "name": "stdout",
     "output_type": "stream",
     "text": [
      "user online: 10 offline: 0\n"
     ]
    },
    {
     "name": "stderr",
     "output_type": "stream",
     "text": [
      "\u001b[92mINFO \u001b[0m:      aggregate_evaluate: received 10 results and 0 failures\n",
      "\u001b[92mINFO \u001b[0m:      \n",
      "\u001b[92mINFO \u001b[0m:      [ROUND 101]\n",
      "\u001b[92mINFO \u001b[0m:      configure_fit: strategy sampled 10 clients (out of 10)\n",
      "\u001b[92mINFO \u001b[0m:      aggregate_fit: received 10 results and 0 failures\n"
     ]
    },
    {
     "name": "stdout",
     "output_type": "stream",
     "text": [
      "[INFO] trained_partitions: {'7', '6', '8', '4', '2', '1', '5', '3', '0', '9'}\n",
      "[INFO] shapley_values: {'12458978761388628182': np.float64(0.38319977251327103), '12275152569355108357': np.float64(0.3842113050219935), '1623556211981120490': 0.0, '16638695129468460329': 0.0, '17404053802592907449': np.float64(0.6948895248571029), '14109915122520784357': np.float64(0.5014335213962853), '7109502038303752640': np.float64(0.3213215961833054), '14973552743668958058': 1.0, '14375932597445359172': np.float64(0.8837301937470605), '16857353847917058018': np.float64(0.3742412118501792)}\n"
     ]
    },
    {
     "name": "stderr",
     "output_type": "stream",
     "text": [
      "\u001b[92mINFO \u001b[0m:      fit progress: (101, 0.027279713475704192, {'accuracy': 0.8438}, 18644.572776471003)\n",
      "\u001b[92mINFO \u001b[0m:      configure_evaluate: strategy sampled 10 clients (out of 10)\n"
     ]
    },
    {
     "name": "stdout",
     "output_type": "stream",
     "text": [
      "user online: 10 offline: 0\n"
     ]
    },
    {
     "name": "stderr",
     "output_type": "stream",
     "text": [
      "\u001b[92mINFO \u001b[0m:      aggregate_evaluate: received 10 results and 0 failures\n",
      "\u001b[92mINFO \u001b[0m:      \n",
      "\u001b[92mINFO \u001b[0m:      [ROUND 102]\n",
      "\u001b[92mINFO \u001b[0m:      configure_fit: strategy sampled 10 clients (out of 10)\n",
      "\u001b[92mINFO \u001b[0m:      aggregate_fit: received 10 results and 0 failures\n"
     ]
    },
    {
     "name": "stdout",
     "output_type": "stream",
     "text": [
      "[INFO] trained_partitions: {'7', '6', '8', '4', '2', '1', '5', '3', '0', '9'}\n",
      "[INFO] shapley_values: {'14109915122520784357': np.float64(0.3816737496800116), '7109502038303752640': np.float64(0.20711940240770818), '12458978761388628182': np.float64(0.27934616109566723), '12275152569355108357': np.float64(0.14304200866863642), '14375932597445359172': np.float64(0.4826386850861536), '16857353847917058018': np.float64(0.15873053486900282), '16638695129468460329': np.float64(0.05201120248893794), '1623556211981120490': np.float64(0.03725543143200015), '14973552743668958058': np.float64(0.5902886168645523), '17404053802592907449': 1.0}\n"
     ]
    },
    {
     "name": "stderr",
     "output_type": "stream",
     "text": [
      "\u001b[92mINFO \u001b[0m:      fit progress: (102, 0.018794386026263238, {'accuracy': 0.8267}, 18828.38897734799)\n",
      "\u001b[92mINFO \u001b[0m:      configure_evaluate: strategy sampled 10 clients (out of 10)\n"
     ]
    },
    {
     "name": "stdout",
     "output_type": "stream",
     "text": [
      "user online: 10 offline: 0\n"
     ]
    },
    {
     "name": "stderr",
     "output_type": "stream",
     "text": [
      "\u001b[92mINFO \u001b[0m:      aggregate_evaluate: received 10 results and 0 failures\n",
      "\u001b[92mINFO \u001b[0m:      \n",
      "\u001b[92mINFO \u001b[0m:      [ROUND 103]\n",
      "\u001b[92mINFO \u001b[0m:      configure_fit: strategy sampled 10 clients (out of 10)\n",
      "\u001b[92mINFO \u001b[0m:      aggregate_fit: received 10 results and 0 failures\n"
     ]
    },
    {
     "name": "stdout",
     "output_type": "stream",
     "text": [
      "[INFO] trained_partitions: {'7', '6', '8', '2', '4', '1', '5', '3', '0', '9'}\n",
      "[INFO] shapley_values: {'14109915122520784357': np.float64(0.09025826659286107), '14375932597445359172': np.float64(0.4985948225703537), '1623556211981120490': np.float64(0.13250572575163155), '7109502038303752640': np.float64(0.4035890702682027), '14973552743668958058': 1.0, '16638695129468460329': 0.0, '16857353847917058018': np.float64(0.6084792790789251), '12275152569355108357': np.float64(0.454676631691691), '17404053802592907449': np.float64(0.028715666793244218), '12458978761388628182': np.float64(0.38030248842846176)}\n"
     ]
    },
    {
     "name": "stderr",
     "output_type": "stream",
     "text": [
      "\u001b[92mINFO \u001b[0m:      fit progress: (103, 0.012105647566914558, {'accuracy': 0.8434}, 19014.35084758501)\n",
      "\u001b[92mINFO \u001b[0m:      configure_evaluate: strategy sampled 10 clients (out of 10)\n"
     ]
    },
    {
     "name": "stdout",
     "output_type": "stream",
     "text": [
      "user online: 10 offline: 0\n"
     ]
    },
    {
     "name": "stderr",
     "output_type": "stream",
     "text": [
      "\u001b[92mINFO \u001b[0m:      aggregate_evaluate: received 10 results and 0 failures\n",
      "\u001b[92mINFO \u001b[0m:      \n",
      "\u001b[92mINFO \u001b[0m:      [ROUND 104]\n",
      "\u001b[92mINFO \u001b[0m:      configure_fit: strategy sampled 10 clients (out of 10)\n",
      "\u001b[36m(ClientAppActor pid=666344)\u001b[0m Traceback (most recent call last):\n",
      "\u001b[36m(ClientAppActor pid=666344)\u001b[0m   File \"/usr/lib/python3.10/multiprocessing/util.py\", line 300, in _run_finalizers\n",
      "\u001b[36m(ClientAppActor pid=666344)\u001b[0m     finalizer()\n",
      "\u001b[36m(ClientAppActor pid=666344)\u001b[0m   File \"/usr/lib/python3.10/multiprocessing/util.py\", line 224, in __call__\n",
      "\u001b[36m(ClientAppActor pid=666344)\u001b[0m     res = self._callback(*self._args, **self._kwargs)\n",
      "\u001b[36m(ClientAppActor pid=666344)\u001b[0m   File \"/usr/lib/python3.10/multiprocessing/util.py\", line 133, in _remove_temp_dir\n",
      "\u001b[36m(ClientAppActor pid=666344)\u001b[0m     rmtree(tempdir)\n",
      "\u001b[36m(ClientAppActor pid=666344)\u001b[0m   File \"/usr/lib/python3.10/shutil.py\", line 731, in rmtree\n",
      "\u001b[36m(ClientAppActor pid=666344)\u001b[0m     onerror(os.rmdir, path, sys.exc_info())\n",
      "\u001b[36m(ClientAppActor pid=666344)\u001b[0m   File \"/usr/lib/python3.10/shutil.py\", line 729, in rmtree\n",
      "\u001b[36m(ClientAppActor pid=666344)\u001b[0m     os.rmdir(path)\n",
      "\u001b[36m(ClientAppActor pid=666344)\u001b[0m OSError: [Errno 39] Directory not empty: '/tmp/pymp-e3j1zqhl'\n",
      "\u001b[92mINFO \u001b[0m:      aggregate_fit: received 10 results and 0 failures\n"
     ]
    },
    {
     "name": "stdout",
     "output_type": "stream",
     "text": [
      "[INFO] trained_partitions: {'7', '6', '8', '2', '4', '1', '5', '3', '0', '9'}\n",
      "[INFO] shapley_values: {'12275152569355108357': np.float64(0.5140531623772072), '1623556211981120490': np.float64(0.1444919233048774), '17404053802592907449': np.float64(0.795546886318668), '12458978761388628182': np.float64(0.3174418757410525), '7109502038303752640': np.float64(0.25624500443865), '14109915122520784357': np.float64(0.27623677278347153), '16638695129468460329': 0.0, '16857353847917058018': np.float64(0.37865847619478626), '14973552743668958058': 1.0, '14375932597445359172': np.float64(0.3852676287313195)}\n"
     ]
    },
    {
     "name": "stderr",
     "output_type": "stream",
     "text": [
      "\u001b[92mINFO \u001b[0m:      fit progress: (104, 0.008410105815529824, {'accuracy': 0.8928}, 19197.499540599994)\n",
      "\u001b[92mINFO \u001b[0m:      configure_evaluate: strategy sampled 10 clients (out of 10)\n"
     ]
    },
    {
     "name": "stdout",
     "output_type": "stream",
     "text": [
      "user online: 10 offline: 0\n"
     ]
    },
    {
     "name": "stderr",
     "output_type": "stream",
     "text": [
      "\u001b[92mINFO \u001b[0m:      aggregate_evaluate: received 10 results and 0 failures\n",
      "\u001b[92mINFO \u001b[0m:      \n",
      "\u001b[92mINFO \u001b[0m:      [ROUND 105]\n",
      "\u001b[92mINFO \u001b[0m:      configure_fit: strategy sampled 10 clients (out of 10)\n",
      "\u001b[92mINFO \u001b[0m:      aggregate_fit: received 10 results and 0 failures\n"
     ]
    },
    {
     "name": "stdout",
     "output_type": "stream",
     "text": [
      "[INFO] trained_partitions: {'7', '6', '8', '4', '2', '1', '5', '3', '0', '9'}\n",
      "[INFO] shapley_values: {'12275152569355108357': np.float64(0.026887069322798347), '1623556211981120490': np.float64(0.22019544713285763), '14109915122520784357': np.float64(0.6909887888909871), '14375932597445359172': 1.0, '16638695129468460329': 0.0, '12458978761388628182': np.float64(0.37448010912923335), '17404053802592907449': np.float64(0.7984098531132843), '14973552743668958058': np.float64(0.8133263206273468), '16857353847917058018': np.float64(0.3553707827191463), '7109502038303752640': np.float64(0.7766333944393746)}\n"
     ]
    },
    {
     "name": "stderr",
     "output_type": "stream",
     "text": [
      "\u001b[92mINFO \u001b[0m:      fit progress: (105, 0.007824302977323533, {'accuracy': 0.8779}, 19380.926315841003)\n",
      "\u001b[92mINFO \u001b[0m:      configure_evaluate: strategy sampled 10 clients (out of 10)\n"
     ]
    },
    {
     "name": "stdout",
     "output_type": "stream",
     "text": [
      "user online: 10 offline: 0\n"
     ]
    },
    {
     "name": "stderr",
     "output_type": "stream",
     "text": [
      "\u001b[92mINFO \u001b[0m:      aggregate_evaluate: received 10 results and 0 failures\n",
      "\u001b[92mINFO \u001b[0m:      \n",
      "\u001b[92mINFO \u001b[0m:      [ROUND 106]\n",
      "\u001b[92mINFO \u001b[0m:      configure_fit: strategy sampled 10 clients (out of 10)\n",
      "\u001b[92mINFO \u001b[0m:      aggregate_fit: received 10 results and 0 failures\n"
     ]
    },
    {
     "name": "stdout",
     "output_type": "stream",
     "text": [
      "[INFO] trained_partitions: {'7', '6', '8', '4', '2', '1', '5', '3', '0', '9'}\n",
      "[INFO] shapley_values: {'14375932597445359172': np.float64(0.5517869655767316), '16857353847917058018': np.float64(0.8845362174977593), '1623556211981120490': np.float64(0.3383964988960305), '16638695129468460329': np.float64(0.04396212269080251), '17404053802592907449': 1.0, '14109915122520784357': np.float64(0.12666110523834911), '12458978761388628182': np.float64(0.681378185590167), '12275152569355108357': np.float64(0.15701222582282057), '7109502038303752640': np.float64(0.133814873106666), '14973552743668958058': np.float64(0.7207884233434283)}\n"
     ]
    },
    {
     "name": "stderr",
     "output_type": "stream",
     "text": [
      "\u001b[92mINFO \u001b[0m:      fit progress: (106, 0.006960121634602546, {'accuracy': 0.895}, 19564.547659867996)\n",
      "\u001b[92mINFO \u001b[0m:      configure_evaluate: strategy sampled 10 clients (out of 10)\n"
     ]
    },
    {
     "name": "stdout",
     "output_type": "stream",
     "text": [
      "user online: 10 offline: 0\n"
     ]
    },
    {
     "name": "stderr",
     "output_type": "stream",
     "text": [
      "\u001b[92mINFO \u001b[0m:      aggregate_evaluate: received 10 results and 0 failures\n",
      "\u001b[92mINFO \u001b[0m:      \n",
      "\u001b[92mINFO \u001b[0m:      [ROUND 107]\n",
      "\u001b[92mINFO \u001b[0m:      configure_fit: strategy sampled 10 clients (out of 10)\n",
      "\u001b[92mINFO \u001b[0m:      aggregate_fit: received 10 results and 0 failures\n"
     ]
    },
    {
     "name": "stdout",
     "output_type": "stream",
     "text": [
      "[INFO] trained_partitions: {'7', '6', '8', '2', '4', '1', '5', '3', '0', '9'}\n",
      "[INFO] shapley_values: {'12458978761388628182': np.float64(0.7139762265325451), '14973552743668958058': 1.0, '7109502038303752640': np.float64(0.21277851654708121), '16857353847917058018': np.float64(0.9568409410409902), '1623556211981120490': np.float64(0.6426652584414929), '17404053802592907449': np.float64(0.986564705742978), '16638695129468460329': np.float64(0.1425338887730214), '12275152569355108357': np.float64(0.2768960874816849), '14109915122520784357': np.float64(0.633437350926505), '14375932597445359172': np.float64(0.750017730577177)}\n"
     ]
    },
    {
     "name": "stderr",
     "output_type": "stream",
     "text": [
      "\u001b[92mINFO \u001b[0m:      fit progress: (107, 0.005146080654859543, {'accuracy': 0.924}, 19755.365908354986)\n",
      "\u001b[92mINFO \u001b[0m:      configure_evaluate: strategy sampled 10 clients (out of 10)\n"
     ]
    },
    {
     "name": "stdout",
     "output_type": "stream",
     "text": [
      "user online: 10 offline: 0\n"
     ]
    },
    {
     "name": "stderr",
     "output_type": "stream",
     "text": [
      "\u001b[92mINFO \u001b[0m:      aggregate_evaluate: received 10 results and 0 failures\n",
      "\u001b[92mINFO \u001b[0m:      \n",
      "\u001b[92mINFO \u001b[0m:      [ROUND 108]\n",
      "\u001b[92mINFO \u001b[0m:      configure_fit: strategy sampled 10 clients (out of 10)\n",
      "\u001b[92mINFO \u001b[0m:      aggregate_fit: received 10 results and 0 failures\n"
     ]
    },
    {
     "name": "stdout",
     "output_type": "stream",
     "text": [
      "[INFO] trained_partitions: {'7', '6', '8', '2', '4', '1', '5', '3', '0', '9'}\n",
      "[INFO] shapley_values: {'12275152569355108357': np.float64(0.4952219645045866), '1623556211981120490': np.float64(0.1376327869455897), '17404053802592907449': np.float64(0.7380156228113455), '14973552743668958058': 1.0, '7109502038303752640': np.float64(0.36382674523443476), '12458978761388628182': np.float64(0.5420630506820577), '14375932597445359172': np.float64(0.3184337366525263), '16857353847917058018': np.float64(0.4765154387711748), '14109915122520784357': np.float64(0.43991164210581746), '16638695129468460329': np.float64(0.015687202664428086)}\n"
     ]
    },
    {
     "name": "stderr",
     "output_type": "stream",
     "text": [
      "\u001b[92mINFO \u001b[0m:      fit progress: (108, 0.0049609726309776305, {'accuracy': 0.9172}, 19938.614301897993)\n",
      "\u001b[92mINFO \u001b[0m:      configure_evaluate: strategy sampled 10 clients (out of 10)\n"
     ]
    },
    {
     "name": "stdout",
     "output_type": "stream",
     "text": [
      "user online: 10 offline: 0\n"
     ]
    },
    {
     "name": "stderr",
     "output_type": "stream",
     "text": [
      "\u001b[92mINFO \u001b[0m:      aggregate_evaluate: received 10 results and 0 failures\n",
      "\u001b[92mINFO \u001b[0m:      \n",
      "\u001b[92mINFO \u001b[0m:      [ROUND 109]\n",
      "\u001b[92mINFO \u001b[0m:      configure_fit: strategy sampled 10 clients (out of 10)\n",
      "\u001b[92mINFO \u001b[0m:      aggregate_fit: received 10 results and 0 failures\n"
     ]
    },
    {
     "name": "stdout",
     "output_type": "stream",
     "text": [
      "[INFO] trained_partitions: {'7', '6', '8', '4', '2', '1', '5', '3', '0', '9'}\n",
      "[INFO] shapley_values: {'12458978761388628182': np.float64(0.16902061339980118), '14973552743668958058': 1.0, '14375932597445359172': np.float64(0.5349970432163351), '16857353847917058018': np.float64(0.32585008012163014), '17404053802592907449': np.float64(0.4985881764751886), '1623556211981120490': np.float64(0.07528054257215462), '7109502038303752640': np.float64(0.12661627885675414), '14109915122520784357': np.float64(0.3483678469255686), '12275152569355108357': np.float64(0.13650757025574936), '16638695129468460329': np.float64(0.1634223529074947)}\n"
     ]
    },
    {
     "name": "stderr",
     "output_type": "stream",
     "text": [
      "\u001b[92mINFO \u001b[0m:      fit progress: (109, 0.0042276830941438675, {'accuracy': 0.924}, 20122.285123018984)\n",
      "\u001b[92mINFO \u001b[0m:      configure_evaluate: strategy sampled 10 clients (out of 10)\n"
     ]
    },
    {
     "name": "stdout",
     "output_type": "stream",
     "text": [
      "user online: 10 offline: 0\n"
     ]
    },
    {
     "name": "stderr",
     "output_type": "stream",
     "text": [
      "\u001b[92mINFO \u001b[0m:      aggregate_evaluate: received 10 results and 0 failures\n",
      "\u001b[92mINFO \u001b[0m:      \n",
      "\u001b[92mINFO \u001b[0m:      [ROUND 110]\n",
      "\u001b[92mINFO \u001b[0m:      configure_fit: strategy sampled 10 clients (out of 10)\n",
      "\u001b[92mINFO \u001b[0m:      aggregate_fit: received 10 results and 0 failures\n"
     ]
    },
    {
     "name": "stdout",
     "output_type": "stream",
     "text": [
      "[INFO] trained_partitions: {'7', '6', '8', '4', '2', '1', '5', '3', '0', '9'}\n",
      "[INFO] shapley_values: {'12458978761388628182': np.float64(0.5467487040466212), '14973552743668958058': np.float64(0.8908494621975407), '17404053802592907449': np.float64(0.6514693250358695), '14375932597445359172': np.float64(0.5519696155835103), '14109915122520784357': 0.0, '7109502038303752640': 1.0, '12275152569355108357': 0.0, '16857353847917058018': np.float64(0.5322069477353022), '1623556211981120490': np.float64(0.4002744551050639), '16638695129468460329': np.float64(0.2524932985283316)}\n"
     ]
    },
    {
     "name": "stderr",
     "output_type": "stream",
     "text": [
      "\u001b[92mINFO \u001b[0m:      fit progress: (110, 0.004291051086038351, {'accuracy': 0.9205}, 20305.83020691399)\n",
      "\u001b[92mINFO \u001b[0m:      configure_evaluate: strategy sampled 10 clients (out of 10)\n"
     ]
    },
    {
     "name": "stdout",
     "output_type": "stream",
     "text": [
      "user online: 10 offline: 0\n"
     ]
    },
    {
     "name": "stderr",
     "output_type": "stream",
     "text": [
      "\u001b[92mINFO \u001b[0m:      aggregate_evaluate: received 10 results and 0 failures\n",
      "\u001b[92mINFO \u001b[0m:      \n",
      "\u001b[92mINFO \u001b[0m:      [ROUND 111]\n",
      "\u001b[92mINFO \u001b[0m:      configure_fit: strategy sampled 10 clients (out of 10)\n",
      "\u001b[92mINFO \u001b[0m:      aggregate_fit: received 10 results and 0 failures\n"
     ]
    },
    {
     "name": "stdout",
     "output_type": "stream",
     "text": [
      "[INFO] trained_partitions: {'7', '6', '8', '4', '2', '1', '5', '3', '0', '9'}\n",
      "[INFO] shapley_values: {'14973552743668958058': np.float64(0.9365041900943738), '1623556211981120490': np.float64(0.12550828173806503), '14109915122520784357': np.float64(0.35238433647046297), '16857353847917058018': np.float64(0.6318969720909987), '12458978761388628182': 1.0, '7109502038303752640': np.float64(0.2293186150751194), '14375932597445359172': np.float64(0.4824070367311863), '17404053802592907449': np.float64(0.2721839450710382), '16638695129468460329': 0.0, '12275152569355108357': np.float64(0.630418915746996)}\n"
     ]
    },
    {
     "name": "stderr",
     "output_type": "stream",
     "text": [
      "\u001b[92mINFO \u001b[0m:      fit progress: (111, 0.00405102271437645, {'accuracy': 0.9217}, 20495.843221113)\n",
      "\u001b[92mINFO \u001b[0m:      configure_evaluate: strategy sampled 10 clients (out of 10)\n"
     ]
    },
    {
     "name": "stdout",
     "output_type": "stream",
     "text": [
      "user online: 10 offline: 0\n"
     ]
    },
    {
     "name": "stderr",
     "output_type": "stream",
     "text": [
      "\u001b[92mINFO \u001b[0m:      aggregate_evaluate: received 10 results and 0 failures\n",
      "\u001b[92mINFO \u001b[0m:      \n",
      "\u001b[92mINFO \u001b[0m:      [ROUND 112]\n",
      "\u001b[92mINFO \u001b[0m:      configure_fit: strategy sampled 10 clients (out of 10)\n",
      "\u001b[92mINFO \u001b[0m:      aggregate_fit: received 10 results and 0 failures\n"
     ]
    },
    {
     "name": "stdout",
     "output_type": "stream",
     "text": [
      "[INFO] trained_partitions: {'7', '6', '8', '2', '4', '1', '5', '3', '0', '9'}\n",
      "[INFO] shapley_values: {'14109915122520784357': np.float64(0.483233824095094), '1623556211981120490': np.float64(0.4058387648989218), '12458978761388628182': np.float64(0.22406511493385536), '7109502038303752640': np.float64(0.30234903872614605), '12275152569355108357': 0.0, '16857353847917058018': np.float64(0.11810138204434821), '14375932597445359172': np.float64(0.418651287396823), '14973552743668958058': 1.0, '16638695129468460329': np.float64(0.21839677042595085), '17404053802592907449': np.float64(0.61899750610289)}\n"
     ]
    },
    {
     "name": "stderr",
     "output_type": "stream",
     "text": [
      "\u001b[92mINFO \u001b[0m:      fit progress: (112, 0.004250163803249597, {'accuracy': 0.9187}, 20679.317072670005)\n",
      "\u001b[92mINFO \u001b[0m:      configure_evaluate: strategy sampled 10 clients (out of 10)\n"
     ]
    },
    {
     "name": "stdout",
     "output_type": "stream",
     "text": [
      "user online: 10 offline: 0\n"
     ]
    },
    {
     "name": "stderr",
     "output_type": "stream",
     "text": [
      "\u001b[92mINFO \u001b[0m:      aggregate_evaluate: received 10 results and 0 failures\n",
      "\u001b[92mINFO \u001b[0m:      \n",
      "\u001b[92mINFO \u001b[0m:      [ROUND 113]\n",
      "\u001b[92mINFO \u001b[0m:      configure_fit: strategy sampled 10 clients (out of 10)\n",
      "\u001b[92mINFO \u001b[0m:      aggregate_fit: received 10 results and 0 failures\n"
     ]
    },
    {
     "name": "stdout",
     "output_type": "stream",
     "text": [
      "[INFO] trained_partitions: {'7', '6', '8', '2', '4', '1', '5', '3', '0', '9'}\n",
      "[INFO] shapley_values: {'12275152569355108357': np.float64(0.14155000826320124), '7109502038303752640': np.float64(0.4551070737382884), '16857353847917058018': np.float64(0.4241353194879387), '1623556211981120490': 0.0, '14109915122520784357': np.float64(0.03479727250588141), '14375932597445359172': np.float64(0.6626516022992238), '14973552743668958058': 1.0, '16638695129468460329': 0.0, '12458978761388628182': np.float64(0.5743237599849633), '17404053802592907449': np.float64(0.34565896877162156)}\n"
     ]
    },
    {
     "name": "stderr",
     "output_type": "stream",
     "text": [
      "\u001b[92mINFO \u001b[0m:      fit progress: (113, 0.003927042394131422, {'accuracy': 0.9205}, 20864.653671559005)\n",
      "\u001b[92mINFO \u001b[0m:      configure_evaluate: strategy sampled 10 clients (out of 10)\n"
     ]
    },
    {
     "name": "stdout",
     "output_type": "stream",
     "text": [
      "user online: 10 offline: 0\n"
     ]
    },
    {
     "name": "stderr",
     "output_type": "stream",
     "text": [
      "\u001b[92mINFO \u001b[0m:      aggregate_evaluate: received 10 results and 0 failures\n",
      "\u001b[92mINFO \u001b[0m:      \n",
      "\u001b[92mINFO \u001b[0m:      [ROUND 114]\n",
      "\u001b[92mINFO \u001b[0m:      configure_fit: strategy sampled 10 clients (out of 10)\n",
      "\u001b[92mINFO \u001b[0m:      aggregate_fit: received 10 results and 0 failures\n"
     ]
    },
    {
     "name": "stdout",
     "output_type": "stream",
     "text": [
      "[INFO] trained_partitions: {'7', '6', '8', '4', '2', '1', '5', '3', '0', '9'}\n",
      "[INFO] shapley_values: {'14973552743668958058': 1.0, '12275152569355108357': np.float64(0.2629070669371168), '14375932597445359172': np.float64(0.27201364040718695), '17404053802592907449': np.float64(0.3238533671891682), '12458978761388628182': np.float64(0.3415614241895648), '14109915122520784357': 0.0, '16857353847917058018': 0.0, '16638695129468460329': np.float64(0.1763759718708204), '1623556211981120490': np.float64(0.5941417652068359), '7109502038303752640': np.float64(0.09749746714003295)}\n"
     ]
    },
    {
     "name": "stderr",
     "output_type": "stream",
     "text": [
      "\u001b[92mINFO \u001b[0m:      fit progress: (114, 0.005353573247790336, {'accuracy': 0.8915}, 21049.07803898101)\n",
      "\u001b[92mINFO \u001b[0m:      configure_evaluate: strategy sampled 10 clients (out of 10)\n"
     ]
    },
    {
     "name": "stdout",
     "output_type": "stream",
     "text": [
      "user online: 10 offline: 0\n"
     ]
    },
    {
     "name": "stderr",
     "output_type": "stream",
     "text": [
      "\u001b[92mINFO \u001b[0m:      aggregate_evaluate: received 10 results and 0 failures\n",
      "\u001b[92mINFO \u001b[0m:      \n",
      "\u001b[92mINFO \u001b[0m:      [ROUND 115]\n",
      "\u001b[92mINFO \u001b[0m:      configure_fit: strategy sampled 10 clients (out of 10)\n",
      "\u001b[92mINFO \u001b[0m:      aggregate_fit: received 10 results and 0 failures\n"
     ]
    },
    {
     "name": "stdout",
     "output_type": "stream",
     "text": [
      "[INFO] trained_partitions: {'7', '6', '8', '2', '4', '1', '5', '3', '0', '9'}\n",
      "[INFO] shapley_values: {'1623556211981120490': 0.0, '14973552743668958058': 1.0, '16857353847917058018': np.float64(0.5262676993223284), '12275152569355108357': np.float64(0.3654351715897981), '7109502038303752640': np.float64(0.9718395951448754), '17404053802592907449': np.float64(0.832094783452468), '14375932597445359172': np.float64(0.6026119785015375), '14109915122520784357': np.float64(0.890439472339602), '12458978761388628182': np.float64(0.587566260258288), '16638695129468460329': 0.0}\n"
     ]
    },
    {
     "name": "stderr",
     "output_type": "stream",
     "text": [
      "\u001b[92mINFO \u001b[0m:      fit progress: (115, 0.004282552876323462, {'accuracy': 0.9135}, 21239.564481054986)\n",
      "\u001b[92mINFO \u001b[0m:      configure_evaluate: strategy sampled 10 clients (out of 10)\n"
     ]
    },
    {
     "name": "stdout",
     "output_type": "stream",
     "text": [
      "user online: 10 offline: 0\n"
     ]
    },
    {
     "name": "stderr",
     "output_type": "stream",
     "text": [
      "\u001b[92mINFO \u001b[0m:      aggregate_evaluate: received 10 results and 0 failures\n",
      "\u001b[92mINFO \u001b[0m:      \n",
      "\u001b[92mINFO \u001b[0m:      [ROUND 116]\n",
      "\u001b[92mINFO \u001b[0m:      configure_fit: strategy sampled 10 clients (out of 10)\n",
      "\u001b[92mINFO \u001b[0m:      aggregate_fit: received 10 results and 0 failures\n"
     ]
    },
    {
     "name": "stdout",
     "output_type": "stream",
     "text": [
      "[INFO] trained_partitions: {'7', '6', '8', '2', '4', '1', '5', '3', '0', '9'}\n",
      "[INFO] shapley_values: {'16638695129468460329': np.float64(0.4618044355448597), '7109502038303752640': np.float64(0.8683667494334891), '17404053802592907449': np.float64(0.7949680948097222), '12275152569355108357': np.float64(0.37625361556024073), '14973552743668958058': 1.0, '14109915122520784357': 0.0, '14375932597445359172': 0.0, '16857353847917058018': 0.0, '1623556211981120490': np.float64(0.48382372916413824), '12458978761388628182': np.float64(0.8285866492033662)}\n"
     ]
    },
    {
     "name": "stderr",
     "output_type": "stream",
     "text": [
      "\u001b[92mINFO \u001b[0m:      fit progress: (116, 0.008784124518930911, {'accuracy': 0.853}, 21423.187472922)\n",
      "\u001b[92mINFO \u001b[0m:      configure_evaluate: strategy sampled 10 clients (out of 10)\n"
     ]
    },
    {
     "name": "stdout",
     "output_type": "stream",
     "text": [
      "user online: 10 offline: 0\n"
     ]
    },
    {
     "name": "stderr",
     "output_type": "stream",
     "text": [
      "\u001b[92mINFO \u001b[0m:      aggregate_evaluate: received 10 results and 0 failures\n",
      "\u001b[92mINFO \u001b[0m:      \n",
      "\u001b[92mINFO \u001b[0m:      [ROUND 117]\n",
      "\u001b[92mINFO \u001b[0m:      configure_fit: strategy sampled 10 clients (out of 10)\n",
      "\u001b[92mINFO \u001b[0m:      aggregate_fit: received 10 results and 0 failures\n"
     ]
    },
    {
     "name": "stdout",
     "output_type": "stream",
     "text": [
      "[INFO] trained_partitions: {'7', '6', '8', '4', '2', '1', '5', '3', '0', '9'}\n",
      "[INFO] shapley_values: {'14973552743668958058': 1.0, '16638695129468460329': 0.0, '12458978761388628182': np.float64(0.3361385949648515), '17404053802592907449': np.float64(0.617527155056236), '14375932597445359172': np.float64(0.44768442131518066), '1623556211981120490': np.float64(0.09705315423832435), '14109915122520784357': np.float64(0.10850290576712246), '7109502038303752640': np.float64(0.5231013224951431), '12275152569355108357': np.float64(0.8653586402985132), '16857353847917058018': np.float64(0.7125280230771163)}\n"
     ]
    },
    {
     "name": "stderr",
     "output_type": "stream",
     "text": [
      "\u001b[92mINFO \u001b[0m:      fit progress: (117, 0.003872742959856987, {'accuracy': 0.9232}, 21606.926130849984)\n",
      "\u001b[92mINFO \u001b[0m:      configure_evaluate: strategy sampled 10 clients (out of 10)\n"
     ]
    },
    {
     "name": "stdout",
     "output_type": "stream",
     "text": [
      "user online: 10 offline: 0\n"
     ]
    },
    {
     "name": "stderr",
     "output_type": "stream",
     "text": [
      "\u001b[92mINFO \u001b[0m:      aggregate_evaluate: received 10 results and 0 failures\n",
      "\u001b[92mINFO \u001b[0m:      \n",
      "\u001b[92mINFO \u001b[0m:      [ROUND 118]\n",
      "\u001b[92mINFO \u001b[0m:      configure_fit: strategy sampled 10 clients (out of 10)\n",
      "\u001b[92mINFO \u001b[0m:      aggregate_fit: received 10 results and 0 failures\n"
     ]
    },
    {
     "name": "stdout",
     "output_type": "stream",
     "text": [
      "[INFO] trained_partitions: {'7', '6', '8', '4', '2', '1', '5', '3', '0', '9'}\n",
      "[INFO] shapley_values: {'17404053802592907449': np.float64(0.766613024177526), '16857353847917058018': np.float64(0.3734519781076478), '14109915122520784357': np.float64(0.12895043214332766), '12458978761388628182': np.float64(0.44993291362716864), '14973552743668958058': 1.0, '12275152569355108357': np.float64(0.6663760650433487), '14375932597445359172': np.float64(0.2401113076279269), '1623556211981120490': np.float64(0.027255530109374104), '7109502038303752640': np.float64(0.7474673430950166), '16638695129468460329': 0.0}\n"
     ]
    },
    {
     "name": "stderr",
     "output_type": "stream",
     "text": [
      "\u001b[92mINFO \u001b[0m:      fit progress: (118, 0.005028986781835556, {'accuracy': 0.8948}, 21790.270835929987)\n",
      "\u001b[92mINFO \u001b[0m:      configure_evaluate: strategy sampled 10 clients (out of 10)\n"
     ]
    },
    {
     "name": "stdout",
     "output_type": "stream",
     "text": [
      "user online: 10 offline: 0\n"
     ]
    },
    {
     "name": "stderr",
     "output_type": "stream",
     "text": [
      "\u001b[92mINFO \u001b[0m:      aggregate_evaluate: received 10 results and 0 failures\n",
      "\u001b[92mINFO \u001b[0m:      \n",
      "\u001b[92mINFO \u001b[0m:      [ROUND 119]\n",
      "\u001b[92mINFO \u001b[0m:      configure_fit: strategy sampled 10 clients (out of 10)\n",
      "\u001b[92mINFO \u001b[0m:      aggregate_fit: received 10 results and 0 failures\n"
     ]
    },
    {
     "name": "stdout",
     "output_type": "stream",
     "text": [
      "[INFO] trained_partitions: {'7', '6', '8', '4', '2', '1', '5', '3', '0', '9'}\n",
      "[INFO] shapley_values: {'17404053802592907449': np.float64(0.9940300074576385), '14375932597445359172': np.float64(0.8242859590449153), '12458978761388628182': np.float64(0.6731330147358977), '1623556211981120490': np.float64(0.7092826848729468), '14109915122520784357': np.float64(0.42389950477192695), '14973552743668958058': 1.0, '16857353847917058018': np.float64(0.5736724898695374), '16638695129468460329': np.float64(0.1941647142602486), '7109502038303752640': 0.0, '12275152569355108357': 0.0}\n"
     ]
    },
    {
     "name": "stderr",
     "output_type": "stream",
     "text": [
      "\u001b[92mINFO \u001b[0m:      fit progress: (119, 0.016157888388633728, {'accuracy': 0.8316}, 21974.02824375601)\n",
      "\u001b[92mINFO \u001b[0m:      configure_evaluate: strategy sampled 10 clients (out of 10)\n"
     ]
    },
    {
     "name": "stdout",
     "output_type": "stream",
     "text": [
      "user online: 10 offline: 0\n"
     ]
    },
    {
     "name": "stderr",
     "output_type": "stream",
     "text": [
      "\u001b[92mINFO \u001b[0m:      aggregate_evaluate: received 10 results and 0 failures\n",
      "\u001b[92mINFO \u001b[0m:      \n",
      "\u001b[92mINFO \u001b[0m:      [ROUND 120]\n",
      "\u001b[92mINFO \u001b[0m:      configure_fit: strategy sampled 10 clients (out of 10)\n",
      "\u001b[92mINFO \u001b[0m:      aggregate_fit: received 10 results and 0 failures\n"
     ]
    },
    {
     "name": "stdout",
     "output_type": "stream",
     "text": [
      "[INFO] trained_partitions: {'7', '6', '8', '2', '4', '1', '5', '3', '0', '9'}\n",
      "[INFO] shapley_values: {'14375932597445359172': 0.0, '16638695129468460329': 0.0, '1623556211981120490': np.float64(0.19619508335522182), '14973552743668958058': np.float64(0.6898102374982584), '17404053802592907449': 1.0, '14109915122520784357': np.float64(0.49113396056721853), '12275152569355108357': np.float64(0.2583487443448656), '16857353847917058018': 0.0, '7109502038303752640': np.float64(0.3446499976095085), '12458978761388628182': np.float64(0.716452046027892)}\n"
     ]
    },
    {
     "name": "stderr",
     "output_type": "stream",
     "text": [
      "\u001b[92mINFO \u001b[0m:      fit progress: (120, 0.013565766596794128, {'accuracy': 0.7626}, 22158.62380034299)\n",
      "\u001b[92mINFO \u001b[0m:      configure_evaluate: strategy sampled 10 clients (out of 10)\n"
     ]
    },
    {
     "name": "stdout",
     "output_type": "stream",
     "text": [
      "user online: 10 offline: 0\n"
     ]
    },
    {
     "name": "stderr",
     "output_type": "stream",
     "text": [
      "\u001b[92mINFO \u001b[0m:      aggregate_evaluate: received 10 results and 0 failures\n",
      "\u001b[92mINFO \u001b[0m:      \n",
      "\u001b[92mINFO \u001b[0m:      [ROUND 121]\n",
      "\u001b[92mINFO \u001b[0m:      configure_fit: strategy sampled 10 clients (out of 10)\n",
      "\u001b[92mINFO \u001b[0m:      aggregate_fit: received 10 results and 0 failures\n"
     ]
    },
    {
     "name": "stdout",
     "output_type": "stream",
     "text": [
      "[INFO] trained_partitions: {'7', '6', '8', '2', '4', '1', '5', '3', '0', '9'}\n",
      "[INFO] shapley_values: {'14973552743668958058': 1.0, '14375932597445359172': np.float64(0.5536814604392484), '14109915122520784357': np.float64(0.40977427231123703), '7109502038303752640': 0.0, '16857353847917058018': np.float64(0.6285540242050615), '12458978761388628182': np.float64(0.37401573579798897), '12275152569355108357': np.float64(0.4657414110237344), '16638695129468460329': 0.0, '17404053802592907449': np.float64(0.5205764464179587), '1623556211981120490': 0.0}\n"
     ]
    },
    {
     "name": "stderr",
     "output_type": "stream",
     "text": [
      "\u001b[92mINFO \u001b[0m:      fit progress: (121, 0.008053563833236695, {'accuracy': 0.8398}, 22348.217651466985)\n",
      "\u001b[92mINFO \u001b[0m:      configure_evaluate: strategy sampled 10 clients (out of 10)\n"
     ]
    },
    {
     "name": "stdout",
     "output_type": "stream",
     "text": [
      "user online: 10 offline: 0\n"
     ]
    },
    {
     "name": "stderr",
     "output_type": "stream",
     "text": [
      "\u001b[92mINFO \u001b[0m:      aggregate_evaluate: received 10 results and 0 failures\n",
      "\u001b[92mINFO \u001b[0m:      \n",
      "\u001b[92mINFO \u001b[0m:      [ROUND 122]\n",
      "\u001b[92mINFO \u001b[0m:      configure_fit: strategy sampled 10 clients (out of 10)\n",
      "\u001b[92mINFO \u001b[0m:      aggregate_fit: received 10 results and 0 failures\n"
     ]
    },
    {
     "name": "stdout",
     "output_type": "stream",
     "text": [
      "[INFO] trained_partitions: {'7', '6', '8', '2', '4', '1', '5', '3', '0', '9'}\n",
      "[INFO] shapley_values: {'12458978761388628182': np.float64(0.523465169439212), '16638695129468460329': np.float64(0.008555198032875817), '14109915122520784357': np.float64(0.23585516721395672), '7109502038303752640': np.float64(0.2885403914903559), '14973552743668958058': 1.0, '16857353847917058018': 0.0, '1623556211981120490': np.float64(0.16422533803007497), '14375932597445359172': np.float64(0.449682152652535), '12275152569355108357': 0.0, '17404053802592907449': np.float64(0.704339967539761)}\n"
     ]
    },
    {
     "name": "stderr",
     "output_type": "stream",
     "text": [
      "\u001b[92mINFO \u001b[0m:      fit progress: (122, 0.0065540122389793395, {'accuracy': 0.8721}, 22532.536769611004)\n",
      "\u001b[92mINFO \u001b[0m:      configure_evaluate: strategy sampled 10 clients (out of 10)\n"
     ]
    },
    {
     "name": "stdout",
     "output_type": "stream",
     "text": [
      "user online: 10 offline: 0\n"
     ]
    },
    {
     "name": "stderr",
     "output_type": "stream",
     "text": [
      "\u001b[92mINFO \u001b[0m:      aggregate_evaluate: received 10 results and 0 failures\n",
      "\u001b[92mINFO \u001b[0m:      \n",
      "\u001b[92mINFO \u001b[0m:      [ROUND 123]\n",
      "\u001b[92mINFO \u001b[0m:      configure_fit: strategy sampled 10 clients (out of 10)\n",
      "\u001b[92mINFO \u001b[0m:      aggregate_fit: received 10 results and 0 failures\n"
     ]
    },
    {
     "name": "stdout",
     "output_type": "stream",
     "text": [
      "[INFO] trained_partitions: {'7', '6', '8', '4', '2', '1', '5', '3', '0', '9'}\n",
      "[INFO] shapley_values: {'14375932597445359172': np.float64(0.43958946779824515), '12275152569355108357': np.float64(0.524871874566084), '17404053802592907449': 1.0, '14109915122520784357': np.float64(0.11599818513675739), '12458978761388628182': np.float64(0.6262464325822701), '16638695129468460329': 0.0, '1623556211981120490': 0.0, '7109502038303752640': 0.0, '14973552743668958058': np.float64(0.4580395358786107), '16857353847917058018': np.float64(0.05950166771185991)}\n"
     ]
    },
    {
     "name": "stderr",
     "output_type": "stream",
     "text": [
      "\u001b[92mINFO \u001b[0m:      fit progress: (123, 0.008725192272663116, {'accuracy': 0.8422}, 22716.331074788992)\n",
      "\u001b[92mINFO \u001b[0m:      configure_evaluate: strategy sampled 10 clients (out of 10)\n"
     ]
    },
    {
     "name": "stdout",
     "output_type": "stream",
     "text": [
      "user online: 10 offline: 0\n"
     ]
    },
    {
     "name": "stderr",
     "output_type": "stream",
     "text": [
      "\u001b[92mINFO \u001b[0m:      aggregate_evaluate: received 10 results and 0 failures\n",
      "\u001b[92mINFO \u001b[0m:      \n",
      "\u001b[92mINFO \u001b[0m:      [ROUND 124]\n",
      "\u001b[92mINFO \u001b[0m:      configure_fit: strategy sampled 10 clients (out of 10)\n",
      "\u001b[92mINFO \u001b[0m:      aggregate_fit: received 10 results and 0 failures\n"
     ]
    },
    {
     "name": "stdout",
     "output_type": "stream",
     "text": [
      "[INFO] trained_partitions: {'7', '6', '8', '4', '2', '1', '5', '3', '0', '9'}\n",
      "[INFO] shapley_values: {'16857353847917058018': np.float64(0.528395130419186), '14973552743668958058': 1.0, '17404053802592907449': np.float64(0.925637025732807), '1623556211981120490': 0.0, '12458978761388628182': np.float64(0.5424898131345565), '12275152569355108357': np.float64(0.1037783410997657), '16638695129468460329': 0.0, '7109502038303752640': 0.0, '14109915122520784357': np.float64(0.9242607766218609), '14375932597445359172': np.float64(0.30840035332415194)}\n"
     ]
    },
    {
     "name": "stderr",
     "output_type": "stream",
     "text": [
      "\u001b[92mINFO \u001b[0m:      fit progress: (124, 0.006188322292268276, {'accuracy': 0.872}, 22899.91638164001)\n",
      "\u001b[92mINFO \u001b[0m:      configure_evaluate: strategy sampled 10 clients (out of 10)\n"
     ]
    },
    {
     "name": "stdout",
     "output_type": "stream",
     "text": [
      "user online: 10 offline: 0\n"
     ]
    },
    {
     "name": "stderr",
     "output_type": "stream",
     "text": [
      "\u001b[92mINFO \u001b[0m:      aggregate_evaluate: received 10 results and 0 failures\n",
      "\u001b[92mINFO \u001b[0m:      \n",
      "\u001b[92mINFO \u001b[0m:      [ROUND 125]\n",
      "\u001b[92mINFO \u001b[0m:      configure_fit: strategy sampled 10 clients (out of 10)\n",
      "\u001b[92mINFO \u001b[0m:      aggregate_fit: received 10 results and 0 failures\n"
     ]
    },
    {
     "name": "stdout",
     "output_type": "stream",
     "text": [
      "[INFO] trained_partitions: {'7', '6', '8', '2', '4', '1', '5', '3', '0', '9'}\n",
      "[INFO] shapley_values: {'14973552743668958058': 0.0, '12275152569355108357': np.float64(0.6646809379654178), '14375932597445359172': np.float64(0.5703643571766632), '1623556211981120490': np.float64(0.09455366125539996), '7109502038303752640': np.float64(0.4606741639875832), '12458978761388628182': np.float64(0.5746772658119721), '16638695129468460329': np.float64(0.08343743174792131), '17404053802592907449': 1.0, '16857353847917058018': np.float64(0.04444074480465791), '14109915122520784357': np.float64(0.6597562422577113)}\n"
     ]
    },
    {
     "name": "stderr",
     "output_type": "stream",
     "text": [
      "\u001b[92mINFO \u001b[0m:      fit progress: (125, 0.006948195783793926, {'accuracy': 0.8508}, 23088.182758270006)\n",
      "\u001b[92mINFO \u001b[0m:      configure_evaluate: strategy sampled 10 clients (out of 10)\n"
     ]
    },
    {
     "name": "stdout",
     "output_type": "stream",
     "text": [
      "user online: 10 offline: 0\n"
     ]
    },
    {
     "name": "stderr",
     "output_type": "stream",
     "text": [
      "\u001b[92mINFO \u001b[0m:      aggregate_evaluate: received 10 results and 0 failures\n",
      "\u001b[92mINFO \u001b[0m:      \n",
      "\u001b[92mINFO \u001b[0m:      [ROUND 126]\n",
      "\u001b[92mINFO \u001b[0m:      configure_fit: strategy sampled 10 clients (out of 10)\n",
      "\u001b[92mINFO \u001b[0m:      aggregate_fit: received 10 results and 0 failures\n"
     ]
    },
    {
     "name": "stdout",
     "output_type": "stream",
     "text": [
      "[INFO] trained_partitions: {'7', '6', '8', '4', '2', '1', '5', '3', '0', '9'}\n",
      "[INFO] shapley_values: {'16857353847917058018': 0.0, '1623556211981120490': np.float64(0.1601364779804165), '14973552743668958058': 1.0, '7109502038303752640': 0.0, '12458978761388628182': 0.0, '14375932597445359172': np.float64(0.3051084728276576), '16638695129468460329': np.float64(0.008363742632909267), '14109915122520784357': np.float64(0.41754420288888777), '12275152569355108357': np.float64(0.5421788514874637), '17404053802592907449': np.float64(0.5614404728040123)}\n"
     ]
    },
    {
     "name": "stderr",
     "output_type": "stream",
     "text": [
      "\u001b[92mINFO \u001b[0m:      fit progress: (126, 0.004437342074513436, {'accuracy': 0.9178}, 23272.42156538699)\n",
      "\u001b[92mINFO \u001b[0m:      configure_evaluate: strategy sampled 10 clients (out of 10)\n"
     ]
    },
    {
     "name": "stdout",
     "output_type": "stream",
     "text": [
      "user online: 10 offline: 0\n"
     ]
    },
    {
     "name": "stderr",
     "output_type": "stream",
     "text": [
      "\u001b[92mINFO \u001b[0m:      aggregate_evaluate: received 10 results and 0 failures\n",
      "\u001b[92mINFO \u001b[0m:      \n",
      "\u001b[92mINFO \u001b[0m:      [ROUND 127]\n",
      "\u001b[92mINFO \u001b[0m:      configure_fit: strategy sampled 10 clients (out of 10)\n",
      "\u001b[92mINFO \u001b[0m:      aggregate_fit: received 10 results and 0 failures\n"
     ]
    },
    {
     "name": "stdout",
     "output_type": "stream",
     "text": [
      "[INFO] trained_partitions: {'7', '6', '8', '4', '2', '1', '5', '3', '0', '9'}\n",
      "[INFO] shapley_values: {'12458978761388628182': np.float64(0.36445876398943355), '16638695129468460329': 0.0, '14109915122520784357': np.float64(0.6816045436996444), '17404053802592907449': 1.0, '14973552743668958058': 0.0, '16857353847917058018': np.float64(0.3702146312438707), '12275152569355108357': 0.0, '14375932597445359172': np.float64(0.9676715492684055), '1623556211981120490': np.float64(0.17885950200821105), '7109502038303752640': np.float64(0.4905974146246522)}\n"
     ]
    },
    {
     "name": "stderr",
     "output_type": "stream",
     "text": [
      "\u001b[92mINFO \u001b[0m:      fit progress: (127, 0.0039028772696852684, {'accuracy': 0.9254}, 23456.954211589007)\n",
      "\u001b[92mINFO \u001b[0m:      configure_evaluate: strategy sampled 10 clients (out of 10)\n"
     ]
    },
    {
     "name": "stdout",
     "output_type": "stream",
     "text": [
      "user online: 10 offline: 0\n"
     ]
    },
    {
     "name": "stderr",
     "output_type": "stream",
     "text": [
      "\u001b[92mINFO \u001b[0m:      aggregate_evaluate: received 10 results and 0 failures\n",
      "\u001b[92mINFO \u001b[0m:      \n",
      "\u001b[92mINFO \u001b[0m:      [ROUND 128]\n",
      "\u001b[92mINFO \u001b[0m:      configure_fit: strategy sampled 10 clients (out of 10)\n",
      "\u001b[36m(ClientAppActor pid=666343)\u001b[0m Traceback (most recent call last):\n",
      "\u001b[36m(ClientAppActor pid=666343)\u001b[0m   File \"/usr/lib/python3.10/multiprocessing/util.py\", line 300, in _run_finalizers\n",
      "\u001b[36m(ClientAppActor pid=666343)\u001b[0m     finalizer()\n",
      "\u001b[36m(ClientAppActor pid=666343)\u001b[0m   File \"/usr/lib/python3.10/multiprocessing/util.py\", line 224, in __call__\n",
      "\u001b[36m(ClientAppActor pid=666343)\u001b[0m     res = self._callback(*self._args, **self._kwargs)\n",
      "\u001b[36m(ClientAppActor pid=666343)\u001b[0m   File \"/usr/lib/python3.10/multiprocessing/util.py\", line 133, in _remove_temp_dir\n",
      "\u001b[36m(ClientAppActor pid=666343)\u001b[0m     rmtree(tempdir)\n",
      "\u001b[36m(ClientAppActor pid=666343)\u001b[0m   File \"/usr/lib/python3.10/shutil.py\", line 729, in rmtree\u001b[32m [repeated 2x across cluster] (Ray deduplicates logs by default. Set RAY_DEDUP_LOGS=0 to disable log deduplication, or see https://docs.ray.io/en/master/ray-observability/user-guides/configure-logging.html#log-deduplication for more options.)\u001b[0m\n",
      "\u001b[36m(ClientAppActor pid=666343)\u001b[0m     onerror(os.rmdir, path, sys.exc_info())\n",
      "\u001b[36m(ClientAppActor pid=666343)\u001b[0m     os.rmdir(path)\n",
      "\u001b[36m(ClientAppActor pid=666343)\u001b[0m OSError: [Errno 39] Directory not empty: '/tmp/pymp-4bdxakhv'\n",
      "\u001b[92mINFO \u001b[0m:      aggregate_fit: received 10 results and 0 failures\n"
     ]
    },
    {
     "name": "stdout",
     "output_type": "stream",
     "text": [
      "[INFO] trained_partitions: {'7', '6', '8', '4', '2', '1', '5', '3', '0', '9'}\n",
      "[INFO] shapley_values: {'14375932597445359172': np.float64(0.9432413509328119), '16857353847917058018': 0.0, '17404053802592907449': np.float64(0.2998786056866385), '14109915122520784357': np.float64(0.4990893698735923), '12458978761388628182': np.float64(0.5312078551326846), '14973552743668958058': 1.0, '1623556211981120490': np.float64(0.290904834336375), '12275152569355108357': np.float64(0.3154281408274718), '7109502038303752640': np.float64(0.6536222687485711), '16638695129468460329': np.float64(0.11235833216596737)}\n"
     ]
    },
    {
     "name": "stderr",
     "output_type": "stream",
     "text": [
      "\u001b[92mINFO \u001b[0m:      fit progress: (128, 0.00447302709966898, {'accuracy': 0.9099}, 23640.750802349008)\n",
      "\u001b[92mINFO \u001b[0m:      configure_evaluate: strategy sampled 10 clients (out of 10)\n"
     ]
    },
    {
     "name": "stdout",
     "output_type": "stream",
     "text": [
      "user online: 10 offline: 0\n"
     ]
    },
    {
     "name": "stderr",
     "output_type": "stream",
     "text": [
      "\u001b[92mINFO \u001b[0m:      aggregate_evaluate: received 10 results and 0 failures\n",
      "\u001b[92mINFO \u001b[0m:      \n",
      "\u001b[92mINFO \u001b[0m:      [ROUND 129]\n",
      "\u001b[92mINFO \u001b[0m:      configure_fit: strategy sampled 10 clients (out of 10)\n",
      "\u001b[92mINFO \u001b[0m:      aggregate_fit: received 10 results and 0 failures\n"
     ]
    },
    {
     "name": "stdout",
     "output_type": "stream",
     "text": [
      "[INFO] trained_partitions: {'7', '6', '8', '4', '2', '1', '5', '3', '0', '9'}\n",
      "[INFO] shapley_values: {'16638695129468460329': 0.0, '1623556211981120490': np.float64(0.046947270933862036), '12275152569355108357': np.float64(0.6046626827204459), '17404053802592907449': 1.0, '12458978761388628182': np.float64(0.876835212197076), '14973552743668958058': np.float64(0.7263180874970299), '14375932597445359172': np.float64(0.847623402523522), '16857353847917058018': np.float64(0.5894978880713395), '7109502038303752640': np.float64(0.22948619824868727), '14109915122520784357': np.float64(0.21076143330800814)}\n"
     ]
    },
    {
     "name": "stderr",
     "output_type": "stream",
     "text": [
      "\u001b[92mINFO \u001b[0m:      fit progress: (129, 0.004712918549776077, {'accuracy': 0.9045}, 23829.578853541985)\n",
      "\u001b[92mINFO \u001b[0m:      configure_evaluate: strategy sampled 10 clients (out of 10)\n"
     ]
    },
    {
     "name": "stdout",
     "output_type": "stream",
     "text": [
      "user online: 10 offline: 0\n"
     ]
    },
    {
     "name": "stderr",
     "output_type": "stream",
     "text": [
      "\u001b[92mINFO \u001b[0m:      aggregate_evaluate: received 10 results and 0 failures\n",
      "\u001b[92mINFO \u001b[0m:      \n",
      "\u001b[92mINFO \u001b[0m:      [ROUND 130]\n",
      "\u001b[92mINFO \u001b[0m:      configure_fit: strategy sampled 10 clients (out of 10)\n",
      "\u001b[92mINFO \u001b[0m:      aggregate_fit: received 10 results and 0 failures\n"
     ]
    },
    {
     "name": "stdout",
     "output_type": "stream",
     "text": [
      "[INFO] trained_partitions: {'7', '6', '8', '2', '4', '1', '5', '3', '0', '9'}\n",
      "[INFO] shapley_values: {'16638695129468460329': 0.0, '17404053802592907449': np.float64(0.9791768839556019), '12458978761388628182': np.float64(0.5887849864392274), '7109502038303752640': np.float64(0.7985783168910058), '12275152569355108357': 0.0, '16857353847917058018': np.float64(0.36044874551441), '14375932597445359172': np.float64(0.9355926517230898), '14109915122520784357': 1.0, '14973552743668958058': np.float64(0.6455760497784222), '1623556211981120490': np.float64(0.16717770947705832)}\n"
     ]
    },
    {
     "name": "stderr",
     "output_type": "stream",
     "text": [
      "\u001b[92mINFO \u001b[0m:      fit progress: (130, 0.0043382260657846925, {'accuracy': 0.9143}, 24012.98714877499)\n",
      "\u001b[92mINFO \u001b[0m:      configure_evaluate: strategy sampled 10 clients (out of 10)\n"
     ]
    },
    {
     "name": "stdout",
     "output_type": "stream",
     "text": [
      "user online: 10 offline: 0\n"
     ]
    },
    {
     "name": "stderr",
     "output_type": "stream",
     "text": [
      "\u001b[92mINFO \u001b[0m:      aggregate_evaluate: received 10 results and 0 failures\n",
      "\u001b[92mINFO \u001b[0m:      \n",
      "\u001b[92mINFO \u001b[0m:      [ROUND 131]\n",
      "\u001b[92mINFO \u001b[0m:      configure_fit: strategy sampled 10 clients (out of 10)\n",
      "\u001b[92mINFO \u001b[0m:      aggregate_fit: received 10 results and 0 failures\n"
     ]
    },
    {
     "name": "stdout",
     "output_type": "stream",
     "text": [
      "[INFO] trained_partitions: {'7', '6', '8', '2', '4', '1', '5', '3', '0', '9'}\n",
      "[INFO] shapley_values: {'12458978761388628182': np.float64(0.3721561794042448), '7109502038303752640': np.float64(0.3041004405557989), '14375932597445359172': 1.0, '12275152569355108357': np.float64(0.0019118767613066701), '16857353847917058018': np.float64(0.2650472668800721), '14973552743668958058': np.float64(0.5580052310012937), '16638695129468460329': 0.0, '17404053802592907449': np.float64(0.4452864393640522), '14109915122520784357': np.float64(0.3300318396704883), '1623556211981120490': np.float64(0.1938154919964292)}\n"
     ]
    },
    {
     "name": "stderr",
     "output_type": "stream",
     "text": [
      "\u001b[92mINFO \u001b[0m:      fit progress: (131, 0.0032985972084105014, {'accuracy': 0.9358}, 24197.378398339002)\n",
      "\u001b[92mINFO \u001b[0m:      configure_evaluate: strategy sampled 10 clients (out of 10)\n"
     ]
    },
    {
     "name": "stdout",
     "output_type": "stream",
     "text": [
      "user online: 10 offline: 0\n"
     ]
    },
    {
     "name": "stderr",
     "output_type": "stream",
     "text": [
      "\u001b[92mINFO \u001b[0m:      aggregate_evaluate: received 10 results and 0 failures\n",
      "\u001b[92mINFO \u001b[0m:      \n",
      "\u001b[92mINFO \u001b[0m:      [ROUND 132]\n",
      "\u001b[92mINFO \u001b[0m:      configure_fit: strategy sampled 10 clients (out of 10)\n",
      "\u001b[92mINFO \u001b[0m:      aggregate_fit: received 10 results and 0 failures\n"
     ]
    },
    {
     "name": "stdout",
     "output_type": "stream",
     "text": [
      "[INFO] trained_partitions: {'7', '6', '8', '2', '4', '1', '5', '3', '0', '9'}\n",
      "[INFO] shapley_values: {'7109502038303752640': 0.0, '17404053802592907449': np.float64(0.656133211687855), '12275152569355108357': np.float64(0.6990519100856641), '14109915122520784357': np.float64(0.29134225495930366), '1623556211981120490': np.float64(0.26672590003471314), '14973552743668958058': np.float64(0.993082907292864), '16857353847917058018': np.float64(0.6753315802754128), '14375932597445359172': 1.0, '12458978761388628182': np.float64(0.4141104661500105), '16638695129468460329': np.float64(0.043464724344491)}\n"
     ]
    },
    {
     "name": "stderr",
     "output_type": "stream",
     "text": [
      "\u001b[92mINFO \u001b[0m:      fit progress: (132, 0.0033714331328868865, {'accuracy': 0.9406}, 24381.54114106699)\n",
      "\u001b[92mINFO \u001b[0m:      configure_evaluate: strategy sampled 10 clients (out of 10)\n"
     ]
    },
    {
     "name": "stdout",
     "output_type": "stream",
     "text": [
      "user online: 10 offline: 0\n"
     ]
    },
    {
     "name": "stderr",
     "output_type": "stream",
     "text": [
      "\u001b[92mINFO \u001b[0m:      aggregate_evaluate: received 10 results and 0 failures\n",
      "\u001b[92mINFO \u001b[0m:      \n",
      "\u001b[92mINFO \u001b[0m:      [ROUND 133]\n",
      "\u001b[92mINFO \u001b[0m:      configure_fit: strategy sampled 10 clients (out of 10)\n",
      "\u001b[92mINFO \u001b[0m:      aggregate_fit: received 10 results and 0 failures\n"
     ]
    },
    {
     "name": "stdout",
     "output_type": "stream",
     "text": [
      "[INFO] trained_partitions: {'7', '6', '8', '4', '2', '1', '5', '3', '0', '9'}\n",
      "[INFO] shapley_values: {'14375932597445359172': 1.0, '14109915122520784357': np.float64(0.32921455844113956), '1623556211981120490': 0.0, '16638695129468460329': np.float64(0.04638567987999296), '12458978761388628182': np.float64(0.6812991385942253), '17404053802592907449': np.float64(0.6095865087475995), '7109502038303752640': np.float64(0.3043601877063656), '16857353847917058018': np.float64(0.5346819432315854), '14973552743668958058': np.float64(0.5647356211113106), '12275152569355108357': 0.0}\n"
     ]
    },
    {
     "name": "stderr",
     "output_type": "stream",
     "text": [
      "\u001b[92mINFO \u001b[0m:      fit progress: (133, 0.0029826259419322015, {'accuracy': 0.9426}, 24570.01647986)\n",
      "\u001b[92mINFO \u001b[0m:      configure_evaluate: strategy sampled 10 clients (out of 10)\n"
     ]
    },
    {
     "name": "stdout",
     "output_type": "stream",
     "text": [
      "user online: 10 offline: 0\n"
     ]
    },
    {
     "name": "stderr",
     "output_type": "stream",
     "text": [
      "\u001b[92mINFO \u001b[0m:      aggregate_evaluate: received 10 results and 0 failures\n",
      "\u001b[92mINFO \u001b[0m:      \n",
      "\u001b[92mINFO \u001b[0m:      [ROUND 134]\n",
      "\u001b[92mINFO \u001b[0m:      configure_fit: strategy sampled 10 clients (out of 10)\n",
      "\u001b[92mINFO \u001b[0m:      aggregate_fit: received 10 results and 0 failures\n"
     ]
    },
    {
     "name": "stdout",
     "output_type": "stream",
     "text": [
      "[INFO] trained_partitions: {'7', '6', '8', '2', '4', '1', '5', '3', '0', '9'}\n",
      "[INFO] shapley_values: {'17404053802592907449': np.float64(0.35031787773165457), '12275152569355108357': 0.0, '7109502038303752640': np.float64(0.8770583521584803), '1623556211981120490': np.float64(0.7197595018124151), '14109915122520784357': np.float64(0.49890746444128736), '12458978761388628182': np.float64(0.6620421493919723), '16857353847917058018': 1.0, '14375932597445359172': np.float64(0.698660012543467), '14973552743668958058': np.float64(0.7378641828832989), '16638695129468460329': np.float64(0.2612052507892953)}\n"
     ]
    },
    {
     "name": "stderr",
     "output_type": "stream",
     "text": [
      "\u001b[92mINFO \u001b[0m:      fit progress: (134, 0.0032955502524971963, {'accuracy': 0.9365}, 24753.764154712)\n",
      "\u001b[92mINFO \u001b[0m:      configure_evaluate: strategy sampled 10 clients (out of 10)\n"
     ]
    },
    {
     "name": "stdout",
     "output_type": "stream",
     "text": [
      "user online: 10 offline: 0\n"
     ]
    },
    {
     "name": "stderr",
     "output_type": "stream",
     "text": [
      "\u001b[92mINFO \u001b[0m:      aggregate_evaluate: received 10 results and 0 failures\n",
      "\u001b[92mINFO \u001b[0m:      \n",
      "\u001b[92mINFO \u001b[0m:      [ROUND 135]\n",
      "\u001b[92mINFO \u001b[0m:      configure_fit: strategy sampled 10 clients (out of 10)\n",
      "\u001b[92mINFO \u001b[0m:      aggregate_fit: received 10 results and 0 failures\n"
     ]
    },
    {
     "name": "stdout",
     "output_type": "stream",
     "text": [
      "[INFO] trained_partitions: {'7', '6', '8', '2', '4', '1', '5', '3', '0', '9'}\n",
      "[INFO] shapley_values: {'16638695129468460329': np.float64(0.1178928559858823), '1623556211981120490': np.float64(0.3974178971030325), '14375932597445359172': np.float64(0.7309979556797817), '17404053802592907449': 1.0, '7109502038303752640': np.float64(0.40169181862168335), '16857353847917058018': 0.0, '14109915122520784357': 0.0, '12275152569355108357': np.float64(0.16256162047564185), '14973552743668958058': np.float64(0.56430328604761), '12458978761388628182': np.float64(0.5160496067129355)}\n"
     ]
    },
    {
     "name": "stderr",
     "output_type": "stream",
     "text": [
      "\u001b[92mINFO \u001b[0m:      fit progress: (135, 0.003344587528705597, {'accuracy': 0.9387}, 24937.68300479499)\n",
      "\u001b[92mINFO \u001b[0m:      configure_evaluate: strategy sampled 10 clients (out of 10)\n"
     ]
    },
    {
     "name": "stdout",
     "output_type": "stream",
     "text": [
      "user online: 10 offline: 0\n"
     ]
    },
    {
     "name": "stderr",
     "output_type": "stream",
     "text": [
      "\u001b[92mINFO \u001b[0m:      aggregate_evaluate: received 10 results and 0 failures\n",
      "\u001b[92mINFO \u001b[0m:      \n",
      "\u001b[92mINFO \u001b[0m:      [ROUND 136]\n",
      "\u001b[92mINFO \u001b[0m:      configure_fit: strategy sampled 10 clients (out of 10)\n",
      "\u001b[92mINFO \u001b[0m:      aggregate_fit: received 10 results and 0 failures\n"
     ]
    },
    {
     "name": "stdout",
     "output_type": "stream",
     "text": [
      "[INFO] trained_partitions: {'7', '6', '8', '2', '4', '1', '5', '3', '0', '9'}\n",
      "[INFO] shapley_values: {'12458978761388628182': np.float64(0.7501724187050072), '16638695129468460329': np.float64(0.16334579780179131), '16857353847917058018': np.float64(0.4502563231573361), '7109502038303752640': np.float64(0.3656677907146445), '14973552743668958058': np.float64(0.6940161872679493), '12275152569355108357': 0.0, '14375932597445359172': 1.0, '17404053802592907449': np.float64(0.8215524769989612), '1623556211981120490': np.float64(0.039935496301307945), '14109915122520784357': np.float64(0.41645443677562777)}\n"
     ]
    },
    {
     "name": "stderr",
     "output_type": "stream",
     "text": [
      "\u001b[92mINFO \u001b[0m:      fit progress: (136, 0.003040616115927696, {'accuracy': 0.9415}, 25121.382342336)\n",
      "\u001b[92mINFO \u001b[0m:      configure_evaluate: strategy sampled 10 clients (out of 10)\n"
     ]
    },
    {
     "name": "stdout",
     "output_type": "stream",
     "text": [
      "user online: 10 offline: 0\n"
     ]
    },
    {
     "name": "stderr",
     "output_type": "stream",
     "text": [
      "\u001b[92mINFO \u001b[0m:      aggregate_evaluate: received 10 results and 0 failures\n",
      "\u001b[92mINFO \u001b[0m:      \n",
      "\u001b[92mINFO \u001b[0m:      [ROUND 137]\n",
      "\u001b[92mINFO \u001b[0m:      configure_fit: strategy sampled 10 clients (out of 10)\n",
      "\u001b[92mINFO \u001b[0m:      aggregate_fit: received 10 results and 0 failures\n"
     ]
    },
    {
     "name": "stdout",
     "output_type": "stream",
     "text": [
      "[INFO] trained_partitions: {'7', '6', '8', '4', '2', '1', '5', '3', '0', '9'}\n",
      "[INFO] shapley_values: {'16857353847917058018': np.float64(0.6272312871746164), '12275152569355108357': 0.0, '17404053802592907449': np.float64(0.9396476814041007), '12458978761388628182': np.float64(0.8395383986756518), '1623556211981120490': 0.0, '16638695129468460329': np.float64(0.36802598553569943), '14375932597445359172': np.float64(0.8819374567209372), '7109502038303752640': np.float64(0.7921567388587356), '14973552743668958058': 1.0, '14109915122520784357': np.float64(0.047715401683290276)}\n"
     ]
    },
    {
     "name": "stderr",
     "output_type": "stream",
     "text": [
      "\u001b[92mINFO \u001b[0m:      fit progress: (137, 0.0057888221025466915, {'accuracy': 0.8819}, 25305.773191758984)\n",
      "\u001b[92mINFO \u001b[0m:      configure_evaluate: strategy sampled 10 clients (out of 10)\n"
     ]
    },
    {
     "name": "stdout",
     "output_type": "stream",
     "text": [
      "user online: 10 offline: 0\n"
     ]
    },
    {
     "name": "stderr",
     "output_type": "stream",
     "text": [
      "\u001b[92mINFO \u001b[0m:      aggregate_evaluate: received 10 results and 0 failures\n",
      "\u001b[92mINFO \u001b[0m:      \n",
      "\u001b[92mINFO \u001b[0m:      [ROUND 138]\n",
      "\u001b[92mINFO \u001b[0m:      configure_fit: strategy sampled 10 clients (out of 10)\n",
      "\u001b[92mINFO \u001b[0m:      aggregate_fit: received 10 results and 0 failures\n"
     ]
    },
    {
     "name": "stdout",
     "output_type": "stream",
     "text": [
      "[INFO] trained_partitions: {'7', '6', '8', '2', '4', '1', '5', '3', '0', '9'}\n",
      "[INFO] shapley_values: {'16638695129468460329': 0.0, '12458978761388628182': np.float64(0.6276016810785408), '17404053802592907449': 1.0, '16857353847917058018': np.float64(0.49010050730837124), '7109502038303752640': np.float64(0.5964232623386422), '14973552743668958058': np.float64(0.6589684293348699), '14109915122520784357': np.float64(0.19443566510925941), '1623556211981120490': 0.0, '14375932597445359172': np.float64(0.48050150464087105), '12275152569355108357': np.float64(0.5171668859797343)}\n"
     ]
    },
    {
     "name": "stderr",
     "output_type": "stream",
     "text": [
      "\u001b[92mINFO \u001b[0m:      fit progress: (138, 0.0031279476098716257, {'accuracy': 0.9405}, 25488.692866166995)\n",
      "\u001b[92mINFO \u001b[0m:      configure_evaluate: strategy sampled 10 clients (out of 10)\n"
     ]
    },
    {
     "name": "stdout",
     "output_type": "stream",
     "text": [
      "user online: 10 offline: 0\n"
     ]
    },
    {
     "name": "stderr",
     "output_type": "stream",
     "text": [
      "\u001b[92mINFO \u001b[0m:      aggregate_evaluate: received 10 results and 0 failures\n",
      "\u001b[92mINFO \u001b[0m:      \n",
      "\u001b[92mINFO \u001b[0m:      [ROUND 139]\n",
      "\u001b[92mINFO \u001b[0m:      configure_fit: strategy sampled 10 clients (out of 10)\n",
      "\u001b[92mINFO \u001b[0m:      aggregate_fit: received 10 results and 0 failures\n"
     ]
    },
    {
     "name": "stdout",
     "output_type": "stream",
     "text": [
      "[INFO] trained_partitions: {'7', '6', '8', '4', '2', '1', '5', '3', '0', '9'}\n",
      "[INFO] shapley_values: {'14973552743668958058': np.float64(0.35088938118059565), '14109915122520784357': np.float64(0.32557850353173107), '12458978761388628182': np.float64(0.1682291120936595), '16638695129468460329': np.float64(0.356241538518122), '14375932597445359172': np.float64(0.9693795654705551), '16857353847917058018': np.float64(0.7606121373028624), '1623556211981120490': np.float64(0.20374578150731099), '7109502038303752640': np.float64(0.9852318159957919), '12275152569355108357': 0.0, '17404053802592907449': 1.0}\n"
     ]
    },
    {
     "name": "stderr",
     "output_type": "stream",
     "text": [
      "\u001b[92mINFO \u001b[0m:      fit progress: (139, 0.0032187201302498578, {'accuracy': 0.9383}, 25672.714191445993)\n",
      "\u001b[92mINFO \u001b[0m:      configure_evaluate: strategy sampled 10 clients (out of 10)\n"
     ]
    },
    {
     "name": "stdout",
     "output_type": "stream",
     "text": [
      "user online: 10 offline: 0\n"
     ]
    },
    {
     "name": "stderr",
     "output_type": "stream",
     "text": [
      "\u001b[92mINFO \u001b[0m:      aggregate_evaluate: received 10 results and 0 failures\n",
      "\u001b[92mINFO \u001b[0m:      \n",
      "\u001b[92mINFO \u001b[0m:      [ROUND 140]\n",
      "\u001b[92mINFO \u001b[0m:      configure_fit: strategy sampled 10 clients (out of 10)\n",
      "\u001b[92mINFO \u001b[0m:      aggregate_fit: received 10 results and 0 failures\n"
     ]
    },
    {
     "name": "stdout",
     "output_type": "stream",
     "text": [
      "[INFO] trained_partitions: {'7', '6', '8', '2', '4', '1', '5', '3', '0', '9'}\n",
      "[INFO] shapley_values: {'7109502038303752640': np.float64(0.7405901337401075), '17404053802592907449': 1.0, '14109915122520784357': np.float64(0.06020471716396953), '16857353847917058018': np.float64(0.8997692633384892), '14375932597445359172': np.float64(0.2886615438748591), '14973552743668958058': np.float64(0.3962183937554824), '1623556211981120490': 0.0, '12275152569355108357': np.float64(0.1584082082675324), '16638695129468460329': np.float64(0.19366815960392444), '12458978761388628182': np.float64(0.5584278121171286)}\n"
     ]
    },
    {
     "name": "stderr",
     "output_type": "stream",
     "text": [
      "\u001b[92mINFO \u001b[0m:      fit progress: (140, 0.008395149765908718, {'accuracy': 0.86}, 25861.297362118)\n",
      "\u001b[92mINFO \u001b[0m:      configure_evaluate: strategy sampled 10 clients (out of 10)\n"
     ]
    },
    {
     "name": "stdout",
     "output_type": "stream",
     "text": [
      "user online: 10 offline: 0\n"
     ]
    },
    {
     "name": "stderr",
     "output_type": "stream",
     "text": [
      "\u001b[92mINFO \u001b[0m:      aggregate_evaluate: received 10 results and 0 failures\n",
      "\u001b[92mINFO \u001b[0m:      \n",
      "\u001b[92mINFO \u001b[0m:      [ROUND 141]\n",
      "\u001b[92mINFO \u001b[0m:      configure_fit: strategy sampled 10 clients (out of 10)\n",
      "\u001b[36m(ClientAppActor pid=666344)\u001b[0m Traceback (most recent call last):\n",
      "\u001b[36m(ClientAppActor pid=666344)\u001b[0m   File \"/usr/lib/python3.10/multiprocessing/util.py\", line 300, in _run_finalizers\n",
      "\u001b[36m(ClientAppActor pid=666344)\u001b[0m     finalizer()\n",
      "\u001b[36m(ClientAppActor pid=666344)\u001b[0m   File \"/usr/lib/python3.10/multiprocessing/util.py\", line 224, in __call__\n",
      "\u001b[36m(ClientAppActor pid=666344)\u001b[0m     res = self._callback(*self._args, **self._kwargs)\n",
      "\u001b[36m(ClientAppActor pid=666344)\u001b[0m   File \"/usr/lib/python3.10/multiprocessing/util.py\", line 133, in _remove_temp_dir\n",
      "\u001b[36m(ClientAppActor pid=666344)\u001b[0m     rmtree(tempdir)\n",
      "\u001b[36m(ClientAppActor pid=666344)\u001b[0m     onerror(os.rmdir, path, sys.exc_info())\n",
      "\u001b[36m(ClientAppActor pid=666344)\u001b[0m     os.rmdir(path)\n",
      "\u001b[36m(ClientAppActor pid=666344)\u001b[0m OSError: [Errno 39] Directory not empty: '/tmp/pymp-4r1p_os1'\n",
      "\u001b[36m(ClientAppActor pid=666344)\u001b[0m   File \"/usr/lib/python3.10/shutil.py\", line 729, in rmtree\u001b[32m [repeated 2x across cluster]\u001b[0m\n",
      "\u001b[92mINFO \u001b[0m:      aggregate_fit: received 10 results and 0 failures\n"
     ]
    },
    {
     "name": "stdout",
     "output_type": "stream",
     "text": [
      "[INFO] trained_partitions: {'7', '6', '8', '2', '4', '1', '5', '3', '0', '9'}\n",
      "[INFO] shapley_values: {'1623556211981120490': np.float64(0.27104209332945733), '7109502038303752640': np.float64(0.6408849538270739), '14973552743668958058': 1.0, '12275152569355108357': np.float64(0.030716341493376615), '14375932597445359172': np.float64(0.7260903197584324), '14109915122520784357': np.float64(0.0935611906426668), '12458978761388628182': np.float64(0.5616316979247339), '16638695129468460329': 0.0, '16857353847917058018': np.float64(0.8065088022885502), '17404053802592907449': np.float64(0.5539871282228602)}\n"
     ]
    },
    {
     "name": "stderr",
     "output_type": "stream",
     "text": [
      "\u001b[92mINFO \u001b[0m:      fit progress: (141, 0.003404983306676149, {'accuracy': 0.9339}, 26047.52909240799)\n",
      "\u001b[92mINFO \u001b[0m:      configure_evaluate: strategy sampled 10 clients (out of 10)\n"
     ]
    },
    {
     "name": "stdout",
     "output_type": "stream",
     "text": [
      "user online: 10 offline: 0\n"
     ]
    },
    {
     "name": "stderr",
     "output_type": "stream",
     "text": [
      "\u001b[92mINFO \u001b[0m:      aggregate_evaluate: received 10 results and 0 failures\n",
      "\u001b[92mINFO \u001b[0m:      \n",
      "\u001b[92mINFO \u001b[0m:      [ROUND 142]\n",
      "\u001b[92mINFO \u001b[0m:      configure_fit: strategy sampled 10 clients (out of 10)\n",
      "\u001b[92mINFO \u001b[0m:      aggregate_fit: received 10 results and 0 failures\n"
     ]
    },
    {
     "name": "stdout",
     "output_type": "stream",
     "text": [
      "[INFO] trained_partitions: {'7', '6', '8', '4', '2', '1', '5', '3', '0', '9'}\n",
      "[INFO] shapley_values: {'7109502038303752640': 1.0, '14973552743668958058': np.float64(0.5382690846896444), '16638695129468460329': 0.0, '1623556211981120490': np.float64(0.060221823231773615), '12458978761388628182': 0.0, '17404053802592907449': np.float64(0.45143924160442844), '14375932597445359172': np.float64(0.4199205947331264), '12275152569355108357': np.float64(0.48821955860665484), '14109915122520784357': np.float64(0.21950149534965427), '16857353847917058018': np.float64(0.45280444931428093)}\n"
     ]
    },
    {
     "name": "stderr",
     "output_type": "stream",
     "text": [
      "\u001b[92mINFO \u001b[0m:      fit progress: (142, 0.005604101949930191, {'accuracy': 0.881}, 26233.25180822701)\n",
      "\u001b[92mINFO \u001b[0m:      configure_evaluate: strategy sampled 10 clients (out of 10)\n"
     ]
    },
    {
     "name": "stdout",
     "output_type": "stream",
     "text": [
      "user online: 10 offline: 0\n"
     ]
    },
    {
     "name": "stderr",
     "output_type": "stream",
     "text": [
      "\u001b[92mINFO \u001b[0m:      aggregate_evaluate: received 10 results and 0 failures\n",
      "\u001b[92mINFO \u001b[0m:      \n",
      "\u001b[92mINFO \u001b[0m:      [ROUND 143]\n",
      "\u001b[92mINFO \u001b[0m:      configure_fit: strategy sampled 10 clients (out of 10)\n",
      "\u001b[92mINFO \u001b[0m:      aggregate_fit: received 10 results and 0 failures\n"
     ]
    },
    {
     "name": "stdout",
     "output_type": "stream",
     "text": [
      "[INFO] trained_partitions: {'7', '6', '8', '4', '2', '1', '5', '3', '0', '9'}\n",
      "[INFO] shapley_values: {'14973552743668958058': 1.0, '14375932597445359172': np.float64(0.5690037474142786), '14109915122520784357': 0.0, '16638695129468460329': np.float64(0.18246863093154952), '12275152569355108357': 0.0, '17404053802592907449': np.float64(0.8615707373712155), '12458978761388628182': np.float64(0.437640980375499), '1623556211981120490': np.float64(0.6073206843587756), '7109502038303752640': np.float64(0.8328902362609715), '16857353847917058018': np.float64(0.5441166569865984)}\n"
     ]
    },
    {
     "name": "stderr",
     "output_type": "stream",
     "text": [
      "\u001b[92mINFO \u001b[0m:      fit progress: (143, 0.022766112783551215, {'accuracy': 0.8648}, 26417.366119627986)\n",
      "\u001b[92mINFO \u001b[0m:      configure_evaluate: strategy sampled 10 clients (out of 10)\n"
     ]
    },
    {
     "name": "stdout",
     "output_type": "stream",
     "text": [
      "user online: 10 offline: 0\n"
     ]
    },
    {
     "name": "stderr",
     "output_type": "stream",
     "text": [
      "\u001b[92mINFO \u001b[0m:      aggregate_evaluate: received 10 results and 0 failures\n",
      "\u001b[92mINFO \u001b[0m:      \n",
      "\u001b[92mINFO \u001b[0m:      [ROUND 144]\n",
      "\u001b[92mINFO \u001b[0m:      configure_fit: strategy sampled 10 clients (out of 10)\n",
      "\u001b[92mINFO \u001b[0m:      aggregate_fit: received 10 results and 0 failures\n"
     ]
    },
    {
     "name": "stdout",
     "output_type": "stream",
     "text": [
      "[INFO] trained_partitions: {'7', '6', '8', '4', '2', '1', '5', '3', '0', '9'}\n",
      "[INFO] shapley_values: {'14375932597445359172': np.float64(0.18964861775711678), '14109915122520784357': np.float64(0.5987247383809029), '12275152569355108357': np.float64(0.419467239125668), '16857353847917058018': np.float64(0.5520062239246366), '16638695129468460329': 0.0, '14973552743668958058': 1.0, '17404053802592907449': np.float64(0.6209068170432764), '12458978761388628182': np.float64(0.2717892400950684), '1623556211981120490': 0.0, '7109502038303752640': np.float64(0.8285549146988183)}\n"
     ]
    },
    {
     "name": "stderr",
     "output_type": "stream",
     "text": [
      "\u001b[92mINFO \u001b[0m:      fit progress: (144, 0.017827614918351175, {'accuracy': 0.8467}, 26606.636213827005)\n",
      "\u001b[92mINFO \u001b[0m:      configure_evaluate: strategy sampled 10 clients (out of 10)\n"
     ]
    },
    {
     "name": "stdout",
     "output_type": "stream",
     "text": [
      "user online: 10 offline: 0\n"
     ]
    },
    {
     "name": "stderr",
     "output_type": "stream",
     "text": [
      "\u001b[92mINFO \u001b[0m:      aggregate_evaluate: received 10 results and 0 failures\n",
      "\u001b[92mINFO \u001b[0m:      \n",
      "\u001b[92mINFO \u001b[0m:      [ROUND 145]\n",
      "\u001b[92mINFO \u001b[0m:      configure_fit: strategy sampled 10 clients (out of 10)\n",
      "\u001b[92mINFO \u001b[0m:      aggregate_fit: received 10 results and 0 failures\n"
     ]
    },
    {
     "name": "stdout",
     "output_type": "stream",
     "text": [
      "[INFO] trained_partitions: {'7', '6', '8', '2', '4', '1', '5', '3', '0', '9'}\n",
      "[INFO] shapley_values: {'17404053802592907449': np.float64(0.5022528995254272), '14973552743668958058': np.float64(0.5451068484892719), '16857353847917058018': 1.0, '14109915122520784357': np.float64(0.17389498324092992), '7109502038303752640': np.float64(0.9473462359990703), '16638695129468460329': 0.0, '14375932597445359172': np.float64(0.7694216750117518), '1623556211981120490': np.float64(0.4087916805790326), '12275152569355108357': np.float64(0.97103861186771), '12458978761388628182': np.float64(0.2838020605782019)}\n"
     ]
    },
    {
     "name": "stderr",
     "output_type": "stream",
     "text": [
      "\u001b[92mINFO \u001b[0m:      fit progress: (145, 0.00938260264545679, {'accuracy': 0.8408}, 26790.697034946003)\n",
      "\u001b[92mINFO \u001b[0m:      configure_evaluate: strategy sampled 10 clients (out of 10)\n"
     ]
    },
    {
     "name": "stdout",
     "output_type": "stream",
     "text": [
      "user online: 10 offline: 0\n"
     ]
    },
    {
     "name": "stderr",
     "output_type": "stream",
     "text": [
      "\u001b[92mINFO \u001b[0m:      aggregate_evaluate: received 10 results and 0 failures\n",
      "\u001b[92mINFO \u001b[0m:      \n",
      "\u001b[92mINFO \u001b[0m:      [ROUND 146]\n",
      "\u001b[92mINFO \u001b[0m:      configure_fit: strategy sampled 10 clients (out of 10)\n",
      "\u001b[92mINFO \u001b[0m:      aggregate_fit: received 10 results and 0 failures\n"
     ]
    },
    {
     "name": "stdout",
     "output_type": "stream",
     "text": [
      "[INFO] trained_partitions: {'7', '6', '8', '2', '4', '1', '5', '3', '0', '9'}\n",
      "[INFO] shapley_values: {'17404053802592907449': np.float64(0.49559794096671067), '7109502038303752640': 1.0, '14109915122520784357': np.float64(0.35833794305226774), '16638695129468460329': 0.0, '12275152569355108357': np.float64(0.2593441115517088), '16857353847917058018': 0.0, '14375932597445359172': np.float64(0.2623394810915392), '1623556211981120490': np.float64(0.27424819553233676), '12458978761388628182': 0.0, '14973552743668958058': np.float64(0.4983394962891861)}\n"
     ]
    },
    {
     "name": "stderr",
     "output_type": "stream",
     "text": [
      "\u001b[92mINFO \u001b[0m:      fit progress: (146, 0.007364201760292053, {'accuracy': 0.8571}, 26974.569193687)\n",
      "\u001b[92mINFO \u001b[0m:      configure_evaluate: strategy sampled 10 clients (out of 10)\n"
     ]
    },
    {
     "name": "stdout",
     "output_type": "stream",
     "text": [
      "user online: 10 offline: 0\n"
     ]
    },
    {
     "name": "stderr",
     "output_type": "stream",
     "text": [
      "\u001b[92mINFO \u001b[0m:      aggregate_evaluate: received 10 results and 0 failures\n",
      "\u001b[92mINFO \u001b[0m:      \n",
      "\u001b[92mINFO \u001b[0m:      [ROUND 147]\n",
      "\u001b[92mINFO \u001b[0m:      configure_fit: strategy sampled 10 clients (out of 10)\n",
      "\u001b[92mINFO \u001b[0m:      aggregate_fit: received 10 results and 0 failures\n"
     ]
    },
    {
     "name": "stdout",
     "output_type": "stream",
     "text": [
      "[INFO] trained_partitions: {'7', '6', '8', '2', '4', '1', '5', '3', '0', '9'}\n",
      "[INFO] shapley_values: {'12275152569355108357': np.float64(0.7374835835810101), '17404053802592907449': np.float64(0.11934358442636875), '16857353847917058018': np.float64(0.5053319489871129), '14375932597445359172': np.float64(0.745734882041576), '16638695129468460329': 0.0, '7109502038303752640': np.float64(0.8645091938655739), '12458978761388628182': np.float64(0.3826659609578564), '14973552743668958058': 1.0, '1623556211981120490': 0.0, '14109915122520784357': np.float64(0.4255690699270091)}\n"
     ]
    },
    {
     "name": "stderr",
     "output_type": "stream",
     "text": [
      "\u001b[92mINFO \u001b[0m:      fit progress: (147, 0.005141389498859644, {'accuracy': 0.9013}, 27158.565108156006)\n",
      "\u001b[92mINFO \u001b[0m:      configure_evaluate: strategy sampled 10 clients (out of 10)\n"
     ]
    },
    {
     "name": "stdout",
     "output_type": "stream",
     "text": [
      "user online: 10 offline: 0\n"
     ]
    },
    {
     "name": "stderr",
     "output_type": "stream",
     "text": [
      "\u001b[92mINFO \u001b[0m:      aggregate_evaluate: received 10 results and 0 failures\n",
      "\u001b[92mINFO \u001b[0m:      \n",
      "\u001b[92mINFO \u001b[0m:      [ROUND 148]\n",
      "\u001b[92mINFO \u001b[0m:      configure_fit: strategy sampled 10 clients (out of 10)\n",
      "\u001b[92mINFO \u001b[0m:      aggregate_fit: received 10 results and 0 failures\n"
     ]
    },
    {
     "name": "stdout",
     "output_type": "stream",
     "text": [
      "[INFO] trained_partitions: {'7', '6', '8', '2', '4', '1', '5', '3', '0', '9'}\n",
      "[INFO] shapley_values: {'1623556211981120490': np.float64(0.10977020992300483), '12275152569355108357': np.float64(0.05204044059733967), '14109915122520784357': 0.0, '14375932597445359172': np.float64(0.6463055771718588), '14973552743668958058': np.float64(0.6663466248976392), '16857353847917058018': np.float64(0.5666953950966287), '16638695129468460329': np.float64(0.0672862772764213), '7109502038303752640': 1.0, '12458978761388628182': 0.0, '17404053802592907449': np.float64(0.5361391362054075)}\n"
     ]
    },
    {
     "name": "stderr",
     "output_type": "stream",
     "text": [
      "\u001b[92mINFO \u001b[0m:      fit progress: (148, 0.009325896307826043, {'accuracy': 0.851}, 27342.820197377994)\n",
      "\u001b[92mINFO \u001b[0m:      configure_evaluate: strategy sampled 10 clients (out of 10)\n"
     ]
    },
    {
     "name": "stdout",
     "output_type": "stream",
     "text": [
      "user online: 10 offline: 0\n"
     ]
    },
    {
     "name": "stderr",
     "output_type": "stream",
     "text": [
      "\u001b[92mINFO \u001b[0m:      aggregate_evaluate: received 10 results and 0 failures\n",
      "\u001b[92mINFO \u001b[0m:      \n",
      "\u001b[92mINFO \u001b[0m:      [ROUND 149]\n",
      "\u001b[92mINFO \u001b[0m:      configure_fit: strategy sampled 10 clients (out of 10)\n",
      "\u001b[92mINFO \u001b[0m:      aggregate_fit: received 10 results and 0 failures\n"
     ]
    },
    {
     "name": "stdout",
     "output_type": "stream",
     "text": [
      "[INFO] trained_partitions: {'7', '6', '8', '4', '2', '1', '5', '3', '0', '9'}\n",
      "[INFO] shapley_values: {'14973552743668958058': np.float64(0.8880545012800845), '12458978761388628182': 0.0, '12275152569355108357': np.float64(0.23042979416356088), '16638695129468460329': 0.0, '14109915122520784357': np.float64(0.3372805401169737), '16857353847917058018': 1.0, '7109502038303752640': np.float64(0.8019233167261222), '14375932597445359172': np.float64(0.9255004897811495), '17404053802592907449': np.float64(0.957405527887041), '1623556211981120490': np.float64(0.6430615328171336)}\n"
     ]
    },
    {
     "name": "stderr",
     "output_type": "stream",
     "text": [
      "\u001b[92mINFO \u001b[0m:      fit progress: (149, 0.004986456228792667, {'accuracy': 0.9009}, 27527.375542347)\n",
      "\u001b[92mINFO \u001b[0m:      configure_evaluate: strategy sampled 10 clients (out of 10)\n"
     ]
    },
    {
     "name": "stdout",
     "output_type": "stream",
     "text": [
      "user online: 10 offline: 0\n"
     ]
    },
    {
     "name": "stderr",
     "output_type": "stream",
     "text": [
      "\u001b[92mINFO \u001b[0m:      aggregate_evaluate: received 10 results and 0 failures\n",
      "\u001b[92mINFO \u001b[0m:      \n",
      "\u001b[92mINFO \u001b[0m:      [ROUND 150]\n",
      "\u001b[92mINFO \u001b[0m:      configure_fit: strategy sampled 10 clients (out of 10)\n",
      "\u001b[92mINFO \u001b[0m:      aggregate_fit: received 10 results and 0 failures\n"
     ]
    },
    {
     "name": "stdout",
     "output_type": "stream",
     "text": [
      "[INFO] trained_partitions: {'7', '6', '8', '4', '2', '1', '5', '3', '0', '9'}\n",
      "[INFO] shapley_values: {'12275152569355108357': np.float64(0.10453849728334774), '14375932597445359172': 1.0, '14109915122520784357': np.float64(0.28123798886232104), '12458978761388628182': np.float64(0.40371673373645517), '17404053802592907449': np.float64(0.46224411781942326), '16638695129468460329': np.float64(0.008549564775791033), '7109502038303752640': np.float64(0.3154290221086024), '16857353847917058018': np.float64(0.36642132030420643), '1623556211981120490': 0.0, '14973552743668958058': np.float64(0.343308391298357)}\n"
     ]
    },
    {
     "name": "stderr",
     "output_type": "stream",
     "text": [
      "\u001b[92mINFO \u001b[0m:      fit progress: (150, 0.0033710493050515653, {'accuracy': 0.9345}, 27717.552691550984)\n",
      "\u001b[92mINFO \u001b[0m:      configure_evaluate: strategy sampled 10 clients (out of 10)\n"
     ]
    },
    {
     "name": "stdout",
     "output_type": "stream",
     "text": [
      "user online: 10 offline: 0\n"
     ]
    },
    {
     "name": "stderr",
     "output_type": "stream",
     "text": [
      "\u001b[92mINFO \u001b[0m:      aggregate_evaluate: received 10 results and 0 failures\n",
      "\u001b[92mINFO \u001b[0m:      \n",
      "\u001b[92mINFO \u001b[0m:      [ROUND 151]\n",
      "\u001b[92mINFO \u001b[0m:      configure_fit: strategy sampled 10 clients (out of 10)\n",
      "\u001b[92mINFO \u001b[0m:      aggregate_fit: received 10 results and 0 failures\n"
     ]
    },
    {
     "name": "stdout",
     "output_type": "stream",
     "text": [
      "[INFO] trained_partitions: {'7', '6', '8', '2', '4', '1', '5', '3', '0', '9'}\n",
      "[INFO] shapley_values: {'12458978761388628182': np.float64(0.6480772503005641), '7109502038303752640': 1.0, '14973552743668958058': np.float64(0.45775844474179367), '16638695129468460329': 0.0, '12275152569355108357': 0.0, '14109915122520784357': np.float64(0.33230636054609186), '14375932597445359172': np.float64(0.8875223893671547), '1623556211981120490': np.float64(0.18669967631844256), '17404053802592907449': np.float64(0.8314532030813943), '16857353847917058018': np.float64(0.5501606909986575)}\n"
     ]
    },
    {
     "name": "stderr",
     "output_type": "stream",
     "text": [
      "\u001b[92mINFO \u001b[0m:      fit progress: (151, 0.0035818972043693068, {'accuracy': 0.9359}, 27900.877265897987)\n",
      "\u001b[92mINFO \u001b[0m:      configure_evaluate: strategy sampled 10 clients (out of 10)\n"
     ]
    },
    {
     "name": "stdout",
     "output_type": "stream",
     "text": [
      "user online: 10 offline: 0\n"
     ]
    },
    {
     "name": "stderr",
     "output_type": "stream",
     "text": [
      "\u001b[92mINFO \u001b[0m:      aggregate_evaluate: received 10 results and 0 failures\n",
      "\u001b[92mINFO \u001b[0m:      \n",
      "\u001b[92mINFO \u001b[0m:      [ROUND 152]\n",
      "\u001b[92mINFO \u001b[0m:      configure_fit: strategy sampled 10 clients (out of 10)\n",
      "\u001b[92mINFO \u001b[0m:      aggregate_fit: received 10 results and 0 failures\n"
     ]
    },
    {
     "name": "stdout",
     "output_type": "stream",
     "text": [
      "[INFO] trained_partitions: {'7', '6', '8', '4', '2', '1', '5', '3', '0', '9'}\n",
      "[INFO] shapley_values: {'7109502038303752640': np.float64(0.5169935704710814), '16857353847917058018': np.float64(0.5614990730351943), '12458978761388628182': np.float64(0.27409936550466446), '16638695129468460329': 0.0, '12275152569355108357': 0.0, '1623556211981120490': np.float64(0.24433555261363063), '14375932597445359172': np.float64(0.8007864876459366), '17404053802592907449': 1.0, '14973552743668958058': np.float64(0.6212482219227339), '14109915122520784357': np.float64(0.47774512255982204)}\n"
     ]
    },
    {
     "name": "stderr",
     "output_type": "stream",
     "text": [
      "\u001b[92mINFO \u001b[0m:      fit progress: (152, 0.0027367796026170252, {'accuracy': 0.9515}, 28083.15400027999)\n",
      "\u001b[92mINFO \u001b[0m:      configure_evaluate: strategy sampled 10 clients (out of 10)\n"
     ]
    },
    {
     "name": "stdout",
     "output_type": "stream",
     "text": [
      "user online: 10 offline: 0\n"
     ]
    },
    {
     "name": "stderr",
     "output_type": "stream",
     "text": [
      "\u001b[92mINFO \u001b[0m:      aggregate_evaluate: received 10 results and 0 failures\n",
      "\u001b[92mINFO \u001b[0m:      \n",
      "\u001b[92mINFO \u001b[0m:      [ROUND 153]\n",
      "\u001b[92mINFO \u001b[0m:      configure_fit: strategy sampled 10 clients (out of 10)\n",
      "\u001b[92mINFO \u001b[0m:      aggregate_fit: received 10 results and 0 failures\n"
     ]
    },
    {
     "name": "stdout",
     "output_type": "stream",
     "text": [
      "[INFO] trained_partitions: {'7', '6', '8', '2', '4', '1', '5', '3', '0', '9'}\n",
      "[INFO] shapley_values: {'12458978761388628182': np.float64(0.4792007899078316), '16638695129468460329': np.float64(0.09021079569029691), '14973552743668958058': 1.0, '7109502038303752640': np.float64(0.5778637115291784), '17404053802592907449': np.float64(0.42947383954730617), '1623556211981120490': 0.0, '16857353847917058018': np.float64(0.4997534242232757), '14375932597445359172': np.float64(0.7622625549435265), '14109915122520784357': np.float64(0.29488754389261473), '12275152569355108357': 0.0}\n"
     ]
    },
    {
     "name": "stderr",
     "output_type": "stream",
     "text": [
      "\u001b[92mINFO \u001b[0m:      fit progress: (153, 0.0030493965558707715, {'accuracy': 0.9434}, 28265.64413854599)\n",
      "\u001b[92mINFO \u001b[0m:      configure_evaluate: strategy sampled 10 clients (out of 10)\n"
     ]
    },
    {
     "name": "stdout",
     "output_type": "stream",
     "text": [
      "user online: 10 offline: 0\n"
     ]
    },
    {
     "name": "stderr",
     "output_type": "stream",
     "text": [
      "\u001b[92mINFO \u001b[0m:      aggregate_evaluate: received 10 results and 0 failures\n",
      "\u001b[92mINFO \u001b[0m:      \n",
      "\u001b[92mINFO \u001b[0m:      [ROUND 154]\n",
      "\u001b[92mINFO \u001b[0m:      configure_fit: strategy sampled 10 clients (out of 10)\n",
      "\u001b[92mINFO \u001b[0m:      aggregate_fit: received 10 results and 0 failures\n"
     ]
    },
    {
     "name": "stdout",
     "output_type": "stream",
     "text": [
      "[INFO] trained_partitions: {'7', '6', '8', '4', '2', '1', '5', '3', '0', '9'}\n",
      "[INFO] shapley_values: {'1623556211981120490': np.float64(0.26150359699810916), '14973552743668958058': 1.0, '16638695129468460329': 0.0, '12458978761388628182': np.float64(0.6906390912150715), '12275152569355108357': np.float64(0.5422810675959217), '17404053802592907449': np.float64(0.3920806516822365), '14375932597445359172': np.float64(0.9220038337049227), '7109502038303752640': np.float64(0.7547570562685497), '14109915122520784357': np.float64(0.5696294010428067), '16857353847917058018': np.float64(0.7005241045715719)}\n"
     ]
    },
    {
     "name": "stderr",
     "output_type": "stream",
     "text": [
      "\u001b[92mINFO \u001b[0m:      fit progress: (154, 0.002581522711366415, {'accuracy': 0.9504}, 28455.012303388008)\n",
      "\u001b[92mINFO \u001b[0m:      configure_evaluate: strategy sampled 10 clients (out of 10)\n"
     ]
    },
    {
     "name": "stdout",
     "output_type": "stream",
     "text": [
      "user online: 10 offline: 0\n"
     ]
    },
    {
     "name": "stderr",
     "output_type": "stream",
     "text": [
      "\u001b[92mINFO \u001b[0m:      aggregate_evaluate: received 10 results and 0 failures\n",
      "\u001b[92mINFO \u001b[0m:      \n",
      "\u001b[92mINFO \u001b[0m:      [ROUND 155]\n",
      "\u001b[92mINFO \u001b[0m:      configure_fit: strategy sampled 10 clients (out of 10)\n",
      "\u001b[92mINFO \u001b[0m:      aggregate_fit: received 10 results and 0 failures\n"
     ]
    },
    {
     "name": "stdout",
     "output_type": "stream",
     "text": [
      "[INFO] trained_partitions: {'7', '6', '8', '2', '4', '1', '5', '3', '0', '9'}\n",
      "[INFO] shapley_values: {'12275152569355108357': np.float64(0.3781352024285185), '14375932597445359172': 1.0, '1623556211981120490': 0.0, '14109915122520784357': np.float64(0.3645915366001975), '17404053802592907449': np.float64(0.12233399488950082), '7109502038303752640': np.float64(0.5373569234777128), '16857353847917058018': np.float64(0.4530498513211177), '12458978761388628182': np.float64(0.4089154165490739), '14973552743668958058': np.float64(0.39371324661647983), '16638695129468460329': np.float64(0.20292146706921443)}\n"
     ]
    },
    {
     "name": "stderr",
     "output_type": "stream",
     "text": [
      "\u001b[92mINFO \u001b[0m:      fit progress: (155, 0.00275851123072207, {'accuracy': 0.9503}, 28638.442811582005)\n",
      "\u001b[92mINFO \u001b[0m:      configure_evaluate: strategy sampled 10 clients (out of 10)\n"
     ]
    },
    {
     "name": "stdout",
     "output_type": "stream",
     "text": [
      "user online: 10 offline: 0\n"
     ]
    },
    {
     "name": "stderr",
     "output_type": "stream",
     "text": [
      "\u001b[92mINFO \u001b[0m:      aggregate_evaluate: received 10 results and 0 failures\n",
      "\u001b[92mINFO \u001b[0m:      \n",
      "\u001b[92mINFO \u001b[0m:      [ROUND 156]\n",
      "\u001b[92mINFO \u001b[0m:      configure_fit: strategy sampled 10 clients (out of 10)\n",
      "\u001b[92mINFO \u001b[0m:      aggregate_fit: received 10 results and 0 failures\n"
     ]
    },
    {
     "name": "stdout",
     "output_type": "stream",
     "text": [
      "[INFO] trained_partitions: {'7', '6', '8', '2', '4', '1', '5', '3', '0', '9'}\n",
      "[INFO] shapley_values: {'17404053802592907449': np.float64(0.7889964970587768), '12275152569355108357': 0.0, '16857353847917058018': np.float64(0.2248973224709304), '14109915122520784357': np.float64(0.9357553406640499), '7109502038303752640': 1.0, '16638695129468460329': 0.0, '1623556211981120490': np.float64(0.2125789826306999), '14375932597445359172': np.float64(0.779133734174851), '12458978761388628182': np.float64(0.5469361629643725), '14973552743668958058': np.float64(0.6995910074753096)}\n"
     ]
    },
    {
     "name": "stderr",
     "output_type": "stream",
     "text": [
      "\u001b[92mINFO \u001b[0m:      fit progress: (156, 0.0026153631411492823, {'accuracy': 0.9479}, 28822.313502629986)\n",
      "\u001b[92mINFO \u001b[0m:      configure_evaluate: strategy sampled 10 clients (out of 10)\n"
     ]
    },
    {
     "name": "stdout",
     "output_type": "stream",
     "text": [
      "user online: 10 offline: 0\n"
     ]
    },
    {
     "name": "stderr",
     "output_type": "stream",
     "text": [
      "\u001b[92mINFO \u001b[0m:      aggregate_evaluate: received 10 results and 0 failures\n",
      "\u001b[92mINFO \u001b[0m:      \n",
      "\u001b[92mINFO \u001b[0m:      [ROUND 157]\n",
      "\u001b[92mINFO \u001b[0m:      configure_fit: strategy sampled 10 clients (out of 10)\n",
      "\u001b[92mINFO \u001b[0m:      aggregate_fit: received 10 results and 0 failures\n"
     ]
    },
    {
     "name": "stdout",
     "output_type": "stream",
     "text": [
      "[INFO] trained_partitions: {'7', '6', '8', '2', '4', '1', '5', '3', '0', '9'}\n",
      "[INFO] shapley_values: {'14109915122520784357': np.float64(0.13988007695473692), '16857353847917058018': np.float64(0.5652365665322704), '17404053802592907449': np.float64(0.7820859881364447), '14973552743668958058': 0.0, '7109502038303752640': np.float64(0.7085472271009604), '1623556211981120490': np.float64(0.3232116175001612), '16638695129468460329': np.float64(0.2088383606893924), '14375932597445359172': 1.0, '12458978761388628182': np.float64(0.5520555800945998), '12275152569355108357': np.float64(0.36797866892210424)}\n"
     ]
    },
    {
     "name": "stderr",
     "output_type": "stream",
     "text": [
      "\u001b[92mINFO \u001b[0m:      fit progress: (157, 0.0023551156155765056, {'accuracy': 0.956}, 29005.880063739984)\n",
      "\u001b[92mINFO \u001b[0m:      configure_evaluate: strategy sampled 10 clients (out of 10)\n"
     ]
    },
    {
     "name": "stdout",
     "output_type": "stream",
     "text": [
      "user online: 10 offline: 0\n"
     ]
    },
    {
     "name": "stderr",
     "output_type": "stream",
     "text": [
      "\u001b[92mINFO \u001b[0m:      aggregate_evaluate: received 10 results and 0 failures\n",
      "\u001b[92mINFO \u001b[0m:      \n",
      "\u001b[92mINFO \u001b[0m:      [ROUND 158]\n",
      "\u001b[92mINFO \u001b[0m:      configure_fit: strategy sampled 10 clients (out of 10)\n",
      "\u001b[92mINFO \u001b[0m:      aggregate_fit: received 10 results and 0 failures\n"
     ]
    },
    {
     "name": "stdout",
     "output_type": "stream",
     "text": [
      "[INFO] trained_partitions: {'7', '6', '8', '4', '2', '1', '5', '3', '0', '9'}\n",
      "[INFO] shapley_values: {'1623556211981120490': np.float64(0.08981858437586569), '16857353847917058018': np.float64(0.3962080392492055), '14109915122520784357': np.float64(0.4277063229251147), '14973552743668958058': np.float64(0.3910995930500834), '14375932597445359172': 1.0, '16638695129468460329': 0.0, '12275152569355108357': np.float64(0.1896342718022804), '12458978761388628182': np.float64(0.6635487578317879), '17404053802592907449': np.float64(0.8289771880766837), '7109502038303752640': np.float64(0.6467398692920462)}\n"
     ]
    },
    {
     "name": "stderr",
     "output_type": "stream",
     "text": [
      "\u001b[92mINFO \u001b[0m:      fit progress: (158, 0.002398770138062537, {'accuracy': 0.9521}, 29194.28271796301)\n",
      "\u001b[92mINFO \u001b[0m:      configure_evaluate: strategy sampled 10 clients (out of 10)\n"
     ]
    },
    {
     "name": "stdout",
     "output_type": "stream",
     "text": [
      "user online: 10 offline: 0\n"
     ]
    },
    {
     "name": "stderr",
     "output_type": "stream",
     "text": [
      "\u001b[92mINFO \u001b[0m:      aggregate_evaluate: received 10 results and 0 failures\n",
      "\u001b[92mINFO \u001b[0m:      \n",
      "\u001b[92mINFO \u001b[0m:      [ROUND 159]\n",
      "\u001b[92mINFO \u001b[0m:      configure_fit: strategy sampled 10 clients (out of 10)\n",
      "\u001b[92mINFO \u001b[0m:      aggregate_fit: received 10 results and 0 failures\n"
     ]
    },
    {
     "name": "stdout",
     "output_type": "stream",
     "text": [
      "[INFO] trained_partitions: {'7', '6', '8', '4', '2', '1', '5', '3', '0', '9'}\n",
      "[INFO] shapley_values: {'12458978761388628182': np.float64(0.9567756925758497), '14375932597445359172': np.float64(0.3539127641792046), '1623556211981120490': np.float64(0.5643551657101166), '14973552743668958058': np.float64(0.09643922540807572), '16857353847917058018': 1.0, '14109915122520784357': 0.0, '7109502038303752640': np.float64(0.8675224701096226), '16638695129468460329': np.float64(0.2125648415462884), '17404053802592907449': np.float64(0.8539894109356527), '12275152569355108357': np.float64(0.11670375107396752)}\n"
     ]
    },
    {
     "name": "stderr",
     "output_type": "stream",
     "text": [
      "\u001b[92mINFO \u001b[0m:      fit progress: (159, 0.002550192614644766, {'accuracy': 0.9518}, 29378.61848927001)\n",
      "\u001b[92mINFO \u001b[0m:      configure_evaluate: strategy sampled 10 clients (out of 10)\n"
     ]
    },
    {
     "name": "stdout",
     "output_type": "stream",
     "text": [
      "user online: 10 offline: 0\n"
     ]
    },
    {
     "name": "stderr",
     "output_type": "stream",
     "text": [
      "\u001b[92mINFO \u001b[0m:      aggregate_evaluate: received 10 results and 0 failures\n",
      "\u001b[92mINFO \u001b[0m:      \n",
      "\u001b[92mINFO \u001b[0m:      [ROUND 160]\n",
      "\u001b[92mINFO \u001b[0m:      configure_fit: strategy sampled 10 clients (out of 10)\n",
      "\u001b[92mINFO \u001b[0m:      aggregate_fit: received 10 results and 0 failures\n"
     ]
    },
    {
     "name": "stdout",
     "output_type": "stream",
     "text": [
      "[INFO] trained_partitions: {'7', '6', '8', '4', '2', '1', '5', '3', '0', '9'}\n",
      "[INFO] shapley_values: {'12458978761388628182': np.float64(0.17695511872731043), '14375932597445359172': 1.0, '16857353847917058018': np.float64(0.7895280566331597), '17404053802592907449': np.float64(0.8549198519540079), '14973552743668958058': np.float64(0.6002761607986838), '12275152569355108357': 0.0, '16638695129468460329': 0.0, '1623556211981120490': 0.0, '7109502038303752640': np.float64(0.6009991643941337), '14109915122520784357': np.float64(0.44362420012949816)}\n"
     ]
    },
    {
     "name": "stderr",
     "output_type": "stream",
     "text": [
      "\u001b[92mINFO \u001b[0m:      fit progress: (160, 0.002847232561931014, {'accuracy': 0.9425}, 29562.09279696399)\n",
      "\u001b[92mINFO \u001b[0m:      configure_evaluate: strategy sampled 10 clients (out of 10)\n"
     ]
    },
    {
     "name": "stdout",
     "output_type": "stream",
     "text": [
      "user online: 10 offline: 0\n"
     ]
    },
    {
     "name": "stderr",
     "output_type": "stream",
     "text": [
      "\u001b[92mINFO \u001b[0m:      aggregate_evaluate: received 10 results and 0 failures\n",
      "\u001b[92mINFO \u001b[0m:      \n",
      "\u001b[92mINFO \u001b[0m:      [ROUND 161]\n",
      "\u001b[92mINFO \u001b[0m:      configure_fit: strategy sampled 10 clients (out of 10)\n",
      "\u001b[92mINFO \u001b[0m:      aggregate_fit: received 10 results and 0 failures\n"
     ]
    },
    {
     "name": "stdout",
     "output_type": "stream",
     "text": [
      "[INFO] trained_partitions: {'7', '6', '8', '4', '2', '1', '5', '3', '0', '9'}\n",
      "[INFO] shapley_values: {'12275152569355108357': 0.0, '16638695129468460329': np.float64(0.18074307945622917), '14375932597445359172': np.float64(0.2133387077197464), '17404053802592907449': 1.0, '14973552743668958058': np.float64(0.40117145356415007), '12458978761388628182': np.float64(0.6582143228040302), '1623556211981120490': np.float64(0.3994351778912231), '14109915122520784357': np.float64(0.25338593788924707), '16857353847917058018': 0.0, '7109502038303752640': np.float64(0.9813551326588972)}\n"
     ]
    },
    {
     "name": "stderr",
     "output_type": "stream",
     "text": [
      "\u001b[92mINFO \u001b[0m:      fit progress: (161, 0.0038378912478685377, {'accuracy': 0.9257}, 29746.12345035799)\n",
      "\u001b[92mINFO \u001b[0m:      configure_evaluate: strategy sampled 10 clients (out of 10)\n"
     ]
    },
    {
     "name": "stdout",
     "output_type": "stream",
     "text": [
      "user online: 10 offline: 0\n"
     ]
    },
    {
     "name": "stderr",
     "output_type": "stream",
     "text": [
      "\u001b[92mINFO \u001b[0m:      aggregate_evaluate: received 10 results and 0 failures\n",
      "\u001b[92mINFO \u001b[0m:      \n",
      "\u001b[92mINFO \u001b[0m:      [ROUND 162]\n",
      "\u001b[92mINFO \u001b[0m:      configure_fit: strategy sampled 10 clients (out of 10)\n",
      "\u001b[92mINFO \u001b[0m:      aggregate_fit: received 10 results and 0 failures\n"
     ]
    },
    {
     "name": "stdout",
     "output_type": "stream",
     "text": [
      "[INFO] trained_partitions: {'7', '6', '8', '4', '2', '1', '5', '3', '0', '9'}\n",
      "[INFO] shapley_values: {'14973552743668958058': np.float64(0.7106224690405839), '1623556211981120490': np.float64(0.05515132253224049), '17404053802592907449': 1.0, '14109915122520784357': np.float64(0.23498823482912792), '12458978761388628182': np.float64(0.7407755134109546), '7109502038303752640': np.float64(0.6811577067579081), '12275152569355108357': np.float64(0.5275539020289554), '14375932597445359172': np.float64(0.5653662924013425), '16857353847917058018': np.float64(0.5576753226233732), '16638695129468460329': 0.0}\n"
     ]
    },
    {
     "name": "stderr",
     "output_type": "stream",
     "text": [
      "\u001b[92mINFO \u001b[0m:      fit progress: (162, 0.0025727842587977647, {'accuracy': 0.9489}, 29935.63791153999)\n",
      "\u001b[92mINFO \u001b[0m:      configure_evaluate: strategy sampled 10 clients (out of 10)\n"
     ]
    },
    {
     "name": "stdout",
     "output_type": "stream",
     "text": [
      "user online: 10 offline: 0\n"
     ]
    },
    {
     "name": "stderr",
     "output_type": "stream",
     "text": [
      "\u001b[92mINFO \u001b[0m:      aggregate_evaluate: received 10 results and 0 failures\n",
      "\u001b[92mINFO \u001b[0m:      \n",
      "\u001b[92mINFO \u001b[0m:      [ROUND 163]\n",
      "\u001b[92mINFO \u001b[0m:      configure_fit: strategy sampled 10 clients (out of 10)\n",
      "\u001b[92mINFO \u001b[0m:      aggregate_fit: received 10 results and 0 failures\n"
     ]
    },
    {
     "name": "stdout",
     "output_type": "stream",
     "text": [
      "[INFO] trained_partitions: {'7', '6', '8', '2', '4', '1', '5', '3', '0', '9'}\n",
      "[INFO] shapley_values: {'12275152569355108357': 0.0, '7109502038303752640': np.float64(0.48762651991767253), '16857353847917058018': np.float64(0.5362880416878151), '12458978761388628182': np.float64(0.23757948324836836), '1623556211981120490': np.float64(0.004827668617962292), '17404053802592907449': 1.0, '14109915122520784357': np.float64(0.21557621474732658), '14973552743668958058': np.float64(0.7642444254967132), '16638695129468460329': 0.0, '14375932597445359172': np.float64(0.5128353367509615)}\n"
     ]
    },
    {
     "name": "stderr",
     "output_type": "stream",
     "text": [
      "\u001b[92mINFO \u001b[0m:      fit progress: (163, 0.0031512572415173055, {'accuracy': 0.9326}, 30119.354669730004)\n",
      "\u001b[92mINFO \u001b[0m:      configure_evaluate: strategy sampled 10 clients (out of 10)\n"
     ]
    },
    {
     "name": "stdout",
     "output_type": "stream",
     "text": [
      "user online: 10 offline: 0\n"
     ]
    },
    {
     "name": "stderr",
     "output_type": "stream",
     "text": [
      "\u001b[92mINFO \u001b[0m:      aggregate_evaluate: received 10 results and 0 failures\n",
      "\u001b[92mINFO \u001b[0m:      \n",
      "\u001b[92mINFO \u001b[0m:      [ROUND 164]\n",
      "\u001b[92mINFO \u001b[0m:      configure_fit: strategy sampled 10 clients (out of 10)\n",
      "\u001b[92mINFO \u001b[0m:      aggregate_fit: received 10 results and 0 failures\n"
     ]
    },
    {
     "name": "stdout",
     "output_type": "stream",
     "text": [
      "[INFO] trained_partitions: {'7', '6', '8', '2', '4', '1', '5', '3', '0', '9'}\n",
      "[INFO] shapley_values: {'7109502038303752640': np.float64(0.8675810507047685), '17404053802592907449': 1.0, '14375932597445359172': np.float64(0.8146895439245331), '12275152569355108357': np.float64(0.6784705761411465), '14973552743668958058': np.float64(0.778072879456268), '12458978761388628182': np.float64(0.6577296590273977), '14109915122520784357': np.float64(0.4312126981021859), '16638695129468460329': 0.0, '1623556211981120490': np.float64(0.5467386828617278), '16857353847917058018': 0.0}\n"
     ]
    },
    {
     "name": "stderr",
     "output_type": "stream",
     "text": [
      "\u001b[92mINFO \u001b[0m:      fit progress: (164, 0.0035315785631537438, {'accuracy': 0.9331}, 30303.14486898601)\n",
      "\u001b[92mINFO \u001b[0m:      configure_evaluate: strategy sampled 10 clients (out of 10)\n"
     ]
    },
    {
     "name": "stdout",
     "output_type": "stream",
     "text": [
      "user online: 10 offline: 0\n"
     ]
    },
    {
     "name": "stderr",
     "output_type": "stream",
     "text": [
      "\u001b[92mINFO \u001b[0m:      aggregate_evaluate: received 10 results and 0 failures\n",
      "\u001b[92mINFO \u001b[0m:      \n",
      "\u001b[92mINFO \u001b[0m:      [ROUND 165]\n",
      "\u001b[92mINFO \u001b[0m:      configure_fit: strategy sampled 10 clients (out of 10)\n",
      "\u001b[92mINFO \u001b[0m:      aggregate_fit: received 10 results and 0 failures\n"
     ]
    },
    {
     "name": "stdout",
     "output_type": "stream",
     "text": [
      "[INFO] trained_partitions: {'7', '6', '8', '4', '2', '1', '5', '3', '0', '9'}\n",
      "[INFO] shapley_values: {'12458978761388628182': np.float64(0.5360030778515271), '14109915122520784357': np.float64(0.2534215589895626), '14375932597445359172': np.float64(0.8714894789685674), '16857353847917058018': np.float64(0.49065785991258604), '12275152569355108357': 0.0, '1623556211981120490': 0.0, '7109502038303752640': np.float64(0.8077452609189513), '16638695129468460329': 0.0, '17404053802592907449': 1.0, '14973552743668958058': np.float64(0.43456656312538766)}\n"
     ]
    },
    {
     "name": "stderr",
     "output_type": "stream",
     "text": [
      "\u001b[92mINFO \u001b[0m:      fit progress: (165, 0.00254643423371017, {'accuracy': 0.952}, 30487.42915425799)\n",
      "\u001b[92mINFO \u001b[0m:      configure_evaluate: strategy sampled 10 clients (out of 10)\n"
     ]
    },
    {
     "name": "stdout",
     "output_type": "stream",
     "text": [
      "user online: 10 offline: 0\n"
     ]
    },
    {
     "name": "stderr",
     "output_type": "stream",
     "text": [
      "\u001b[92mINFO \u001b[0m:      aggregate_evaluate: received 10 results and 0 failures\n",
      "\u001b[92mINFO \u001b[0m:      \n",
      "\u001b[92mINFO \u001b[0m:      [ROUND 166]\n",
      "\u001b[92mINFO \u001b[0m:      configure_fit: strategy sampled 10 clients (out of 10)\n",
      "\u001b[92mINFO \u001b[0m:      aggregate_fit: received 10 results and 0 failures\n"
     ]
    },
    {
     "name": "stdout",
     "output_type": "stream",
     "text": [
      "[INFO] trained_partitions: {'7', '6', '8', '4', '2', '1', '5', '3', '0', '9'}\n",
      "[INFO] shapley_values: {'14109915122520784357': np.float64(0.7865439836729508), '14375932597445359172': np.float64(0.2464321142992169), '1623556211981120490': np.float64(0.43618559565973264), '16638695129468460329': 0.0, '12458978761388628182': np.float64(0.23862802275857042), '12275152569355108357': np.float64(0.3581300876267107), '16857353847917058018': np.float64(0.6227625661644293), '14973552743668958058': np.float64(0.4044363428038739), '17404053802592907449': 1.0, '7109502038303752640': np.float64(0.15544057438107733)}\n"
     ]
    },
    {
     "name": "stderr",
     "output_type": "stream",
     "text": [
      "\u001b[92mINFO \u001b[0m:      fit progress: (166, 0.005101556872576475, {'accuracy': 0.8984}, 30677.27617777101)\n",
      "\u001b[92mINFO \u001b[0m:      configure_evaluate: strategy sampled 10 clients (out of 10)\n"
     ]
    },
    {
     "name": "stdout",
     "output_type": "stream",
     "text": [
      "user online: 10 offline: 0\n"
     ]
    },
    {
     "name": "stderr",
     "output_type": "stream",
     "text": [
      "\u001b[92mINFO \u001b[0m:      aggregate_evaluate: received 10 results and 0 failures\n",
      "\u001b[92mINFO \u001b[0m:      \n",
      "\u001b[92mINFO \u001b[0m:      [ROUND 167]\n",
      "\u001b[92mINFO \u001b[0m:      configure_fit: strategy sampled 10 clients (out of 10)\n",
      "\u001b[92mINFO \u001b[0m:      aggregate_fit: received 10 results and 0 failures\n"
     ]
    },
    {
     "name": "stdout",
     "output_type": "stream",
     "text": [
      "[INFO] trained_partitions: {'7', '6', '8', '4', '2', '1', '5', '3', '0', '9'}\n",
      "[INFO] shapley_values: {'14375932597445359172': np.float64(0.620499413644856), '14109915122520784357': np.float64(0.7884756274320666), '12275152569355108357': np.float64(0.29676437251827303), '17404053802592907449': np.float64(0.9868145389123635), '12458978761388628182': np.float64(0.40351655997019886), '7109502038303752640': np.float64(0.8782457625389687), '16857353847917058018': 0.0, '16638695129468460329': 0.0, '1623556211981120490': np.float64(0.5918119976548771), '14973552743668958058': 1.0}\n"
     ]
    },
    {
     "name": "stderr",
     "output_type": "stream",
     "text": [
      "\u001b[92mINFO \u001b[0m:      fit progress: (167, 0.004815742295980453, {'accuracy': 0.902}, 30861.155208854005)\n",
      "\u001b[92mINFO \u001b[0m:      configure_evaluate: strategy sampled 10 clients (out of 10)\n"
     ]
    },
    {
     "name": "stdout",
     "output_type": "stream",
     "text": [
      "user online: 10 offline: 0\n"
     ]
    },
    {
     "name": "stderr",
     "output_type": "stream",
     "text": [
      "\u001b[92mINFO \u001b[0m:      aggregate_evaluate: received 10 results and 0 failures\n",
      "\u001b[92mINFO \u001b[0m:      \n",
      "\u001b[92mINFO \u001b[0m:      [ROUND 168]\n",
      "\u001b[92mINFO \u001b[0m:      configure_fit: strategy sampled 10 clients (out of 10)\n",
      "\u001b[92mINFO \u001b[0m:      aggregate_fit: received 10 results and 0 failures\n"
     ]
    },
    {
     "name": "stdout",
     "output_type": "stream",
     "text": [
      "[INFO] trained_partitions: {'7', '6', '8', '2', '4', '1', '5', '3', '0', '9'}\n",
      "[INFO] shapley_values: {'17404053802592907449': 1.0, '16857353847917058018': np.float64(0.29196967848264904), '7109502038303752640': np.float64(0.13744439693533347), '14973552743668958058': np.float64(0.6807144791615813), '16638695129468460329': np.float64(0.3229997794172861), '1623556211981120490': 0.0, '12275152569355108357': np.float64(0.2985538811574552), '14375932597445359172': np.float64(0.5845973635583388), '14109915122520784357': np.float64(0.4671169121653394), '12458978761388628182': np.float64(0.7289887075310398)}\n"
     ]
    },
    {
     "name": "stderr",
     "output_type": "stream",
     "text": [
      "\u001b[92mINFO \u001b[0m:      fit progress: (168, 0.005181806690245867, {'accuracy': 0.8874}, 31045.273428443994)\n",
      "\u001b[92mINFO \u001b[0m:      configure_evaluate: strategy sampled 10 clients (out of 10)\n"
     ]
    },
    {
     "name": "stdout",
     "output_type": "stream",
     "text": [
      "user online: 10 offline: 0\n"
     ]
    },
    {
     "name": "stderr",
     "output_type": "stream",
     "text": [
      "\u001b[92mINFO \u001b[0m:      aggregate_evaluate: received 10 results and 0 failures\n",
      "\u001b[92mINFO \u001b[0m:      \n",
      "\u001b[92mINFO \u001b[0m:      [ROUND 169]\n",
      "\u001b[92mINFO \u001b[0m:      configure_fit: strategy sampled 10 clients (out of 10)\n",
      "\u001b[92mINFO \u001b[0m:      aggregate_fit: received 10 results and 0 failures\n"
     ]
    },
    {
     "name": "stdout",
     "output_type": "stream",
     "text": [
      "[INFO] trained_partitions: {'7', '6', '8', '2', '4', '1', '5', '3', '0', '9'}\n",
      "[INFO] shapley_values: {'7109502038303752640': np.float64(0.5613773249290126), '14973552743668958058': np.float64(0.7532678540409686), '17404053802592907449': 1.0, '14375932597445359172': np.float64(0.6659057203977212), '16857353847917058018': np.float64(0.29094686274188586), '12458978761388628182': np.float64(0.24920636380808378), '14109915122520784357': np.float64(0.2785321309555332), '12275152569355108357': np.float64(0.06787508068267643), '1623556211981120490': 0.0, '16638695129468460329': 0.0}\n"
     ]
    },
    {
     "name": "stderr",
     "output_type": "stream",
     "text": [
      "\u001b[92mINFO \u001b[0m:      fit progress: (169, 0.0034990892324596643, {'accuracy': 0.9294}, 31227.948875551985)\n",
      "\u001b[92mINFO \u001b[0m:      configure_evaluate: strategy sampled 10 clients (out of 10)\n"
     ]
    },
    {
     "name": "stdout",
     "output_type": "stream",
     "text": [
      "user online: 10 offline: 0\n"
     ]
    },
    {
     "name": "stderr",
     "output_type": "stream",
     "text": [
      "\u001b[92mINFO \u001b[0m:      aggregate_evaluate: received 10 results and 0 failures\n",
      "\u001b[92mINFO \u001b[0m:      \n",
      "\u001b[92mINFO \u001b[0m:      [ROUND 170]\n",
      "\u001b[92mINFO \u001b[0m:      configure_fit: strategy sampled 10 clients (out of 10)\n",
      "\u001b[92mINFO \u001b[0m:      aggregate_fit: received 10 results and 0 failures\n"
     ]
    },
    {
     "name": "stdout",
     "output_type": "stream",
     "text": [
      "[INFO] trained_partitions: {'7', '6', '8', '4', '2', '1', '5', '3', '0', '9'}\n",
      "[INFO] shapley_values: {'16638695129468460329': 0.0, '17404053802592907449': np.float64(0.912356784525888), '1623556211981120490': np.float64(0.177817952229467), '12275152569355108357': np.float64(0.4156472220732044), '14375932597445359172': np.float64(0.4047140077922505), '14973552743668958058': 1.0, '12458978761388628182': np.float64(0.21518516754954), '16857353847917058018': np.float64(0.33073453746977777), '7109502038303752640': 0.0, '14109915122520784357': np.float64(0.31764453361512734)}\n"
     ]
    },
    {
     "name": "stderr",
     "output_type": "stream",
     "text": [
      "\u001b[92mINFO \u001b[0m:      fit progress: (170, 0.009772732620686293, {'accuracy': 0.8462}, 31416.988778950996)\n",
      "\u001b[92mINFO \u001b[0m:      configure_evaluate: strategy sampled 10 clients (out of 10)\n"
     ]
    },
    {
     "name": "stdout",
     "output_type": "stream",
     "text": [
      "user online: 10 offline: 0\n"
     ]
    },
    {
     "name": "stderr",
     "output_type": "stream",
     "text": [
      "\u001b[92mINFO \u001b[0m:      aggregate_evaluate: received 10 results and 0 failures\n",
      "\u001b[92mINFO \u001b[0m:      \n",
      "\u001b[92mINFO \u001b[0m:      [ROUND 171]\n",
      "\u001b[92mINFO \u001b[0m:      configure_fit: strategy sampled 10 clients (out of 10)\n",
      "\u001b[92mINFO \u001b[0m:      aggregate_fit: received 10 results and 0 failures\n"
     ]
    },
    {
     "name": "stdout",
     "output_type": "stream",
     "text": [
      "[INFO] trained_partitions: {'7', '6', '8', '2', '4', '1', '5', '3', '0', '9'}\n",
      "[INFO] shapley_values: {'7109502038303752640': np.float64(0.9008163384927538), '14375932597445359172': np.float64(0.335714831184375), '12275152569355108357': np.float64(0.21314782037278565), '16857353847917058018': np.float64(0.7827958663066047), '17404053802592907449': 1.0, '14973552743668958058': np.float64(0.49660953841519), '1623556211981120490': 0.0, '16638695129468460329': 0.0, '12458978761388628182': np.float64(0.3664687474918059), '14109915122520784357': np.float64(0.34038809359443084)}\n"
     ]
    },
    {
     "name": "stderr",
     "output_type": "stream",
     "text": [
      "\u001b[92mINFO \u001b[0m:      fit progress: (171, 0.004524161992222071, {'accuracy': 0.9104}, 31601.06500155799)\n",
      "\u001b[92mINFO \u001b[0m:      configure_evaluate: strategy sampled 10 clients (out of 10)\n"
     ]
    },
    {
     "name": "stdout",
     "output_type": "stream",
     "text": [
      "user online: 10 offline: 0\n"
     ]
    },
    {
     "name": "stderr",
     "output_type": "stream",
     "text": [
      "\u001b[92mINFO \u001b[0m:      aggregate_evaluate: received 10 results and 0 failures\n",
      "\u001b[92mINFO \u001b[0m:      \n",
      "\u001b[92mINFO \u001b[0m:      [ROUND 172]\n",
      "\u001b[92mINFO \u001b[0m:      configure_fit: strategy sampled 10 clients (out of 10)\n",
      "\u001b[92mINFO \u001b[0m:      aggregate_fit: received 10 results and 0 failures\n"
     ]
    },
    {
     "name": "stdout",
     "output_type": "stream",
     "text": [
      "[INFO] trained_partitions: {'7', '6', '8', '2', '4', '1', '5', '3', '0', '9'}\n",
      "[INFO] shapley_values: {'16638695129468460329': np.float64(0.11231855645089517), '7109502038303752640': np.float64(0.8287522244795664), '17404053802592907449': 1.0, '14375932597445359172': np.float64(0.9691938286571109), '12275152569355108357': np.float64(0.9082576891586697), '12458978761388628182': 0.0, '14973552743668958058': np.float64(0.3198609072472449), '16857353847917058018': 0.0, '14109915122520784357': np.float64(0.3671296651795123), '1623556211981120490': np.float64(0.3190940323250125)}\n"
     ]
    },
    {
     "name": "stderr",
     "output_type": "stream",
     "text": [
      "\u001b[92mINFO \u001b[0m:      fit progress: (172, 0.01731295854449272, {'accuracy': 0.7977}, 31785.131446979998)\n",
      "\u001b[92mINFO \u001b[0m:      configure_evaluate: strategy sampled 10 clients (out of 10)\n"
     ]
    },
    {
     "name": "stdout",
     "output_type": "stream",
     "text": [
      "user online: 10 offline: 0\n"
     ]
    },
    {
     "name": "stderr",
     "output_type": "stream",
     "text": [
      "\u001b[92mINFO \u001b[0m:      aggregate_evaluate: received 10 results and 0 failures\n",
      "\u001b[92mINFO \u001b[0m:      \n",
      "\u001b[92mINFO \u001b[0m:      [ROUND 173]\n",
      "\u001b[92mINFO \u001b[0m:      configure_fit: strategy sampled 10 clients (out of 10)\n",
      "\u001b[92mINFO \u001b[0m:      aggregate_fit: received 10 results and 0 failures\n"
     ]
    },
    {
     "name": "stdout",
     "output_type": "stream",
     "text": [
      "[INFO] trained_partitions: {'7', '6', '8', '2', '4', '1', '5', '3', '0', '9'}\n",
      "[INFO] shapley_values: {'14109915122520784357': np.float64(0.22238063980172984), '14375932597445359172': np.float64(0.4727220396551931), '12275152569355108357': 0.0, '7109502038303752640': np.float64(0.33268228112545645), '16857353847917058018': np.float64(0.0040635911377398136), '17404053802592907449': 1.0, '1623556211981120490': np.float64(0.056352350389742865), '16638695129468460329': 0.0, '12458978761388628182': 0.0, '14973552743668958058': np.float64(0.7357580694301042)}\n"
     ]
    },
    {
     "name": "stderr",
     "output_type": "stream",
     "text": [
      "\u001b[92mINFO \u001b[0m:      fit progress: (173, 0.019537396901845933, {'accuracy': 0.7699}, 31969.868660707987)\n",
      "\u001b[92mINFO \u001b[0m:      configure_evaluate: strategy sampled 10 clients (out of 10)\n"
     ]
    },
    {
     "name": "stdout",
     "output_type": "stream",
     "text": [
      "user online: 10 offline: 0\n"
     ]
    },
    {
     "name": "stderr",
     "output_type": "stream",
     "text": [
      "\u001b[92mINFO \u001b[0m:      aggregate_evaluate: received 10 results and 0 failures\n",
      "\u001b[92mINFO \u001b[0m:      \n",
      "\u001b[92mINFO \u001b[0m:      [ROUND 174]\n",
      "\u001b[92mINFO \u001b[0m:      configure_fit: strategy sampled 10 clients (out of 10)\n",
      "\u001b[92mINFO \u001b[0m:      aggregate_fit: received 10 results and 0 failures\n"
     ]
    },
    {
     "name": "stdout",
     "output_type": "stream",
     "text": [
      "[INFO] trained_partitions: {'7', '6', '8', '4', '2', '1', '5', '3', '0', '9'}\n",
      "[INFO] shapley_values: {'14109915122520784357': np.float64(0.387743785581655), '16638695129468460329': 0.0, '14375932597445359172': 1.0, '12275152569355108357': np.float64(0.2679246188265792), '1623556211981120490': 0.0, '16857353847917058018': np.float64(0.9050267011109419), '14973552743668958058': 0.0, '17404053802592907449': np.float64(0.7661977177469473), '12458978761388628182': np.float64(0.817040253714113), '7109502038303752640': np.float64(0.6758773526930975)}\n"
     ]
    },
    {
     "name": "stderr",
     "output_type": "stream",
     "text": [
      "\u001b[92mINFO \u001b[0m:      fit progress: (174, 0.007703210633993149, {'accuracy': 0.8665}, 32152.923683397996)\n",
      "\u001b[92mINFO \u001b[0m:      configure_evaluate: strategy sampled 10 clients (out of 10)\n"
     ]
    },
    {
     "name": "stdout",
     "output_type": "stream",
     "text": [
      "user online: 10 offline: 0\n"
     ]
    },
    {
     "name": "stderr",
     "output_type": "stream",
     "text": [
      "\u001b[92mINFO \u001b[0m:      aggregate_evaluate: received 10 results and 0 failures\n",
      "\u001b[92mINFO \u001b[0m:      \n",
      "\u001b[92mINFO \u001b[0m:      [ROUND 175]\n",
      "\u001b[92mINFO \u001b[0m:      configure_fit: strategy sampled 10 clients (out of 10)\n",
      "\u001b[92mINFO \u001b[0m:      aggregate_fit: received 10 results and 0 failures\n"
     ]
    },
    {
     "name": "stdout",
     "output_type": "stream",
     "text": [
      "[INFO] trained_partitions: {'7', '6', '8', '2', '4', '1', '5', '3', '0', '9'}\n",
      "[INFO] shapley_values: {'12275152569355108357': 0.0, '14973552743668958058': np.float64(0.5891071202965592), '14375932597445359172': np.float64(0.6037777303435814), '17404053802592907449': 1.0, '7109502038303752640': np.float64(0.8099923390202955), '14109915122520784357': np.float64(0.24117872575259217), '16857353847917058018': 0.0, '12458978761388628182': np.float64(0.5323533230634624), '16638695129468460329': 0.0, '1623556211981120490': 0.0}\n"
     ]
    },
    {
     "name": "stderr",
     "output_type": "stream",
     "text": [
      "\u001b[92mINFO \u001b[0m:      fit progress: (175, 0.004220588226616383, {'accuracy': 0.9226}, 32336.17525911599)\n",
      "\u001b[92mINFO \u001b[0m:      configure_evaluate: strategy sampled 10 clients (out of 10)\n"
     ]
    },
    {
     "name": "stdout",
     "output_type": "stream",
     "text": [
      "user online: 10 offline: 0\n"
     ]
    },
    {
     "name": "stderr",
     "output_type": "stream",
     "text": [
      "\u001b[92mINFO \u001b[0m:      aggregate_evaluate: received 10 results and 0 failures\n",
      "\u001b[92mINFO \u001b[0m:      \n",
      "\u001b[92mINFO \u001b[0m:      [ROUND 176]\n",
      "\u001b[92mINFO \u001b[0m:      configure_fit: strategy sampled 10 clients (out of 10)\n",
      "\u001b[92mINFO \u001b[0m:      aggregate_fit: received 10 results and 0 failures\n"
     ]
    },
    {
     "name": "stdout",
     "output_type": "stream",
     "text": [
      "[INFO] trained_partitions: {'7', '6', '8', '4', '2', '1', '5', '3', '0', '9'}\n",
      "[INFO] shapley_values: {'16638695129468460329': np.float64(0.07193034324400986), '14109915122520784357': np.float64(0.7518564755322298), '17404053802592907449': 1.0, '14973552743668958058': 0.0, '14375932597445359172': np.float64(0.9681355988059839), '12458978761388628182': np.float64(0.5949094183158025), '7109502038303752640': np.float64(0.5380170872614576), '16857353847917058018': np.float64(0.29446440700756904), '1623556211981120490': np.float64(0.05276225748139003), '12275152569355108357': np.float64(0.287166191309459)}\n"
     ]
    },
    {
     "name": "stderr",
     "output_type": "stream",
     "text": [
      "\u001b[92mINFO \u001b[0m:      fit progress: (176, 0.004374663131311535, {'accuracy': 0.9086}, 32520.34707739501)\n",
      "\u001b[92mINFO \u001b[0m:      configure_evaluate: strategy sampled 10 clients (out of 10)\n"
     ]
    },
    {
     "name": "stdout",
     "output_type": "stream",
     "text": [
      "user online: 10 offline: 0\n"
     ]
    },
    {
     "name": "stderr",
     "output_type": "stream",
     "text": [
      "\u001b[92mINFO \u001b[0m:      aggregate_evaluate: received 10 results and 0 failures\n",
      "\u001b[92mINFO \u001b[0m:      \n",
      "\u001b[92mINFO \u001b[0m:      [ROUND 177]\n",
      "\u001b[92mINFO \u001b[0m:      configure_fit: strategy sampled 10 clients (out of 10)\n",
      "\u001b[92mINFO \u001b[0m:      aggregate_fit: received 10 results and 0 failures\n"
     ]
    },
    {
     "name": "stdout",
     "output_type": "stream",
     "text": [
      "[INFO] trained_partitions: {'7', '6', '8', '4', '2', '1', '5', '3', '0', '9'}\n"
     ]
    }
   ],
   "source": [
    "# 讓 Flower 運行完整的 FL 訓練\n",
    "start_time = time.time()  # 記錄開始時間\n",
    "\n",
    "run_simulation(\n",
    "    server_app=server,\n",
    "    client_app=client,\n",
    "    num_supernodes=NUM_CLIENTS,\n",
    "    backend_config=backend_config,\n",
    ")\n",
    "\n",
    "end_time = time.time()  # 記錄結束時間\n",
    "total_time = end_time - start_time  # 計算總時間\n",
    "\n",
    "print(f\"Total Training Time: {total_time:.2f} seconds\")  # 顯示總時間"
   ]
  },
  {
   "cell_type": "markdown",
   "id": "e44359b9-a439-4e28-ab3a-3c90ec15b624",
   "metadata": {},
   "source": [
    "### Loss 和 Accuracy 折線圖"
   ]
  },
  {
   "cell_type": "code",
   "execution_count": null,
   "id": "9e3a73a2",
   "metadata": {
    "jupyter": {
     "source_hidden": true
    }
   },
   "outputs": [],
   "source": [
    "import matplotlib.pyplot as plt\n",
    "import numpy as np\n",
    "\n",
    "# 提取每個 client（按 pid）的 loss 和 accuracy 數據\n",
    "client_losses = {}  # {pid: [(round, loss), ...]}\n",
    "client_accuracies = {}  # {pid: [(round, acc), ...]}\n",
    "\n",
    "for round_num, pid, loss in history.losses_distributed:\n",
    "    if pid not in client_losses:\n",
    "        client_losses[pid] = []\n",
    "    client_losses[pid].append((round_num, loss))\n",
    "\n",
    "for round_num, pid, acc in history.metrics_distributed.get('accuracy', []):\n",
    "    if pid not in client_accuracies:\n",
    "        client_accuracies[pid] = []\n",
    "    client_accuracies[pid].append((round_num, acc))\n",
    "\n",
    "# 為圖表生成隨機顏色\n",
    "colors = plt.cm.tab20(np.linspace(0, 1, max(len(client_losses), len(client_accuracies))))\n",
    "\n",
    "# 繪製每個 client 的 Loss 圖\n",
    "plt.figure(figsize=(10, 6))\n",
    "for idx, (pid, losses) in enumerate(client_losses.items()):\n",
    "    rounds = [r for r, _ in sorted(losses)]\n",
    "    loss_values = [l for _, l in sorted(losses)]\n",
    "    plt.plot(rounds, loss_values, marker='o', color=colors[idx], label=f'Partition {pid}', alpha=0.7)\n",
    "\n",
    "# 繪製 centralized 和 distributed loss\n",
    "rounds_loss = [t[0] for t in history.losses_centralized]\n",
    "loss_values_centralized = [t[1] for t in history.losses_centralized]\n",
    "\n",
    "distributed_loss_by_round = {}\n",
    "for round_num, _, loss in history.losses_distributed:\n",
    "    if round_num not in distributed_loss_by_round:\n",
    "        distributed_loss_by_round[round_num] = []\n",
    "    distributed_loss_by_round[round_num].append(loss)\n",
    "rounds_loss_distributed = sorted(distributed_loss_by_round.keys())\n",
    "loss_values_distributed = [np.mean(distributed_loss_by_round[r]) for r in rounds_loss_distributed]\n",
    "\n",
    "plt.plot(rounds_loss, loss_values_centralized, marker='o', color='red', label='Centralized Loss', linewidth=2, linestyle='--')\n",
    "# plt.plot(rounds_loss_distributed, loss_values_distributed, marker='o', color='orange', label='Distributed Loss', linewidth=2, linestyle='--')\n",
    "\n",
    "plt.xlabel('Round')\n",
    "plt.ylabel('Loss')\n",
    "plt.title('Loss Over Rounds (Per Client by PID)')\n",
    "plt.legend(bbox_to_anchor=(1.05, 1), loc='upper left')\n",
    "plt.grid(True)\n",
    "plt.tight_layout()\n",
    "plt.show()\n",
    "\n",
    "# 繪製每個 client 的 Accuracy 圖\n",
    "plt.figure(figsize=(10, 6))\n",
    "for idx, (pid, accuracies) in enumerate(client_accuracies.items()):\n",
    "    rounds = [r for r, _ in sorted(accuracies)]\n",
    "    acc_values = [a for _, a in sorted(accuracies)]\n",
    "    plt.plot(rounds, acc_values, marker='o', color=colors[idx], label=f'Partition {pid}', alpha=0.7)\n",
    "\n",
    "# 繪製 centralized 和 distributed accuracy\n",
    "acc_rounds = [t[0] for t in history.metrics_centralized.get('accuracy', [])]\n",
    "acc_values_centralized = [t[1] for t in history.metrics_centralized.get('accuracy', [])]\n",
    "\n",
    "distributed_acc_by_round = {} \n",
    "for round_num, _, acc in history.metrics_distributed.get('accuracy', []):\n",
    "    if round_num not in distributed_acc_by_round:\n",
    "        distributed_acc_by_round[round_num] = []\n",
    "    distributed_acc_by_round[round_num].append(acc)\n",
    "acc_rounds_md = sorted(distributed_acc_by_round.keys())\n",
    "acc_values_md = [np.mean(distributed_acc_by_round[r]) for r in acc_rounds_md]\n",
    "\n",
    "plt.plot(acc_rounds, acc_values_centralized, marker='o', color='blue', label='Centralized Accuracy', linewidth=2, linestyle='--')\n",
    "# plt.plot(acc_rounds_md, acc_values_md, marker='o', color='green', label='Distributed Accuracy', linewidth=2, linestyle='--')\n",
    "\n",
    "plt.xlabel('Round')\n",
    "plt.ylabel('Accuracy')\n",
    "plt.title('Accuracy Over Rounds (Per Client by PID)')\n",
    "plt.legend(bbox_to_anchor=(1.05, 1), loc='upper left')\n",
    "plt.grid(True)\n",
    "plt.tight_layout()\n",
    "plt.show()"
   ]
  },
  {
   "cell_type": "code",
   "execution_count": null,
   "id": "585d568e-4a2a-4cae-b415-cf9dd2d39f81",
   "metadata": {
    "jupyter": {
     "source_hidden": true
    }
   },
   "outputs": [],
   "source": [
    "# ========= 訓練結束後繪圖 =========\n",
    "\n",
    "# 假設 NUM_ROUNDS 為全局訓練輪數\n",
    "rounds = list(range(1, NUM_ROUNDS + 1))\n",
    "metrics_to_plot = ['reputation', 'short_term_rs', 'long_term_rs', 'similarity', 'shapley']\n",
    "\n",
    "# 從策略中提取 metric_history\n",
    "metric_history = strategy.metric_history\n",
    "\n",
    "for metric in metrics_to_plot:\n",
    "    plt.figure(figsize=(10, 6))\n",
    "    for partition_id, metrics_dict in metric_history.items():\n",
    "        # if partition_id == -1:\n",
    "        #     continue\n",
    "        values = metrics_dict[metric]\n",
    "        # 若某 client 的紀錄少於 NUM_ROUNDS (代表部分 round 沒有更新)，則補上最後一次的值\n",
    "        if len(values) < NUM_ROUNDS:\n",
    "            last_val = values[-1] if values else 0.0\n",
    "            values = values + [last_val] * (NUM_ROUNDS - len(values))\n",
    "        plt.plot(rounds, values, marker='o', label=f'Partition {partition_id}')\n",
    "    plt.xlabel('Round')\n",
    "    plt.ylabel(metric)\n",
    "    plt.title(f'{metric} over Rounds')\n",
    "    plt.legend()\n",
    "    plt.grid(True)\n",
    "    plt.show()\n"
   ]
  },
  {
   "cell_type": "code",
   "execution_count": null,
   "id": "749f9fd9-7ffa-4181-ae5c-8cdc932d2238",
   "metadata": {
    "jupyter": {
     "source_hidden": true
    }
   },
   "outputs": [],
   "source": [
    "# history.metrics_centralized\n",
    "best_epoch, best_accuracy = max(history.metrics_centralized['accuracy'], key=lambda x: x[1])\n",
    "\n",
    "print(f\"Best Epoch: {best_epoch}, Accuracy: {best_accuracy:.4f}\")"
   ]
  },
  {
   "cell_type": "code",
   "execution_count": null,
   "id": "fd56fd8e-8a52-40ec-820a-eab0a4822100",
   "metadata": {
    "jupyter": {
     "source_hidden": true
    }
   },
   "outputs": [],
   "source": [
    "import numpy as np\n",
    "\n",
    "# 1. 從 history.losses_distributed 中整理出：{ round_num: [loss_client1, loss_client2, ...], ... }\n",
    "accuracies_by_round = {}\n",
    "for round_num, pid, loss in history.metrics_distributed.get('accuracy', []):\n",
    "    if round_num not in accuracies_by_round:\n",
    "        accuracies_by_round[round_num] = []\n",
    "    accuracies_by_round[round_num].append(loss)\n",
    "\n",
    "# 2. 按 round 排序，計算每一輪的 client_loss 標準差（母體標準差 ddof=0）\n",
    "rounds = sorted(accuracies_by_round.keys())\n",
    "fairness_std_per_round = []\n",
    "for r in rounds:\n",
    "    client_accuracies_this_round = accuracies_by_round[r]\n",
    "    if len(client_accuracies_this_round) > 1:\n",
    "        std_val = float(np.std(client_accuracies_this_round, ddof=0))\n",
    "    else:\n",
    "        std_val = 0.0  # 如果只有一個 client 或無資料，就設為 0\n",
    "    fairness_std_per_round.append(std_val)\n",
    "\n",
    "\n",
    "avg_fairness_std = float(np.mean(fairness_std_per_round))\n",
    "# print(\"500 輪公平性標準差平均值：\", avg_fairness_std)\n",
    "# fairness_std_per_round\n",
    "\n",
    "# 確定只考慮前500輪（若總輪次少於500，則全部都考慮）\n",
    "num_rounds = min(500, len(fairness_std_per_round))\n",
    "subset = fairness_std_per_round[:num_rounds]\n",
    "\n",
    "# 取最小值\n",
    "min_std = min(subset)\n",
    "\n",
    "print(f\"前 {num_rounds} 輪中，公平性標準差的最小值為：{min_std}\")"
   ]
  },
  {
   "cell_type": "code",
   "execution_count": null,
   "id": "9766d8f7-9699-4dcb-a2e5-5739842cf6c2",
   "metadata": {},
   "outputs": [],
   "source": []
  },
  {
   "cell_type": "code",
   "execution_count": null,
   "id": "009aca2c-f8af-47d4-8b54-be99d7976c76",
   "metadata": {
    "jupyter": {
     "source_hidden": true
    }
   },
   "outputs": [],
   "source": [
    "# import torch\n",
    "# import numpy as np\n",
    "# from typing import List, Tuple, Dict\n",
    "# from collections import OrderedDict\n",
    "# from math import log, isnan\n",
    "# from torch.utils.data import DataLoader\n",
    "# import torch.nn as nn\n",
    "\n",
    "# from flwr.client import NumPyClient\n",
    "\n",
    "# from utils.train_test import test, lookahead_UPA_train, lookahead_TPA_train, train, local_evaluate\n",
    "# from utils.others import get_parameters, set_parameters\n",
    "# from utils.time import timed\n",
    "# from utils.weights_utils import weights_substraction, norm\n",
    "\n",
    "# DEVICE = torch.device(\"cuda\" if torch.cuda.is_available() else \"cpu\")\n",
    "\n",
    "# class FlowerClient(NumPyClient):\n",
    "#     def __init__(self, partition_id, net, trainloader, valloader, attack_type: str = None):\n",
    "#         self.partition_id = partition_id\n",
    "#         self.net = net\n",
    "#         self.trainloader = trainloader\n",
    "#         self.valloader = valloader\n",
    "#         self.device = DEVICE\n",
    "#         self.optimizer = torch.optim.SGD(self.net.parameters(), lr=0.001, momentum=0.9)  # Adjusted lr\n",
    "#         self.attack_type = attack_type\n",
    "\n",
    "#     def get_parameters(self, config):\n",
    "#         return [param.cpu().numpy() for param in self.net.state_dict().values()]\n",
    "\n",
    "#     def get_parameters_dict(self, config):\n",
    "#         \"\"\"Helper to return parameters as an OrderedDict for weights_substraction.\"\"\"\n",
    "#         return OrderedDict([(name, param) for name, param in self.net.state_dict().items()])\n",
    "\n",
    "#     def fit(self, parameters, config):\n",
    "#         try:\n",
    "#             if self.attack_type == \"UPA\":\n",
    "#                 grad, current_loss = lookahead_UPA_train(self.net, self.trainloader, parameters, config, self.partition_id, verbose=False)\n",
    "#             elif self.attack_type == \"TPA\":\n",
    "#                 grad, current_loss = lookahead_TPA_train(self.net, self.trainloader, parameters, config, self.partition_id, verbose=False)\n",
    "#             else:\n",
    "#                 grad, current_loss = train(self.net, self.trainloader, parameters, config, self.partition_id, verbose=False)\n",
    "            \n",
    "#             # 計算確定性係數\n",
    "#             try:\n",
    "#                 certainty, weight = cal_certainty(self.net, parameters, grad, self.trainloader, self.device, self.optimizer)\n",
    "#             except Exception as inner_e:\n",
    "#                 import traceback\n",
    "#                 print(f\"客戶端 {self.partition_id} 計算更新時出錯: {inner_e}\")\n",
    "#                 print(traceback.format_exc())\n",
    "#                 certainty = 1.0\n",
    "#                 weight = len(self.trainloader.dataset)\n",
    "            \n",
    "#             torch.cuda.empty_cache() if torch.cuda.is_available() else None  # 清理 GPU 記憶體\n",
    "#             # 確保返回正確的三元組格式\n",
    "#             return self.get_parameters(config), weight, {\"certainty\": float(certainty), \"partition_id\": self.partition_id}\n",
    "        \n",
    "#         except Exception as e:\n",
    "#             import traceback\n",
    "#             print(f\"客戶端 {self.partition_id} 訓練錯誤: {e}\")\n",
    "#             print(traceback.format_exc())\n",
    "#             # 出錯時仍返回正確格式\n",
    "#             return self.get_parameters(config), len(self.trainloader.dataset), {\"certainty\": 1.0, \"partition_id\": self.partition_id}\n",
    "\n",
    "#     def evaluate(self, parameters, config):\n",
    "#         try:\n",
    "#             avg_loss, accuracy = local_evaluate(parameters, self.net, self.device, self.valloader, self.partition_id)\n",
    "#             torch.cuda.empty_cache() if torch.cuda.is_available() else None  # 清理 GPU 記憶體\n",
    "#             return float(avg_loss), len(self.valloader.dataset), {\n",
    "#                 \"client_accuracy\": float(accuracy),\n",
    "#                 \"client_loss\": float(avg_loss),\n",
    "#                 \"partition_id\": self.partition_id\n",
    "#             }\n",
    "#         except Exception as e:\n",
    "#             print(f\"客戶端 {self.partition_id} 評估錯誤: {e}\")\n",
    "#             return 0.0, len(self.valloader.dataset), {\n",
    "#                 \"client_accuracy\": 0.0,\n",
    "#                 \"partition_id\": self.partition_id\n",
    "#             }\n",
    "\n",
    "# def cal_certainty(net, parameters, grad, trainloader, device, optimizer):\n",
    "#     # 獲取全局參數和本地更新後參數\n",
    "#     global_weights = OrderedDict()\n",
    "#     for name, param in zip(net.state_dict().keys(), parameters):\n",
    "#         global_weights[name] = torch.tensor(param, dtype=torch.float, device=device)\n",
    "    \n",
    "#     local_weights = OrderedDict()\n",
    "#     for name, param in net.state_dict().items():\n",
    "#         local_weights[name] = param.detach().clone().float()\n",
    "    \n",
    "#     # 計算更新 - 現在確保兩個參數都是 OrderedDict\n",
    "#     update = weights_substraction(global_weights, local_weights)\n",
    "    \n",
    "#     # 計算範數\n",
    "#     update_norm = norm(update) if update else 1.0\n",
    "#     grad_norm = norm(grad) if grad else 1.0\n",
    "    \n",
    "#     # 避免除以零\n",
    "#     if grad_norm > 0 and update_norm > 0:\n",
    "#         norm_factor = update_norm / grad_norm\n",
    "#         local_lr = optimizer.param_groups[0]['lr']\n",
    "#         if norm_factor > 0 and local_lr > 0:\n",
    "#             certainty = log(norm_factor / local_lr) + 1\n",
    "#             # 確保確定性合理\n",
    "#             certainty = 1.0 if isnan(certainty) else max(0.1, min(2.0, certainty))\n",
    "#         else:\n",
    "#             certainty = 1.0\n",
    "#     else:\n",
    "#         certainty = 1.0\n",
    "    \n",
    "#     # 樣本數作為權重\n",
    "#     weight = len(trainloader.dataset)\n",
    "    \n",
    "#     return certainty, weight\n"
   ]
  }
 ],
 "metadata": {
  "kernelspec": {
   "display_name": "flenv",
   "language": "python",
   "name": "flenv"
  },
  "language_info": {
   "codemirror_mode": {
    "name": "ipython",
    "version": 3
   },
   "file_extension": ".py",
   "mimetype": "text/x-python",
   "name": "python",
   "nbconvert_exporter": "python",
   "pygments_lexer": "ipython3",
   "version": "3.10.12"
  }
 },
 "nbformat": 4,
 "nbformat_minor": 5
}
